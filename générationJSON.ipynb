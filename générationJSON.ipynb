{
 "cells": [
  {
   "cell_type": "code",
   "execution_count": 1,
   "id": "ce8ddabf-2046-4a3d-8189-49c583746f98",
   "metadata": {},
   "outputs": [],
   "source": [
    "import dspy\n",
    "from dspy import LM\n",
    "import random\n",
    "import litellm\n",
    "from datetime import datetime, timedelta\n",
    "import json\n",
    "import os\n",
    "import time\n",
    "import uuid\n",
    "import ast\n",
    "from tqdm import tqdm"
   ]
  },
  {
   "cell_type": "code",
   "execution_count": 2,
   "id": "a68a9bac-3ab9-41cf-a4f3-3a3b1d2f24bb",
   "metadata": {},
   "outputs": [],
   "source": [
    "class GenerateIntentJson(dspy.Signature):\n",
    "    message = dspy.InputField(desc=\"Message à interpréter\")\n",
    "\n",
    "    cat = dspy.OutputField(desc=\"La catégorie : !yi, !py, !cal, !inf\")\n",
    "    ctx = dspy.OutputField(desc=\"Extrait pertinent ou reformulation\")\n"
   ]
  },
  {
   "cell_type": "code",
   "execution_count": 3,
   "id": "9c136851-5a55-43e5-9ac1-3612805551c0",
   "metadata": {},
   "outputs": [],
   "source": [
    "PROMPT_TEMPLATE = \"\"\"\n",
    "Vous êtes un assistant qui catégorise un message utilisateur dans l'une des catégories suivantes :\n",
    "- !cal : ajout à un calendrier\n",
    "- !py : appel d'un outil de calcul\n",
    "- !yi : demande de tirage divinatoire (Yi King, tarot, etc.)\n",
    "- !inf : question générale ou recherche dans une base de connaissance\n",
    "\n",
    "Répondez uniquement avec un objet JSON **valide**, contenant :\n",
    "- \"cat\" : le code de catégorie (ex: \"!cal\")\n",
    "- \"ctx\" : le message original ou reformulé s'il est ambigu\n",
    "\n",
    "Message :\n",
    "{message}\n",
    "\n",
    "Réponse :\n",
    "\"\"\"\n"
   ]
  },
  {
   "cell_type": "code",
   "execution_count": 4,
   "id": "61fa8046-0630-4ea9-97c2-0f75c862bcdf",
   "metadata": {},
   "outputs": [],
   "source": [
    "class IntentJsonGenerator(dspy.Module):\n",
    "    def __init__(self):\n",
    "        super().__init__()\n",
    "        self.lm = dspy.settings.lm  # utilise le LM courant\n",
    "\n",
    "    def format_prompt(self, message):\n",
    "        return f\"\"\"\n",
    "Vous êtes un assistant intelligent. Classez ce message dans l'une des catégories suivantes :\n",
    "- !yi : tirage du Yi King ou autre divination\n",
    "- !py : appel à un programme ou outil Python\n",
    "- !cal : mise à jour du calendrier\n",
    "- !inf : recherche d'information\n",
    "Répondez uniquement par un JSON de la forme :\n",
    "{{\"catégorie\": \"...\", \"contexte\": \"...\"}}\n",
    "Le contexte est généralement le message lui-même.\n",
    "\n",
    "Message :\n",
    "{message}\n",
    "\"\"\"\n",
    "\n",
    "    def forward(self, message):\n",
    "        prompt = self.format_prompt(message)\n",
    "        result = self.lm(prompt)[0]\n",
    "        try:\n",
    "            import json\n",
    "            parsed = json.loads(result)\n",
    "            return parsed\n",
    "        except Exception:\n",
    "            return {\"catégorie\": \"?\", \"contexte\": result.strip()}"
   ]
  },
  {
   "cell_type": "code",
   "execution_count": 5,
   "id": "9351dcd0-5e03-47ff-9876-808c5075dfa3",
   "metadata": {},
   "outputs": [],
   "source": [
    "api_key = os.getenv(\"OPENAI_API_KEY\")\n",
    "lm = dspy.LM(\n",
    "    model=\"gpt-4o\",          # modèle reconnu par l’API OpenAI\n",
    "    api_key=api_key,\n",
    "    temperature=0.8,\n",
    "    provider=\"openai\"        # <- obligatoire ici pour désigner le backend\n",
    ")\n",
    "\n",
    "dspy.settings.configure(lm=lm)\n"
   ]
  },
  {
   "cell_type": "code",
   "execution_count": 6,
   "id": "544fdcaa-d64f-4da6-a5ee-3b4aa1508f07",
   "metadata": {},
   "outputs": [
    {
     "data": {
      "text/plain": [
       "[\"Bonjour ! Comment puis-je vous aider aujourd'hui ?\"]"
      ]
     },
     "execution_count": 6,
     "metadata": {},
     "output_type": "execute_result"
    }
   ],
   "source": [
    "lm(\"Dites bonjour\")"
   ]
  },
  {
   "cell_type": "code",
   "execution_count": 7,
   "id": "18b235bc-557b-4a75-94ce-3565e9023bff",
   "metadata": {},
   "outputs": [],
   "source": [
    "class NonStreamingLM(dspy.LM):\n",
    "    def __call__(self, prompt=None, messages=None, **kwargs):\n",
    "        kwargs[\"stream\"] = False\n",
    "        return super().__call__(prompt=prompt, messages=messages, **kwargs)\n",
    "\n",
    "#philocal = dspy.LM(\n",
    "#    model=\"phi3.5:latest\",\n",
    "#    base_url=\"http://localhost:5000/v1\",\n",
    "#    custom_llm_provider=\"openai\",\n",
    "#    temperature=0.2\n",
    "#)\n",
    "philocal = NonStreamingLM(\n",
    "    model=\"phi3.5:latest\",\n",
    "    base_url=\"http://localhost:5000/v1\",\n",
    "    custom_llm_provider=\"openai\",\n",
    "    temperature=0.2\n",
    ")"
   ]
  },
  {
   "cell_type": "code",
   "execution_count": 8,
   "id": "ab540b4e-01f7-444c-bf2d-45a2717d8112",
   "metadata": {},
   "outputs": [
    {
     "data": {
      "text/plain": [
       "[\"Bonjour! Je suis là pour vous aider avec quoi que ce soit d'autre dont vous avez besoin. Comment puis-je vous assister aujourd'hui?\"]"
      ]
     },
     "execution_count": 8,
     "metadata": {},
     "output_type": "execute_result"
    }
   ],
   "source": [
    "philocal(\"Dites bonjour\")"
   ]
  },
  {
   "cell_type": "code",
   "execution_count": 9,
   "id": "606c333e-4459-41d8-aa32-0ce6de4beb41",
   "metadata": {},
   "outputs": [
    {
     "name": "stdout",
     "output_type": "stream",
     "text": [
      "[\"Que dit le Yi King concernant ma décision de me lancer dans l'entrepreneuriat ?\", 'Que dit le Yi King concernant ma relation amoureuse actuelle et ses perspectives futures ?', 'Calculez la somme des carrés des nombres de 1 à 50.', 'Quels sont les impacts environnementaux des énergies fossiles ?', 'Quels sont les impacts de la mondialisation sur les économies locales ?', 'Calculez la factorielle de 10.', 'Écrivez un programme pour calculer la factorielle de 10.', 'Planifier une réunion de lancement de projet le 15 janvier à 14h00.', 'Calculez la somme des entiers de 1 à 100.', \"Que dit le Yi King concernant ma décision d'accepter une nouvelle opportunité professionnelle ?\", 'Calculez la factorielle de 10.', \"Planifiez une réunion d'équipe le 15 janvier à 14h00.\"]\n"
     ]
    }
   ],
   "source": [
    "# Charger les données\n",
    "path = \"./intentions-6000-unifiees.jsonl\"\n",
    "actions = []\n",
    "with open(path, \"r\", encoding=\"utf-8\") as f:\n",
    "    json_list = list(f)\n",
    "    for json_str in json_list:\n",
    "        result = json.loads(json_str)\n",
    "        if result['intention'] != '!red' and result['contenu'] != '':\n",
    "            actions.append(result['contenu'])\n",
    "\n",
    "print(actions[:12])\n"
   ]
  },
  {
   "cell_type": "code",
   "execution_count": 12,
   "id": "1978b5f6-d740-427e-a186-5a1d742ff72a",
   "metadata": {},
   "outputs": [],
   "source": [
    "teacher_lm = lm\n",
    "dspy.settings.configure(lm=teacher_lm)\n",
    "teacher = IntentJsonGenerator()\n",
    "\n",
    "json_examples = []\n",
    "for message in actions[:100]:  # liste de messages bruts\n",
    "    response = teacher.forward(message)\n",
    "    json_examples.append(dspy.Example(message=message, output=response).with_inputs(\"message\"))\n"
   ]
  },
  {
   "cell_type": "code",
   "execution_count": 13,
   "id": "12125102-11af-4754-8dc3-c0c6ba76bb9a",
   "metadata": {},
   "outputs": [
    {
     "data": {
      "text/plain": [
       "[Example({'message': \"Que dit le Yi King concernant ma décision de me lancer dans l'entrepreneuriat ?\", 'output': {'catégorie': '?', 'contexte': '```json\\n{\"catégorie\": \"!yi\", \"contexte\": \"Que dit le Yi King concernant ma décision de me lancer dans l\\'entrepreneuriat ?\"}\\n```'}}) (input_keys={'message'}),\n",
       " Example({'message': 'Que dit le Yi King concernant ma relation amoureuse actuelle et ses perspectives futures ?', 'output': {'catégorie': '?', 'contexte': '```json\\n{\"catégorie\": \"!yi\", \"contexte\": \"Que dit le Yi King concernant ma relation amoureuse actuelle et ses perspectives futures ?\"}\\n```'}}) (input_keys={'message'}),\n",
       " Example({'message': 'Calculez la somme des carrés des nombres de 1 à 50.', 'output': {'catégorie': '?', 'contexte': '```json\\n{\"catégorie\": \"!py\", \"contexte\": \"Calculez la somme des carrés des nombres de 1 à 50.\"}\\n```'}}) (input_keys={'message'}),\n",
       " Example({'message': 'Quels sont les impacts environnementaux des énergies fossiles ?', 'output': {'catégorie': '?', 'contexte': '```json\\n{\"catégorie\": \"!inf\", \"contexte\": \"Quels sont les impacts environnementaux des énergies fossiles ?\"}\\n```'}}) (input_keys={'message'}),\n",
       " Example({'message': 'Quels sont les impacts de la mondialisation sur les économies locales ?', 'output': {'catégorie': '?', 'contexte': '```json\\n{\"catégorie\": \"!inf\", \"contexte\": \"Quels sont les impacts de la mondialisation sur les économies locales ?\"}\\n```'}}) (input_keys={'message'}),\n",
       " Example({'message': 'Calculez la factorielle de 10.', 'output': {'catégorie': '?', 'contexte': '```json\\n{\"catégorie\": \"!py\", \"contexte\": \"Calculez la factorielle de 10.\"}\\n```'}}) (input_keys={'message'}),\n",
       " Example({'message': 'Écrivez un programme pour calculer la factorielle de 10.', 'output': {'catégorie': '?', 'contexte': '```json\\n{\"catégorie\": \"!py\", \"contexte\": \"Écrivez un programme pour calculer la factorielle de 10.\"}\\n```'}}) (input_keys={'message'}),\n",
       " Example({'message': 'Planifier une réunion de lancement de projet le 15 janvier à 14h00.', 'output': {'catégorie': '?', 'contexte': '```json\\n{\"catégorie\": \"!cal\", \"contexte\": \"Planifier une réunion de lancement de projet le 15 janvier à 14h00.\"}\\n```'}}) (input_keys={'message'}),\n",
       " Example({'message': 'Calculez la somme des entiers de 1 à 100.', 'output': {'catégorie': '?', 'contexte': '```json\\n{\"catégorie\": \"!py\", \"contexte\": \"Calculez la somme des entiers de 1 à 100.\"}\\n```'}}) (input_keys={'message'}),\n",
       " Example({'message': \"Que dit le Yi King concernant ma décision d'accepter une nouvelle opportunité professionnelle ?\", 'output': {'catégorie': '!yi', 'contexte': \"Que dit le Yi King concernant ma décision d'accepter une nouvelle opportunité professionnelle ?\"}}) (input_keys={'message'})]"
      ]
     },
     "execution_count": 13,
     "metadata": {},
     "output_type": "execute_result"
    }
   ],
   "source": [
    "json_examples[:10]"
   ]
  },
  {
   "cell_type": "code",
   "execution_count": 14,
   "id": "85e11f09-bf16-41af-aef9-0bdc86498283",
   "metadata": {},
   "outputs": [],
   "source": [
    "def semantic_json_equality(example, pred, trace=None):\n",
    "    try:\n",
    "        ref = json.loads(example.output)[\"intent\"]\n",
    "        gen = json.loads(pred.output)[\"intent\"]\n",
    "        return ref == gen\n",
    "    except:\n",
    "        return False"
   ]
  },
  {
   "cell_type": "code",
   "execution_count": null,
   "id": "4625273c-de5c-4911-96c3-f49303184122",
   "metadata": {},
   "outputs": [
    {
     "name": "stderr",
     "output_type": "stream",
     "text": [
      " 47%|████▋     | 47/100 [08:13<10:06, 11.45s/it]"
     ]
    }
   ],
   "source": [
    "student_lm = philocal  # si LoRA, sinon HuggingFace compatible\n",
    "dspy.settings.configure(lm=student_lm)\n",
    "\n",
    "student = IntentJsonGenerator()\n",
    "teleprompter = dspy.teleprompt.BootstrapFewShot(metric=semantic_json_equality)\n",
    "compiled_student = teleprompter.compile(student, trainset=json_examples)"
   ]
  },
  {
   "cell_type": "code",
   "execution_count": null,
   "id": "6a84bf6d-a7c0-4a0e-beba-4e1560dd527a",
   "metadata": {},
   "outputs": [],
   "source": [
    "dspy.settings.configure(lm=philocal)\n",
    "\n",
    "student = IntentJsonGenerator()\n",
    "teleprompter = dspy.teleprompt.BootstrapFewShot(metric=semantic_json_equality)\n",
    "compiled_student = teleprompter.compile(student, trainset=json_examples)"
   ]
  },
  {
   "cell_type": "code",
   "execution_count": null,
   "id": "94cb6114-46d6-476d-9edd-b76755bc2437",
   "metadata": {},
   "outputs": [],
   "source": [
    "compiled_student(\"Planifier une réunion de lancement de projet le 15 janvier à 14h00.\")"
   ]
  },
  {
   "cell_type": "code",
   "execution_count": null,
   "id": "c3b508dc-40df-44a4-a727-511f9d8a1398",
   "metadata": {},
   "outputs": [],
   "source": [
    "compiled_student(\"Quels sont les impacts de la mondialisation sur les économies locales ?\")"
   ]
  },
  {
   "cell_type": "code",
   "execution_count": null,
   "id": "c965781d-2675-4776-9bec-7acf0d50a075",
   "metadata": {},
   "outputs": [],
   "source": []
  }
 ],
 "metadata": {
  "kernelspec": {
   "display_name": "Python 3 (ipykernel)",
   "language": "python",
   "name": "python3"
  },
  "language_info": {
   "codemirror_mode": {
    "name": "ipython",
    "version": 3
   },
   "file_extension": ".py",
   "mimetype": "text/x-python",
   "name": "python",
   "nbconvert_exporter": "python",
   "pygments_lexer": "ipython3",
   "version": "3.12.3"
  }
 },
 "nbformat": 4,
 "nbformat_minor": 5
}
