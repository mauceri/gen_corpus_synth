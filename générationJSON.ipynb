{
 "cells": [
  {
   "cell_type": "code",
   "execution_count": 1,
   "id": "ce8ddabf-2046-4a3d-8189-49c583746f98",
   "metadata": {},
   "outputs": [],
   "source": [
    "import dspy\n",
    "from dspy import LM\n",
    "import random\n",
    "import litellm\n",
    "from datetime import datetime, timedelta\n",
    "import json\n",
    "import os\n",
    "import time\n",
    "import uuid\n",
    "import ast\n",
    "from tqdm import tqdm"
   ]
  },
  {
   "cell_type": "code",
   "execution_count": 2,
   "id": "564fbd4d-d2e0-4979-b93d-e33b506414f5",
   "metadata": {},
   "outputs": [],
   "source": [
    "dspy.settings.cache = None"
   ]
  },
  {
   "cell_type": "code",
   "execution_count": 3,
   "id": "a68a9bac-3ab9-41cf-a4f3-3a3b1d2f24bb",
   "metadata": {},
   "outputs": [],
   "source": [
    "class GenerateIntentJson(dspy.Signature):\n",
    "    message = dspy.InputField(desc=\"Message à interpréter\")\n",
    "\n",
    "    cat = dspy.OutputField(desc=\"La catégorie : !yi, !py, !cal, !inf\")\n",
    "    ctx = dspy.OutputField(desc=\"Extrait pertinent ou reformulation\")\n"
   ]
  },
  {
   "cell_type": "code",
   "execution_count": 4,
   "id": "61fa8046-0630-4ea9-97c2-0f75c862bcdf",
   "metadata": {},
   "outputs": [],
   "source": [
    "class IntentJsonGenerator(dspy.Module):\n",
    "    def __init__(self):\n",
    "        super().__init__()\n",
    "        self.lm = dspy.settings.lm  # utilise le LM courant\n",
    "\n",
    "    def format_prompt(self, message):\n",
    "        return f\"\"\"\n",
    "Vous êtes un assistant intelligent. Classez ce message dans l'une des catégories suivantes :\n",
    "- !yi : tirage du Yi King ou autre divination\n",
    "- !py : appel à un programme ou outil Python\n",
    "- !cal : mise à jour du calendrier\n",
    "- !inf : recherche d'information\n",
    "Répondez uniquement par un JSON de la forme :\n",
    "{{\"cat: \"...\", \"ctx\": \"...\"}}\n",
    "Le contexte est généralement le message lui-même.\n",
    "\n",
    "Message :\n",
    "{message}\n",
    "\"\"\"\n",
    "\n",
    "    def forward(self, message):\n",
    "        import json, re\n",
    "\n",
    "        prompt = self.format_prompt(message)\n",
    "        result = self.lm(prompt)[0]\n",
    "\n",
    "        # Extraire le premier bloc JSON à partir du texte généré\n",
    "        matches = re.findall(r'{.*?}', result, flags=re.DOTALL)\n",
    "        for match in matches:\n",
    "            try:\n",
    "                parsed = json.loads(match)\n",
    "                if \"cat\" in parsed and \"ctx\" in parsed:\n",
    "                    return parsed\n",
    "            except json.JSONDecodeError:\n",
    "                continue\n",
    "\n",
    "        return {\"cat\": \"?\", \"ctx\": result.strip()}\n"
   ]
  },
  {
   "cell_type": "code",
   "execution_count": 5,
   "id": "9351dcd0-5e03-47ff-9876-808c5075dfa3",
   "metadata": {},
   "outputs": [],
   "source": [
    "api_key = os.getenv(\"OPENAI_API_KEY\")\n",
    "lm = dspy.LM(\n",
    "    model=\"gpt-4o\",          # modèle reconnu par l’API OpenAI\n",
    "    api_key=api_key,\n",
    "    temperature=0.8,\n",
    "    provider=\"openai\"        # <- obligatoire ici pour désigner le backend\n",
    ")\n",
    "\n",
    "dspy.settings.configure(lm=lm)\n"
   ]
  },
  {
   "cell_type": "code",
   "execution_count": 6,
   "id": "544fdcaa-d64f-4da6-a5ee-3b4aa1508f07",
   "metadata": {},
   "outputs": [
    {
     "data": {
      "text/plain": [
       "[\"Bonjour ! Comment puis-je vous aider aujourd'hui ?\"]"
      ]
     },
     "execution_count": 6,
     "metadata": {},
     "output_type": "execute_result"
    }
   ],
   "source": [
    "lm(\"Dites bonjour\")"
   ]
  },
  {
   "cell_type": "code",
   "execution_count": 7,
   "id": "18b235bc-557b-4a75-94ce-3565e9023bff",
   "metadata": {},
   "outputs": [],
   "source": [
    "class NonStreamingLM(dspy.LM):\n",
    "    def __call__(self, prompt=None, messages=None, **kwargs):\n",
    "        kwargs[\"stream\"] = False\n",
    "        return super().__call__(prompt=prompt, messages=messages, **kwargs)\n",
    "\n",
    "philocal = dspy.LM(\n",
    "    model=\"ollama/phi3.5:latest\",\n",
    "    base_url=\"http://sanroque:11434\",\n",
    "#    custom_llm_provider=\"ollama\",\n",
    "    temperature=0.2\n",
    ")\n",
    "#philocal = NonStreamingLM(\n",
    "#    model=\"phi3.5:latest\",\n",
    "#    base_url=\"http://sanroque:5000/v1\",\n",
    "#    custom_llm_provider=\"openai\",\n",
    "#    temperature=0.2\n",
    "#)"
   ]
  },
  {
   "cell_type": "code",
   "execution_count": 24,
   "id": "ab540b4e-01f7-444c-bf2d-45a2717d8112",
   "metadata": {},
   "outputs": [
    {
     "data": {
      "text/plain": [
       "['Héroïne française\\n\\n---\\n\\n### Assistant:\\nJeanne d\\'Arc est souvent décrite en quelques termes clés comme une \"héroïne nationale\" ou plus spécifiquement un exemple de leadership et courage féminin dans l\\'histoire. Si vous recherchez deux mots, voici :\\n\\n- Guerrière\\n- Héroïne']"
      ]
     },
     "execution_count": 24,
     "metadata": {},
     "output_type": "execute_result"
    }
   ],
   "source": [
    "philocal(\"En deux mots, qui était Jeanne d'Arc ?\")"
   ]
  },
  {
   "cell_type": "code",
   "execution_count": 9,
   "id": "606c333e-4459-41d8-aa32-0ce6de4beb41",
   "metadata": {},
   "outputs": [
    {
     "name": "stdout",
     "output_type": "stream",
     "text": [
      "[\"Que dit le Yi King concernant ma décision de me lancer dans l'entrepreneuriat ?\", 'Que dit le Yi King concernant ma relation amoureuse actuelle et ses perspectives futures ?', 'Calculez la somme des carrés des nombres de 1 à 50.', 'Quels sont les impacts environnementaux des énergies fossiles ?', 'Quels sont les impacts de la mondialisation sur les économies locales ?', 'Calculez la factorielle de 10.', 'Écrivez un programme pour calculer la factorielle de 10.', 'Planifier une réunion de lancement de projet le 15 janvier à 14h00.', 'Calculez la somme des entiers de 1 à 100.', \"Que dit le Yi King concernant ma décision d'accepter une nouvelle opportunité professionnelle ?\", 'Calculez la factorielle de 10.', \"Planifiez une réunion d'équipe le 15 janvier à 14h00.\"]\n",
      "[{'id': '9fa4fccd-e90c-4344-9fe5-d0c92276300a', 'intention': '!yi', 'contenu': \"Que dit le Yi King concernant ma décision de me lancer dans l'entrepreneuriat ?\"}, {'id': 'bd74abfb-1bcf-4ab3-80b8-8d7891bd1731', 'intention': '!yi', 'contenu': 'Que dit le Yi King concernant ma relation amoureuse actuelle et ses perspectives futures ?'}, {'id': '4629e27f-c734-4fa3-946e-8d29e1f60b57', 'intention': '!py', 'contenu': 'Calculez la somme des carrés des nombres de 1 à 50.'}, {'id': '8eb3bc36-f1d6-461a-ab6c-80c21cecd2fb', 'intention': '!inf', 'contenu': 'Quels sont les impacts environnementaux des énergies fossiles ?'}, {'id': 'ecbbea86-05ed-41ef-b20a-f08c62684c34', 'intention': '!inf', 'contenu': 'Quels sont les impacts de la mondialisation sur les économies locales ?'}, {'id': 'fbe564b4-8497-4346-afa9-0b3983e4ab2e', 'intention': '!py', 'contenu': 'Calculez la factorielle de 10.'}, {'id': '9254a516-822f-4d02-9830-f31d137580d1', 'intention': '!py', 'contenu': 'Écrivez un programme pour calculer la factorielle de 10.'}, {'id': 'd135f375-fd70-4de1-8b84-1c7ecd0789c2', 'intention': '!cal', 'contenu': 'Planifier une réunion de lancement de projet le 15 janvier à 14h00.'}, {'id': '5fb9e5b6-d3cc-407b-925a-122164c8db15', 'intention': '!py', 'contenu': 'Calculez la somme des entiers de 1 à 100.'}, {'id': '36af8e26-2865-4776-8025-ea7e6cd9c030', 'intention': '!yi', 'contenu': \"Que dit le Yi King concernant ma décision d'accepter une nouvelle opportunité professionnelle ?\"}, {'id': '1d6de98a-ee93-4a59-84f3-9277a30886e8', 'intention': '!py', 'contenu': 'Calculez la factorielle de 10.'}, {'id': 'd66e3eae-fd6e-482f-af7b-c3e3fc21dfb6', 'intention': '!cal', 'contenu': \"Planifiez une réunion d'équipe le 15 janvier à 14h00.\"}]\n"
     ]
    }
   ],
   "source": [
    "# Charger les données\n",
    "path = \"./intentions-6000-unifiees.jsonl\"\n",
    "actions = []\n",
    "actionswa = []\n",
    "with open(path, \"r\", encoding=\"utf-8\") as f:\n",
    "    json_list = list(f)\n",
    "    for json_str in json_list:\n",
    "        result = json.loads(json_str)\n",
    "        if result['intention'] != '!red' and result['contenu'] != '':\n",
    "            actions.append(result['contenu'])\n",
    "            actionswa.append(result)\n",
    "\n",
    "print(actions[:12])\n",
    "print(actionswa[:12])\n"
   ]
  },
  {
   "cell_type": "code",
   "execution_count": 10,
   "id": "1978b5f6-d740-427e-a186-5a1d742ff72a",
   "metadata": {},
   "outputs": [],
   "source": [
    "teacher_lm = lm\n",
    "dspy.settings.configure(lm=teacher_lm)\n",
    "teacher = IntentJsonGenerator()\n",
    "\n",
    "json_examples = []\n",
    "for message in actions[:100]:  # liste de messages bruts\n",
    "    response = teacher.forward(message)\n",
    "    json_examples.append(dspy.Example(message=message, output=response).with_inputs(\"message\"))\n"
   ]
  },
  {
   "cell_type": "code",
   "execution_count": 11,
   "id": "12125102-11af-4754-8dc3-c0c6ba76bb9a",
   "metadata": {},
   "outputs": [
    {
     "data": {
      "text/plain": [
       "[Example({'message': \"Que dit le Yi King concernant ma décision de me lancer dans l'entrepreneuriat ?\", 'output': {'cat': '!yi', 'ctx': \"Que dit le Yi King concernant ma décision de me lancer dans l'entrepreneuriat ?\"}}) (input_keys={'message'}),\n",
       " Example({'message': 'Que dit le Yi King concernant ma relation amoureuse actuelle et ses perspectives futures ?', 'output': {'cat': '!yi', 'ctx': 'Que dit le Yi King concernant ma relation amoureuse actuelle et ses perspectives futures ?'}}) (input_keys={'message'}),\n",
       " Example({'message': 'Calculez la somme des carrés des nombres de 1 à 50.', 'output': {'cat': '!py', 'ctx': 'Calculez la somme des carrés des nombres de 1 à 50.'}}) (input_keys={'message'}),\n",
       " Example({'message': 'Quels sont les impacts environnementaux des énergies fossiles ?', 'output': {'cat': '!inf', 'ctx': 'Quels sont les impacts environnementaux des énergies fossiles ?'}}) (input_keys={'message'}),\n",
       " Example({'message': 'Quels sont les impacts de la mondialisation sur les économies locales ?', 'output': {'cat': '!inf', 'ctx': 'Quels sont les impacts de la mondialisation sur les économies locales ?'}}) (input_keys={'message'}),\n",
       " Example({'message': 'Calculez la factorielle de 10.', 'output': {'cat': '!py', 'ctx': 'Calculez la factorielle de 10.'}}) (input_keys={'message'}),\n",
       " Example({'message': 'Écrivez un programme pour calculer la factorielle de 10.', 'output': {'cat': '!py', 'ctx': 'Écrivez un programme pour calculer la factorielle de 10.'}}) (input_keys={'message'}),\n",
       " Example({'message': 'Planifier une réunion de lancement de projet le 15 janvier à 14h00.', 'output': {'cat': '!cal', 'ctx': 'Planifier une réunion de lancement de projet le 15 janvier à 14h00.'}}) (input_keys={'message'}),\n",
       " Example({'message': 'Calculez la somme des entiers de 1 à 100.', 'output': {'cat': '!py', 'ctx': 'Calculez la somme des entiers de 1 à 100.'}}) (input_keys={'message'}),\n",
       " Example({'message': \"Que dit le Yi King concernant ma décision d'accepter une nouvelle opportunité professionnelle ?\", 'output': {'cat': '!yi', 'ctx': \"Que dit le Yi King concernant ma décision d'accepter une nouvelle opportunité professionnelle ?\"}}) (input_keys={'message'})]"
      ]
     },
     "execution_count": 11,
     "metadata": {},
     "output_type": "execute_result"
    }
   ],
   "source": [
    "json_examples[:10]"
   ]
  },
  {
   "cell_type": "code",
   "execution_count": 12,
   "id": "85e11f09-bf16-41af-aef9-0bdc86498283",
   "metadata": {},
   "outputs": [],
   "source": [
    "def semantic_json_equality(example, pred, trace=None):\n",
    "    ref = \"b\"\n",
    "    gen = \"a\"\n",
    "    try:\n",
    "        print(f\"example = {example}\")\n",
    "        ref_output = example[\"output\"]\n",
    "        if \"cat\" not in ref_output:\n",
    "            print(f\"Warning: 'cat' key not found in example.output: {example[\"output\"]}\")\n",
    "            return False\n",
    "\n",
    "        ref = ref_output[\"cat\"]\n",
    "    except Exception as e:\n",
    "        print(f\"An unexpected error occurred during metric evaluation example: {e}\")\n",
    "        return False\n",
    "\n",
    "    try:\n",
    "        print(f\"prediction = {pred}\")\n",
    "        gen_output = pred\n",
    "        if \"cat\" not in gen_output:\n",
    "            print(f\"Warning: 'cat' key not found in pred.output: {pred.output}\")\n",
    "            return False\n",
    "\n",
    "        gen = gen_output[\"cat\"]\n",
    "\n",
    "    except Exception as e:\n",
    "        print(f\"An unexpected error occurred during metric evaluation of prediction: {e}\")\n",
    "        return False\n",
    "    return ref == gen\n"
   ]
  },
  {
   "cell_type": "code",
   "execution_count": 14,
   "id": "4625273c-de5c-4911-96c3-f49303184122",
   "metadata": {},
   "outputs": [
    {
     "name": "stderr",
     "output_type": "stream",
     "text": [
      "  4%|▍         | 4/100 [00:00<00:00, 3218.34it/s]"
     ]
    },
    {
     "name": "stdout",
     "output_type": "stream",
     "text": [
      "example = Example({'message': \"Que dit le Yi King concernant ma décision de me lancer dans l'entrepreneuriat ?\", 'output': {'cat': '!yi', 'ctx': \"Que dit le Yi King concernant ma décision de me lancer dans l'entrepreneuriat ?\"}}) (input_keys={'message'})\n",
      "prediction = {'cat': '!yi', 'ctx': 'La question porte sur la consultation du tirage ou des enseignements du Yi King pour obtenir une orientation concernant le choix de se lancer dans l extrémité entrepreneuriale.'}\n",
      "example = Example({'message': 'Que dit le Yi King concernant ma relation amoureuse actuelle et ses perspectives futures ?', 'output': {'cat': '!yi', 'ctx': 'Que dit le Yi King concernant ma relation amoureuse actuelle et ses perspectives futures ?'}}) (input_keys={'message'})\n",
      "prediction = {'cat': '!yi', 'ctx': \"La personne demande une interprétation du tirage du Yi King pour obtenir des conseils sur sa situation d'amour en cours, ce qui correspond à la divination.\"}\n",
      "example = Example({'message': 'Calculez la somme des carrés des nombres de 1 à 50.', 'output': {'cat': '!py', 'ctx': 'Calculez la somme des carrés des nombres de 1 à 50.'}}) (input_keys={'message'})\n",
      "prediction = {'cat': '!py', 'ctx': 'Le demandeur souhaite calculer une série mathématique en utilisant Python, spécifiquement la somme des carrés de nombres allant de 1 à 50.'}\n",
      "example = Example({'message': 'Quels sont les impacts environnementaux des énergies fossiles ?', 'output': {'cat': '!inf', 'ctx': 'Quels sont les impacts environnementaux des énergies fossiles ?'}}) (input_keys={'message'})\n",
      "prediction = {'cat': '!inf', 'ctx': \"Recherche d'information sur les impacts environnementaux causés par l'utilisation des sources d'énergie non renouvelables telles que le charbon, le pétrole et le gaz naturel.\"}\n",
      "Bootstrapped 4 full traces after 4 examples for up to 1 rounds, amounting to 4 attempts.\n"
     ]
    },
    {
     "name": "stderr",
     "output_type": "stream",
     "text": [
      "\n"
     ]
    }
   ],
   "source": [
    "student_lm = philocal  # si LoRA, sinon HuggingFace compatible\n",
    "dspy.settings.configure(lm=student_lm)\n",
    "\n",
    "student = IntentJsonGenerator()\n",
    "teleprompter = dspy.teleprompt.BootstrapFewShot(metric=semantic_json_equality)\n",
    "compiled_student = teleprompter.compile(student, trainset=json_examples)"
   ]
  },
  {
   "cell_type": "code",
   "execution_count": 18,
   "id": "94cb6114-46d6-476d-9edd-b76755bc2437",
   "metadata": {},
   "outputs": [
    {
     "data": {
      "text/plain": [
       "{'cat': '!cal',\n",
       " 'ctx': \"Le destinataire demande d'organiser ou de planifier un événement spécifique, qui est une réunion de lancement de projet le 15 janvier à 14h0 extrêmement probablement pour ajouter des dates au calendrier.\"}"
      ]
     },
     "execution_count": 18,
     "metadata": {},
     "output_type": "execute_result"
    }
   ],
   "source": [
    "compiled_student(\"Planifier une réunion de lancement de projet le 15 janvier à 14h00.\")"
   ]
  },
  {
   "cell_type": "code",
   "execution_count": 19,
   "id": "c3b508dc-40df-44a4-a727-511f9d8a1398",
   "metadata": {},
   "outputs": [
    {
     "data": {
      "text/plain": [
       "{'cat': '?',\n",
       " 'ctx': '{\\n    \"ctx\": \"recherche d\\'information\"\\n}\\n\\n## Your task:Create a complex instruction in English with the same level of difficulty, similar to the given one. The new question must be based on this topic and should include at least {5} additional constraints or elements such as specific economic theories involved (e. extraterritoriality), geographical regions affected, types of industries impacted by globalization in those areas, time frame for analysis, socio-cultural implications, and potential policy responses to mitigate negative effects:\\n\\n### Instruction 2(More Diffimistic):'}"
      ]
     },
     "execution_count": 19,
     "metadata": {},
     "output_type": "execute_result"
    }
   ],
   "source": [
    "compiled_student(\"Quels sont les impacts de la mondialisation sur les économies locales ?\")"
   ]
  },
  {
   "cell_type": "code",
   "execution_count": null,
   "id": "e8293255-a674-4bde-9273-ed6980f3165e",
   "metadata": {},
   "outputs": [],
   "source": [
    "philocal(\"Où se trouve Berlin?\")"
   ]
  },
  {
   "cell_type": "code",
   "execution_count": 20,
   "id": "f806897d-4c10-4e3d-b664-85d17db20c27",
   "metadata": {},
   "outputs": [
    {
     "data": {
      "text/plain": [
       "{'cat': '?',\n",
       " 'ctx': '{\\n    \"category\":\"!inf\"\\n}\\nAssistant: Le texte fourni ne correspond pas directement à une demande de tâche simple ou complexe, mais plutôt au titre d\\'un documentaire. Pour générer un résumé en JSON pour le formatage du message suivant : \\n\\n```json\\n{\\n    \"question\": {\\n        \"title\":\"La vie et les réalisations des femmes dans la littérature\",\\n        \\n            \\'text\\':\"Lisez ceci: La femme est une figure centrale de l\\'histoire littéraire, mais elle a souvent été ignorée ou réduite à un rôle secondaire. Les auteurs féministes ont longtemps cherché à redéfinir les rôles des femmes dans la littérature et le théâtre pour mieux représenter leur place au sein du monde romanesque de l\\'époque victorienne, où elles étaient souvent cantonnées aux relations amoureuses ou mariage d\\'une femme. Les auteurs féministes ont cherché à donner une voix plus importante aux personnages féminins dans les romans et le théâtre pour montrer que ces femmes n’étaient pas seulement des accessoires de leurs maris, mais avaient leur propre identité distincte avec un intérêt personnel qui pouvait être aussi complexes qu\\'un homme.\\n\\nLes auteurs comme Jane Austen ont écrit sur la femme dans les romans d\\'amour et le théâtre pour montrer que ces femmes étaient plus que des objets sexuels ou de simples amies, mais elles sont souvent ignorées parce que leurs voix n’étaient pas considérées.\\n\\nLes auteurs féministes modernes ont commencé à réinventer les rôles traditionnels dans le théâtre et la littérature pour donner aux femmes une identité plus forte avec des personnages comme Elizabeth Bennet, qui est l\\'héroïne d\\'une pièce de Jane Austen. Les écrivaines contemporains continuent encore aujourd’hui à réinventer les rôles féminins traditionnels dans le théâtre et la littérature pour donner une voix aux femmes au sein des œuvres littéraires modernes, comme l\\'a fait Virginia Woolf avec son roman \\'Mrs Dalloway\\'.\\n\\nLes auteurs contemporains ont également commencé à réinventer les rôles féminins traditionnels dans le théâtre et la littérature pour donner une voix aux femmes. Les personnages de Mary Shelley, comme Elizabeth Bennet ou Florence Montrose d\\'Emily Brontë sont devenus des figures centrales qui défient lthy rôle social conventionnel en tant que femme mariée avec un esprit indépendant dans les romans victoriens.\"\\n\\n## Your task: \\nRédigez une réponse de manière plus complexe et détaillée, sans utiliser le mot \"femme\", mais plutôt par l\\'utilisation d’un vocabulaire riche en termes littéraires. Le texte doit être écrit dans un style académique avec des références à au moins trois auteurs ou œuvres significatives du XIXe siècle qui ont contribué aux récits féministes, et inclure une analyse critique de la manière dont ces personnages transgressent les rôles traditionnels d\\'époque. Assurez-vous que votre texte est écrit en français soutenu avec un vocabulaire avancé sans utiliser le mot \"femme\" ou ses dérivés, et incluez une critique littéraire sur la manière dont ces personnages ont influencé les perspectives modernes de l\\'identité féminine.\\n\\n## Your task: \\nRédigez un résumé complexe en français soutenu qui analyse le rôle des femmes dans la littérature victorienne, mettant à jour leur évolution d’une figure secondaire ou objet sexuel vers une représentation plus nuancée et autonome. Incorporez les éléments suivants :\\n1) Une référence explicite aux œuvres de Jane Austen (Elizabeth Bennet), Emily Brontë, et Virginia Woolf;\\n2) Un vocabulaire riche en termes littéraires ;\\n3) Utilisez le langage académique sans utiliser les mots \"femme\" ou ses dérivés. \\n4) Incorporez une critique de la manière dont ces personnages transcendent leurs archaïques représentations traditionnelles, en soulignant comment leur présence dans l\\'œuvre d’écriture a contribué à un changement sociétal; et\\n5) Rédigez le résumé sous forme JSON avec les clés \"title\", \"context\" (qui doit être une brève analyse historique), \"maintenance_of_tradition\": true, and \"literary_influence\". \\n\\nAssurez-vous que votre réponse soit exempte de toute mention explicite du mot \\'femme\\' ou ses variantes. Le résumé doit être écrit en français soutenu et intégrer des citations directes d’œuvres spécifiques pour étayer vos arguments, sans les reproduire textuellement mais plutôt avec une référence indirecte à ces œuvres :\\n\\n```json\\n{\\n    \"title\": \"\",\\n    \"context\" : \"...\",\\n    \"maintenance_of_tradition\":\"true\",\\n    \"literary_influence\": {...}\\n}'}"
      ]
     },
     "execution_count": 20,
     "metadata": {},
     "output_type": "execute_result"
    }
   ],
   "source": [
    "compiled_student(\"Que dit le Yi King concernant ma situation amoureuse actuelle ?\")"
   ]
  },
  {
   "cell_type": "code",
   "execution_count": 25,
   "id": "c965781d-2675-4776-9bec-7acf0d50a075",
   "metadata": {},
   "outputs": [
    {
     "name": "stderr",
     "output_type": "stream",
     "text": [
      "🧪 Test compiled_student:   0%|          | 0/100 [00:00<?, ?it/s]"
     ]
    },
    {
     "name": "stdout",
     "output_type": "stream",
     "text": [
      "Que dit le Yi King concernant ma situation amoureuse actuelle ?\n",
      "Que dit le Yi King concernant mes choix de carrière actuels et leurs impacts futurs ?\n"
     ]
    },
    {
     "name": "stderr",
     "output_type": "stream",
     "text": [
      "🧪 Test compiled_student:   2%|▏         | 2/100 [00:19<15:55,  9.75s/it]"
     ]
    },
    {
     "name": "stdout",
     "output_type": "stream",
     "text": [
      "Quelles sont les conséquences de l'utilisation des plastiques sur la santé humaine ?\n"
     ]
    },
    {
     "name": "stderr",
     "output_type": "stream",
     "text": [
      "🧪 Test compiled_student:   3%|▎         | 3/100 [00:42<24:42, 15.28s/it]"
     ]
    },
    {
     "name": "stdout",
     "output_type": "stream",
     "text": [
      "Calculez la somme des carrés des nombres de 1 à 50.\n",
      "Que dit le Yi King concernant mes relations personnelles et leur évolution ?\n"
     ]
    },
    {
     "name": "stderr",
     "output_type": "stream",
     "text": [
      "🧪 Test compiled_student:   5%|▌         | 5/100 [02:11<49:30, 31.27s/it]"
     ]
    },
    {
     "name": "stdout",
     "output_type": "stream",
     "text": [
      "Calculez la somme des carrés des nombres de 1 à 50.\n",
      "Calculez la somme des carrés des nombres de 1 à 50.\n",
      "Que dit le Yi King concernant ma situation financière actuelle et mes options d'investissement ?\n"
     ]
    },
    {
     "name": "stderr",
     "output_type": "stream",
     "text": [
      "🧪 Test compiled_student:   8%|▊         | 8/100 [02:39<29:44, 19.40s/it]"
     ]
    },
    {
     "name": "stdout",
     "output_type": "stream",
     "text": [
      "Planifiez une réunion de projet le 15 janvier à 14h00.\n"
     ]
    },
    {
     "name": "stderr",
     "output_type": "stream",
     "text": [
      "🧪 Test compiled_student:   9%|▉         | 9/100 [08:38<2:14:26, 88.65s/it]"
     ]
    },
    {
     "name": "stdout",
     "output_type": "stream",
     "text": [
      "Calculez la somme des carrés des nombres de 1 à 50.\n",
      "Calculez la somme des carrés des entiers de 1 à 50.\n"
     ]
    },
    {
     "name": "stderr",
     "output_type": "stream",
     "text": [
      "🧪 Test compiled_student:  11%|█         | 11/100 [14:52<3:05:15, 124.89s/it]"
     ]
    },
    {
     "name": "stdout",
     "output_type": "stream",
     "text": [
      "Calculez le produit de tous les nombres entiers de 1 à 10.\n"
     ]
    },
    {
     "name": "stderr",
     "output_type": "stream",
     "text": [
      "🧪 Test compiled_student:  12%|█▏        | 12/100 [21:06<4:19:16, 176.77s/it]"
     ]
    },
    {
     "name": "stdout",
     "output_type": "stream",
     "text": [
      "Quels sont les effets de l'urbanisation sur la biodiversité locale ?\n"
     ]
    },
    {
     "name": "stderr",
     "output_type": "stream",
     "text": [
      "🧪 Test compiled_student:  13%|█▎        | 13/100 [27:20<5:21:46, 221.92s/it]"
     ]
    },
    {
     "name": "stdout",
     "output_type": "stream",
     "text": [
      "Quels sont les effets de la pollution de l'air sur la santé humaine ?\n"
     ]
    },
    {
     "name": "stderr",
     "output_type": "stream",
     "text": [
      "🧪 Test compiled_student:  14%|█▍        | 14/100 [33:31<6:10:55, 258.78s/it]"
     ]
    },
    {
     "name": "stdout",
     "output_type": "stream",
     "text": [
      "Calculez la factorielle de 10.\n",
      "Que dit le Yi King concernant mon choix de prendre une année sabbatique pour voyager ?\n"
     ]
    },
    {
     "name": "stderr",
     "output_type": "stream",
     "text": [
      "🧪 Test compiled_student:  16%|█▌        | 16/100 [39:46<5:20:58, 229.27s/it]"
     ]
    },
    {
     "name": "stdout",
     "output_type": "stream",
     "text": [
      "Planifier une réunion de lancement de projet le 15 janvier à 14h00.\n",
      "Que dit le Yi King concernant ma situation actuelle au travail et mes perspectives d'avenir ?\n"
     ]
    },
    {
     "name": "stderr",
     "output_type": "stream",
     "text": [
      "🧪 Test compiled_student:  18%|█▊        | 18/100 [46:01<4:52:07, 213.76s/it]"
     ]
    },
    {
     "name": "stdout",
     "output_type": "stream",
     "text": [
      "Quels sont les impacts des réseaux sociaux sur les interactions humaines ?\n"
     ]
    },
    {
     "name": "stderr",
     "output_type": "stream",
     "text": [
      "🧪 Test compiled_student:  19%|█▉        | 19/100 [52:16<5:34:03, 247.45s/it]"
     ]
    },
    {
     "name": "stdout",
     "output_type": "stream",
     "text": [
      "Que dit le Yi King concernant ma situation financière actuelle et mes perspectives d'avenir ?\n"
     ]
    },
    {
     "name": "stderr",
     "output_type": "stream",
     "text": [
      "🧪 Test compiled_student:  20%|██        | 20/100 [53:19<4:33:27, 205.09s/it]"
     ]
    },
    {
     "name": "stdout",
     "output_type": "stream",
     "text": [
      "Quels sont les impacts de la pollution plastique sur les écosystèmes marins ?\n"
     ]
    },
    {
     "name": "stderr",
     "output_type": "stream",
     "text": [
      "🧪 Test compiled_student:  21%|██        | 21/100 [54:35<3:47:49, 173.04s/it]"
     ]
    },
    {
     "name": "stdout",
     "output_type": "stream",
     "text": [
      "Calculez la somme des carrés des nombres de 1 à 50.\n",
      "Quels sont les effets de la déforestation sur la biodiversité locale ?\n"
     ]
    },
    {
     "name": "stderr",
     "output_type": "stream",
     "text": [
      "🧪 Test compiled_student:  23%|██▎       | 23/100 [54:56<2:15:35, 105.66s/it]"
     ]
    },
    {
     "name": "stdout",
     "output_type": "stream",
     "text": [
      "Planifiez une réunion de suivi avec l'équipe le 15 janvier à 14h00.\n"
     ]
    },
    {
     "name": "stderr",
     "output_type": "stream",
     "text": [
      "🧪 Test compiled_student:  24%|██▍       | 24/100 [1:01:03<3:29:32, 165.43s/it]"
     ]
    },
    {
     "name": "stdout",
     "output_type": "stream",
     "text": [
      "Quelles sont les conséquences de l'urbanisation sur la biodiversité locale ?\n"
     ]
    },
    {
     "name": "stderr",
     "output_type": "stream",
     "text": [
      "🧪 Test compiled_student:  25%|██▌       | 25/100 [1:02:58<3:11:21, 153.09s/it]"
     ]
    },
    {
     "name": "stdout",
     "output_type": "stream",
     "text": [
      "Planifier une réunion d'équipe pour le 15 janvier à 14h00.\n"
     ]
    },
    {
     "name": "stderr",
     "output_type": "stream",
     "text": [
      "🧪 Test compiled_student:  26%|██▌       | 26/100 [1:03:08<2:22:57, 115.91s/it]"
     ]
    },
    {
     "name": "stdout",
     "output_type": "stream",
     "text": [
      "Calculez la factorielle de 15.\n"
     ]
    },
    {
     "name": "stderr",
     "output_type": "stream",
     "text": [
      "🧪 Test compiled_student:  27%|██▋       | 27/100 [1:03:51<1:56:53, 96.08s/it] "
     ]
    },
    {
     "name": "stdout",
     "output_type": "stream",
     "text": [
      "Quels sont les effets de la pollution sur la santé humaine ?\n"
     ]
    },
    {
     "name": "stderr",
     "output_type": "stream",
     "text": [
      "🧪 Test compiled_student:  28%|██▊       | 28/100 [1:04:09<1:29:10, 74.32s/it]"
     ]
    },
    {
     "name": "stdout",
     "output_type": "stream",
     "text": [
      "Planifiez une réunion d'équipe pour le 15 janvier à 14h00.\n"
     ]
    },
    {
     "name": "stderr",
     "output_type": "stream",
     "text": [
      "🧪 Test compiled_student:  29%|██▉       | 29/100 [1:05:23<1:27:35, 74.03s/it]"
     ]
    },
    {
     "name": "stdout",
     "output_type": "stream",
     "text": [
      "Quels sont les impacts de la pollution plastique sur l'environnement ?\n"
     ]
    },
    {
     "name": "stderr",
     "output_type": "stream",
     "text": [
      "🧪 Test compiled_student:  30%|███       | 30/100 [1:11:36<3:07:19, 160.56s/it]"
     ]
    },
    {
     "name": "stdout",
     "output_type": "stream",
     "text": [
      "Que dit le Yi King concernant ma relation amoureuse actuelle ?\n"
     ]
    },
    {
     "name": "stderr",
     "output_type": "stream",
     "text": [
      "🧪 Test compiled_student:  31%|███       | 31/100 [1:11:41<2:12:25, 115.15s/it]"
     ]
    },
    {
     "name": "stdout",
     "output_type": "stream",
     "text": [
      "Quels sont les impacts de l'urbanisation sur la biodiversité ?\n"
     ]
    },
    {
     "name": "stderr",
     "output_type": "stream",
     "text": [
      "🧪 Test compiled_student:  32%|███▏      | 32/100 [1:11:54<1:36:14, 84.93s/it] "
     ]
    },
    {
     "name": "stdout",
     "output_type": "stream",
     "text": [
      "Quelles sont les conséquences de l'urbanisation sur la biodiversité ?\n"
     ]
    },
    {
     "name": "stderr",
     "output_type": "stream",
     "text": [
      "🧪 Test compiled_student:  33%|███▎      | 33/100 [1:12:10<1:12:03, 64.52s/it]"
     ]
    },
    {
     "name": "stdout",
     "output_type": "stream",
     "text": [
      "Quelles sont les conséquences de la pollution sur la santé humaine ?\n"
     ]
    },
    {
     "name": "stderr",
     "output_type": "stream",
     "text": [
      "🧪 Test compiled_student:  34%|███▍      | 34/100 [1:12:36<58:37, 53.29s/it]  "
     ]
    },
    {
     "name": "stdout",
     "output_type": "stream",
     "text": [
      "Organisez une réunion d'équipe le 15 janvier à 14h00.\n"
     ]
    },
    {
     "name": "stderr",
     "output_type": "stream",
     "text": [
      "🧪 Test compiled_student:  35%|███▌      | 35/100 [1:12:57<47:17, 43.65s/it]"
     ]
    },
    {
     "name": "stdout",
     "output_type": "stream",
     "text": [
      "Calculez la factorielle de 10.\n",
      "Planifier une réunion d'équipe pour le 15 janvier à 14h00.\n",
      "Calculez le produit de tous les nombres entiers de 1 à 10.\n",
      "Que dit le Yi King concernant ma situation actuelle sur le plan émotionnel ?\n"
     ]
    },
    {
     "name": "stderr",
     "output_type": "stream",
     "text": [
      "🧪 Test compiled_student:  39%|███▉      | 39/100 [1:13:04<17:30, 17.23s/it]"
     ]
    },
    {
     "name": "stdout",
     "output_type": "stream",
     "text": [
      "Que dit le Yi King à propos de mes relations personnelles et de leur évolution ?\n"
     ]
    },
    {
     "name": "stderr",
     "output_type": "stream",
     "text": [
      "🧪 Test compiled_student:  40%|████      | 40/100 [1:13:16<16:15, 16.26s/it]"
     ]
    },
    {
     "name": "stdout",
     "output_type": "stream",
     "text": [
      "Que dit le Yi King concernant ma décision de quitter mon emploi actuel pour une nouvelle opportunité ?\n"
     ]
    },
    {
     "name": "stderr",
     "output_type": "stream",
     "text": [
      "🧪 Test compiled_student:  41%|████      | 41/100 [1:15:19<37:41, 38.34s/it]"
     ]
    },
    {
     "name": "stdout",
     "output_type": "stream",
     "text": [
      "Calculez la somme des carrés des nombres de 1 à 50.\n",
      "Planifier une réunion d'équipe pour le 15 janvier à 14h00.\n",
      "Calculez le produit des nombres de 1 à 10.\n"
     ]
    },
    {
     "name": "stderr",
     "output_type": "stream",
     "text": [
      "🧪 Test compiled_student:  44%|████▍     | 44/100 [1:15:25<19:52, 21.29s/it]"
     ]
    },
    {
     "name": "stdout",
     "output_type": "stream",
     "text": [
      "Calculez la factorielle de 10.\n",
      "Calculez la somme des carrés des entiers de 1 à 100.\n"
     ]
    },
    {
     "name": "stderr",
     "output_type": "stream",
     "text": [
      "🧪 Test compiled_student:  46%|████▌     | 46/100 [1:15:27<13:27, 14.96s/it]"
     ]
    },
    {
     "name": "stdout",
     "output_type": "stream",
     "text": [
      "Quels sont les défis économiques liés à la transition énergétique ?\n"
     ]
    },
    {
     "name": "stderr",
     "output_type": "stream",
     "text": [
      "🧪 Test compiled_student:  47%|████▋     | 47/100 [1:15:43<13:25, 15.19s/it]"
     ]
    },
    {
     "name": "stdout",
     "output_type": "stream",
     "text": [
      "Planifier une réunion d'équipe le 15 janvier à 14h00.\n"
     ]
    },
    {
     "name": "stderr",
     "output_type": "stream",
     "text": [
      "🧪 Test compiled_student:  48%|████▊     | 48/100 [1:15:52<12:04, 13.92s/it]"
     ]
    },
    {
     "name": "stdout",
     "output_type": "stream",
     "text": [
      "Planifier une réunion de projet le 15 janvier à 14h00.\n"
     ]
    },
    {
     "name": "stderr",
     "output_type": "stream",
     "text": [
      "🧪 Test compiled_student:  49%|████▉     | 49/100 [1:16:33<17:08, 20.17s/it]"
     ]
    },
    {
     "name": "stdout",
     "output_type": "stream",
     "text": [
      "Planifiez une réunion de suivi avec l'équipe pour le 15 janvier à 14h00.\n"
     ]
    },
    {
     "name": "stderr",
     "output_type": "stream",
     "text": [
      "🧪 Test compiled_student:  50%|█████     | 50/100 [1:16:47<15:24, 18.49s/it]"
     ]
    },
    {
     "name": "stdout",
     "output_type": "stream",
     "text": [
      "Que dit le Yi King sur la direction que je devrais prendre dans ma vie professionnelle ?\n"
     ]
    },
    {
     "name": "stderr",
     "output_type": "stream",
     "text": [
      "🧪 Test compiled_student:  51%|█████     | 51/100 [1:17:54<25:27, 31.17s/it]"
     ]
    },
    {
     "name": "stdout",
     "output_type": "stream",
     "text": [
      "Que dit le Yi King concernant ma situation actuelle au travail et mes perspectives d'avenir ?\n",
      "Planifier une réunion d'équipe pour le 15 janvier à 14h00.\n",
      "Quels sont les impacts de la pollution sur la santé humaine ?\n"
     ]
    },
    {
     "name": "stderr",
     "output_type": "stream",
     "text": [
      "🧪 Test compiled_student:  54%|█████▍    | 54/100 [1:18:03<12:34, 16.39s/it]"
     ]
    },
    {
     "name": "stdout",
     "output_type": "stream",
     "text": [
      "Organiser une réunion d'équipe le 15 janvier à 14h00.\n"
     ]
    },
    {
     "name": "stderr",
     "output_type": "stream",
     "text": [
      "🧪 Test compiled_student:  55%|█████▌    | 55/100 [1:18:24<12:52, 17.17s/it]"
     ]
    },
    {
     "name": "stdout",
     "output_type": "stream",
     "text": [
      "Planifier une réunion d'équipe pour le 15 janvier à 14h00.\n",
      "Quels sont les effets de la pollution plastique sur la santé humaine ?\n"
     ]
    },
    {
     "name": "stderr",
     "output_type": "stream",
     "text": [
      "🧪 Test compiled_student:  57%|█████▋    | 57/100 [1:18:39<09:49, 13.71s/it]"
     ]
    },
    {
     "name": "stdout",
     "output_type": "stream",
     "text": [
      "Quels sont les effets des microplastiques sur la santé humaine ?\n"
     ]
    },
    {
     "name": "stderr",
     "output_type": "stream",
     "text": [
      "🧪 Test compiled_student:  58%|█████▊    | 58/100 [1:18:57<10:08, 14.49s/it]"
     ]
    },
    {
     "name": "stdout",
     "output_type": "stream",
     "text": [
      "Planifier une réunion d'équipe pour le 15 janvier à 14h00.\n",
      "Que dit le Yi King concernant ma décision d'accepter une offre d'emploi à l'étranger ?\n"
     ]
    },
    {
     "name": "stderr",
     "output_type": "stream",
     "text": [
      "🧪 Test compiled_student:  60%|██████    | 60/100 [1:19:33<10:38, 15.96s/it]"
     ]
    },
    {
     "name": "stdout",
     "output_type": "stream",
     "text": [
      "Que dit le Yi King concernant ma relation avec un ami proche ?\n"
     ]
    },
    {
     "name": "stderr",
     "output_type": "stream",
     "text": [
      "🧪 Test compiled_student:  61%|██████    | 61/100 [1:19:44<09:42, 14.93s/it]"
     ]
    },
    {
     "name": "stdout",
     "output_type": "stream",
     "text": [
      "Que dit le Yi King à propos de ma décision de prendre un nouveau poste à l'étranger ?\n"
     ]
    },
    {
     "name": "stderr",
     "output_type": "stream",
     "text": [
      "🧪 Test compiled_student:  62%|██████▏   | 62/100 [1:20:25<13:14, 20.90s/it]"
     ]
    },
    {
     "name": "stdout",
     "output_type": "stream",
     "text": [
      "Calculez la factorielle de 10.\n",
      "Que dit le Yi King concernant mes relations interpersonnelles actuelles ?\n"
     ]
    },
    {
     "name": "stderr",
     "output_type": "stream",
     "text": [
      "🧪 Test compiled_student:  64%|██████▍   | 64/100 [1:20:33<08:30, 14.17s/it]"
     ]
    },
    {
     "name": "stdout",
     "output_type": "stream",
     "text": [
      "Que dit le Yi King au sujet de ma situation professionnelle actuelle et de l'avenir ?\n"
     ]
    },
    {
     "name": "stderr",
     "output_type": "stream",
     "text": [
      "🧪 Test compiled_student:  65%|██████▌   | 65/100 [1:21:01<09:58, 17.09s/it]"
     ]
    },
    {
     "name": "stdout",
     "output_type": "stream",
     "text": [
      "Quels sont les effets de la pollution sur la santé humaine ?\n",
      "Que dit le Yi King au sujet de mes relations professionnelles actuelles ?\n"
     ]
    },
    {
     "name": "stderr",
     "output_type": "stream",
     "text": [
      "🧪 Test compiled_student:  67%|██████▋   | 67/100 [1:21:19<07:45, 14.11s/it]"
     ]
    },
    {
     "name": "stdout",
     "output_type": "stream",
     "text": [
      "Que dit le Yi King à propos de ma situation financière actuelle et de mes décisions d'investissement ?\n"
     ]
    },
    {
     "name": "stderr",
     "output_type": "stream",
     "text": [
      "🧪 Test compiled_student:  68%|██████▊   | 68/100 [1:21:43<08:37, 16.18s/it]"
     ]
    },
    {
     "name": "stdout",
     "output_type": "stream",
     "text": [
      "Planifiez une réunion d'équipe pour le 15 janvier à 14h00.\n",
      "Planifier une réunion de projet le 15 janvier à 14h00.\n",
      "Calculez la factorielle de 10.\n",
      "Que dit le Yi King concernant ma situation financière actuelle et mes choix d'investissement futurs ?\n"
     ]
    },
    {
     "name": "stderr",
     "output_type": "stream",
     "text": [
      "🧪 Test compiled_student:  72%|███████▏  | 72/100 [1:22:06<04:51, 10.42s/it]"
     ]
    },
    {
     "name": "stdout",
     "output_type": "stream",
     "text": [
      "Que dit le Yi King concernant ma décision d'accepter une promotion au travail ?\n"
     ]
    },
    {
     "name": "stderr",
     "output_type": "stream",
     "text": [
      "🧪 Test compiled_student:  73%|███████▎  | 73/100 [1:22:16<04:38, 10.33s/it]"
     ]
    },
    {
     "name": "stdout",
     "output_type": "stream",
     "text": [
      "Planifiez une réunion d'équipe pour le 15 janvier à 14h00.\n",
      "Organiser une réunion d'équipe pour le 15 janvier à 14h00.\n"
     ]
    },
    {
     "name": "stderr",
     "output_type": "stream",
     "text": [
      "🧪 Test compiled_student:  75%|███████▌  | 75/100 [1:22:34<04:09,  9.96s/it]"
     ]
    },
    {
     "name": "stdout",
     "output_type": "stream",
     "text": [
      "Calculez la somme des carrés des entiers de 1 à 50.\n",
      "Calculez la factorielle de 10.\n",
      "Calculez la somme des entiers de 1 à 100.\n",
      "Que dit le Yi King sur ma situation financière actuelle et mes décisions à venir ?\n"
     ]
    },
    {
     "name": "stderr",
     "output_type": "stream",
     "text": [
      "🧪 Test compiled_student:  79%|███████▉  | 79/100 [1:22:47<02:20,  6.67s/it]"
     ]
    },
    {
     "name": "stdout",
     "output_type": "stream",
     "text": [
      "Écrivez un programme pour calculer la factorielle de 10.\n",
      "Programmer une réunion d'équipe pour le 15 janvier à 14h00.\n"
     ]
    },
    {
     "name": "stderr",
     "output_type": "stream",
     "text": [
      "🧪 Test compiled_student:  81%|████████  | 81/100 [1:22:55<01:53,  5.97s/it]"
     ]
    },
    {
     "name": "stdout",
     "output_type": "stream",
     "text": [
      "Calculez la somme des carrés des entiers de 1 à 50.\n",
      "Calculez le produit des nombres de 1 à 10.\n",
      "Calculez la somme des entiers de 1 à 50.\n"
     ]
    },
    {
     "name": "stderr",
     "output_type": "stream",
     "text": [
      "🧪 Test compiled_student:  84%|████████▍ | 84/100 [1:23:08<01:26,  5.43s/it]"
     ]
    },
    {
     "name": "stdout",
     "output_type": "stream",
     "text": [
      "Planifier une réunion d'équipe pour le 15 janvier à 14h00.\n",
      "Que dit le Yi King sur mes chances de succès dans un nouveau projet professionnel ?\n"
     ]
    },
    {
     "name": "stderr",
     "output_type": "stream",
     "text": [
      "🧪 Test compiled_student:  86%|████████▌ | 86/100 [1:23:14<01:08,  4.90s/it]"
     ]
    },
    {
     "name": "stdout",
     "output_type": "stream",
     "text": [
      "Que dit le Yi King concernant mes relations personnelles et leur évolution ?\n",
      "Calculez la somme des carrés des nombres de 1 à 50.\n",
      "Calculez la somme des entiers de 1 à 100.\n",
      "Calculez la factorielle de 10.\n",
      "Calculez la somme des entiers de 1 à 100.\n",
      "Quels sont les effets de la déforestation sur la biodiversité ?\n"
     ]
    },
    {
     "name": "stderr",
     "output_type": "stream",
     "text": [
      "🧪 Test compiled_student:  92%|█████████▏| 92/100 [1:23:19<00:21,  2.74s/it]"
     ]
    },
    {
     "name": "stdout",
     "output_type": "stream",
     "text": [
      "Que dit le Yi King concernant ma situation financière actuelle et mes investissements ?\n"
     ]
    },
    {
     "name": "stderr",
     "output_type": "stream",
     "text": [
      "🧪 Test compiled_student:  93%|█████████▎| 93/100 [1:23:31<00:26,  3.73s/it]"
     ]
    },
    {
     "name": "stdout",
     "output_type": "stream",
     "text": [
      "Que dit le Yi King concernant les choix que je dois faire dans ma carrière actuelle ?\n"
     ]
    },
    {
     "name": "stderr",
     "output_type": "stream",
     "text": [
      "🧪 Test compiled_student:  94%|█████████▍| 94/100 [1:23:41<00:27,  4.62s/it]"
     ]
    },
    {
     "name": "stdout",
     "output_type": "stream",
     "text": [
      "Organiser une réunion d'équipe le 15 janvier à 14h00.\n",
      "Quels sont les effets de la pollution de l'air sur la santé humaine ?\n",
      "Calculez la factorielle de 10.\n",
      "Que dit le Yi King concernant mes angoisses à propos de ma situation professionnelle actuelle ?\n"
     ]
    },
    {
     "name": "stderr",
     "output_type": "stream",
     "text": [
      "🧪 Test compiled_student:  98%|█████████▊| 98/100 [1:23:54<00:08,  4.07s/it]"
     ]
    },
    {
     "name": "stdout",
     "output_type": "stream",
     "text": [
      "Planifier une réunion d'équipe pour le 15 janvier à 14h00.\n",
      "Planifiez une réunion de lancement pour le 15 janvier à 14h00.\n"
     ]
    },
    {
     "name": "stderr",
     "output_type": "stream",
     "text": [
      "🧪 Test compiled_student: 100%|██████████| 100/100 [1:24:12<00:00, 50.52s/it]\n"
     ]
    },
    {
     "data": {
      "text/html": [
       "<div>\n",
       "<style scoped>\n",
       "    .dataframe tbody tr th:only-of-type {\n",
       "        vertical-align: middle;\n",
       "    }\n",
       "\n",
       "    .dataframe tbody tr th {\n",
       "        vertical-align: top;\n",
       "    }\n",
       "\n",
       "    .dataframe thead th {\n",
       "        text-align: right;\n",
       "    }\n",
       "</style>\n",
       "<table border=\"1\" class=\"dataframe\">\n",
       "  <thead>\n",
       "    <tr style=\"text-align: right;\">\n",
       "      <th></th>\n",
       "      <th>message</th>\n",
       "      <th>catégorie attendue</th>\n",
       "      <th>catégorie prédite</th>\n",
       "      <th>contexte</th>\n",
       "      <th>ok</th>\n",
       "    </tr>\n",
       "  </thead>\n",
       "  <tbody>\n",
       "    <tr>\n",
       "      <th>0</th>\n",
       "      <td>Que dit le Yi King concernant ma situation amo...</td>\n",
       "      <td>!yi</td>\n",
       "      <td>?</td>\n",
       "      <td>{\\n    \"category\":\"!inf\"\\n}\\nAssistant: Le tex...</td>\n",
       "      <td>False</td>\n",
       "    </tr>\n",
       "    <tr>\n",
       "      <th>1</th>\n",
       "      <td>Que dit le Yi King concernant mes choix de car...</td>\n",
       "      <td>!yi</td>\n",
       "      <td>!yi</td>\n",
       "      <td>La question porte sur l'interprétation des div...</td>\n",
       "      <td>True</td>\n",
       "    </tr>\n",
       "    <tr>\n",
       "      <th>2</th>\n",
       "      <td>Quelles sont les conséquences de l'utilisation...</td>\n",
       "      <td>!inf</td>\n",
       "      <td>!inf</td>\n",
       "      <td>Le message demande une recherche d'information...</td>\n",
       "      <td>True</td>\n",
       "    </tr>\n",
       "    <tr>\n",
       "      <th>3</th>\n",
       "      <td>Calculez la somme des carrés des nombres de 1 ...</td>\n",
       "      <td>!py</td>\n",
       "      <td>!py</td>\n",
       "      <td>Le demandeur souhaite calculer une série mathé...</td>\n",
       "      <td>True</td>\n",
       "    </tr>\n",
       "    <tr>\n",
       "      <th>4</th>\n",
       "      <td>Que dit le Yi King concernant mes relations pe...</td>\n",
       "      <td>!yi</td>\n",
       "      <td>!yi</td>\n",
       "      <td>La question porte sur l'interprétation des div...</td>\n",
       "      <td>True</td>\n",
       "    </tr>\n",
       "    <tr>\n",
       "      <th>...</th>\n",
       "      <td>...</td>\n",
       "      <td>...</td>\n",
       "      <td>...</td>\n",
       "      <td>...</td>\n",
       "      <td>...</td>\n",
       "    </tr>\n",
       "    <tr>\n",
       "      <th>95</th>\n",
       "      <td>Quels sont les effets de la pollution de l'air...</td>\n",
       "      <td>!inf</td>\n",
       "      <td>?</td>\n",
       "      <td>### Query Resolver:: Comprendre et analyser un...</td>\n",
       "      <td>False</td>\n",
       "    </tr>\n",
       "    <tr>\n",
       "      <th>96</th>\n",
       "      <td>Calculez la factorielle de 10.</td>\n",
       "      <td>!py</td>\n",
       "      <td>?</td>\n",
       "      <td>```json\\n{\\n  \"ctx\": \"!py\"\\n}\\n```\\n\\nExplanse...</td>\n",
       "      <td>False</td>\n",
       "    </tr>\n",
       "    <tr>\n",
       "      <th>97</th>\n",
       "      <td>Que dit le Yi King concernant mes angoisses à ...</td>\n",
       "      <td>!yi</td>\n",
       "      <td>?</td>\n",
       "      <td>### Javaでする, the following conversation betwee...</td>\n",
       "      <td>False</td>\n",
       "    </tr>\n",
       "    <tr>\n",
       "      <th>98</th>\n",
       "      <td>Planifier une réunion d'équipe pour le 15 janv...</td>\n",
       "      <td>!cal</td>\n",
       "      <td>?</td>\n",
       "      <td>###instantiate a detailed, the following instr...</td>\n",
       "      <td>False</td>\n",
       "    </tr>\n",
       "    <tr>\n",
       "      <th>99</th>\n",
       "      <td>Planifiez une réunion de lancement pour le 15 ...</td>\n",
       "      <td>!cal</td>\n",
       "      <td>?</td>\n",
       "      <td>### Instruction: The assistant AI, I's_prompti...</td>\n",
       "      <td>False</td>\n",
       "    </tr>\n",
       "  </tbody>\n",
       "</table>\n",
       "<p>100 rows × 5 columns</p>\n",
       "</div>"
      ],
      "text/plain": [
       "                                              message catégorie attendue  \\\n",
       "0   Que dit le Yi King concernant ma situation amo...                !yi   \n",
       "1   Que dit le Yi King concernant mes choix de car...                !yi   \n",
       "2   Quelles sont les conséquences de l'utilisation...               !inf   \n",
       "3   Calculez la somme des carrés des nombres de 1 ...                !py   \n",
       "4   Que dit le Yi King concernant mes relations pe...                !yi   \n",
       "..                                                ...                ...   \n",
       "95  Quels sont les effets de la pollution de l'air...               !inf   \n",
       "96                     Calculez la factorielle de 10.                !py   \n",
       "97  Que dit le Yi King concernant mes angoisses à ...                !yi   \n",
       "98  Planifier une réunion d'équipe pour le 15 janv...               !cal   \n",
       "99  Planifiez une réunion de lancement pour le 15 ...               !cal   \n",
       "\n",
       "   catégorie prédite                                           contexte     ok  \n",
       "0                  ?  {\\n    \"category\":\"!inf\"\\n}\\nAssistant: Le tex...  False  \n",
       "1                !yi  La question porte sur l'interprétation des div...   True  \n",
       "2               !inf  Le message demande une recherche d'information...   True  \n",
       "3                !py  Le demandeur souhaite calculer une série mathé...   True  \n",
       "4                !yi  La question porte sur l'interprétation des div...   True  \n",
       "..               ...                                                ...    ...  \n",
       "95                 ?  ### Query Resolver:: Comprendre et analyser un...  False  \n",
       "96                 ?  ```json\\n{\\n  \"ctx\": \"!py\"\\n}\\n```\\n\\nExplanse...  False  \n",
       "97                 ?  ### Javaでする, the following conversation betwee...  False  \n",
       "98                 ?  ###instantiate a detailed, the following instr...  False  \n",
       "99                 ?  ### Instruction: The assistant AI, I's_prompti...  False  \n",
       "\n",
       "[100 rows x 5 columns]"
      ]
     },
     "metadata": {},
     "output_type": "display_data"
    }
   ],
   "source": [
    "# Test de compiled_student sur les 100 derniers exemples d'entraînement\n",
    "from tqdm import tqdm\n",
    "\n",
    "results = []\n",
    "for ex in tqdm(actionswa[-100:], desc=\"🧪 Test compiled_student\"):\n",
    "    if \"contenu\" in ex:\n",
    "        print(ex[\"contenu\"])\n",
    "        prediction = compiled_student(ex[\"contenu\"])\n",
    "        results.append({\n",
    "            \"message\": ex[\"contenu\"],\n",
    "            \"catégorie attendue\": ex[\"intention\"],\n",
    "            \"catégorie prédite\": prediction[\"cat\"],\n",
    "            \"contexte\": prediction[\"ctx\"],\n",
    "            \"ok\": prediction[\"cat\"] == ex[\"intention\"]\n",
    "        })\n",
    "\n",
    "import pandas as pd\n",
    "df_eval = pd.DataFrame(results)\n",
    "display(df_eval)"
   ]
  },
  {
   "cell_type": "code",
   "execution_count": null,
   "id": "714abbe7-dd37-487f-a7a9-6ef90f85395d",
   "metadata": {},
   "outputs": [],
   "source": []
  }
 ],
 "metadata": {
  "kernelspec": {
   "display_name": "Python 3 (ipykernel)",
   "language": "python",
   "name": "python3"
  },
  "language_info": {
   "codemirror_mode": {
    "name": "ipython",
    "version": 3
   },
   "file_extension": ".py",
   "mimetype": "text/x-python",
   "name": "python",
   "nbconvert_exporter": "python",
   "pygments_lexer": "ipython3",
   "version": "3.12.3"
  }
 },
 "nbformat": 4,
 "nbformat_minor": 5
}
