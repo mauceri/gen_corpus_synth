{
 "cells": [
  {
   "cell_type": "code",
   "execution_count": 1,
   "id": "8012697e-8139-442f-96c7-7eca20d16d45",
   "metadata": {},
   "outputs": [],
   "source": [
    "# 📦 Cellule 1 : Imports\n",
    "import dspy\n",
    "from dspy import LM\n",
    "import random\n",
    "import litellm\n",
    "from datetime import datetime, timedelta\n",
    "import json\n",
    "import os\n",
    "import time\n",
    "import uuid\n",
    "import ast"
   ]
  },
  {
   "cell_type": "code",
   "execution_count": 2,
   "id": "4c355421-e6f7-4065-bf25-55142f90e090",
   "metadata": {},
   "outputs": [
    {
     "name": "stdout",
     "output_type": "stream",
     "text": [
      "Requirement already satisfied: dspy-ai in /home/mauceric/Jupyter/jupyterenv/lib/python3.12/site-packages (2.6.23)\n",
      "Requirement already satisfied: dspy>=2.6.5 in /home/mauceric/Jupyter/jupyterenv/lib/python3.12/site-packages (from dspy-ai) (2.6.16)\n",
      "Requirement already satisfied: backoff>=2.2 in /home/mauceric/Jupyter/jupyterenv/lib/python3.12/site-packages (from dspy>=2.6.5->dspy-ai) (2.2.1)\n",
      "Requirement already satisfied: joblib~=1.3 in /home/mauceric/Jupyter/jupyterenv/lib/python3.12/site-packages (from dspy>=2.6.5->dspy-ai) (1.4.2)\n",
      "Requirement already satisfied: openai<=1.61.0,>=0.28.1 in /home/mauceric/Jupyter/jupyterenv/lib/python3.12/site-packages (from dspy>=2.6.5->dspy-ai) (1.61.0)\n",
      "Requirement already satisfied: pandas>=2.1.1 in /home/mauceric/Jupyter/jupyterenv/lib/python3.12/site-packages (from dspy>=2.6.5->dspy-ai) (2.2.3)\n",
      "Requirement already satisfied: regex>=2023.10.3 in /home/mauceric/Jupyter/jupyterenv/lib/python3.12/site-packages (from dspy>=2.6.5->dspy-ai) (2024.9.11)\n",
      "Requirement already satisfied: ujson>=5.8.0 in /home/mauceric/Jupyter/jupyterenv/lib/python3.12/site-packages (from dspy>=2.6.5->dspy-ai) (5.10.0)\n",
      "Requirement already satisfied: tqdm>=4.66.1 in /home/mauceric/Jupyter/jupyterenv/lib/python3.12/site-packages (from dspy>=2.6.5->dspy-ai) (4.66.5)\n",
      "Requirement already satisfied: datasets>=2.14.6 in /home/mauceric/Jupyter/jupyterenv/lib/python3.12/site-packages (from dspy>=2.6.5->dspy-ai) (3.0.1)\n",
      "Requirement already satisfied: requests>=2.31.0 in /home/mauceric/Jupyter/jupyterenv/lib/python3.12/site-packages (from dspy>=2.6.5->dspy-ai) (2.32.3)\n",
      "Requirement already satisfied: optuna>=3.4.0 in /home/mauceric/Jupyter/jupyterenv/lib/python3.12/site-packages (from dspy>=2.6.5->dspy-ai) (4.0.0)\n",
      "Requirement already satisfied: pydantic>=2.0 in /home/mauceric/Jupyter/jupyterenv/lib/python3.12/site-packages (from dspy>=2.6.5->dspy-ai) (2.9.2)\n",
      "Requirement already satisfied: magicattr>=0.1.6 in /home/mauceric/Jupyter/jupyterenv/lib/python3.12/site-packages (from dspy>=2.6.5->dspy-ai) (0.1.6)\n",
      "Requirement already satisfied: litellm>=1.60.3 in /home/mauceric/Jupyter/jupyterenv/lib/python3.12/site-packages (from dspy>=2.6.5->dspy-ai) (1.63.7)\n",
      "Requirement already satisfied: diskcache>=5.6.0 in /home/mauceric/Jupyter/jupyterenv/lib/python3.12/site-packages (from dspy>=2.6.5->dspy-ai) (5.6.3)\n",
      "Requirement already satisfied: json-repair>=0.30.0 in /home/mauceric/Jupyter/jupyterenv/lib/python3.12/site-packages (from dspy>=2.6.5->dspy-ai) (0.40.0)\n",
      "Requirement already satisfied: tenacity>=8.2.3 in /home/mauceric/Jupyter/jupyterenv/lib/python3.12/site-packages (from dspy>=2.6.5->dspy-ai) (9.0.0)\n",
      "Requirement already satisfied: anyio in /home/mauceric/Jupyter/jupyterenv/lib/python3.12/site-packages (from dspy>=2.6.5->dspy-ai) (4.9.0)\n",
      "Requirement already satisfied: asyncer==0.0.8 in /home/mauceric/Jupyter/jupyterenv/lib/python3.12/site-packages (from dspy>=2.6.5->dspy-ai) (0.0.8)\n",
      "Requirement already satisfied: cachetools>=5.5.0 in /home/mauceric/Jupyter/jupyterenv/lib/python3.12/site-packages (from dspy>=2.6.5->dspy-ai) (5.5.2)\n",
      "Requirement already satisfied: cloudpickle>=3.0.0 in /home/mauceric/Jupyter/jupyterenv/lib/python3.12/site-packages (from dspy>=2.6.5->dspy-ai) (3.1.1)\n",
      "Requirement already satisfied: rich>=13.7.1 in /home/mauceric/Jupyter/jupyterenv/lib/python3.12/site-packages (from dspy>=2.6.5->dspy-ai) (13.9.4)\n",
      "Requirement already satisfied: numpy>=1.26.0 in /home/mauceric/Jupyter/jupyterenv/lib/python3.12/site-packages (from dspy>=2.6.5->dspy-ai) (2.1.1)\n",
      "Requirement already satisfied: idna>=2.8 in /home/mauceric/Jupyter/jupyterenv/lib/python3.12/site-packages (from anyio->dspy>=2.6.5->dspy-ai) (3.10)\n",
      "Requirement already satisfied: sniffio>=1.1 in /home/mauceric/Jupyter/jupyterenv/lib/python3.12/site-packages (from anyio->dspy>=2.6.5->dspy-ai) (1.3.1)\n",
      "Requirement already satisfied: typing_extensions>=4.5 in /home/mauceric/Jupyter/jupyterenv/lib/python3.12/site-packages (from anyio->dspy>=2.6.5->dspy-ai) (4.13.0)\n",
      "Requirement already satisfied: filelock in /home/mauceric/Jupyter/jupyterenv/lib/python3.12/site-packages (from datasets>=2.14.6->dspy>=2.6.5->dspy-ai) (3.18.0)\n",
      "Requirement already satisfied: pyarrow>=15.0.0 in /home/mauceric/Jupyter/jupyterenv/lib/python3.12/site-packages (from datasets>=2.14.6->dspy>=2.6.5->dspy-ai) (19.0.1)\n",
      "Requirement already satisfied: dill<0.3.9,>=0.3.0 in /home/mauceric/Jupyter/jupyterenv/lib/python3.12/site-packages (from datasets>=2.14.6->dspy>=2.6.5->dspy-ai) (0.3.8)\n",
      "Requirement already satisfied: xxhash in /home/mauceric/Jupyter/jupyterenv/lib/python3.12/site-packages (from datasets>=2.14.6->dspy>=2.6.5->dspy-ai) (3.5.0)\n",
      "Requirement already satisfied: multiprocess in /home/mauceric/Jupyter/jupyterenv/lib/python3.12/site-packages (from datasets>=2.14.6->dspy>=2.6.5->dspy-ai) (0.70.16)\n",
      "Requirement already satisfied: fsspec<=2024.6.1,>=2023.1.0 in /home/mauceric/Jupyter/jupyterenv/lib/python3.12/site-packages (from fsspec[http]<=2024.6.1,>=2023.1.0->datasets>=2.14.6->dspy>=2.6.5->dspy-ai) (2024.6.1)\n",
      "Requirement already satisfied: aiohttp in /home/mauceric/Jupyter/jupyterenv/lib/python3.12/site-packages (from datasets>=2.14.6->dspy>=2.6.5->dspy-ai) (3.11.14)\n",
      "Requirement already satisfied: huggingface-hub>=0.22.0 in /home/mauceric/Jupyter/jupyterenv/lib/python3.12/site-packages (from datasets>=2.14.6->dspy>=2.6.5->dspy-ai) (0.25.1)\n",
      "Requirement already satisfied: packaging in /home/mauceric/Jupyter/jupyterenv/lib/python3.12/site-packages (from datasets>=2.14.6->dspy>=2.6.5->dspy-ai) (24.1)\n",
      "Requirement already satisfied: pyyaml>=5.1 in /home/mauceric/Jupyter/jupyterenv/lib/python3.12/site-packages (from datasets>=2.14.6->dspy>=2.6.5->dspy-ai) (6.0.2)\n",
      "Requirement already satisfied: click in /home/mauceric/Jupyter/jupyterenv/lib/python3.12/site-packages (from litellm>=1.60.3->dspy>=2.6.5->dspy-ai) (8.1.8)\n",
      "Requirement already satisfied: httpx>=0.23.0 in /home/mauceric/Jupyter/jupyterenv/lib/python3.12/site-packages (from litellm>=1.60.3->dspy>=2.6.5->dspy-ai) (0.27.2)\n",
      "Requirement already satisfied: importlib-metadata>=6.8.0 in /home/mauceric/Jupyter/jupyterenv/lib/python3.12/site-packages (from litellm>=1.60.3->dspy>=2.6.5->dspy-ai) (8.6.1)\n",
      "Requirement already satisfied: jinja2<4.0.0,>=3.1.2 in /home/mauceric/Jupyter/jupyterenv/lib/python3.12/site-packages (from litellm>=1.60.3->dspy>=2.6.5->dspy-ai) (3.1.4)\n",
      "Requirement already satisfied: jsonschema<5.0.0,>=4.22.0 in /home/mauceric/Jupyter/jupyterenv/lib/python3.12/site-packages (from litellm>=1.60.3->dspy>=2.6.5->dspy-ai) (4.23.0)\n",
      "Requirement already satisfied: python-dotenv>=0.2.0 in /home/mauceric/Jupyter/jupyterenv/lib/python3.12/site-packages (from litellm>=1.60.3->dspy>=2.6.5->dspy-ai) (1.0.1)\n",
      "Requirement already satisfied: tiktoken>=0.7.0 in /home/mauceric/Jupyter/jupyterenv/lib/python3.12/site-packages (from litellm>=1.60.3->dspy>=2.6.5->dspy-ai) (0.8.0)\n",
      "Requirement already satisfied: tokenizers in /home/mauceric/Jupyter/jupyterenv/lib/python3.12/site-packages (from litellm>=1.60.3->dspy>=2.6.5->dspy-ai) (0.20.3)\n",
      "Requirement already satisfied: distro<2,>=1.7.0 in /home/mauceric/Jupyter/jupyterenv/lib/python3.12/site-packages (from openai<=1.61.0,>=0.28.1->dspy>=2.6.5->dspy-ai) (1.9.0)\n",
      "Requirement already satisfied: jiter<1,>=0.4.0 in /home/mauceric/Jupyter/jupyterenv/lib/python3.12/site-packages (from openai<=1.61.0,>=0.28.1->dspy>=2.6.5->dspy-ai) (0.9.0)\n",
      "Requirement already satisfied: alembic>=1.5.0 in /home/mauceric/Jupyter/jupyterenv/lib/python3.12/site-packages (from optuna>=3.4.0->dspy>=2.6.5->dspy-ai) (1.15.1)\n",
      "Requirement already satisfied: colorlog in /home/mauceric/Jupyter/jupyterenv/lib/python3.12/site-packages (from optuna>=3.4.0->dspy>=2.6.5->dspy-ai) (6.9.0)\n",
      "Requirement already satisfied: sqlalchemy>=1.3.0 in /home/mauceric/Jupyter/jupyterenv/lib/python3.12/site-packages (from optuna>=3.4.0->dspy>=2.6.5->dspy-ai) (2.0.39)\n",
      "Requirement already satisfied: python-dateutil>=2.8.2 in /home/mauceric/Jupyter/jupyterenv/lib/python3.12/site-packages (from pandas>=2.1.1->dspy>=2.6.5->dspy-ai) (2.9.0.post0)\n",
      "Requirement already satisfied: pytz>=2020.1 in /home/mauceric/Jupyter/jupyterenv/lib/python3.12/site-packages (from pandas>=2.1.1->dspy>=2.6.5->dspy-ai) (2025.2)\n",
      "Requirement already satisfied: tzdata>=2022.7 in /home/mauceric/Jupyter/jupyterenv/lib/python3.12/site-packages (from pandas>=2.1.1->dspy>=2.6.5->dspy-ai) (2025.2)\n",
      "Requirement already satisfied: annotated-types>=0.6.0 in /home/mauceric/Jupyter/jupyterenv/lib/python3.12/site-packages (from pydantic>=2.0->dspy>=2.6.5->dspy-ai) (0.7.0)\n",
      "Requirement already satisfied: pydantic-core==2.23.4 in /home/mauceric/Jupyter/jupyterenv/lib/python3.12/site-packages (from pydantic>=2.0->dspy>=2.6.5->dspy-ai) (2.23.4)\n",
      "Requirement already satisfied: charset-normalizer<4,>=2 in /home/mauceric/Jupyter/jupyterenv/lib/python3.12/site-packages (from requests>=2.31.0->dspy>=2.6.5->dspy-ai) (3.4.1)\n",
      "Requirement already satisfied: urllib3<3,>=1.21.1 in /home/mauceric/Jupyter/jupyterenv/lib/python3.12/site-packages (from requests>=2.31.0->dspy>=2.6.5->dspy-ai) (2.3.0)\n",
      "Requirement already satisfied: certifi>=2017.4.17 in /home/mauceric/Jupyter/jupyterenv/lib/python3.12/site-packages (from requests>=2.31.0->dspy>=2.6.5->dspy-ai) (2025.1.31)\n",
      "Requirement already satisfied: markdown-it-py>=2.2.0 in /home/mauceric/Jupyter/jupyterenv/lib/python3.12/site-packages (from rich>=13.7.1->dspy>=2.6.5->dspy-ai) (3.0.0)\n",
      "Requirement already satisfied: pygments<3.0.0,>=2.13.0 in /home/mauceric/Jupyter/jupyterenv/lib/python3.12/site-packages (from rich>=13.7.1->dspy>=2.6.5->dspy-ai) (2.19.1)\n",
      "Requirement already satisfied: Mako in /home/mauceric/Jupyter/jupyterenv/lib/python3.12/site-packages (from alembic>=1.5.0->optuna>=3.4.0->dspy>=2.6.5->dspy-ai) (1.3.9)\n",
      "Requirement already satisfied: aiohappyeyeballs>=2.3.0 in /home/mauceric/Jupyter/jupyterenv/lib/python3.12/site-packages (from aiohttp->datasets>=2.14.6->dspy>=2.6.5->dspy-ai) (2.6.1)\n",
      "Requirement already satisfied: aiosignal>=1.1.2 in /home/mauceric/Jupyter/jupyterenv/lib/python3.12/site-packages (from aiohttp->datasets>=2.14.6->dspy>=2.6.5->dspy-ai) (1.3.2)\n",
      "Requirement already satisfied: attrs>=17.3.0 in /home/mauceric/Jupyter/jupyterenv/lib/python3.12/site-packages (from aiohttp->datasets>=2.14.6->dspy>=2.6.5->dspy-ai) (25.3.0)\n",
      "Requirement already satisfied: frozenlist>=1.1.1 in /home/mauceric/Jupyter/jupyterenv/lib/python3.12/site-packages (from aiohttp->datasets>=2.14.6->dspy>=2.6.5->dspy-ai) (1.5.0)\n",
      "Requirement already satisfied: multidict<7.0,>=4.5 in /home/mauceric/Jupyter/jupyterenv/lib/python3.12/site-packages (from aiohttp->datasets>=2.14.6->dspy>=2.6.5->dspy-ai) (6.2.0)\n",
      "Requirement already satisfied: propcache>=0.2.0 in /home/mauceric/Jupyter/jupyterenv/lib/python3.12/site-packages (from aiohttp->datasets>=2.14.6->dspy>=2.6.5->dspy-ai) (0.3.1)\n",
      "Requirement already satisfied: yarl<2.0,>=1.17.0 in /home/mauceric/Jupyter/jupyterenv/lib/python3.12/site-packages (from aiohttp->datasets>=2.14.6->dspy>=2.6.5->dspy-ai) (1.18.3)\n",
      "Requirement already satisfied: httpcore==1.* in /home/mauceric/Jupyter/jupyterenv/lib/python3.12/site-packages (from httpx>=0.23.0->litellm>=1.60.3->dspy>=2.6.5->dspy-ai) (1.0.7)\n",
      "Requirement already satisfied: h11<0.15,>=0.13 in /home/mauceric/Jupyter/jupyterenv/lib/python3.12/site-packages (from httpcore==1.*->httpx>=0.23.0->litellm>=1.60.3->dspy>=2.6.5->dspy-ai) (0.14.0)\n",
      "Requirement already satisfied: zipp>=3.20 in /home/mauceric/Jupyter/jupyterenv/lib/python3.12/site-packages (from importlib-metadata>=6.8.0->litellm>=1.60.3->dspy>=2.6.5->dspy-ai) (3.21.0)\n",
      "Requirement already satisfied: MarkupSafe>=2.0 in /home/mauceric/Jupyter/jupyterenv/lib/python3.12/site-packages (from jinja2<4.0.0,>=3.1.2->litellm>=1.60.3->dspy>=2.6.5->dspy-ai) (2.1.5)\n",
      "Requirement already satisfied: jsonschema-specifications>=2023.03.6 in /home/mauceric/Jupyter/jupyterenv/lib/python3.12/site-packages (from jsonschema<5.0.0,>=4.22.0->litellm>=1.60.3->dspy>=2.6.5->dspy-ai) (2024.10.1)\n",
      "Requirement already satisfied: referencing>=0.28.4 in /home/mauceric/Jupyter/jupyterenv/lib/python3.12/site-packages (from jsonschema<5.0.0,>=4.22.0->litellm>=1.60.3->dspy>=2.6.5->dspy-ai) (0.36.2)\n",
      "Requirement already satisfied: rpds-py>=0.7.1 in /home/mauceric/Jupyter/jupyterenv/lib/python3.12/site-packages (from jsonschema<5.0.0,>=4.22.0->litellm>=1.60.3->dspy>=2.6.5->dspy-ai) (0.24.0)\n",
      "Requirement already satisfied: mdurl~=0.1 in /home/mauceric/Jupyter/jupyterenv/lib/python3.12/site-packages (from markdown-it-py>=2.2.0->rich>=13.7.1->dspy>=2.6.5->dspy-ai) (0.1.2)\n",
      "Requirement already satisfied: six>=1.5 in /home/mauceric/Jupyter/jupyterenv/lib/python3.12/site-packages (from python-dateutil>=2.8.2->pandas>=2.1.1->dspy>=2.6.5->dspy-ai) (1.16.0)\n",
      "Requirement already satisfied: greenlet!=0.4.17 in /home/mauceric/Jupyter/jupyterenv/lib/python3.12/site-packages (from sqlalchemy>=1.3.0->optuna>=3.4.0->dspy>=2.6.5->dspy-ai) (3.1.1)\n"
     ]
    }
   ],
   "source": [
    "!pip install -U dspy-ai"
   ]
  },
  {
   "cell_type": "code",
   "execution_count": 4,
   "id": "d1c9a063-6452-47ce-a0f2-20dc71f8545a",
   "metadata": {},
   "outputs": [],
   "source": [
    "api_key = os.getenv(\"OPENAI_API_KEY\")\n",
    "lm = dspy.LM(\n",
    "    model=\"gpt-4o\",          # modèle reconnu par l’API OpenAI\n",
    "    api_key=api_key,\n",
    "    temperature=0.8,\n",
    "    provider=\"openai\"        # <- obligatoire ici pour désigner le backend\n",
    ")\n",
    "\n",
    "dspy.settings.configure(lm=lm)\n"
   ]
  },
  {
   "cell_type": "code",
   "execution_count": 5,
   "id": "6926e8cf-c56f-455f-ad6b-84c535ac2e82",
   "metadata": {},
   "outputs": [
    {
     "data": {
      "text/plain": [
       "[\"Bonjour ! Comment puis-je vous aider aujourd'hui ?\"]"
      ]
     },
     "execution_count": 5,
     "metadata": {},
     "output_type": "execute_result"
    }
   ],
   "source": [
    "lm(\"Dites bonjour\")"
   ]
  },
  {
   "cell_type": "code",
   "execution_count": 6,
   "id": "9726c1e5-a0e1-40bf-8af7-01a1516bf7f1",
   "metadata": {},
   "outputs": [
    {
     "name": "stdout",
     "output_type": "stream",
     "text": [
      "Appel du modèle avec : gpt-4o\n"
     ]
    },
    {
     "data": {
      "text/plain": [
       "[\"Bonjour ! Comment puis-je vous aider aujourd'hui ?\"]"
      ]
     },
     "execution_count": 6,
     "metadata": {},
     "output_type": "execute_result"
    }
   ],
   "source": [
    "def trace_lm_call(prompt):\n",
    "    print(f\"Appel du modèle avec : {dspy.settings.lm.model}\")\n",
    "    return dspy.settings.lm(prompt)\n",
    "\n",
    "trace_lm_call(\"Dites bonjour\")\n"
   ]
  },
  {
   "cell_type": "code",
   "execution_count": 7,
   "id": "3adf1758-e515-408e-82f0-698c4785dbc3",
   "metadata": {},
   "outputs": [],
   "source": [
    "examples = [\n",
    "    {\n",
    "        \"contenu\":\"Pouvez-vous tirer un Yi King sur ma décision de mettre mon potager au repos cette année ?\",\n",
    "        \"intention\":\"!yi\",\n",
    "    },\n",
    "    {\n",
    "        \"contenu\":\"Que dit le Yi King de mon idée de créer un archiviste artificiel ?\",\n",
    "        \"intention\":\"!yi\",\n",
    "    },\n",
    "    {\n",
    "        \"contenu\":\"Combien de litre de chlore dois-je ajouter quotidiennement à ma piscine de 80 m3 ?\",\n",
    "        \"intention\":\"!py\",\n",
    "    },\n",
    "    {\n",
    "        \"contenu\":\"Quelle est la probabilité de que le cadran de ma montre digitale forme un palindrome quand je la consulte ?\",\n",
    "        \"intention\":\"!py\",\n",
    "    },\n",
    "    {\n",
    "        \"contenu\":\"Quel est le volume d'une sphère de 30 cm de rayon ?\",\n",
    "        \"intention\":\"!py\",\n",
    "    },\n",
    "    {\n",
    "        \"contenu\":\"RDV dentiste demain à 13:00\",\n",
    "        \"intention\":\"!cal\",\n",
    "    },\n",
    "    {\n",
    "        \"contenu\":\"Réunion avec Michel le 20/10/2025 à 17:00\",\n",
    "        \"intention\":\"!cal\",\n",
    "    },\n",
    "    {\n",
    "        \"contenu\":\"Ne pas oublier la fête des mères la semaine prochaine\",\n",
    "        \"intention\":\"!cal\",\n",
    "    },\n",
    "    {\n",
    "        \"contenu\":\"Qui était Henri de Navarre ?\",\n",
    "        \"intention\":\"!inf\",\n",
    "    },\n",
    "    {\n",
    "        \"contenu\":\"Où se trouve le village de Couquêque ?\",\n",
    "        \"intention\":\"!inf\",\n",
    "    },\n",
    "    {\n",
    "        \"contenu\":\"A-t-on vraiment réfuté la théorie de la relativité ?\",\n",
    "        \"intention\":\"!inf\",\n",
    "    },\n",
    "{'contenu': \"Quelles sont les causes principales de la mortalité infantile en Afrique ?\", 'intention': '!inf'},\n",
    "{'contenu': 'Ajouter un événement pour le concert de musique classique le 20 décembre à 19h00.', 'intention': '!cal'},\n",
    "{'contenu': \"Écrivez un programme Python pour générer une liste de nombres premiers jusqu'à 100.\", 'intention': '!py'},\n",
    "{'contenu': 'Je souhaiterais consulter le Yi King pour obtenir des conseils sur ma décision de demander Gisèle en marriage.', 'intention': '!yi'},\n",
    "{'contenu': \"Quelles sont les principales théories sur l'origine de l'univers ?\", 'intention': '!inf'},\n",
    "{'contenu': 'Quelles sont les causes et conséquences de la dénatalité dans le monde ?', 'intention': '!inf'},\n",
    "{'contenu': \"Quelles sont les alternatives à l'agriculture intensive pour nourrir le même nombre de personnes ?\", 'intention': '!inf'},\n",
    "{'contenu': 'Ajouter un rappel pour le rendez-vous médical le 22 mai à 10h00.', 'intention': '!cal'},\n",
    "{'contenu': 'Quel est le processus de photosynthèse chez les plantes vertes ?', 'intention': '!inf'},\n",
    "{'contenu': \"Ajouter un rappel pour l'anniversaire de Julie le 22 septembre à 10h00.\", 'intention': '!cal'},\n",
    "{'contenu': \"Pourrais-tu réaliser un tirage du Yi King pour m'aider à comprendre ma situation amoureuse actuelle ?\", 'intention': '!yi'},\n",
    "{'contenu': 'Fixer une date pour la révision du projet le 22 avril à 10h.', 'intention': '!cal'},\n",
    "{'contenu': 'Programmer une formation en ligne sur la sécurité des données le 22 novembre à 10h00.', 'intention': '!cal'},\n",
    "{'contenu': \"Quelles sont les causes principales de la propagande écologiste ?\", 'intention': '!inf'},\n",
    "{'contenu': \"Quelle est la factorielle de 100 ?\", 'intention': '!py'},\n",
    "{'contenu': 'Fixer un rendez-vous médical pour le 20 octobre à 10h00.', 'intention': '!cal'},\n",
    "{'contenu': \"Envoyer un courriel à Albert pour lui demander dans combien de temps il pense achever le travail que je lui ai confié ?\", 'intention': '!py'},\n",
    "{'contenu': 'Programmer un rappel pour envoyer le rapport trimestriel le 30 juin à 10h.', 'intention': '!cal'},\n",
    "{'contenu': \"Ajouter une note pour rappeler l'anniversaire de mariage le 10 avril.\", 'intention': '!cal'},\n",
    "{'contenu': \"Quel est le volume d'une pyramide ?\", 'intention': '!py'},\n",
    "{'contenu': \"Quelle est l'origine et l'impact de la révolution industrielle sur l'économie européenne ?\", 'intention': '!inf'},\n",
    "{'contenu': 'Quelles sont les causes de la formation des trous noirs ?', 'intention': '!inf'},\n",
    "{'contenu': \"Je voudrais un tableau de la fréquence des mots du fichier attaché\", 'intention': '!py'},\n",
    "{'contenu': 'Valeurs moyennes de x et y dans le fichier attaché','intention': '!py'},\n",
    "{'contenu': 'Convertir 21° Fahrenheit en Celsius.','intention': '!py'},\n",
    "{'contenu': 'Convertir \"le petit Poucet\" en majuscules.','intention': '!py'},\n",
    "{'contenu': 'Calculez le produit des 10 premiers nombres premiers.', 'intention': '!py'},\n",
    "{'contenu': 'Calculez la moyenne arithmétique des nombres 10, 25 et 40.', 'intention': '!py'},\n",
    "{'contenu': \"Calculez le périmètre d'un rectangle de longueur 12 cm et de largeur 5 cm.\", 'intention': '!py'},\n",
    "{'contenu': 'Calculez la moyenne des températures enregistrées à Paris sur une période de 7 jours.', 'intention': '!py'},\n",
    "{'contenu': 'Calculez le produit des nombres pairs entre 1 et 20.', 'intention': '!py'},\n",
    "{'contenu': \"Quels sont les éléments clés de la théorie de l'évolution de Darwin ?\", 'intention': '!inf'},\n",
    "{'contenu': 'Quels sont les principaux mouvements artistiques du XXe siècle ?', 'intention': '!inf'},\n",
    "{'contenu': 'Calculez la somme des cubes des 10 premiers nombres entiers.', 'intention': '!py'},\n",
    "{'contenu': \"Quels sont les enjeux et défis de l'intelligence artificielle dans le domaine de la santé ?\", 'intention': '!inf'},\n",
    "{'contenu': 'Planifier une session de brainstorming pour le 10 décembre à 10h00.', 'intention': '!cal'},\n",
    "{'contenu': 'Quels étaient les événements majeurs de la Révolution française ?', 'intention': '!inf'},\n",
    "{'contenu': \"Que dit le Yi King à propos de ma décision de partir en voyage solo en Asie l'année prochaine ?\", 'intention': '!yi'},\n",
    "{'contenu': 'Quelles sont les innovations technologiques majeures du 21ème siècle ?', 'intention': '!inf'},\n",
    "{'contenu': \"Que dit le Yi King au sujet de ma décision d'étudier à l'étranger l'année prochaine ?\", 'intention': '!yi'},\n",
    "{'contenu': 'Quels ont été les événements majeurs de la révolution française ?', 'intention': '!inf'},\n",
    "{'contenu': 'Quelle est la signification du phénomène de la super lune ?', 'intention': '!inf'},\n",
    "{'contenu': 'Quels étaient les événements majeurs de la révolution industrielle ?', 'intention': '!inf'},\n",
    "{'contenu': 'Quels sont les événements majeurs de la Révolution française ?', 'intention': '!inf'},\n",
    "{'contenu': 'Calculez le produit des 10 premiers nombres pairs.', 'intention': '!py'},\n",
    "{'contenu': 'Que dit le Yi King à propos de ma décision de lancer un projet artistique cette année ?', 'intention': '!yi'},\n",
    "{'contenu': 'Que dit le Yi King sur ma décision de changer de carrière pour devenir artiste ?', 'intention': '!yi'},\n",
    "{'contenu': 'Quelles sont les différentes étapes du processus de fermentation du vin ?', 'intention': '!inf'},\n",
    "{'contenu': 'Calculez la moyenne des températures de la semaine à partir des valeurs suivantes : 22, 24, 19, 21, 23, 20, 18.', 'intention': '!py'},\n",
    "{'contenu': \"Que dit le Yi King à propos de mon choix d'accepter une offre d'emploi dans une nouvelle ville ?\", 'intention': '!yi'},\n",
    "{'contenu': 'Quels sont les événements clés de la Guerre de Cent Ans ?', 'intention': '!inf'},\n",
    "{'contenu': 'Quels sont les événements marquants de la révolution industrielle du XIXe siècle ?', 'intention': '!inf'},\n",
    "{'contenu': 'Planifier une rencontre avec le consultant économique le 12 décembre à 10h00.', 'intention': '!cal'},\n",
    "{'contenu': 'Calculez le produit des nombres de 1 à 10.', 'intention': '!py'},\n",
    "{'contenu': 'Quels ont été les événements clés de la Révolution française ?', 'intention': '!inf'},\n",
    "{'contenu': 'Organiser une réunion avec le service marketing le 20 novembre à 10h00.', 'intention': '!cal'},\n",
    "{'contenu': 'Que dit le Yi King à propos de ma décision de changer de carrière et de devenir chef cuisinier ?', 'intention': '!yi'},\n",
    "{'contenu': \"Calculez le perimètre d'un rectangle de 8 cm de longueur et 5 cm de largeur.\", 'intention': '!py'},\n",
    "{'contenu': 'Quels sont les événements clés de la Révolution française ?', 'intention': '!inf'},\n",
    "{'contenu': 'Comment la révolution industrielle a-t-elle modifié la société du 19ème siècle ?', 'intention': '!inf'},\n",
    "{'contenu': 'Prévoir une séance de brainstorming le 12 décembre à 10h00.', 'intention': '!cal'},\n",
    "{'contenu': 'Réservez une séance de brainstorming pour le 12 décembre à 10h00.', 'intention': '!cal'},\n",
    "{'contenu': 'Planifier un rendez-vous chez le médecin le 20 décembre à 10h00.', 'intention': '!cal'},\n",
    "{'contenu': 'Que dit le Yi King à propos de ma décision de changer de carrière pour devenir écrivain ?', 'intention': '!yi'},\n",
    "{'contenu': 'Comment la révolution industrielle a-t-elle transformé les sociétés européennes ?', 'intention': '!inf'},\n",
    "{'contenu': \"Planifier une réunion avec l'équipe marketing le 10 décembre à 11h00.\", 'intention': '!cal'},\n",
    "{'contenu': \"Calculez le volume d'un cylindre avec un rayon de 5 cm et une hauteur de 10 cm.\", 'intention': '!py'},\n",
    "{'contenu': 'Quel impact la révolution industrielle a-t-elle eu sur la société européenne ?', 'intention': '!inf'},\n",
    "{'contenu': \"Calculez la valeur de Pi à l'aide de la méthode de Monte Carlo avec 10000 itérations.\", 'intention': '!py'},\n",
    "{'contenu': \"Créer un événement pour l'anniversaire de Marie le 20 décembre à 19h00.\", 'intention': '!cal'},\n",
    "{'contenu': 'Que dit le Yi King à propos de la possibilité de commencer des études de musique cette année ?', 'intention': '!yi'},\n",
    "{'contenu': 'Que dit le Yi King à propos de ma décision de changer de carrière et devenir écrivain ?', 'intention': '!yi'},\n",
    "{'contenu': 'Quels étaient les principaux événements de la Révolution française ?', 'intention': '!inf'},\n",
    "{'contenu': 'Que dit le Yi King à propos de ma décision de changer de carrière pour devenir écrivain ?', 'intention': '!yi'},\n",
    "{'contenu': 'Que dit le Yi King à propos de ma décision de retourner aux études pour obtenir un diplôme en psychologie ?', 'intention': '!yi'},\n",
    "{'contenu': \"Que dit le Yi King à propos de ma décision d'entreprendre des études supérieures à l'étranger ?\", 'intention': '!yi'},\n",
    "{'contenu': 'Quelle est la signification historique de la Route de la Soie ?', 'intention': '!inf'},\n",
    "{'contenu': 'Calculez le produit des 10 premiers nombres premiers.', 'intention': '!py'},\n",
    "{'contenu': 'Calculez le produit des 10 premiers nombres premiers.', 'intention': '!py'},\n",
    "{'contenu': 'Que dit le Yi King à propos de ma décision de commencer des études en économie cette année ?', 'intention': '!yi'},\n",
    "{'contenu': 'Prévoir un rendez-vous avec le comptable le 10 décembre à 10h00.', 'intention': '!cal'},\n",
    "{'contenu': \"Que dit le Yi King sur le choix de reprendre mes études universitaires l'année prochaine ?\", 'intention': '!yi'},\n",
    "{'contenu': 'Programmer une mise à jour pour la présentation du projet le 20 avril à 10h00.', 'intention': '!cal'},\n",
    "{'contenu': \"Calculez le volume d'un cylindre avec un rayon de 5 cm et une hauteur de 10 cm.\", 'intention': '!py'},\n",
    "{'contenu': 'Programmer un rendez-vous de suivi médical le 10 décembre à 11h00.', 'intention': '!cal'},\n",
    "{'contenu': \"Quelles sont les théories principales sur les causes de l'extinction des dinosaures ?\", 'intention': '!inf'},\n",
    "{'contenu': 'Quelles sont les théories principales sur la formation de la lune ?', 'intention': '!inf'},\n",
    "{'contenu': 'Que dit le Yi King à propos de la possibilité de changer de carrière cette année ?', 'intention': '!yi'},\n",
    "{'contenu': 'Calculez le produit des 10 premiers nombres premiers.', 'intention': '!py'},\n",
    "{'contenu': 'Calculez le produit des 10 premiers nombres pairs.', 'intention': '!py'},\n",
    "{'contenu': 'Ajoutez un événement pour le 10 décembre à 19h00 : dîner avec les collègues.', 'intention': '!cal'},\n",
    "{'contenu': 'Planifier une réunion de suivi de projet pour le 22 novembre à 10h00.', 'intention': '!cal'},\n",
    "{'contenu': 'Fixer un rendez-vous pour un entretien de performance le 10 décembre à 11h00.', 'intention': '!cal'},\n",
    "{'contenu': 'Prévoir une session de brainstorming le 20 novembre à 10h00.', 'intention': '!cal'},\n",
    "{'contenu': \"Calculez l'intégrale d'une fonction quadratique x^2 entre 0 et 10.\", 'intention': '!py'},\n",
    "{'contenu': \"Planifier une rencontre avec l'équipe marketing le 20 novembre à 10h00.\", 'intention': '!cal'},\n",
    "{'contenu': 'Planifier un rendez-vous avec le client le 22 mai à 10h00.', 'intention': '!cal'},\n",
    "{'contenu': 'Que dit le Yi King à propos de ma décision de changer de carrière et de devenir écrivain ?', 'intention': '!yi'},\n",
    "{'contenu': \"Créez un graphique linéaire représentant l'évolution des ventes mensuelles sur un an.\", 'intention': '!py'},\n",
    "{'contenu': 'Pouvez-vous effectuer un tirage du Yi King à propos de ma décision de commencer une formation en ligne pour améliorer mes compétences professionnelles ?', 'intention': '!yi'},\n",
    "{'contenu': \"Quelle est l'influence de la philosophie des Lumières sur les révolutions française et américaine ?\", 'intention': '!inf'},\n",
    "{'contenu': 'Quels sont les événements marquants de la Guerre de Cent Ans ?', 'intention': '!inf'},\n",
    "{'contenu': \"Pouvez-vous faire un tirage Yi King à propos de ma décision de lancer un projet d'écriture créative ?\", 'intention': '!yi'},\n",
    "{'contenu': \"Que dit le Yi King à propos de ma décision d'écrire un livre sur mes voyages en Asie ?\", 'intention': '!yi'},\n",
    "{'contenu': 'Calculez le produit des 10 premiers nombres premiers.', 'intention': '!py'},\n",
    "{'contenu': 'Quels sont les événements majeurs de la Révolution française ?', 'intention': '!inf'},\n",
    "{'contenu': 'Calculez la somme des carrés des 20 premiers nombres impairs.', 'intention': '!py'},\n",
    "{'contenu': 'Quels sont les événements marquants de la révolution industrielle en Angleterre ?', 'intention': '!inf'},\n",
    "{'contenu': \"Calculez l'aire d'un triangle avec une base de 10 cm et une hauteur de 5 cm.\", 'intention': '!py'},\n",
    "{'contenu': 'Générez une séquence aléatoire de 10 chiffres.', 'intention': '!py'},\n",
    "{'contenu': 'Que dit le Yi King à propos de ma décision de changer de carrière pour devenir écrivain ?', 'intention': '!yi'},\n",
    "{'contenu': 'Calculez la moyenne des valeurs dans la liste [23, 56, 78, 34, 89, 12].', 'intention': '!py'},\n",
    "{'contenu': 'Calculez le produit des chiffres de 123456.', 'intention': '!py'},\n",
    "{'contenu': 'Programmer une session de brainstorming le 20 novembre à 10h00.', 'intention': '!cal'},\n",
    "{'contenu': 'Quelles étaient les causes et les conséquences de la Révolution industrielle en Angleterre ?', 'intention': '!inf'},\n",
    "{'contenu': 'Calculez le produit des 10 premiers nombres premiers.', 'intention': '!py'},\n",
    "{'contenu': 'Quelles ont été les principales innovations technologiques de la Révolution Industrielle ?', 'intention': '!inf'},\n",
    "{'contenu': 'Comment la machine à vapeur a-t-elle influencé la révolution industrielle ?', 'intention': '!inf'},\n",
    "{'contenu': 'Calculez le produit des chiffres de 123456.', 'intention': '!py'},\n",
    "{'contenu': 'Programmer un appel avec le fournisseur le 20 novembre à 10h00.', 'intention': '!cal'},\n",
    "{'contenu': \"Que dit le Yi King à propos de ma décision d'apprendre une nouvelle langue cette année ?\", 'intention': '!yi'},\n",
    "\n",
    "\n",
    "]"
   ]
  },
  {
   "cell_type": "code",
   "execution_count": 8,
   "id": "863e0234-13cc-4196-ad01-27dce21939ec",
   "metadata": {},
   "outputs": [
    {
     "data": {
      "text/plain": [
       "['Combien de litre de chlore dois-je ajouter quotidiennement à ma piscine de 80 m3 ?',\n",
       " 'Quelle est la probabilité de que le cadran de ma montre digitale forme un palindrome quand je la consulte ?',\n",
       " \"Quel est le volume d'une sphère de 30 cm de rayon ?\",\n",
       " \"Écrivez un programme Python pour générer une liste de nombres premiers jusqu'à 100.\",\n",
       " 'Quelle est la factorielle de 100 ?',\n",
       " 'Envoyer un courriel à Albert pour lui demander dans combien de temps il pense achever le travail que je lui ai confié ?',\n",
       " \"Quel est le volume d'une pyramide ?\",\n",
       " 'Je voudrais un tableau de la fréquence des mots du fichier attaché',\n",
       " 'Valeurs moyennes de x et y dans le fichier attaché',\n",
       " 'Convertir 21° Fahrenheit en Celsius.',\n",
       " 'Convertir \"le petit Poucet\" en majuscules.',\n",
       " 'Calculez le produit des 10 premiers nombres premiers.',\n",
       " 'Calculez la moyenne arithmétique des nombres 10, 25 et 40.',\n",
       " \"Calculez le périmètre d'un rectangle de longueur 12 cm et de largeur 5 cm.\",\n",
       " 'Calculez la moyenne des températures enregistrées à Paris sur une période de 7 jours.',\n",
       " 'Calculez le produit des nombres pairs entre 1 et 20.',\n",
       " 'Calculez la somme des cubes des 10 premiers nombres entiers.',\n",
       " 'Calculez le produit des 10 premiers nombres pairs.',\n",
       " 'Calculez la moyenne des températures de la semaine à partir des valeurs suivantes : 22, 24, 19, 21, 23, 20, 18.',\n",
       " 'Calculez le produit des nombres de 1 à 10.',\n",
       " \"Calculez le perimètre d'un rectangle de 8 cm de longueur et 5 cm de largeur.\",\n",
       " \"Calculez le volume d'un cylindre avec un rayon de 5 cm et une hauteur de 10 cm.\",\n",
       " \"Calculez la valeur de Pi à l'aide de la méthode de Monte Carlo avec 10000 itérations.\",\n",
       " 'Calculez le produit des 10 premiers nombres premiers.',\n",
       " 'Calculez le produit des 10 premiers nombres premiers.',\n",
       " \"Calculez le volume d'un cylindre avec un rayon de 5 cm et une hauteur de 10 cm.\",\n",
       " 'Calculez le produit des 10 premiers nombres premiers.',\n",
       " 'Calculez le produit des 10 premiers nombres pairs.',\n",
       " \"Calculez l'intégrale d'une fonction quadratique x^2 entre 0 et 10.\",\n",
       " \"Créez un graphique linéaire représentant l'évolution des ventes mensuelles sur un an.\",\n",
       " 'Calculez le produit des 10 premiers nombres premiers.',\n",
       " 'Calculez la somme des carrés des 20 premiers nombres impairs.',\n",
       " \"Calculez l'aire d'un triangle avec une base de 10 cm et une hauteur de 5 cm.\",\n",
       " 'Générez une séquence aléatoire de 10 chiffres.',\n",
       " 'Calculez la moyenne des valeurs dans la liste [23, 56, 78, 34, 89, 12].',\n",
       " 'Calculez le produit des chiffres de 123456.',\n",
       " 'Calculez le produit des 10 premiers nombres premiers.',\n",
       " 'Calculez le produit des chiffres de 123456.']"
      ]
     },
     "execution_count": 8,
     "metadata": {},
     "output_type": "execute_result"
    }
   ],
   "source": [
    "contenu_py = [item[\"contenu\"] for item in examples if item[\"intention\"] == \"!py\"]\n",
    "contenu_py"
   ]
  },
  {
   "cell_type": "code",
   "execution_count": 9,
   "id": "c26b4a38-e3bd-438a-b3db-2f99b689cad6",
   "metadata": {},
   "outputs": [],
   "source": [
    "intentions = [\n",
    "\"!yi\", #Tirage du Yi King\n",
    "\"!py\", #Calculs ou scripts Python\n",
    "\"!cal\", #Mise à jour du calendrier\n",
    "\"!inf\", #Requêtes d’information\n",
    "#\"!red\", #Archivage de notes\n",
    "]"
   ]
  },
  {
   "cell_type": "code",
   "execution_count": 10,
   "id": "9b880900-6508-4fe3-9e78-a4d60a4753ff",
   "metadata": {},
   "outputs": [],
   "source": [
    "# 🧠 Cellule 3 : Signature de génération d’une note\n",
    "class GenerateNote(dspy.Signature):\n",
    "    \"\"\"Génère un message dont le contenu exprime l'intention dont le code est passé en paramètre, ce message ne doit pas être répété\"\"\"\n",
    "    \n",
    "    intention:str = dspy.InputField(desc=\"Quelle intention est-elle contenue dans un message : '!yi' pour une demande de tirage du Yi King, '!py' pour un appel de programme python, '!cal' pour une mise à jour du calendrier, '!inf' pour une recherche d'information dans la base locale,\")\n",
    "    random_noise = dspy.InputField(desc=\"Bruit aléatoire pour diversité\", default=\"\")  # hack\n",
    "    contenu:str = dspy.OutputField(desc=\"\"\"\n",
    "    Contenu du message à générer, il doit exprimer l'intention dont le code est fourni en entrée, \n",
    "    - Dans le cas de '!py' ce message doit être une formulation directe, par exemple :'calculez le volume de la pyramide de Gizeh',\n",
    "      privilégier l'appel à des programmes existant, par exemple : 'calculez la factorielle de 15' plutôt que : 'écrivez un programme calculant la factorille d'un nombre donné', \n",
    "    - Eviter les questions liées à l'écologie pour '!inf',\n",
    "    - Pour !yi posez des questions précises, par exemple : 'Que dit le Yi King à propos de ma décision de démissionner \n",
    "      pour rejoindre Albert dans son projet de startup ?' plutôt que 'Que dit le Yi King de ma situation professionnelle ?'\n",
    "    \"\"\")\n",
    "\n",
    "class NoteGenerator(dspy.Module):\n",
    "    def __init__(self):\n",
    "        super().__init__()\n",
    "        self.generate = dspy.Predict(GenerateNote)\n",
    "    \n",
    "    def forward(self, intention):\n",
    "        result = self.generate(intention=intention, random_noise=str(uuid.uuid4()))\n",
    "        print(f\"{intention}\")\n",
    "        return {\n",
    "            \"contenu\": result.contenu,\n",
    "        }"
   ]
  },
  {
   "cell_type": "code",
   "execution_count": 11,
   "id": "d7084ae6-6bae-465e-98f8-2065c8d7dc54",
   "metadata": {
    "scrolled": true
   },
   "outputs": [
    {
     "name": "stdout",
     "output_type": "stream",
     "text": [
      "132\n"
     ]
    },
    {
     "name": "stderr",
     "output_type": "stream",
     "text": [
      "  0%|          | 0/132 [00:00<?, ?it/s]"
     ]
    },
    {
     "name": "stdout",
     "output_type": "stream",
     "text": [
      "!yi\n"
     ]
    },
    {
     "name": "stderr",
     "output_type": "stream",
     "text": [
      "  2%|▏         | 2/132 [00:04<04:22,  2.02s/it]"
     ]
    },
    {
     "name": "stdout",
     "output_type": "stream",
     "text": [
      "!yi\n"
     ]
    },
    {
     "name": "stderr",
     "output_type": "stream",
     "text": [
      "  2%|▏         | 3/132 [00:05<03:42,  1.72s/it]"
     ]
    },
    {
     "name": "stdout",
     "output_type": "stream",
     "text": [
      "!py\n"
     ]
    },
    {
     "name": "stderr",
     "output_type": "stream",
     "text": [
      "  3%|▎         | 4/132 [00:06<03:20,  1.57s/it]"
     ]
    },
    {
     "name": "stdout",
     "output_type": "stream",
     "text": [
      "!py\n"
     ]
    },
    {
     "name": "stderr",
     "output_type": "stream",
     "text": [
      "  4%|▍         | 5/132 [00:08<03:14,  1.53s/it]"
     ]
    },
    {
     "name": "stdout",
     "output_type": "stream",
     "text": [
      "!py\n"
     ]
    },
    {
     "name": "stderr",
     "output_type": "stream",
     "text": [
      "  5%|▍         | 6/132 [00:09<03:07,  1.48s/it]"
     ]
    },
    {
     "name": "stdout",
     "output_type": "stream",
     "text": [
      "!cal\n"
     ]
    },
    {
     "name": "stderr",
     "output_type": "stream",
     "text": [
      "  5%|▌         | 7/132 [00:11<03:00,  1.45s/it]"
     ]
    },
    {
     "name": "stdout",
     "output_type": "stream",
     "text": [
      "!cal\n"
     ]
    },
    {
     "name": "stderr",
     "output_type": "stream",
     "text": [
      "  6%|▌         | 8/132 [00:12<03:10,  1.54s/it]"
     ]
    },
    {
     "name": "stdout",
     "output_type": "stream",
     "text": [
      "!cal\n"
     ]
    },
    {
     "name": "stderr",
     "output_type": "stream",
     "text": [
      "  7%|▋         | 9/132 [00:14<03:06,  1.52s/it]"
     ]
    },
    {
     "name": "stdout",
     "output_type": "stream",
     "text": [
      "!inf\n"
     ]
    },
    {
     "name": "stderr",
     "output_type": "stream",
     "text": [
      "  8%|▊         | 10/132 [00:15<03:07,  1.54s/it]"
     ]
    },
    {
     "name": "stdout",
     "output_type": "stream",
     "text": [
      "!inf\n"
     ]
    },
    {
     "name": "stderr",
     "output_type": "stream",
     "text": [
      "  8%|▊         | 11/132 [00:17<03:09,  1.57s/it]"
     ]
    },
    {
     "name": "stdout",
     "output_type": "stream",
     "text": [
      "!inf\n"
     ]
    },
    {
     "name": "stderr",
     "output_type": "stream",
     "text": [
      "  9%|▉         | 12/132 [00:19<03:35,  1.80s/it]"
     ]
    },
    {
     "name": "stdout",
     "output_type": "stream",
     "text": [
      "!inf\n"
     ]
    },
    {
     "name": "stderr",
     "output_type": "stream",
     "text": [
      " 10%|▉         | 13/132 [00:21<03:22,  1.70s/it]"
     ]
    },
    {
     "name": "stdout",
     "output_type": "stream",
     "text": [
      "!cal\n"
     ]
    },
    {
     "name": "stderr",
     "output_type": "stream",
     "text": [
      " 11%|█         | 14/132 [00:22<03:09,  1.61s/it]"
     ]
    },
    {
     "name": "stdout",
     "output_type": "stream",
     "text": [
      "!py\n"
     ]
    },
    {
     "name": "stderr",
     "output_type": "stream",
     "text": [
      " 11%|█▏        | 15/132 [00:24<03:01,  1.55s/it]"
     ]
    },
    {
     "name": "stdout",
     "output_type": "stream",
     "text": [
      "!yi\n"
     ]
    },
    {
     "name": "stderr",
     "output_type": "stream",
     "text": [
      " 12%|█▏        | 16/132 [00:25<02:54,  1.50s/it]"
     ]
    },
    {
     "name": "stdout",
     "output_type": "stream",
     "text": [
      "!inf\n"
     ]
    },
    {
     "name": "stderr",
     "output_type": "stream",
     "text": [
      " 13%|█▎        | 17/132 [00:26<02:48,  1.46s/it]"
     ]
    },
    {
     "name": "stdout",
     "output_type": "stream",
     "text": [
      "!inf\n"
     ]
    },
    {
     "name": "stderr",
     "output_type": "stream",
     "text": [
      " 14%|█▎        | 18/132 [00:28<02:45,  1.45s/it]"
     ]
    },
    {
     "name": "stdout",
     "output_type": "stream",
     "text": [
      "!inf\n"
     ]
    },
    {
     "name": "stderr",
     "output_type": "stream",
     "text": [
      " 14%|█▍        | 19/132 [00:30<03:04,  1.64s/it]"
     ]
    },
    {
     "name": "stdout",
     "output_type": "stream",
     "text": [
      "!cal\n"
     ]
    },
    {
     "name": "stderr",
     "output_type": "stream",
     "text": [
      " 15%|█▌        | 20/132 [00:31<02:57,  1.58s/it]"
     ]
    },
    {
     "name": "stdout",
     "output_type": "stream",
     "text": [
      "!inf\n"
     ]
    },
    {
     "name": "stderr",
     "output_type": "stream",
     "text": [
      " 16%|█▌        | 21/132 [00:33<02:55,  1.58s/it]"
     ]
    },
    {
     "name": "stdout",
     "output_type": "stream",
     "text": [
      "!cal\n"
     ]
    },
    {
     "name": "stderr",
     "output_type": "stream",
     "text": [
      " 17%|█▋        | 22/132 [00:38<04:44,  2.59s/it]"
     ]
    },
    {
     "name": "stdout",
     "output_type": "stream",
     "text": [
      "!yi\n"
     ]
    },
    {
     "name": "stderr",
     "output_type": "stream",
     "text": [
      " 17%|█▋        | 23/132 [00:42<05:16,  2.91s/it]"
     ]
    },
    {
     "name": "stdout",
     "output_type": "stream",
     "text": [
      "!cal\n"
     ]
    },
    {
     "name": "stderr",
     "output_type": "stream",
     "text": [
      " 18%|█▊        | 24/132 [00:46<05:53,  3.27s/it]"
     ]
    },
    {
     "name": "stdout",
     "output_type": "stream",
     "text": [
      "!cal\n"
     ]
    },
    {
     "name": "stderr",
     "output_type": "stream",
     "text": [
      " 19%|█▉        | 25/132 [00:50<06:31,  3.66s/it]"
     ]
    },
    {
     "name": "stdout",
     "output_type": "stream",
     "text": [
      "!inf\n"
     ]
    },
    {
     "name": "stderr",
     "output_type": "stream",
     "text": [
      " 20%|█▉        | 26/132 [00:54<06:32,  3.70s/it]"
     ]
    },
    {
     "name": "stdout",
     "output_type": "stream",
     "text": [
      "!py\n"
     ]
    },
    {
     "name": "stderr",
     "output_type": "stream",
     "text": [
      " 20%|██        | 27/132 [00:58<06:49,  3.90s/it]"
     ]
    },
    {
     "name": "stdout",
     "output_type": "stream",
     "text": [
      "!cal\n"
     ]
    },
    {
     "name": "stderr",
     "output_type": "stream",
     "text": [
      " 21%|██        | 28/132 [01:03<07:04,  4.08s/it]"
     ]
    },
    {
     "name": "stdout",
     "output_type": "stream",
     "text": [
      "!py\n"
     ]
    },
    {
     "name": "stderr",
     "output_type": "stream",
     "text": [
      " 22%|██▏       | 29/132 [01:07<06:53,  4.01s/it]"
     ]
    },
    {
     "name": "stdout",
     "output_type": "stream",
     "text": [
      "!cal\n"
     ]
    },
    {
     "name": "stderr",
     "output_type": "stream",
     "text": [
      " 23%|██▎       | 30/132 [01:11<06:58,  4.11s/it]"
     ]
    },
    {
     "name": "stdout",
     "output_type": "stream",
     "text": [
      "!cal\n"
     ]
    },
    {
     "name": "stderr",
     "output_type": "stream",
     "text": [
      " 23%|██▎       | 31/132 [01:15<06:42,  3.98s/it]"
     ]
    },
    {
     "name": "stdout",
     "output_type": "stream",
     "text": [
      "!py\n"
     ]
    },
    {
     "name": "stderr",
     "output_type": "stream",
     "text": [
      " 24%|██▍       | 32/132 [01:20<07:00,  4.20s/it]"
     ]
    },
    {
     "name": "stdout",
     "output_type": "stream",
     "text": [
      "!inf\n"
     ]
    },
    {
     "name": "stderr",
     "output_type": "stream",
     "text": [
      " 25%|██▌       | 33/132 [01:23<06:38,  4.03s/it]"
     ]
    },
    {
     "name": "stdout",
     "output_type": "stream",
     "text": [
      "!inf\n"
     ]
    },
    {
     "name": "stderr",
     "output_type": "stream",
     "text": [
      " 26%|██▌       | 34/132 [01:28<06:50,  4.19s/it]"
     ]
    },
    {
     "name": "stdout",
     "output_type": "stream",
     "text": [
      "!py\n"
     ]
    },
    {
     "name": "stderr",
     "output_type": "stream",
     "text": [
      " 27%|██▋       | 35/132 [01:32<06:42,  4.15s/it]"
     ]
    },
    {
     "name": "stdout",
     "output_type": "stream",
     "text": [
      "!py\n"
     ]
    },
    {
     "name": "stderr",
     "output_type": "stream",
     "text": [
      " 27%|██▋       | 36/132 [01:36<06:32,  4.09s/it]"
     ]
    },
    {
     "name": "stdout",
     "output_type": "stream",
     "text": [
      "!py\n"
     ]
    },
    {
     "name": "stderr",
     "output_type": "stream",
     "text": [
      " 28%|██▊       | 37/132 [01:40<06:37,  4.19s/it]"
     ]
    },
    {
     "name": "stdout",
     "output_type": "stream",
     "text": [
      "!py\n"
     ]
    },
    {
     "name": "stderr",
     "output_type": "stream",
     "text": [
      " 29%|██▉       | 38/132 [01:45<06:42,  4.28s/it]"
     ]
    },
    {
     "name": "stdout",
     "output_type": "stream",
     "text": [
      "!py\n"
     ]
    },
    {
     "name": "stderr",
     "output_type": "stream",
     "text": [
      " 30%|██▉       | 39/132 [01:48<06:17,  4.06s/it]"
     ]
    },
    {
     "name": "stdout",
     "output_type": "stream",
     "text": [
      "!py\n"
     ]
    },
    {
     "name": "stderr",
     "output_type": "stream",
     "text": [
      " 30%|███       | 40/132 [01:52<06:14,  4.07s/it]"
     ]
    },
    {
     "name": "stdout",
     "output_type": "stream",
     "text": [
      "!py\n"
     ]
    },
    {
     "name": "stderr",
     "output_type": "stream",
     "text": [
      " 31%|███       | 41/132 [01:57<06:21,  4.19s/it]"
     ]
    },
    {
     "name": "stdout",
     "output_type": "stream",
     "text": [
      "!py\n"
     ]
    },
    {
     "name": "stderr",
     "output_type": "stream",
     "text": [
      " 32%|███▏      | 42/132 [02:01<06:19,  4.22s/it]"
     ]
    },
    {
     "name": "stdout",
     "output_type": "stream",
     "text": [
      "!py\n"
     ]
    },
    {
     "name": "stderr",
     "output_type": "stream",
     "text": [
      " 33%|███▎      | 43/132 [02:05<06:21,  4.28s/it]"
     ]
    },
    {
     "name": "stdout",
     "output_type": "stream",
     "text": [
      "!inf\n"
     ]
    },
    {
     "name": "stderr",
     "output_type": "stream",
     "text": [
      " 33%|███▎      | 44/132 [02:09<05:59,  4.09s/it]"
     ]
    },
    {
     "name": "stdout",
     "output_type": "stream",
     "text": [
      "!inf\n"
     ]
    },
    {
     "name": "stderr",
     "output_type": "stream",
     "text": [
      " 34%|███▍      | 45/132 [02:14<06:10,  4.26s/it]"
     ]
    },
    {
     "name": "stdout",
     "output_type": "stream",
     "text": [
      "!py\n"
     ]
    },
    {
     "name": "stderr",
     "output_type": "stream",
     "text": [
      " 35%|███▍      | 46/132 [02:18<05:54,  4.12s/it]"
     ]
    },
    {
     "name": "stdout",
     "output_type": "stream",
     "text": [
      "!inf\n"
     ]
    },
    {
     "name": "stderr",
     "output_type": "stream",
     "text": [
      " 36%|███▌      | 47/132 [02:22<05:55,  4.18s/it]"
     ]
    },
    {
     "name": "stdout",
     "output_type": "stream",
     "text": [
      "!cal\n"
     ]
    },
    {
     "name": "stderr",
     "output_type": "stream",
     "text": [
      " 36%|███▋      | 48/132 [02:26<06:00,  4.29s/it]"
     ]
    },
    {
     "name": "stdout",
     "output_type": "stream",
     "text": [
      "!inf\n"
     ]
    },
    {
     "name": "stderr",
     "output_type": "stream",
     "text": [
      " 37%|███▋      | 49/132 [02:30<05:41,  4.12s/it]"
     ]
    },
    {
     "name": "stdout",
     "output_type": "stream",
     "text": [
      "!yi\n"
     ]
    },
    {
     "name": "stderr",
     "output_type": "stream",
     "text": [
      " 38%|███▊      | 50/132 [02:35<06:02,  4.42s/it]"
     ]
    },
    {
     "name": "stdout",
     "output_type": "stream",
     "text": [
      "!inf\n"
     ]
    },
    {
     "name": "stderr",
     "output_type": "stream",
     "text": [
      " 39%|███▊      | 51/132 [02:38<05:27,  4.05s/it]"
     ]
    },
    {
     "name": "stdout",
     "output_type": "stream",
     "text": [
      "!yi\n"
     ]
    },
    {
     "name": "stderr",
     "output_type": "stream",
     "text": [
      " 39%|███▉      | 52/132 [02:43<05:27,  4.09s/it]"
     ]
    },
    {
     "name": "stdout",
     "output_type": "stream",
     "text": [
      "!inf\n"
     ]
    },
    {
     "name": "stderr",
     "output_type": "stream",
     "text": [
      " 40%|████      | 53/132 [02:47<05:25,  4.12s/it]"
     ]
    },
    {
     "name": "stdout",
     "output_type": "stream",
     "text": [
      "!inf\n"
     ]
    },
    {
     "name": "stderr",
     "output_type": "stream",
     "text": [
      " 41%|████      | 54/132 [02:51<05:30,  4.24s/it]"
     ]
    },
    {
     "name": "stdout",
     "output_type": "stream",
     "text": [
      "!inf\n"
     ]
    },
    {
     "name": "stderr",
     "output_type": "stream",
     "text": [
      " 42%|████▏     | 55/132 [02:55<05:17,  4.12s/it]"
     ]
    },
    {
     "name": "stdout",
     "output_type": "stream",
     "text": [
      "!inf\n"
     ]
    },
    {
     "name": "stderr",
     "output_type": "stream",
     "text": [
      " 42%|████▏     | 56/132 [03:00<05:30,  4.35s/it]"
     ]
    },
    {
     "name": "stdout",
     "output_type": "stream",
     "text": [
      "!py\n"
     ]
    },
    {
     "name": "stderr",
     "output_type": "stream",
     "text": [
      " 43%|████▎     | 57/132 [03:04<05:08,  4.12s/it]"
     ]
    },
    {
     "name": "stdout",
     "output_type": "stream",
     "text": [
      "!yi\n"
     ]
    },
    {
     "name": "stderr",
     "output_type": "stream",
     "text": [
      " 44%|████▍     | 58/132 [03:08<05:01,  4.07s/it]"
     ]
    },
    {
     "name": "stdout",
     "output_type": "stream",
     "text": [
      "!yi\n"
     ]
    },
    {
     "name": "stderr",
     "output_type": "stream",
     "text": [
      " 45%|████▍     | 59/132 [03:13<05:15,  4.33s/it]"
     ]
    },
    {
     "name": "stdout",
     "output_type": "stream",
     "text": [
      "!inf\n"
     ]
    },
    {
     "name": "stderr",
     "output_type": "stream",
     "text": [
      " 45%|████▌     | 60/132 [03:16<04:51,  4.05s/it]"
     ]
    },
    {
     "name": "stdout",
     "output_type": "stream",
     "text": [
      "!py\n"
     ]
    },
    {
     "name": "stderr",
     "output_type": "stream",
     "text": [
      " 46%|████▌     | 61/132 [03:21<05:00,  4.23s/it]"
     ]
    },
    {
     "name": "stdout",
     "output_type": "stream",
     "text": [
      "!yi\n"
     ]
    },
    {
     "name": "stderr",
     "output_type": "stream",
     "text": [
      " 47%|████▋     | 62/132 [03:24<04:43,  4.05s/it]"
     ]
    },
    {
     "name": "stdout",
     "output_type": "stream",
     "text": [
      "!inf\n"
     ]
    },
    {
     "name": "stderr",
     "output_type": "stream",
     "text": [
      " 48%|████▊     | 63/132 [03:29<04:49,  4.19s/it]"
     ]
    },
    {
     "name": "stdout",
     "output_type": "stream",
     "text": [
      "!inf\n"
     ]
    },
    {
     "name": "stderr",
     "output_type": "stream",
     "text": [
      " 48%|████▊     | 64/132 [03:33<04:39,  4.11s/it]"
     ]
    },
    {
     "name": "stdout",
     "output_type": "stream",
     "text": [
      "!cal\n"
     ]
    },
    {
     "name": "stderr",
     "output_type": "stream",
     "text": [
      " 49%|████▉     | 65/132 [03:37<04:40,  4.18s/it]"
     ]
    },
    {
     "name": "stdout",
     "output_type": "stream",
     "text": [
      "!py\n"
     ]
    },
    {
     "name": "stderr",
     "output_type": "stream",
     "text": [
      " 50%|█████     | 66/132 [03:41<04:28,  4.07s/it]"
     ]
    },
    {
     "name": "stdout",
     "output_type": "stream",
     "text": [
      "!inf\n"
     ]
    },
    {
     "name": "stderr",
     "output_type": "stream",
     "text": [
      " 51%|█████     | 67/132 [03:45<04:29,  4.15s/it]"
     ]
    },
    {
     "name": "stdout",
     "output_type": "stream",
     "text": [
      "!cal\n"
     ]
    },
    {
     "name": "stderr",
     "output_type": "stream",
     "text": [
      " 52%|█████▏    | 68/132 [03:49<04:27,  4.19s/it]"
     ]
    },
    {
     "name": "stdout",
     "output_type": "stream",
     "text": [
      "!yi\n"
     ]
    },
    {
     "name": "stderr",
     "output_type": "stream",
     "text": [
      " 52%|█████▏    | 69/132 [03:54<04:21,  4.15s/it]"
     ]
    },
    {
     "name": "stdout",
     "output_type": "stream",
     "text": [
      "!py\n"
     ]
    },
    {
     "name": "stderr",
     "output_type": "stream",
     "text": [
      " 53%|█████▎    | 70/132 [03:58<04:22,  4.24s/it]"
     ]
    },
    {
     "name": "stdout",
     "output_type": "stream",
     "text": [
      "!inf\n"
     ]
    },
    {
     "name": "stderr",
     "output_type": "stream",
     "text": [
      " 54%|█████▍    | 71/132 [04:02<04:19,  4.25s/it]"
     ]
    },
    {
     "name": "stdout",
     "output_type": "stream",
     "text": [
      "!inf\n"
     ]
    },
    {
     "name": "stderr",
     "output_type": "stream",
     "text": [
      " 55%|█████▍    | 72/132 [04:06<04:12,  4.20s/it]"
     ]
    },
    {
     "name": "stdout",
     "output_type": "stream",
     "text": [
      "!cal\n"
     ]
    },
    {
     "name": "stderr",
     "output_type": "stream",
     "text": [
      " 55%|█████▌    | 73/132 [04:11<04:10,  4.24s/it]"
     ]
    },
    {
     "name": "stdout",
     "output_type": "stream",
     "text": [
      "!cal\n"
     ]
    },
    {
     "name": "stderr",
     "output_type": "stream",
     "text": [
      " 56%|█████▌    | 74/132 [04:15<04:01,  4.16s/it]"
     ]
    },
    {
     "name": "stdout",
     "output_type": "stream",
     "text": [
      "!cal\n"
     ]
    },
    {
     "name": "stderr",
     "output_type": "stream",
     "text": [
      " 57%|█████▋    | 75/132 [04:20<04:15,  4.48s/it]"
     ]
    },
    {
     "name": "stdout",
     "output_type": "stream",
     "text": [
      "!yi\n"
     ]
    },
    {
     "name": "stderr",
     "output_type": "stream",
     "text": [
      " 58%|█████▊    | 76/132 [04:23<03:51,  4.13s/it]"
     ]
    },
    {
     "name": "stdout",
     "output_type": "stream",
     "text": [
      "!inf\n"
     ]
    },
    {
     "name": "stderr",
     "output_type": "stream",
     "text": [
      " 58%|█████▊    | 77/132 [04:28<03:56,  4.30s/it]"
     ]
    },
    {
     "name": "stdout",
     "output_type": "stream",
     "text": [
      "!cal\n"
     ]
    },
    {
     "name": "stderr",
     "output_type": "stream",
     "text": [
      " 59%|█████▉    | 78/132 [04:32<03:46,  4.20s/it]"
     ]
    },
    {
     "name": "stdout",
     "output_type": "stream",
     "text": [
      "!py\n"
     ]
    },
    {
     "name": "stderr",
     "output_type": "stream",
     "text": [
      " 60%|█████▉    | 79/132 [04:36<03:49,  4.32s/it]"
     ]
    },
    {
     "name": "stdout",
     "output_type": "stream",
     "text": [
      "!inf\n"
     ]
    },
    {
     "name": "stderr",
     "output_type": "stream",
     "text": [
      " 61%|██████    | 80/132 [04:40<03:37,  4.19s/it]"
     ]
    },
    {
     "name": "stdout",
     "output_type": "stream",
     "text": [
      "!py\n"
     ]
    },
    {
     "name": "stderr",
     "output_type": "stream",
     "text": [
      " 61%|██████▏   | 81/132 [04:45<03:38,  4.29s/it]"
     ]
    },
    {
     "name": "stdout",
     "output_type": "stream",
     "text": [
      "!cal\n"
     ]
    },
    {
     "name": "stderr",
     "output_type": "stream",
     "text": [
      " 62%|██████▏   | 82/132 [04:49<03:31,  4.23s/it]"
     ]
    },
    {
     "name": "stdout",
     "output_type": "stream",
     "text": [
      "!yi\n"
     ]
    },
    {
     "name": "stderr",
     "output_type": "stream",
     "text": [
      " 63%|██████▎   | 83/132 [04:53<03:30,  4.30s/it]"
     ]
    },
    {
     "name": "stdout",
     "output_type": "stream",
     "text": [
      "!yi\n"
     ]
    },
    {
     "name": "stderr",
     "output_type": "stream",
     "text": [
      " 64%|██████▎   | 84/132 [04:58<03:29,  4.37s/it]"
     ]
    },
    {
     "name": "stdout",
     "output_type": "stream",
     "text": [
      "!inf\n"
     ]
    },
    {
     "name": "stderr",
     "output_type": "stream",
     "text": [
      " 64%|██████▍   | 85/132 [05:02<03:21,  4.29s/it]"
     ]
    },
    {
     "name": "stdout",
     "output_type": "stream",
     "text": [
      "!yi\n"
     ]
    },
    {
     "name": "stderr",
     "output_type": "stream",
     "text": [
      " 65%|██████▌   | 86/132 [05:06<03:16,  4.27s/it]"
     ]
    },
    {
     "name": "stdout",
     "output_type": "stream",
     "text": [
      "!yi\n"
     ]
    },
    {
     "name": "stderr",
     "output_type": "stream",
     "text": [
      " 66%|██████▌   | 87/132 [05:11<03:17,  4.38s/it]"
     ]
    },
    {
     "name": "stdout",
     "output_type": "stream",
     "text": [
      "!yi\n"
     ]
    },
    {
     "name": "stderr",
     "output_type": "stream",
     "text": [
      " 67%|██████▋   | 88/132 [05:16<03:15,  4.45s/it]"
     ]
    },
    {
     "name": "stdout",
     "output_type": "stream",
     "text": [
      "!inf\n"
     ]
    },
    {
     "name": "stderr",
     "output_type": "stream",
     "text": [
      " 67%|██████▋   | 89/132 [05:19<03:03,  4.26s/it]"
     ]
    },
    {
     "name": "stdout",
     "output_type": "stream",
     "text": [
      "!py\n"
     ]
    },
    {
     "name": "stderr",
     "output_type": "stream",
     "text": [
      " 68%|██████▊   | 90/132 [05:23<02:56,  4.20s/it]"
     ]
    },
    {
     "name": "stdout",
     "output_type": "stream",
     "text": [
      "!py\n"
     ]
    },
    {
     "name": "stderr",
     "output_type": "stream",
     "text": [
      " 69%|██████▉   | 91/132 [05:28<02:54,  4.27s/it]"
     ]
    },
    {
     "name": "stdout",
     "output_type": "stream",
     "text": [
      "!yi\n"
     ]
    },
    {
     "name": "stderr",
     "output_type": "stream",
     "text": [
      " 70%|██████▉   | 92/132 [05:33<03:00,  4.52s/it]"
     ]
    },
    {
     "name": "stdout",
     "output_type": "stream",
     "text": [
      "!cal\n"
     ]
    },
    {
     "name": "stderr",
     "output_type": "stream",
     "text": [
      " 70%|███████   | 93/132 [05:36<02:42,  4.17s/it]"
     ]
    },
    {
     "name": "stdout",
     "output_type": "stream",
     "text": [
      "!yi\n"
     ]
    },
    {
     "name": "stderr",
     "output_type": "stream",
     "text": [
      " 71%|███████   | 94/132 [05:40<02:38,  4.18s/it]"
     ]
    },
    {
     "name": "stdout",
     "output_type": "stream",
     "text": [
      "!cal\n"
     ]
    },
    {
     "name": "stderr",
     "output_type": "stream",
     "text": [
      " 72%|███████▏  | 95/132 [05:45<02:35,  4.21s/it]"
     ]
    },
    {
     "name": "stdout",
     "output_type": "stream",
     "text": [
      "!py\n"
     ]
    },
    {
     "name": "stderr",
     "output_type": "stream",
     "text": [
      " 73%|███████▎  | 96/132 [05:49<02:32,  4.24s/it]"
     ]
    },
    {
     "name": "stdout",
     "output_type": "stream",
     "text": [
      "!cal\n"
     ]
    },
    {
     "name": "stderr",
     "output_type": "stream",
     "text": [
      " 73%|███████▎  | 97/132 [05:54<02:31,  4.32s/it]"
     ]
    },
    {
     "name": "stdout",
     "output_type": "stream",
     "text": [
      "!inf\n"
     ]
    },
    {
     "name": "stderr",
     "output_type": "stream",
     "text": [
      " 74%|███████▍  | 98/132 [05:57<02:22,  4.18s/it]"
     ]
    },
    {
     "name": "stdout",
     "output_type": "stream",
     "text": [
      "!inf\n"
     ]
    },
    {
     "name": "stderr",
     "output_type": "stream",
     "text": [
      " 75%|███████▌  | 99/132 [06:02<02:21,  4.29s/it]"
     ]
    },
    {
     "name": "stdout",
     "output_type": "stream",
     "text": [
      "!yi\n"
     ]
    },
    {
     "name": "stderr",
     "output_type": "stream",
     "text": [
      " 76%|███████▌  | 100/132 [06:06<01:57,  3.66s/it]"
     ]
    },
    {
     "name": "stdout",
     "output_type": "stream",
     "text": [
      "!py\n",
      "Bootstrapped 100 full traces after 100 examples for up to 5 rounds, amounting to 100 attempts.\n"
     ]
    },
    {
     "name": "stderr",
     "output_type": "stream",
     "text": [
      "\n"
     ]
    }
   ],
   "source": [
    "# Préparation des données d'entraînement\n",
    "#trainset = [\n",
    "#    dspy.Example(categorie=ex[\"categorie\"], theme=ex[\"expressions_clefs\"], source_type=ex[\"source_type\"], \n",
    "#                 output=json.dumps(ex)).with_inputs(\"categorie\", \"theme\",\"source_type\") for ex in examples]\n",
    "\n",
    "trainset = [\n",
    "    dspy.Example(\n",
    "        intention=ex[\"intention\"],\n",
    "        contenu=ex[\"contenu\"],\n",
    "    ).with_inputs(\"intention\")\n",
    "    for ex in examples\n",
    "]\n",
    "print(len(trainset))\n",
    "def semantic_metric(example, pred, trace=None):\n",
    "    if not isinstance(pred, dict) or \"contenu\" not in pred:\n",
    "        return False\n",
    "    new = pred[\"contenu\"].strip().lower()\n",
    "    ref = example.contenu.strip().lower()\n",
    "    return new != ref and len(new) > 10\n",
    "\n",
    "\n",
    "# Initialisation et entraînement\n",
    "generator = NoteGenerator()\n",
    "from dspy.teleprompt import BootstrapFewShot\n",
    "teleprompter = BootstrapFewShot(\n",
    "    metric=semantic_metric,\n",
    "    max_rounds=5,                # Nombre maximum de tours\n",
    "    max_bootstrapped_demos=100,   # Nombre maximal d'exemples à compiler\n",
    ")\n",
    "dspy.settings.cache = None\n",
    "compiled_generator = teleprompter.compile(generator, trainset=trainset)"
   ]
  },
  {
   "cell_type": "code",
   "execution_count": null,
   "id": "55edede1-1d5d-4005-b695-afff617e0558",
   "metadata": {},
   "outputs": [],
   "source": []
  },
  {
   "cell_type": "code",
   "execution_count": null,
   "id": "f7e3819e-20f1-49bf-a763-1ecdab84c685",
   "metadata": {},
   "outputs": [],
   "source": [
    "res = compiled_generator(intention=\"!py\")\n",
    "print(res)\n",
    "res = compiled_generator(intention=\"!py\")\n",
    "print(res)\n",
    "res = compiled_generator(intention=\"!py\")\n",
    "print(res)\n",
    "res = compiled_generator(intention=\"!py\")\n",
    "print(res)\n",
    "res = compiled_generator(intention=\"!cal\")\n",
    "print(res)\n",
    "res = compiled_generator(intention=\"!yi\")\n",
    "print(res)\n",
    "res = compiled_generator(intention=\"!inf\")\n",
    "print(res)\n"
   ]
  },
  {
   "cell_type": "code",
   "execution_count": null,
   "id": "3068a170-d0cc-4397-a315-b88e8196bf06",
   "metadata": {},
   "outputs": [],
   "source": [
    "\n",
    "gmessages = []\n",
    "output_path = \"intentions-1000-gpt-4o-mini.txt\"\n",
    "nbmessages = 100\n",
    "nbbatch = 5\n",
    "stime = time.time()\n",
    "with open(output_path, \"w\", encoding=\"utf-8\") as f:\n",
    "    for i in range(nbmessages):\n",
    "        intention = random.choice(intentions)\n",
    "        if i % nbbatch == 0 and i != 0:\n",
    "            print(f\"{i} / {nbmessages}  {(time.time()-stime)}\")\n",
    "            for gmessage in gmessages:\n",
    "                gmessage = f\"{gmessage},\\n\"\n",
    "                f.write(gmessage)\n",
    "            gmessages = []\n",
    "            \n",
    "        message = compiled_generator(intention=intention)\n",
    "        message[\"intention\"] = intention\n",
    "        gmessages.append(message)\n",
    "        \n",
    "print(f\"Corpus sauvegardé en {(time.time()-stime)}s dans {output_path}\")"
   ]
  },
  {
   "cell_type": "code",
   "execution_count": null,
   "id": "3c96a0e1-6bfb-461a-8a04-fa73b2070011",
   "metadata": {},
   "outputs": [],
   "source": [
    "import ast\n",
    "import json\n",
    "\n",
    "path_notes = \"zettelkasten-5000-gpt-4o-mini.txt\"\n",
    "path_intentions = \"intentions-100-gpt-4o-mini.txt\"\n",
    "path_output = \"intentions-5100-unifiees.jsonl\"\n",
    "\n",
    "i = 0\n",
    "nerr = 0\n",
    "notes = []\n",
    "\n",
    "with open(path_notes, \"r\", encoding=\"utf-8\") as f:\n",
    "    for line in f:\n",
    "        try:\n",
    "            i += 1\n",
    "            obj = ast.literal_eval(line)\n",
    "            if isinstance(obj, tuple) and len(obj) == 1:\n",
    "                obj = obj[0]  # ✅ extraire le dict du tuple\n",
    "            if i % 1789 == 0:\n",
    "                print(f\"{obj}\")\n",
    "            if isinstance(obj, dict) and \"contenu\" in obj:\n",
    "                notes.append(obj)\n",
    "        except Exception as e:\n",
    "            nerr += 1\n",
    "\n",
    "print(f\"Il y a {nerr} erreurs et {len(notes)} notes\")\n",
    "\n",
    "# Charger les intentions\n",
    "with open(path_intentions, \"r\", encoding=\"utf-8\") as f:\n",
    "    intentions = [ast.literal_eval(line) for line in f if \"contenu\" in line and \"intention\" in line]\n",
    "\n",
    "# Fusion\n",
    "converted_notes = [{\"contenu\": note[\"contenu\"], \"intention\": \"!red\"} for note in notes]\n",
    "full_corpus = converted_notes + intentions\n",
    "\n",
    "# Sauvegarde\n",
    "with open(path_output, \"w\", encoding=\"utf-8\") as f:\n",
    "    for ex in full_corpus:\n",
    "        json.dump(ex, f, ensure_ascii=False)\n",
    "        f.write(\"\\n\")\n",
    "\n",
    "print(f\"✅ Fichier '{path_output}' écrit avec {len(full_corpus)} lignes.\")\n"
   ]
  },
  {
   "cell_type": "code",
   "execution_count": null,
   "id": "1011acda-bff7-4f7f-b70a-87e78b67188e",
   "metadata": {},
   "outputs": [],
   "source": []
  }
 ],
 "metadata": {
  "kernelspec": {
   "display_name": "Python 3 (ipykernel)",
   "language": "python",
   "name": "python3"
  },
  "language_info": {
   "codemirror_mode": {
    "name": "ipython",
    "version": 3
   },
   "file_extension": ".py",
   "mimetype": "text/x-python",
   "name": "python",
   "nbconvert_exporter": "python",
   "pygments_lexer": "ipython3",
   "version": "3.12.3"
  }
 },
 "nbformat": 4,
 "nbformat_minor": 5
}
