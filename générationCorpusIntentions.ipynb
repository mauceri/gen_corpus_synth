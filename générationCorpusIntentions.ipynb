{
 "cells": [
  {
   "cell_type": "code",
   "execution_count": 1,
   "id": "8012697e-8139-442f-96c7-7eca20d16d45",
   "metadata": {},
   "outputs": [],
   "source": [
    "# 📦 Cellule 1 : Imports\n",
    "import dspy\n",
    "from dspy import LM\n",
    "import random\n",
    "import litellm\n",
    "from datetime import datetime, timedelta\n",
    "import json\n",
    "import os\n",
    "import time\n",
    "import uuid\n",
    "import ast\n",
    "from tqdm import tqdm"
   ]
  },
  {
   "cell_type": "code",
   "execution_count": 2,
   "id": "4c355421-e6f7-4065-bf25-55142f90e090",
   "metadata": {},
   "outputs": [
    {
     "name": "stdout",
     "output_type": "stream",
     "text": [
      "Requirement already satisfied: dspy-ai in /home/mauceric/Jupyter/jupyterenv/lib/python3.12/site-packages (2.6.23)\n",
      "Collecting dspy-ai\n",
      "  Downloading dspy_ai-2.6.24-py3-none-any.whl.metadata (286 bytes)\n",
      "Requirement already satisfied: dspy>=2.6.5 in /home/mauceric/Jupyter/jupyterenv/lib/python3.12/site-packages (from dspy-ai) (2.6.24)\n",
      "Requirement already satisfied: backoff>=2.2 in /home/mauceric/Jupyter/jupyterenv/lib/python3.12/site-packages (from dspy>=2.6.5->dspy-ai) (2.2.1)\n",
      "Requirement already satisfied: joblib~=1.3 in /home/mauceric/Jupyter/jupyterenv/lib/python3.12/site-packages (from dspy>=2.6.5->dspy-ai) (1.4.2)\n",
      "Requirement already satisfied: openai>=0.28.1 in /home/mauceric/Jupyter/jupyterenv/lib/python3.12/site-packages (from dspy>=2.6.5->dspy-ai) (1.61.0)\n",
      "Requirement already satisfied: pandas>=2.1.1 in /home/mauceric/Jupyter/jupyterenv/lib/python3.12/site-packages (from dspy>=2.6.5->dspy-ai) (2.2.3)\n",
      "Requirement already satisfied: regex>=2023.10.3 in /home/mauceric/Jupyter/jupyterenv/lib/python3.12/site-packages (from dspy>=2.6.5->dspy-ai) (2024.9.11)\n",
      "Requirement already satisfied: ujson>=5.8.0 in /home/mauceric/Jupyter/jupyterenv/lib/python3.12/site-packages (from dspy>=2.6.5->dspy-ai) (5.10.0)\n",
      "Requirement already satisfied: tqdm>=4.66.1 in /home/mauceric/Jupyter/jupyterenv/lib/python3.12/site-packages (from dspy>=2.6.5->dspy-ai) (4.66.5)\n",
      "Requirement already satisfied: datasets>=2.14.6 in /home/mauceric/Jupyter/jupyterenv/lib/python3.12/site-packages (from dspy>=2.6.5->dspy-ai) (3.0.1)\n",
      "Requirement already satisfied: requests>=2.31.0 in /home/mauceric/Jupyter/jupyterenv/lib/python3.12/site-packages (from dspy>=2.6.5->dspy-ai) (2.32.3)\n",
      "Requirement already satisfied: optuna>=3.4.0 in /home/mauceric/Jupyter/jupyterenv/lib/python3.12/site-packages (from dspy>=2.6.5->dspy-ai) (4.0.0)\n",
      "Requirement already satisfied: pydantic>=2.0 in /home/mauceric/Jupyter/jupyterenv/lib/python3.12/site-packages (from dspy>=2.6.5->dspy-ai) (2.9.2)\n",
      "Requirement already satisfied: magicattr>=0.1.6 in /home/mauceric/Jupyter/jupyterenv/lib/python3.12/site-packages (from dspy>=2.6.5->dspy-ai) (0.1.6)\n",
      "Requirement already satisfied: litellm>=1.60.3 in /home/mauceric/Jupyter/jupyterenv/lib/python3.12/site-packages (from dspy>=2.6.5->dspy-ai) (1.63.7)\n",
      "Requirement already satisfied: diskcache>=5.6.0 in /home/mauceric/Jupyter/jupyterenv/lib/python3.12/site-packages (from dspy>=2.6.5->dspy-ai) (5.6.3)\n",
      "Requirement already satisfied: json-repair>=0.30.0 in /home/mauceric/Jupyter/jupyterenv/lib/python3.12/site-packages (from dspy>=2.6.5->dspy-ai) (0.40.0)\n",
      "Requirement already satisfied: tenacity>=8.2.3 in /home/mauceric/Jupyter/jupyterenv/lib/python3.12/site-packages (from dspy>=2.6.5->dspy-ai) (9.0.0)\n",
      "Requirement already satisfied: anyio in /home/mauceric/Jupyter/jupyterenv/lib/python3.12/site-packages (from dspy>=2.6.5->dspy-ai) (4.9.0)\n",
      "Requirement already satisfied: asyncer==0.0.8 in /home/mauceric/Jupyter/jupyterenv/lib/python3.12/site-packages (from dspy>=2.6.5->dspy-ai) (0.0.8)\n",
      "Requirement already satisfied: cachetools>=5.5.0 in /home/mauceric/Jupyter/jupyterenv/lib/python3.12/site-packages (from dspy>=2.6.5->dspy-ai) (5.5.2)\n",
      "Requirement already satisfied: cloudpickle>=3.0.0 in /home/mauceric/Jupyter/jupyterenv/lib/python3.12/site-packages (from dspy>=2.6.5->dspy-ai) (3.1.1)\n",
      "Requirement already satisfied: rich>=13.7.1 in /home/mauceric/Jupyter/jupyterenv/lib/python3.12/site-packages (from dspy>=2.6.5->dspy-ai) (13.9.4)\n",
      "Requirement already satisfied: numpy>=1.26.0 in /home/mauceric/Jupyter/jupyterenv/lib/python3.12/site-packages (from dspy>=2.6.5->dspy-ai) (2.1.1)\n",
      "Requirement already satisfied: idna>=2.8 in /home/mauceric/Jupyter/jupyterenv/lib/python3.12/site-packages (from anyio->dspy>=2.6.5->dspy-ai) (3.10)\n",
      "Requirement already satisfied: sniffio>=1.1 in /home/mauceric/Jupyter/jupyterenv/lib/python3.12/site-packages (from anyio->dspy>=2.6.5->dspy-ai) (1.3.1)\n",
      "Requirement already satisfied: typing_extensions>=4.5 in /home/mauceric/Jupyter/jupyterenv/lib/python3.12/site-packages (from anyio->dspy>=2.6.5->dspy-ai) (4.13.0)\n",
      "Requirement already satisfied: filelock in /home/mauceric/Jupyter/jupyterenv/lib/python3.12/site-packages (from datasets>=2.14.6->dspy>=2.6.5->dspy-ai) (3.18.0)\n",
      "Requirement already satisfied: pyarrow>=15.0.0 in /home/mauceric/Jupyter/jupyterenv/lib/python3.12/site-packages (from datasets>=2.14.6->dspy>=2.6.5->dspy-ai) (19.0.1)\n",
      "Requirement already satisfied: dill<0.3.9,>=0.3.0 in /home/mauceric/Jupyter/jupyterenv/lib/python3.12/site-packages (from datasets>=2.14.6->dspy>=2.6.5->dspy-ai) (0.3.8)\n",
      "Requirement already satisfied: xxhash in /home/mauceric/Jupyter/jupyterenv/lib/python3.12/site-packages (from datasets>=2.14.6->dspy>=2.6.5->dspy-ai) (3.5.0)\n",
      "Requirement already satisfied: multiprocess in /home/mauceric/Jupyter/jupyterenv/lib/python3.12/site-packages (from datasets>=2.14.6->dspy>=2.6.5->dspy-ai) (0.70.16)\n",
      "Requirement already satisfied: fsspec<=2024.6.1,>=2023.1.0 in /home/mauceric/Jupyter/jupyterenv/lib/python3.12/site-packages (from fsspec[http]<=2024.6.1,>=2023.1.0->datasets>=2.14.6->dspy>=2.6.5->dspy-ai) (2024.6.1)\n",
      "Requirement already satisfied: aiohttp in /home/mauceric/Jupyter/jupyterenv/lib/python3.12/site-packages (from datasets>=2.14.6->dspy>=2.6.5->dspy-ai) (3.11.14)\n",
      "Requirement already satisfied: huggingface-hub>=0.22.0 in /home/mauceric/Jupyter/jupyterenv/lib/python3.12/site-packages (from datasets>=2.14.6->dspy>=2.6.5->dspy-ai) (0.25.1)\n",
      "Requirement already satisfied: packaging in /home/mauceric/Jupyter/jupyterenv/lib/python3.12/site-packages (from datasets>=2.14.6->dspy>=2.6.5->dspy-ai) (24.1)\n",
      "Requirement already satisfied: pyyaml>=5.1 in /home/mauceric/Jupyter/jupyterenv/lib/python3.12/site-packages (from datasets>=2.14.6->dspy>=2.6.5->dspy-ai) (6.0.2)\n",
      "Requirement already satisfied: click in /home/mauceric/Jupyter/jupyterenv/lib/python3.12/site-packages (from litellm>=1.60.3->dspy>=2.6.5->dspy-ai) (8.1.8)\n",
      "Requirement already satisfied: httpx>=0.23.0 in /home/mauceric/Jupyter/jupyterenv/lib/python3.12/site-packages (from litellm>=1.60.3->dspy>=2.6.5->dspy-ai) (0.27.2)\n",
      "Requirement already satisfied: importlib-metadata>=6.8.0 in /home/mauceric/Jupyter/jupyterenv/lib/python3.12/site-packages (from litellm>=1.60.3->dspy>=2.6.5->dspy-ai) (8.6.1)\n",
      "Requirement already satisfied: jinja2<4.0.0,>=3.1.2 in /home/mauceric/Jupyter/jupyterenv/lib/python3.12/site-packages (from litellm>=1.60.3->dspy>=2.6.5->dspy-ai) (3.1.4)\n",
      "Requirement already satisfied: jsonschema<5.0.0,>=4.22.0 in /home/mauceric/Jupyter/jupyterenv/lib/python3.12/site-packages (from litellm>=1.60.3->dspy>=2.6.5->dspy-ai) (4.23.0)\n",
      "Requirement already satisfied: python-dotenv>=0.2.0 in /home/mauceric/Jupyter/jupyterenv/lib/python3.12/site-packages (from litellm>=1.60.3->dspy>=2.6.5->dspy-ai) (1.0.1)\n",
      "Requirement already satisfied: tiktoken>=0.7.0 in /home/mauceric/Jupyter/jupyterenv/lib/python3.12/site-packages (from litellm>=1.60.3->dspy>=2.6.5->dspy-ai) (0.8.0)\n",
      "Requirement already satisfied: tokenizers in /home/mauceric/Jupyter/jupyterenv/lib/python3.12/site-packages (from litellm>=1.60.3->dspy>=2.6.5->dspy-ai) (0.20.3)\n",
      "Requirement already satisfied: distro<2,>=1.7.0 in /home/mauceric/Jupyter/jupyterenv/lib/python3.12/site-packages (from openai>=0.28.1->dspy>=2.6.5->dspy-ai) (1.9.0)\n",
      "Requirement already satisfied: jiter<1,>=0.4.0 in /home/mauceric/Jupyter/jupyterenv/lib/python3.12/site-packages (from openai>=0.28.1->dspy>=2.6.5->dspy-ai) (0.9.0)\n",
      "Requirement already satisfied: alembic>=1.5.0 in /home/mauceric/Jupyter/jupyterenv/lib/python3.12/site-packages (from optuna>=3.4.0->dspy>=2.6.5->dspy-ai) (1.15.1)\n",
      "Requirement already satisfied: colorlog in /home/mauceric/Jupyter/jupyterenv/lib/python3.12/site-packages (from optuna>=3.4.0->dspy>=2.6.5->dspy-ai) (6.9.0)\n",
      "Requirement already satisfied: sqlalchemy>=1.3.0 in /home/mauceric/Jupyter/jupyterenv/lib/python3.12/site-packages (from optuna>=3.4.0->dspy>=2.6.5->dspy-ai) (2.0.39)\n",
      "Requirement already satisfied: python-dateutil>=2.8.2 in /home/mauceric/Jupyter/jupyterenv/lib/python3.12/site-packages (from pandas>=2.1.1->dspy>=2.6.5->dspy-ai) (2.9.0.post0)\n",
      "Requirement already satisfied: pytz>=2020.1 in /home/mauceric/Jupyter/jupyterenv/lib/python3.12/site-packages (from pandas>=2.1.1->dspy>=2.6.5->dspy-ai) (2025.2)\n",
      "Requirement already satisfied: tzdata>=2022.7 in /home/mauceric/Jupyter/jupyterenv/lib/python3.12/site-packages (from pandas>=2.1.1->dspy>=2.6.5->dspy-ai) (2025.2)\n",
      "Requirement already satisfied: annotated-types>=0.6.0 in /home/mauceric/Jupyter/jupyterenv/lib/python3.12/site-packages (from pydantic>=2.0->dspy>=2.6.5->dspy-ai) (0.7.0)\n",
      "Requirement already satisfied: pydantic-core==2.23.4 in /home/mauceric/Jupyter/jupyterenv/lib/python3.12/site-packages (from pydantic>=2.0->dspy>=2.6.5->dspy-ai) (2.23.4)\n",
      "Requirement already satisfied: charset-normalizer<4,>=2 in /home/mauceric/Jupyter/jupyterenv/lib/python3.12/site-packages (from requests>=2.31.0->dspy>=2.6.5->dspy-ai) (3.4.1)\n",
      "Requirement already satisfied: urllib3<3,>=1.21.1 in /home/mauceric/Jupyter/jupyterenv/lib/python3.12/site-packages (from requests>=2.31.0->dspy>=2.6.5->dspy-ai) (2.3.0)\n",
      "Requirement already satisfied: certifi>=2017.4.17 in /home/mauceric/Jupyter/jupyterenv/lib/python3.12/site-packages (from requests>=2.31.0->dspy>=2.6.5->dspy-ai) (2025.1.31)\n",
      "Requirement already satisfied: markdown-it-py>=2.2.0 in /home/mauceric/Jupyter/jupyterenv/lib/python3.12/site-packages (from rich>=13.7.1->dspy>=2.6.5->dspy-ai) (3.0.0)\n",
      "Requirement already satisfied: pygments<3.0.0,>=2.13.0 in /home/mauceric/Jupyter/jupyterenv/lib/python3.12/site-packages (from rich>=13.7.1->dspy>=2.6.5->dspy-ai) (2.19.1)\n",
      "Requirement already satisfied: Mako in /home/mauceric/Jupyter/jupyterenv/lib/python3.12/site-packages (from alembic>=1.5.0->optuna>=3.4.0->dspy>=2.6.5->dspy-ai) (1.3.9)\n",
      "Requirement already satisfied: aiohappyeyeballs>=2.3.0 in /home/mauceric/Jupyter/jupyterenv/lib/python3.12/site-packages (from aiohttp->datasets>=2.14.6->dspy>=2.6.5->dspy-ai) (2.6.1)\n",
      "Requirement already satisfied: aiosignal>=1.1.2 in /home/mauceric/Jupyter/jupyterenv/lib/python3.12/site-packages (from aiohttp->datasets>=2.14.6->dspy>=2.6.5->dspy-ai) (1.3.2)\n",
      "Requirement already satisfied: attrs>=17.3.0 in /home/mauceric/Jupyter/jupyterenv/lib/python3.12/site-packages (from aiohttp->datasets>=2.14.6->dspy>=2.6.5->dspy-ai) (25.3.0)\n",
      "Requirement already satisfied: frozenlist>=1.1.1 in /home/mauceric/Jupyter/jupyterenv/lib/python3.12/site-packages (from aiohttp->datasets>=2.14.6->dspy>=2.6.5->dspy-ai) (1.5.0)\n",
      "Requirement already satisfied: multidict<7.0,>=4.5 in /home/mauceric/Jupyter/jupyterenv/lib/python3.12/site-packages (from aiohttp->datasets>=2.14.6->dspy>=2.6.5->dspy-ai) (6.2.0)\n",
      "Requirement already satisfied: propcache>=0.2.0 in /home/mauceric/Jupyter/jupyterenv/lib/python3.12/site-packages (from aiohttp->datasets>=2.14.6->dspy>=2.6.5->dspy-ai) (0.3.1)\n",
      "Requirement already satisfied: yarl<2.0,>=1.17.0 in /home/mauceric/Jupyter/jupyterenv/lib/python3.12/site-packages (from aiohttp->datasets>=2.14.6->dspy>=2.6.5->dspy-ai) (1.18.3)\n",
      "Requirement already satisfied: httpcore==1.* in /home/mauceric/Jupyter/jupyterenv/lib/python3.12/site-packages (from httpx>=0.23.0->litellm>=1.60.3->dspy>=2.6.5->dspy-ai) (1.0.7)\n",
      "Requirement already satisfied: h11<0.15,>=0.13 in /home/mauceric/Jupyter/jupyterenv/lib/python3.12/site-packages (from httpcore==1.*->httpx>=0.23.0->litellm>=1.60.3->dspy>=2.6.5->dspy-ai) (0.14.0)\n",
      "Requirement already satisfied: zipp>=3.20 in /home/mauceric/Jupyter/jupyterenv/lib/python3.12/site-packages (from importlib-metadata>=6.8.0->litellm>=1.60.3->dspy>=2.6.5->dspy-ai) (3.21.0)\n",
      "Requirement already satisfied: MarkupSafe>=2.0 in /home/mauceric/Jupyter/jupyterenv/lib/python3.12/site-packages (from jinja2<4.0.0,>=3.1.2->litellm>=1.60.3->dspy>=2.6.5->dspy-ai) (2.1.5)\n",
      "Requirement already satisfied: jsonschema-specifications>=2023.03.6 in /home/mauceric/Jupyter/jupyterenv/lib/python3.12/site-packages (from jsonschema<5.0.0,>=4.22.0->litellm>=1.60.3->dspy>=2.6.5->dspy-ai) (2024.10.1)\n",
      "Requirement already satisfied: referencing>=0.28.4 in /home/mauceric/Jupyter/jupyterenv/lib/python3.12/site-packages (from jsonschema<5.0.0,>=4.22.0->litellm>=1.60.3->dspy>=2.6.5->dspy-ai) (0.36.2)\n",
      "Requirement already satisfied: rpds-py>=0.7.1 in /home/mauceric/Jupyter/jupyterenv/lib/python3.12/site-packages (from jsonschema<5.0.0,>=4.22.0->litellm>=1.60.3->dspy>=2.6.5->dspy-ai) (0.24.0)\n",
      "Requirement already satisfied: mdurl~=0.1 in /home/mauceric/Jupyter/jupyterenv/lib/python3.12/site-packages (from markdown-it-py>=2.2.0->rich>=13.7.1->dspy>=2.6.5->dspy-ai) (0.1.2)\n",
      "Requirement already satisfied: six>=1.5 in /home/mauceric/Jupyter/jupyterenv/lib/python3.12/site-packages (from python-dateutil>=2.8.2->pandas>=2.1.1->dspy>=2.6.5->dspy-ai) (1.16.0)\n",
      "Requirement already satisfied: greenlet!=0.4.17 in /home/mauceric/Jupyter/jupyterenv/lib/python3.12/site-packages (from sqlalchemy>=1.3.0->optuna>=3.4.0->dspy>=2.6.5->dspy-ai) (3.1.1)\n",
      "Downloading dspy_ai-2.6.24-py3-none-any.whl (1.1 kB)\n",
      "Installing collected packages: dspy-ai\n",
      "  Attempting uninstall: dspy-ai\n",
      "    Found existing installation: dspy-ai 2.6.23\n",
      "    Uninstalling dspy-ai-2.6.23:\n",
      "      Successfully uninstalled dspy-ai-2.6.23\n",
      "Successfully installed dspy-ai-2.6.24\n"
     ]
    }
   ],
   "source": [
    "!pip install -U dspy-ai"
   ]
  },
  {
   "cell_type": "code",
   "execution_count": 3,
   "id": "d1c9a063-6452-47ce-a0f2-20dc71f8545a",
   "metadata": {},
   "outputs": [],
   "source": [
    "api_key = os.getenv(\"OPENAI_API_KEY\")\n",
    "lm = dspy.LM(\n",
    "    model=\"gpt-4.1-mini\",          # modèle reconnu par l’API OpenAI\n",
    "    api_key=api_key,\n",
    "    temperature=0.8,\n",
    "    provider=\"openai\"        # <- obligatoire ici pour désigner le backend\n",
    ")\n",
    "\n",
    "dspy.settings.configure(lm=lm)\n"
   ]
  },
  {
   "cell_type": "code",
   "execution_count": 4,
   "id": "6926e8cf-c56f-455f-ad6b-84c535ac2e82",
   "metadata": {},
   "outputs": [
    {
     "data": {
      "text/plain": [
       "[\"Bonjour ! Comment puis-je vous aider aujourd'hui ?\"]"
      ]
     },
     "execution_count": 4,
     "metadata": {},
     "output_type": "execute_result"
    }
   ],
   "source": [
    "lm(\"Dites bonjour\")"
   ]
  },
  {
   "cell_type": "code",
   "execution_count": 5,
   "id": "9726c1e5-a0e1-40bf-8af7-01a1516bf7f1",
   "metadata": {},
   "outputs": [
    {
     "name": "stdout",
     "output_type": "stream",
     "text": [
      "Appel du modèle avec : gpt-4.1-mini\n"
     ]
    },
    {
     "data": {
      "text/plain": [
       "[\"Bonjour ! Comment puis-je vous aider aujourd'hui ?\"]"
      ]
     },
     "execution_count": 5,
     "metadata": {},
     "output_type": "execute_result"
    }
   ],
   "source": [
    "def trace_lm_call(prompt):\n",
    "    print(f\"Appel du modèle avec : {dspy.settings.lm.model}\")\n",
    "    return dspy.settings.lm(prompt)\n",
    "\n",
    "trace_lm_call(\"Dites bonjour\")\n"
   ]
  },
  {
   "cell_type": "code",
   "execution_count": 8,
   "id": "3adf1758-e515-408e-82f0-698c4785dbc3",
   "metadata": {},
   "outputs": [],
   "source": [
    "examples = [\n",
    "    {\n",
    "        \"contenu\":\"Pouvez-vous tirer un Yi King sur ma décision de mettre mon potager au repos cette année ?\",\n",
    "        \"intention\":\"!yi\",\n",
    "    },\n",
    "    {\n",
    "        \"contenu\":\"Que dit le Yi King de mon idée de créer un archiviste artificiel ?\",\n",
    "        \"intention\":\"!yi\",\n",
    "    },\n",
    "    {\n",
    "        \"contenu\":\"Combien de litre de chlore dois-je ajouter quotidiennement à ma piscine de 80 m3 ?\",\n",
    "        \"intention\":\"!py\",\n",
    "    },\n",
    "    {\n",
    "        \"contenu\":\"Quelle est la probabilité de que le cadran de ma montre digitale forme un palindrome quand je la consulte ?\",\n",
    "        \"intention\":\"!py\",\n",
    "    },\n",
    "    {\n",
    "        \"contenu\":\"Quel est le volume d'une sphère de 30 cm de rayon ?\",\n",
    "        \"intention\":\"!py\",\n",
    "    },\n",
    "    {\n",
    "        \"contenu\":\"RDV dentiste demain à 13:00\",\n",
    "        \"intention\":\"!cal\",\n",
    "    },\n",
    "    {\n",
    "        \"contenu\":\"Réunion avec Michel le 20/10/2025 à 17:00\",\n",
    "        \"intention\":\"!cal\",\n",
    "    },\n",
    "    {\n",
    "        \"contenu\":\"Ne pas oublier la fête des mères la semaine prochaine\",\n",
    "        \"intention\":\"!cal\",\n",
    "    },\n",
    "    {\n",
    "        \"contenu\":\"Qui était Henri de Navarre ?\",\n",
    "        \"intention\":\"!inf\",\n",
    "    },\n",
    "    {\n",
    "        \"contenu\":\"Où se trouve le village de Couquêque ?\",\n",
    "        \"intention\":\"!inf\",\n",
    "    },\n",
    "    {\n",
    "        \"contenu\":\"A-t-on vraiment réfuté la théorie de la relativité ?\",\n",
    "        \"intention\":\"!inf\",\n",
    "    },\n",
    "\n",
    "\n",
    "]"
   ]
  },
  {
   "cell_type": "code",
   "execution_count": null,
   "id": "ac82a11b-72ef-43f5-86f5-2e039b190046",
   "metadata": {},
   "outputs": [],
   "source": [
    "{'contenu': \"Quelles sont les causes principales de la mortalité infantile en Afrique ?\", 'intention': '!inf'},\n",
    "{'contenu': 'Ajouter un événement pour le concert de musique classique le 20 décembre à 19h00.', 'intention': '!cal'},\n",
    "{'contenu': \"Écrivez un programme Python pour générer une liste de nombres premiers jusqu'à 100.\", 'intention': '!py'},\n",
    "{'contenu': 'Je souhaiterais consulter le Yi King pour obtenir des conseils sur ma décision de demander Gisèle en marriage.', 'intention': '!yi'},\n",
    "{'contenu': \"Quelles sont les principales théories sur l'origine de l'univers ?\", 'intention': '!inf'},\n",
    "{'contenu': 'Quelles sont les causes et conséquences de la dénatalité dans le monde ?', 'intention': '!inf'},\n",
    "{'contenu': \"Quelles sont les alternatives à l'agriculture intensive pour nourrir le même nombre de personnes ?\", 'intention': '!inf'},\n",
    "{'contenu': 'Ajouter un rappel pour le rendez-vous médical le 22 mai à 10h00.', 'intention': '!cal'},\n",
    "{'contenu': 'Quel est le processus de photosynthèse chez les plantes vertes ?', 'intention': '!inf'},\n",
    "{'contenu': \"Ajouter un rappel pour l'anniversaire de Julie le 22 septembre à 10h00.\", 'intention': '!cal'},\n",
    "{'contenu': \"Pourrais-tu réaliser un tirage du Yi King pour m'aider à comprendre ma situation amoureuse actuelle ?\", 'intention': '!yi'},\n",
    "{'contenu': 'Fixer une date pour la révision du projet le 22 avril à 10h.', 'intention': '!cal'},\n",
    "{'contenu': 'Programmer une formation en ligne sur la sécurité des données le 22 novembre à 10h00.', 'intention': '!cal'},\n",
    "{'contenu': \"Quelles sont les causes principales de la propagande écologiste ?\", 'intention': '!inf'},\n",
    "{'contenu': \"Quelle est la factorielle de 100 ?\", 'intention': '!py'},\n",
    "{'contenu': 'Fixer un rendez-vous médical pour le 20 octobre à 10h00.', 'intention': '!cal'},\n",
    "{'contenu': \"Envoyer un courriel à Albert pour lui demander dans combien de temps il pense achever le travail que je lui ai confié ?\", 'intention': '!py'},\n",
    "{'contenu': 'Programmer un rappel pour envoyer le rapport trimestriel le 30 juin à 10h.', 'intention': '!cal'},\n",
    "{'contenu': \"Ajouter une note pour rappeler l'anniversaire de mariage le 10 avril.\", 'intention': '!cal'},\n",
    "{'contenu': \"Quel est le volume d'une pyramide ?\", 'intention': '!py'},\n",
    "{'contenu': \"Quelle est l'origine et l'impact de la révolution industrielle sur l'économie européenne ?\", 'intention': '!inf'},\n",
    "{'contenu': 'Quelles sont les causes de la formation des trous noirs ?', 'intention': '!inf'},\n",
    "{'contenu': \"Je voudrais un tableau de la fréquence des mots du fichier attaché\", 'intention': '!py'},\n",
    "{'contenu': 'Valeurs moyennes de x et y dans le fichier attaché','intention': '!py'},\n",
    "{'contenu': 'Convertir 21° Fahrenheit en Celsius.','intention': '!py'},\n",
    "{'contenu': 'Convertir \"le petit Poucet\" en majuscules.','intention': '!py'},\n",
    "{'contenu': 'Calculez le produit des 10 premiers nombres premiers.', 'intention': '!py'},\n",
    "{'contenu': 'Calculez la moyenne arithmétique des nombres 10, 25 et 40.', 'intention': '!py'},\n",
    "{'contenu': \"Calculez le périmètre d'un rectangle de longueur 12 cm et de largeur 5 cm.\", 'intention': '!py'},\n",
    "{'contenu': 'Calculez la moyenne des températures enregistrées à Paris sur une période de 7 jours.', 'intention': '!py'},\n",
    "{'contenu': 'Calculez le produit des nombres pairs entre 1 et 20.', 'intention': '!py'},\n",
    "{'contenu': \"Quels sont les éléments clés de la théorie de l'évolution de Darwin ?\", 'intention': '!inf'},\n",
    "{'contenu': 'Quels sont les principaux mouvements artistiques du XXe siècle ?', 'intention': '!inf'},\n",
    "{'contenu': 'Calculez la somme des cubes des 10 premiers nombres entiers.', 'intention': '!py'},\n",
    "{'contenu': \"Quels sont les enjeux et défis de l'intelligence artificielle dans le domaine de la santé ?\", 'intention': '!inf'},\n",
    "{'contenu': 'Planifier une session de brainstorming pour le 10 décembre à 10h00.', 'intention': '!cal'},\n",
    "{'contenu': 'Quels étaient les événements majeurs de la Révolution française ?', 'intention': '!inf'},\n",
    "{'contenu': \"Que dit le Yi King à propos de ma décision de partir en voyage solo en Asie l'année prochaine ?\", 'intention': '!yi'},\n",
    "{'contenu': 'Quelles sont les innovations technologiques majeures du 21ème siècle ?', 'intention': '!inf'},\n",
    "{'contenu': \"Que dit le Yi King au sujet de ma décision d'étudier à l'étranger l'année prochaine ?\", 'intention': '!yi'},\n",
    "{'contenu': 'Quels ont été les événements majeurs de la révolution française ?', 'intention': '!inf'},\n",
    "{'contenu': 'Quelle est la signification du phénomène de la super lune ?', 'intention': '!inf'},\n",
    "{'contenu': 'Quels étaient les événements majeurs de la révolution industrielle ?', 'intention': '!inf'},\n",
    "{'contenu': 'Quels sont les événements majeurs de la Révolution française ?', 'intention': '!inf'},\n",
    "{'contenu': 'Calculez le produit des 10 premiers nombres pairs.', 'intention': '!py'},\n",
    "{'contenu': 'Que dit le Yi King à propos de ma décision de lancer un projet artistique cette année ?', 'intention': '!yi'},\n",
    "{'contenu': 'Que dit le Yi King sur ma décision de changer de carrière pour devenir artiste ?', 'intention': '!yi'},\n",
    "{'contenu': 'Quelles sont les différentes étapes du processus de fermentation du vin ?', 'intention': '!inf'},\n",
    "{'contenu': 'Calculez la moyenne des températures de la semaine à partir des valeurs suivantes : 22, 24, 19, 21, 23, 20, 18.', 'intention': '!py'},\n",
    "{'contenu': \"Que dit le Yi King à propos de mon choix d'accepter une offre d'emploi dans une nouvelle ville ?\", 'intention': '!yi'},\n",
    "{'contenu': 'Quels sont les événements clés de la Guerre de Cent Ans ?', 'intention': '!inf'},\n",
    "{'contenu': 'Quels sont les événements marquants de la révolution industrielle du XIXe siècle ?', 'intention': '!inf'},\n",
    "{'contenu': 'Planifier une rencontre avec le consultant économique le 12 décembre à 10h00.', 'intention': '!cal'},\n",
    "{'contenu': 'Calculez le produit des nombres de 1 à 10.', 'intention': '!py'},\n",
    "{'contenu': 'Quels ont été les événements clés de la Révolution française ?', 'intention': '!inf'},\n",
    "{'contenu': 'Organiser une réunion avec le service marketing le 20 novembre à 10h00.', 'intention': '!cal'},\n",
    "{'contenu': 'Que dit le Yi King à propos de ma décision de changer de carrière et de devenir chef cuisinier ?', 'intention': '!yi'},\n",
    "{'contenu': \"Calculez le perimètre d'un rectangle de 8 cm de longueur et 5 cm de largeur.\", 'intention': '!py'},\n",
    "{'contenu': 'Quels sont les événements clés de la Révolution française ?', 'intention': '!inf'},\n",
    "{'contenu': 'Comment la révolution industrielle a-t-elle modifié la société du 19ème siècle ?', 'intention': '!inf'},\n",
    "{'contenu': 'Prévoir une séance de brainstorming le 12 décembre à 10h00.', 'intention': '!cal'},\n",
    "{'contenu': 'Réservez une séance de brainstorming pour le 12 décembre à 10h00.', 'intention': '!cal'},\n",
    "{'contenu': 'Planifier un rendez-vous chez le médecin le 20 décembre à 10h00.', 'intention': '!cal'},\n",
    "{'contenu': 'Que dit le Yi King à propos de ma décision de changer de carrière pour devenir écrivain ?', 'intention': '!yi'},\n",
    "{'contenu': 'Comment la révolution industrielle a-t-elle transformé les sociétés européennes ?', 'intention': '!inf'},\n",
    "{'contenu': \"Planifier une réunion avec l'équipe marketing le 10 décembre à 11h00.\", 'intention': '!cal'},\n",
    "{'contenu': \"Calculez le volume d'un cylindre avec un rayon de 5 cm et une hauteur de 10 cm.\", 'intention': '!py'},\n",
    "{'contenu': 'Quel impact la révolution industrielle a-t-elle eu sur la société européenne ?', 'intention': '!inf'},\n",
    "{'contenu': \"Calculez la valeur de Pi à l'aide de la méthode de Monte Carlo avec 10000 itérations.\", 'intention': '!py'},\n",
    "{'contenu': \"Créer un événement pour l'anniversaire de Marie le 20 décembre à 19h00.\", 'intention': '!cal'},\n",
    "{'contenu': 'Que dit le Yi King à propos de la possibilité de commencer des études de musique cette année ?', 'intention': '!yi'},\n",
    "{'contenu': 'Que dit le Yi King à propos de ma décision de changer de carrière et devenir écrivain ?', 'intention': '!yi'},\n",
    "{'contenu': 'Quels étaient les principaux événements de la Révolution française ?', 'intention': '!inf'},\n",
    "{'contenu': 'Que dit le Yi King à propos de ma décision de changer de carrière pour devenir écrivain ?', 'intention': '!yi'},\n",
    "{'contenu': 'Que dit le Yi King à propos de ma décision de retourner aux études pour obtenir un diplôme en psychologie ?', 'intention': '!yi'},\n",
    "{'contenu': \"Que dit le Yi King à propos de ma décision d'entreprendre des études supérieures à l'étranger ?\", 'intention': '!yi'},\n",
    "{'contenu': 'Quelle est la signification historique de la Route de la Soie ?', 'intention': '!inf'},\n",
    "{'contenu': 'Calculez le produit des 10 premiers nombres premiers.', 'intention': '!py'},\n",
    "{'contenu': 'Calculez le produit des 10 premiers nombres premiers.', 'intention': '!py'},\n",
    "{'contenu': 'Que dit le Yi King à propos de ma décision de commencer des études en économie cette année ?', 'intention': '!yi'},\n",
    "{'contenu': 'Prévoir un rendez-vous avec le comptable le 10 décembre à 10h00.', 'intention': '!cal'},\n",
    "{'contenu': \"Que dit le Yi King sur le choix de reprendre mes études universitaires l'année prochaine ?\", 'intention': '!yi'},\n",
    "{'contenu': 'Programmer une mise à jour pour la présentation du projet le 20 avril à 10h00.', 'intention': '!cal'},\n",
    "{'contenu': \"Calculez le volume d'un cylindre avec un rayon de 5 cm et une hauteur de 10 cm.\", 'intention': '!py'},\n",
    "{'contenu': 'Programmer un rendez-vous de suivi médical le 10 décembre à 11h00.', 'intention': '!cal'},\n",
    "{'contenu': \"Quelles sont les théories principales sur les causes de l'extinction des dinosaures ?\", 'intention': '!inf'},\n",
    "{'contenu': 'Quelles sont les théories principales sur la formation de la lune ?', 'intention': '!inf'},\n",
    "{'contenu': 'Que dit le Yi King à propos de la possibilité de changer de carrière cette année ?', 'intention': '!yi'},\n",
    "{'contenu': 'Calculez le produit des 10 premiers nombres premiers.', 'intention': '!py'},\n",
    "{'contenu': 'Calculez le produit des 10 premiers nombres pairs.', 'intention': '!py'},\n",
    "{'contenu': 'Ajoutez un événement pour le 10 décembre à 19h00 : dîner avec les collègues.', 'intention': '!cal'},\n",
    "{'contenu': 'Planifier une réunion de suivi de projet pour le 22 novembre à 10h00.', 'intention': '!cal'},\n",
    "{'contenu': 'Fixer un rendez-vous pour un entretien de performance le 10 décembre à 11h00.', 'intention': '!cal'},\n",
    "{'contenu': 'Prévoir une session de brainstorming le 20 novembre à 10h00.', 'intention': '!cal'},\n",
    "{'contenu': \"Calculez l'intégrale d'une fonction quadratique x^2 entre 0 et 10.\", 'intention': '!py'},\n",
    "{'contenu': \"Planifier une rencontre avec l'équipe marketing le 20 novembre à 10h00.\", 'intention': '!cal'},\n",
    "{'contenu': 'Planifier un rendez-vous avec le client le 22 mai à 10h00.', 'intention': '!cal'},\n",
    "{'contenu': 'Que dit le Yi King à propos de ma décision de changer de carrière et de devenir écrivain ?', 'intention': '!yi'},\n",
    "{'contenu': \"Créez un graphique linéaire représentant l'évolution des ventes mensuelles sur un an.\", 'intention': '!py'},\n",
    "{'contenu': 'Pouvez-vous effectuer un tirage du Yi King à propos de ma décision de commencer une formation en ligne pour améliorer mes compétences professionnelles ?', 'intention': '!yi'},\n",
    "{'contenu': \"Quelle est l'influence de la philosophie des Lumières sur les révolutions française et américaine ?\", 'intention': '!inf'},\n",
    "{'contenu': 'Quels sont les événements marquants de la Guerre de Cent Ans ?', 'intention': '!inf'},\n",
    "{'contenu': \"Pouvez-vous faire un tirage Yi King à propos de ma décision de lancer un projet d'écriture créative ?\", 'intention': '!yi'},\n",
    "{'contenu': \"Que dit le Yi King à propos de ma décision d'écrire un livre sur mes voyages en Asie ?\", 'intention': '!yi'},\n",
    "{'contenu': 'Calculez le produit des 10 premiers nombres premiers.', 'intention': '!py'},\n",
    "{'contenu': 'Quels sont les événements majeurs de la Révolution française ?', 'intention': '!inf'},\n",
    "{'contenu': 'Calculez la somme des carrés des 20 premiers nombres impairs.', 'intention': '!py'},\n",
    "{'contenu': 'Quels sont les événements marquants de la révolution industrielle en Angleterre ?', 'intention': '!inf'},\n",
    "{'contenu': \"Calculez l'aire d'un triangle avec une base de 10 cm et une hauteur de 5 cm.\", 'intention': '!py'},\n",
    "{'contenu': 'Générez une séquence aléatoire de 10 chiffres.', 'intention': '!py'},\n",
    "{'contenu': 'Que dit le Yi King à propos de ma décision de changer de carrière pour devenir écrivain ?', 'intention': '!yi'},\n",
    "{'contenu': 'Calculez la moyenne des valeurs dans la liste [23, 56, 78, 34, 89, 12].', 'intention': '!py'},\n",
    "{'contenu': 'Calculez le produit des chiffres de 123456.', 'intention': '!py'},\n",
    "{'contenu': 'Programmer une session de brainstorming le 20 novembre à 10h00.', 'intention': '!cal'},\n",
    "{'contenu': 'Quelles étaient les causes et les conséquences de la Révolution industrielle en Angleterre ?', 'intention': '!inf'},\n",
    "{'contenu': 'Calculez le produit des 10 premiers nombres premiers.', 'intention': '!py'},\n",
    "{'contenu': 'Quelles ont été les principales innovations technologiques de la Révolution Industrielle ?', 'intention': '!inf'},\n",
    "{'contenu': 'Comment la machine à vapeur a-t-elle influencé la révolution industrielle ?', 'intention': '!inf'},\n",
    "{'contenu': 'Calculez le produit des chiffres de 123456.', 'intention': '!py'},\n",
    "{'contenu': 'Programmer un appel avec le fournisseur le 20 novembre à 10h00.', 'intention': '!cal'},\n",
    "{'contenu': \"Que dit le Yi King à propos de ma décision d'apprendre une nouvelle langue cette année ?\", 'intention': '!yi'},\n"
   ]
  },
  {
   "cell_type": "code",
   "execution_count": 9,
   "id": "863e0234-13cc-4196-ad01-27dce21939ec",
   "metadata": {},
   "outputs": [
    {
     "data": {
      "text/plain": [
       "['Combien de litre de chlore dois-je ajouter quotidiennement à ma piscine de 80 m3 ?',\n",
       " 'Quelle est la probabilité de que le cadran de ma montre digitale forme un palindrome quand je la consulte ?',\n",
       " \"Quel est le volume d'une sphère de 30 cm de rayon ?\"]"
      ]
     },
     "execution_count": 9,
     "metadata": {},
     "output_type": "execute_result"
    }
   ],
   "source": [
    "contenu_py = [item[\"contenu\"] for item in examples if item[\"intention\"] == \"!py\"]\n",
    "contenu_py"
   ]
  },
  {
   "cell_type": "code",
   "execution_count": 10,
   "id": "c26b4a38-e3bd-438a-b3db-2f99b689cad6",
   "metadata": {},
   "outputs": [],
   "source": [
    "intentions = [\n",
    "\"!yi\", #Tirage du Yi King\n",
    "\"!py\", #Calculs ou scripts Python\n",
    "\"!cal\", #Mise à jour du calendrier\n",
    "\"!inf\", #Requêtes d’information\n",
    "#\"!red\", #Archivage de notes\n",
    "]"
   ]
  },
  {
   "cell_type": "code",
   "execution_count": 15,
   "id": "9b880900-6508-4fe3-9e78-a4d60a4753ff",
   "metadata": {},
   "outputs": [],
   "source": [
    "# 🧠 Cellule 3 : Signature de génération d’une note\n",
    "class GenerateNote(dspy.Signature):\n",
    "    \"\"\"Génère un message dont le contenu exprime l'intention dont le code est passé en paramètre, ce message ne doit pas être répété\"\"\"\n",
    "    \n",
    "    intention:str = dspy.InputField(desc=\"Quelle intention est-elle contenue dans un message : '!yi' pour une demande de tirage du Yi King, '!py' pour un appel de programme python, '!cal' pour une mise à jour du calendrier, '!inf' pour une recherche d'information dans la base locale,\")\n",
    "    random_noise = dspy.InputField(desc=\"Bruit aléatoire pour diversité\", default=\"\")  # hack\n",
    "    contenu:str = dspy.OutputField(desc=\"\"\"\n",
    "    Contenu du message à générer, il doit exprimer l'intention dont le code est fourni en entrée, \n",
    "    - Dans le cas de '!py' ce message doit être une formulation directe, par exemple :'calculez le volume de la pyramide de Gizeh',\n",
    "      privilégier l'appel à des programmes existant, par exemple : 'calculez la factorielle de 15' plutôt que : 'écrivez un programme calculant la factorille d'un nombre donné', \n",
    "    - Eviter les questions liées à l'écologie pour la catégorie '!inf',\n",
    "    - Pour !yi posez des questions précises, par exemple : 'Que dit le Yi King à propos de ma décision de démissionner \n",
    "      pour rejoindre Albert dans son projet de startup ?' plutôt que 'Que dit le Yi King de ma situation professionnelle ?'\n",
    "    \"\"\")\n",
    "\n",
    "class NoteGenerator(dspy.Module):\n",
    "    def __init__(self):\n",
    "        super().__init__()\n",
    "        self.generate = dspy.Predict(GenerateNote)\n",
    "    \n",
    "    def forward(self, intention):\n",
    "        result = self.generate(intention=intention, random_noise=str(uuid.uuid4()))\n",
    "        print(f\"{intention}\")\n",
    "        return {\n",
    "            \"contenu\": result.contenu,\n",
    "        }"
   ]
  },
  {
   "cell_type": "code",
   "execution_count": 16,
   "id": "d7084ae6-6bae-465e-98f8-2065c8d7dc54",
   "metadata": {
    "scrolled": true
   },
   "outputs": [
    {
     "name": "stdout",
     "output_type": "stream",
     "text": [
      "11\n"
     ]
    },
    {
     "name": "stderr",
     "output_type": "stream",
     "text": [
      "  9%|▉         | 1/11 [00:01<00:14,  1.49s/it]"
     ]
    },
    {
     "name": "stdout",
     "output_type": "stream",
     "text": [
      "!yi\n"
     ]
    },
    {
     "name": "stderr",
     "output_type": "stream",
     "text": [
      " 18%|█▊        | 2/11 [00:02<00:13,  1.48s/it]"
     ]
    },
    {
     "name": "stdout",
     "output_type": "stream",
     "text": [
      "!yi\n"
     ]
    },
    {
     "name": "stderr",
     "output_type": "stream",
     "text": [
      " 27%|██▋       | 3/11 [00:04<00:10,  1.31s/it]"
     ]
    },
    {
     "name": "stdout",
     "output_type": "stream",
     "text": [
      "!py\n"
     ]
    },
    {
     "name": "stderr",
     "output_type": "stream",
     "text": [
      " 36%|███▋      | 4/11 [00:05<00:08,  1.24s/it]"
     ]
    },
    {
     "name": "stdout",
     "output_type": "stream",
     "text": [
      "!py\n"
     ]
    },
    {
     "name": "stderr",
     "output_type": "stream",
     "text": [
      " 45%|████▌     | 5/11 [00:06<00:07,  1.20s/it]"
     ]
    },
    {
     "name": "stdout",
     "output_type": "stream",
     "text": [
      "!py\n"
     ]
    },
    {
     "name": "stderr",
     "output_type": "stream",
     "text": [
      " 55%|█████▍    | 6/11 [00:07<00:06,  1.27s/it]"
     ]
    },
    {
     "name": "stdout",
     "output_type": "stream",
     "text": [
      "!cal\n"
     ]
    },
    {
     "name": "stderr",
     "output_type": "stream",
     "text": [
      " 64%|██████▎   | 7/11 [00:08<00:04,  1.22s/it]"
     ]
    },
    {
     "name": "stdout",
     "output_type": "stream",
     "text": [
      "!cal\n"
     ]
    },
    {
     "name": "stderr",
     "output_type": "stream",
     "text": [
      " 73%|███████▎  | 8/11 [00:10<00:03,  1.26s/it]"
     ]
    },
    {
     "name": "stdout",
     "output_type": "stream",
     "text": [
      "!cal\n"
     ]
    },
    {
     "name": "stderr",
     "output_type": "stream",
     "text": [
      " 82%|████████▏ | 9/11 [00:11<00:02,  1.19s/it]"
     ]
    },
    {
     "name": "stdout",
     "output_type": "stream",
     "text": [
      "!inf\n"
     ]
    },
    {
     "name": "stderr",
     "output_type": "stream",
     "text": [
      " 91%|█████████ | 10/11 [00:12<00:01,  1.14s/it]"
     ]
    },
    {
     "name": "stdout",
     "output_type": "stream",
     "text": [
      "!inf\n"
     ]
    },
    {
     "name": "stderr",
     "output_type": "stream",
     "text": [
      "100%|██████████| 11/11 [00:13<00:00,  1.22s/it]"
     ]
    },
    {
     "name": "stdout",
     "output_type": "stream",
     "text": [
      "!inf\n",
      "Bootstrapped 11 full traces after 10 examples for up to 5 rounds, amounting to 11 attempts.\n"
     ]
    },
    {
     "name": "stderr",
     "output_type": "stream",
     "text": [
      "\n"
     ]
    }
   ],
   "source": [
    "# Préparation des données d'entraînement\n",
    "#trainset = [\n",
    "#    dspy.Example(categorie=ex[\"categorie\"], theme=ex[\"expressions_clefs\"], source_type=ex[\"source_type\"], \n",
    "#                 output=json.dumps(ex)).with_inputs(\"categorie\", \"theme\",\"source_type\") for ex in examples]\n",
    "\n",
    "trainset = [\n",
    "    dspy.Example(\n",
    "        intention=ex[\"intention\"],\n",
    "        contenu=ex[\"contenu\"],\n",
    "    ).with_inputs(\"intention\")\n",
    "    for ex in examples\n",
    "]\n",
    "print(len(trainset))\n",
    "def semantic_metric(example, pred, trace=None):\n",
    "    if not isinstance(pred, dict) or \"contenu\" not in pred:\n",
    "        return False\n",
    "    new = pred[\"contenu\"].strip().lower()\n",
    "    ref = example.contenu.strip().lower()\n",
    "    return new != ref and len(new) > 10\n",
    "\n",
    "\n",
    "# Initialisation et entraînement\n",
    "generator = NoteGenerator()\n",
    "from dspy.teleprompt import BootstrapFewShot\n",
    "teleprompter = BootstrapFewShot(\n",
    "    metric=semantic_metric,\n",
    "    max_rounds=5,                # Nombre maximum de tours\n",
    "    max_bootstrapped_demos=100,   # Nombre maximal d'exemples à compiler\n",
    ")\n",
    "dspy.settings.cache = None\n",
    "compiled_generator = teleprompter.compile(generator, trainset=trainset)"
   ]
  },
  {
   "cell_type": "code",
   "execution_count": 17,
   "id": "f7e3819e-20f1-49bf-a763-1ecdab84c685",
   "metadata": {},
   "outputs": [
    {
     "name": "stdout",
     "output_type": "stream",
     "text": [
      "!py\n",
      "{'contenu': 'Calculez la somme des carrés des nombres de 1 à 50.'}\n",
      "!py\n",
      "{'contenu': 'Calculez la moyenne des nombres suivants : 12, 45, 78, 34, 56, 89, 23.'}\n",
      "!py\n",
      "{'contenu': 'Calculez le nombre de jours entre le 1er janvier 2024 et le 30 juin 2024.'}\n",
      "!py\n",
      "{'contenu': 'Calculez la somme des carrés des nombres de 1 à 100.'}\n",
      "!cal\n",
      "{'contenu': 'Planifiez une réunion de suivi du projet pour le 10/05/2024 à 16h00.'}\n",
      "!yi\n",
      "{'contenu': 'Que dit le Yi King à propos de mon projet de lancer une boutique en ligne spécialisée dans les produits artisanaux locaux ?'}\n",
      "!inf\n",
      "{'contenu': 'Quels sont les tableaux les plus célèbres réalisés par Claude Monet ?'}\n"
     ]
    }
   ],
   "source": [
    "res = compiled_generator(intention=\"!py\")\n",
    "print(res)\n",
    "res = compiled_generator(intention=\"!py\")\n",
    "print(res)\n",
    "res = compiled_generator(intention=\"!py\")\n",
    "print(res)\n",
    "res = compiled_generator(intention=\"!py\")\n",
    "print(res)\n",
    "res = compiled_generator(intention=\"!cal\")\n",
    "print(res)\n",
    "res = compiled_generator(intention=\"!yi\")\n",
    "print(res)\n",
    "res = compiled_generator(intention=\"!inf\")\n",
    "print(res)\n"
   ]
  },
  {
   "cell_type": "code",
   "execution_count": 14,
   "id": "44103aa3-c7d4-4625-b7fd-fa274fdfc7c4",
   "metadata": {},
   "outputs": [
    {
     "name": "stderr",
     "output_type": "stream",
     "text": [
      "Génération d'exemples:   0%|          | 1/1000 [00:01<22:03,  1.32s/it]"
     ]
    },
    {
     "name": "stdout",
     "output_type": "stream",
     "text": [
      "!yi\n"
     ]
    },
    {
     "name": "stderr",
     "output_type": "stream",
     "text": [
      "Génération d'exemples:   0%|          | 2/1000 [00:02<22:11,  1.33s/it]"
     ]
    },
    {
     "name": "stdout",
     "output_type": "stream",
     "text": [
      "!yi\n"
     ]
    },
    {
     "name": "stderr",
     "output_type": "stream",
     "text": [
      "Génération d'exemples:   0%|          | 3/1000 [00:04<25:04,  1.51s/it]"
     ]
    },
    {
     "name": "stdout",
     "output_type": "stream",
     "text": [
      "!cal\n"
     ]
    },
    {
     "name": "stderr",
     "output_type": "stream",
     "text": [
      "Génération d'exemples:   0%|          | 4/1000 [00:05<23:50,  1.44s/it]"
     ]
    },
    {
     "name": "stdout",
     "output_type": "stream",
     "text": [
      "!cal\n"
     ]
    },
    {
     "name": "stderr",
     "output_type": "stream",
     "text": [
      "Génération d'exemples:   0%|          | 5/1000 [00:07<23:29,  1.42s/it]"
     ]
    },
    {
     "name": "stdout",
     "output_type": "stream",
     "text": [
      "!yi\n"
     ]
    },
    {
     "name": "stderr",
     "output_type": "stream",
     "text": [
      "Génération d'exemples:   1%|          | 6/1000 [00:08<21:52,  1.32s/it]"
     ]
    },
    {
     "name": "stdout",
     "output_type": "stream",
     "text": [
      "!py\n"
     ]
    },
    {
     "name": "stderr",
     "output_type": "stream",
     "text": [
      "Génération d'exemples:   1%|          | 7/1000 [00:09<22:02,  1.33s/it]"
     ]
    },
    {
     "name": "stdout",
     "output_type": "stream",
     "text": [
      "!cal\n"
     ]
    },
    {
     "name": "stderr",
     "output_type": "stream",
     "text": [
      "Génération d'exemples:   1%|          | 8/1000 [00:11<23:17,  1.41s/it]"
     ]
    },
    {
     "name": "stdout",
     "output_type": "stream",
     "text": [
      "!inf\n"
     ]
    },
    {
     "name": "stderr",
     "output_type": "stream",
     "text": [
      "Génération d'exemples:   1%|          | 9/1000 [00:12<21:26,  1.30s/it]"
     ]
    },
    {
     "name": "stdout",
     "output_type": "stream",
     "text": [
      "!py\n"
     ]
    },
    {
     "name": "stderr",
     "output_type": "stream",
     "text": [
      "Génération d'exemples:   1%|          | 10/1000 [00:13<21:16,  1.29s/it]"
     ]
    },
    {
     "name": "stdout",
     "output_type": "stream",
     "text": [
      "!yi\n"
     ]
    },
    {
     "name": "stderr",
     "output_type": "stream",
     "text": [
      "Génération d'exemples:   1%|          | 11/1000 [00:14<19:57,  1.21s/it]"
     ]
    },
    {
     "name": "stdout",
     "output_type": "stream",
     "text": [
      "!py\n"
     ]
    },
    {
     "name": "stderr",
     "output_type": "stream",
     "text": [
      "Génération d'exemples:   1%|          | 12/1000 [00:15<20:07,  1.22s/it]"
     ]
    },
    {
     "name": "stdout",
     "output_type": "stream",
     "text": [
      "!cal\n"
     ]
    },
    {
     "name": "stderr",
     "output_type": "stream",
     "text": [
      "Génération d'exemples:   1%|▏         | 13/1000 [00:17<20:30,  1.25s/it]"
     ]
    },
    {
     "name": "stdout",
     "output_type": "stream",
     "text": [
      "!cal\n"
     ]
    },
    {
     "name": "stderr",
     "output_type": "stream",
     "text": [
      "Génération d'exemples:   1%|▏         | 14/1000 [00:18<23:25,  1.43s/it]"
     ]
    },
    {
     "name": "stdout",
     "output_type": "stream",
     "text": [
      "!py\n"
     ]
    },
    {
     "name": "stderr",
     "output_type": "stream",
     "text": [
      "Génération d'exemples:   2%|▏         | 15/1000 [00:20<23:06,  1.41s/it]"
     ]
    },
    {
     "name": "stdout",
     "output_type": "stream",
     "text": [
      "!yi\n"
     ]
    },
    {
     "name": "stderr",
     "output_type": "stream",
     "text": [
      "Génération d'exemples:   2%|▏         | 16/1000 [00:22<28:30,  1.74s/it]"
     ]
    },
    {
     "name": "stdout",
     "output_type": "stream",
     "text": [
      "!cal\n"
     ]
    },
    {
     "name": "stderr",
     "output_type": "stream",
     "text": [
      "Génération d'exemples:   2%|▏         | 17/1000 [00:24<28:10,  1.72s/it]"
     ]
    },
    {
     "name": "stdout",
     "output_type": "stream",
     "text": [
      "!cal\n"
     ]
    },
    {
     "name": "stderr",
     "output_type": "stream",
     "text": [
      "Génération d'exemples:   2%|▏         | 18/1000 [00:27<36:05,  2.20s/it]"
     ]
    },
    {
     "name": "stdout",
     "output_type": "stream",
     "text": [
      "!cal\n"
     ]
    },
    {
     "name": "stderr",
     "output_type": "stream",
     "text": [
      "Génération d'exemples:   2%|▏         | 19/1000 [00:29<31:48,  1.95s/it]"
     ]
    },
    {
     "name": "stdout",
     "output_type": "stream",
     "text": [
      "!py\n"
     ]
    },
    {
     "name": "stderr",
     "output_type": "stream",
     "text": [
      "Génération d'exemples:   2%|▏         | 20/1000 [00:30<28:29,  1.74s/it]"
     ]
    },
    {
     "name": "stdout",
     "output_type": "stream",
     "text": [
      "!cal\n"
     ]
    },
    {
     "name": "stderr",
     "output_type": "stream",
     "text": [
      "Génération d'exemples:   2%|▏         | 21/1000 [00:31<25:50,  1.58s/it]"
     ]
    },
    {
     "name": "stdout",
     "output_type": "stream",
     "text": [
      "!inf\n"
     ]
    },
    {
     "name": "stderr",
     "output_type": "stream",
     "text": [
      "Génération d'exemples:   2%|▏         | 22/1000 [00:32<24:32,  1.51s/it]"
     ]
    },
    {
     "name": "stdout",
     "output_type": "stream",
     "text": [
      "!py\n"
     ]
    },
    {
     "name": "stderr",
     "output_type": "stream",
     "text": [
      "Génération d'exemples:   2%|▏         | 23/1000 [00:34<23:29,  1.44s/it]"
     ]
    },
    {
     "name": "stdout",
     "output_type": "stream",
     "text": [
      "!yi\n"
     ]
    },
    {
     "name": "stderr",
     "output_type": "stream",
     "text": [
      "Génération d'exemples:   2%|▏         | 24/1000 [00:35<21:26,  1.32s/it]"
     ]
    },
    {
     "name": "stdout",
     "output_type": "stream",
     "text": [
      "!inf\n"
     ]
    },
    {
     "name": "stderr",
     "output_type": "stream",
     "text": [
      "Génération d'exemples:   2%|▎         | 25/1000 [00:36<21:32,  1.33s/it]"
     ]
    },
    {
     "name": "stdout",
     "output_type": "stream",
     "text": [
      "!cal\n"
     ]
    },
    {
     "name": "stderr",
     "output_type": "stream",
     "text": [
      "Génération d'exemples:   3%|▎         | 26/1000 [00:38<23:37,  1.46s/it]"
     ]
    },
    {
     "name": "stdout",
     "output_type": "stream",
     "text": [
      "!yi\n"
     ]
    },
    {
     "name": "stderr",
     "output_type": "stream",
     "text": [
      "Génération d'exemples:   3%|▎         | 27/1000 [00:39<22:48,  1.41s/it]"
     ]
    },
    {
     "name": "stdout",
     "output_type": "stream",
     "text": [
      "!yi\n"
     ]
    },
    {
     "name": "stderr",
     "output_type": "stream",
     "text": [
      "Génération d'exemples:   3%|▎         | 28/1000 [00:40<22:24,  1.38s/it]"
     ]
    },
    {
     "name": "stdout",
     "output_type": "stream",
     "text": [
      "!cal\n"
     ]
    },
    {
     "name": "stderr",
     "output_type": "stream",
     "text": [
      "Génération d'exemples:   3%|▎         | 29/1000 [00:42<20:55,  1.29s/it]"
     ]
    },
    {
     "name": "stdout",
     "output_type": "stream",
     "text": [
      "!py\n"
     ]
    },
    {
     "name": "stderr",
     "output_type": "stream",
     "text": [
      "Génération d'exemples:   3%|▎         | 30/1000 [00:43<20:12,  1.25s/it]"
     ]
    },
    {
     "name": "stdout",
     "output_type": "stream",
     "text": [
      "!inf\n"
     ]
    },
    {
     "name": "stderr",
     "output_type": "stream",
     "text": [
      "Génération d'exemples:   3%|▎         | 31/1000 [00:44<21:02,  1.30s/it]"
     ]
    },
    {
     "name": "stdout",
     "output_type": "stream",
     "text": [
      "!yi\n"
     ]
    },
    {
     "name": "stderr",
     "output_type": "stream",
     "text": [
      "Génération d'exemples:   3%|▎         | 32/1000 [00:45<20:28,  1.27s/it]"
     ]
    },
    {
     "name": "stdout",
     "output_type": "stream",
     "text": [
      "!yi\n"
     ]
    },
    {
     "name": "stderr",
     "output_type": "stream",
     "text": [
      "Génération d'exemples:   3%|▎         | 33/1000 [00:47<21:20,  1.32s/it]"
     ]
    },
    {
     "name": "stdout",
     "output_type": "stream",
     "text": [
      "!py\n"
     ]
    },
    {
     "name": "stderr",
     "output_type": "stream",
     "text": [
      "Génération d'exemples:   3%|▎         | 34/1000 [00:48<20:41,  1.28s/it]"
     ]
    },
    {
     "name": "stdout",
     "output_type": "stream",
     "text": [
      "!cal\n"
     ]
    },
    {
     "name": "stderr",
     "output_type": "stream",
     "text": [
      "Génération d'exemples:   4%|▎         | 35/1000 [00:50<23:12,  1.44s/it]"
     ]
    },
    {
     "name": "stdout",
     "output_type": "stream",
     "text": [
      "!py\n"
     ]
    },
    {
     "name": "stderr",
     "output_type": "stream",
     "text": [
      "Génération d'exemples:   4%|▎         | 36/1000 [00:53<30:33,  1.90s/it]"
     ]
    },
    {
     "name": "stdout",
     "output_type": "stream",
     "text": [
      "!inf\n"
     ]
    },
    {
     "name": "stderr",
     "output_type": "stream",
     "text": [
      "Génération d'exemples:   4%|▎         | 37/1000 [00:55<30:58,  1.93s/it]"
     ]
    },
    {
     "name": "stdout",
     "output_type": "stream",
     "text": [
      "!py\n"
     ]
    },
    {
     "name": "stderr",
     "output_type": "stream",
     "text": [
      "Génération d'exemples:   4%|▍         | 38/1000 [00:56<27:51,  1.74s/it]"
     ]
    },
    {
     "name": "stdout",
     "output_type": "stream",
     "text": [
      "!inf\n"
     ]
    },
    {
     "name": "stderr",
     "output_type": "stream",
     "text": [
      "Génération d'exemples:   4%|▍         | 39/1000 [00:58<27:09,  1.70s/it]"
     ]
    },
    {
     "name": "stdout",
     "output_type": "stream",
     "text": [
      "!cal\n"
     ]
    },
    {
     "name": "stderr",
     "output_type": "stream",
     "text": [
      "Génération d'exemples:   4%|▍         | 40/1000 [00:59<26:13,  1.64s/it]"
     ]
    },
    {
     "name": "stdout",
     "output_type": "stream",
     "text": [
      "!cal\n"
     ]
    },
    {
     "name": "stderr",
     "output_type": "stream",
     "text": [
      "Génération d'exemples:   4%|▍         | 41/1000 [01:00<24:10,  1.51s/it]"
     ]
    },
    {
     "name": "stdout",
     "output_type": "stream",
     "text": [
      "!yi\n"
     ]
    },
    {
     "name": "stderr",
     "output_type": "stream",
     "text": [
      "Génération d'exemples:   4%|▍         | 42/1000 [01:02<22:39,  1.42s/it]"
     ]
    },
    {
     "name": "stdout",
     "output_type": "stream",
     "text": [
      "!yi\n"
     ]
    },
    {
     "name": "stderr",
     "output_type": "stream",
     "text": [
      "Génération d'exemples:   4%|▍         | 43/1000 [01:03<21:20,  1.34s/it]"
     ]
    },
    {
     "name": "stdout",
     "output_type": "stream",
     "text": [
      "!py\n"
     ]
    },
    {
     "name": "stderr",
     "output_type": "stream",
     "text": [
      "Génération d'exemples:   4%|▍         | 44/1000 [01:04<21:11,  1.33s/it]"
     ]
    },
    {
     "name": "stdout",
     "output_type": "stream",
     "text": [
      "!py\n"
     ]
    },
    {
     "name": "stderr",
     "output_type": "stream",
     "text": [
      "Génération d'exemples:   4%|▍         | 45/1000 [01:05<20:04,  1.26s/it]"
     ]
    },
    {
     "name": "stdout",
     "output_type": "stream",
     "text": [
      "!inf\n"
     ]
    },
    {
     "name": "stderr",
     "output_type": "stream",
     "text": [
      "Génération d'exemples:   5%|▍         | 46/1000 [01:06<19:50,  1.25s/it]"
     ]
    },
    {
     "name": "stdout",
     "output_type": "stream",
     "text": [
      "!inf\n"
     ]
    },
    {
     "name": "stderr",
     "output_type": "stream",
     "text": [
      "Génération d'exemples:   5%|▍         | 47/1000 [01:08<24:03,  1.51s/it]"
     ]
    },
    {
     "name": "stdout",
     "output_type": "stream",
     "text": [
      "!cal\n"
     ]
    },
    {
     "name": "stderr",
     "output_type": "stream",
     "text": [
      "Génération d'exemples:   5%|▍         | 48/1000 [01:10<23:11,  1.46s/it]"
     ]
    },
    {
     "name": "stdout",
     "output_type": "stream",
     "text": [
      "!yi\n"
     ]
    },
    {
     "name": "stderr",
     "output_type": "stream",
     "text": [
      "Génération d'exemples:   5%|▍         | 49/1000 [01:11<23:05,  1.46s/it]"
     ]
    },
    {
     "name": "stdout",
     "output_type": "stream",
     "text": [
      "!py\n"
     ]
    },
    {
     "name": "stderr",
     "output_type": "stream",
     "text": [
      "Génération d'exemples:   5%|▌         | 50/1000 [01:13<22:33,  1.42s/it]"
     ]
    },
    {
     "name": "stdout",
     "output_type": "stream",
     "text": [
      "!cal\n"
     ]
    },
    {
     "name": "stderr",
     "output_type": "stream",
     "text": [
      "Génération d'exemples:   5%|▌         | 51/1000 [01:14<21:26,  1.36s/it]"
     ]
    },
    {
     "name": "stdout",
     "output_type": "stream",
     "text": [
      "!yi\n"
     ]
    },
    {
     "name": "stderr",
     "output_type": "stream",
     "text": [
      "Génération d'exemples:   5%|▌         | 52/1000 [01:15<22:12,  1.41s/it]"
     ]
    },
    {
     "name": "stdout",
     "output_type": "stream",
     "text": [
      "!cal\n"
     ]
    },
    {
     "name": "stderr",
     "output_type": "stream",
     "text": [
      "Génération d'exemples:   5%|▌         | 53/1000 [01:16<20:54,  1.32s/it]"
     ]
    },
    {
     "name": "stdout",
     "output_type": "stream",
     "text": [
      "!inf\n"
     ]
    },
    {
     "name": "stderr",
     "output_type": "stream",
     "text": [
      "Génération d'exemples:   5%|▌         | 54/1000 [01:18<20:53,  1.33s/it]"
     ]
    },
    {
     "name": "stdout",
     "output_type": "stream",
     "text": [
      "!py\n"
     ]
    },
    {
     "name": "stderr",
     "output_type": "stream",
     "text": [
      "Génération d'exemples:   6%|▌         | 55/1000 [01:19<20:38,  1.31s/it]"
     ]
    },
    {
     "name": "stdout",
     "output_type": "stream",
     "text": [
      "!yi\n"
     ]
    },
    {
     "name": "stderr",
     "output_type": "stream",
     "text": [
      "Génération d'exemples:   6%|▌         | 56/1000 [01:22<25:57,  1.65s/it]"
     ]
    },
    {
     "name": "stdout",
     "output_type": "stream",
     "text": [
      "!inf\n"
     ]
    },
    {
     "name": "stderr",
     "output_type": "stream",
     "text": [
      "Génération d'exemples:   6%|▌         | 57/1000 [01:23<24:16,  1.54s/it]"
     ]
    },
    {
     "name": "stdout",
     "output_type": "stream",
     "text": [
      "!inf\n"
     ]
    },
    {
     "name": "stderr",
     "output_type": "stream",
     "text": [
      "Génération d'exemples:   6%|▌         | 58/1000 [01:24<22:01,  1.40s/it]"
     ]
    },
    {
     "name": "stdout",
     "output_type": "stream",
     "text": [
      "!inf\n"
     ]
    },
    {
     "name": "stderr",
     "output_type": "stream",
     "text": [
      "Génération d'exemples:   6%|▌         | 59/1000 [01:25<21:30,  1.37s/it]"
     ]
    },
    {
     "name": "stdout",
     "output_type": "stream",
     "text": [
      "!yi\n"
     ]
    },
    {
     "name": "stderr",
     "output_type": "stream",
     "text": [
      "Génération d'exemples:   6%|▌         | 60/1000 [01:26<21:08,  1.35s/it]"
     ]
    },
    {
     "name": "stdout",
     "output_type": "stream",
     "text": [
      "!cal\n"
     ]
    },
    {
     "name": "stderr",
     "output_type": "stream",
     "text": [
      "Génération d'exemples:   6%|▌         | 61/1000 [01:28<20:05,  1.28s/it]"
     ]
    },
    {
     "name": "stdout",
     "output_type": "stream",
     "text": [
      "!py\n"
     ]
    },
    {
     "name": "stderr",
     "output_type": "stream",
     "text": [
      "Génération d'exemples:   6%|▌         | 62/1000 [01:29<19:40,  1.26s/it]"
     ]
    },
    {
     "name": "stdout",
     "output_type": "stream",
     "text": [
      "!inf\n"
     ]
    },
    {
     "name": "stderr",
     "output_type": "stream",
     "text": [
      "Génération d'exemples:   6%|▋         | 63/1000 [01:30<18:26,  1.18s/it]"
     ]
    },
    {
     "name": "stdout",
     "output_type": "stream",
     "text": [
      "!py\n"
     ]
    },
    {
     "name": "stderr",
     "output_type": "stream",
     "text": [
      "Génération d'exemples:   6%|▋         | 64/1000 [01:31<18:25,  1.18s/it]"
     ]
    },
    {
     "name": "stdout",
     "output_type": "stream",
     "text": [
      "!py\n"
     ]
    },
    {
     "name": "stderr",
     "output_type": "stream",
     "text": [
      "Génération d'exemples:   6%|▋         | 65/1000 [01:32<18:43,  1.20s/it]"
     ]
    },
    {
     "name": "stdout",
     "output_type": "stream",
     "text": [
      "!yi\n"
     ]
    },
    {
     "name": "stderr",
     "output_type": "stream",
     "text": [
      "Génération d'exemples:   7%|▋         | 66/1000 [01:33<18:47,  1.21s/it]"
     ]
    },
    {
     "name": "stdout",
     "output_type": "stream",
     "text": [
      "!yi\n"
     ]
    },
    {
     "name": "stderr",
     "output_type": "stream",
     "text": [
      "Génération d'exemples:   7%|▋         | 67/1000 [01:35<18:48,  1.21s/it]"
     ]
    },
    {
     "name": "stdout",
     "output_type": "stream",
     "text": [
      "!yi\n"
     ]
    },
    {
     "name": "stderr",
     "output_type": "stream",
     "text": [
      "Génération d'exemples:   7%|▋         | 68/1000 [01:36<19:48,  1.28s/it]"
     ]
    },
    {
     "name": "stdout",
     "output_type": "stream",
     "text": [
      "!cal\n"
     ]
    },
    {
     "name": "stderr",
     "output_type": "stream",
     "text": [
      "Génération d'exemples:   7%|▋         | 69/1000 [01:37<19:25,  1.25s/it]"
     ]
    },
    {
     "name": "stdout",
     "output_type": "stream",
     "text": [
      "!inf\n"
     ]
    },
    {
     "name": "stderr",
     "output_type": "stream",
     "text": [
      "Génération d'exemples:   7%|▋         | 70/1000 [01:39<20:49,  1.34s/it]"
     ]
    },
    {
     "name": "stdout",
     "output_type": "stream",
     "text": [
      "!cal\n"
     ]
    },
    {
     "name": "stderr",
     "output_type": "stream",
     "text": [
      "Génération d'exemples:   7%|▋         | 71/1000 [01:40<20:26,  1.32s/it]"
     ]
    },
    {
     "name": "stdout",
     "output_type": "stream",
     "text": [
      "!inf\n"
     ]
    },
    {
     "name": "stderr",
     "output_type": "stream",
     "text": [
      "Génération d'exemples:   7%|▋         | 72/1000 [01:41<19:21,  1.25s/it]"
     ]
    },
    {
     "name": "stdout",
     "output_type": "stream",
     "text": [
      "!py\n"
     ]
    },
    {
     "name": "stderr",
     "output_type": "stream",
     "text": [
      "Génération d'exemples:   7%|▋         | 73/1000 [01:43<19:45,  1.28s/it]"
     ]
    },
    {
     "name": "stdout",
     "output_type": "stream",
     "text": [
      "!cal\n"
     ]
    },
    {
     "name": "stderr",
     "output_type": "stream",
     "text": [
      "Génération d'exemples:   7%|▋         | 74/1000 [01:43<17:57,  1.16s/it]"
     ]
    },
    {
     "name": "stdout",
     "output_type": "stream",
     "text": [
      "!py\n"
     ]
    },
    {
     "name": "stderr",
     "output_type": "stream",
     "text": [
      "Génération d'exemples:   8%|▊         | 75/1000 [01:45<18:07,  1.18s/it]"
     ]
    },
    {
     "name": "stdout",
     "output_type": "stream",
     "text": [
      "!inf\n"
     ]
    },
    {
     "name": "stderr",
     "output_type": "stream",
     "text": [
      "Génération d'exemples:   8%|▊         | 76/1000 [01:46<18:03,  1.17s/it]"
     ]
    },
    {
     "name": "stdout",
     "output_type": "stream",
     "text": [
      "!inf\n"
     ]
    },
    {
     "name": "stderr",
     "output_type": "stream",
     "text": [
      "Génération d'exemples:   8%|▊         | 77/1000 [01:47<17:33,  1.14s/it]"
     ]
    },
    {
     "name": "stdout",
     "output_type": "stream",
     "text": [
      "!yi\n"
     ]
    },
    {
     "name": "stderr",
     "output_type": "stream",
     "text": [
      "Génération d'exemples:   8%|▊         | 78/1000 [01:48<17:52,  1.16s/it]"
     ]
    },
    {
     "name": "stdout",
     "output_type": "stream",
     "text": [
      "!cal\n"
     ]
    },
    {
     "name": "stderr",
     "output_type": "stream",
     "text": [
      "Génération d'exemples:   8%|▊         | 79/1000 [01:49<18:12,  1.19s/it]"
     ]
    },
    {
     "name": "stdout",
     "output_type": "stream",
     "text": [
      "!cal\n"
     ]
    },
    {
     "name": "stderr",
     "output_type": "stream",
     "text": [
      "Génération d'exemples:   8%|▊         | 80/1000 [01:51<18:08,  1.18s/it]"
     ]
    },
    {
     "name": "stdout",
     "output_type": "stream",
     "text": [
      "!yi\n"
     ]
    },
    {
     "name": "stderr",
     "output_type": "stream",
     "text": [
      "Génération d'exemples:   8%|▊         | 81/1000 [01:53<25:13,  1.65s/it]"
     ]
    },
    {
     "name": "stdout",
     "output_type": "stream",
     "text": [
      "!cal\n"
     ]
    },
    {
     "name": "stderr",
     "output_type": "stream",
     "text": [
      "Génération d'exemples:   8%|▊         | 82/1000 [01:54<22:54,  1.50s/it]"
     ]
    },
    {
     "name": "stdout",
     "output_type": "stream",
     "text": [
      "!yi\n"
     ]
    },
    {
     "name": "stderr",
     "output_type": "stream",
     "text": [
      "Génération d'exemples:   8%|▊         | 83/1000 [01:56<21:24,  1.40s/it]"
     ]
    },
    {
     "name": "stdout",
     "output_type": "stream",
     "text": [
      "!cal\n"
     ]
    },
    {
     "name": "stderr",
     "output_type": "stream",
     "text": [
      "Génération d'exemples:   8%|▊         | 84/1000 [01:57<19:49,  1.30s/it]"
     ]
    },
    {
     "name": "stdout",
     "output_type": "stream",
     "text": [
      "!py\n"
     ]
    },
    {
     "name": "stderr",
     "output_type": "stream",
     "text": [
      "Génération d'exemples:   8%|▊         | 85/1000 [01:58<18:58,  1.24s/it]"
     ]
    },
    {
     "name": "stdout",
     "output_type": "stream",
     "text": [
      "!py\n"
     ]
    },
    {
     "name": "stderr",
     "output_type": "stream",
     "text": [
      "Génération d'exemples:   9%|▊         | 86/1000 [01:59<18:15,  1.20s/it]"
     ]
    },
    {
     "name": "stdout",
     "output_type": "stream",
     "text": [
      "!inf\n"
     ]
    },
    {
     "name": "stderr",
     "output_type": "stream",
     "text": [
      "Génération d'exemples:   9%|▊         | 87/1000 [02:00<19:08,  1.26s/it]"
     ]
    },
    {
     "name": "stdout",
     "output_type": "stream",
     "text": [
      "!yi\n"
     ]
    },
    {
     "name": "stderr",
     "output_type": "stream",
     "text": [
      "Génération d'exemples:   9%|▉         | 88/1000 [02:01<19:05,  1.26s/it]"
     ]
    },
    {
     "name": "stdout",
     "output_type": "stream",
     "text": [
      "!yi\n"
     ]
    },
    {
     "name": "stderr",
     "output_type": "stream",
     "text": [
      "Génération d'exemples:   9%|▉         | 89/1000 [02:03<19:20,  1.27s/it]"
     ]
    },
    {
     "name": "stdout",
     "output_type": "stream",
     "text": [
      "!inf\n"
     ]
    },
    {
     "name": "stderr",
     "output_type": "stream",
     "text": [
      "Génération d'exemples:   9%|▉         | 90/1000 [02:04<17:48,  1.17s/it]"
     ]
    },
    {
     "name": "stdout",
     "output_type": "stream",
     "text": [
      "!inf\n"
     ]
    },
    {
     "name": "stderr",
     "output_type": "stream",
     "text": [
      "Génération d'exemples:   9%|▉         | 91/1000 [02:05<17:49,  1.18s/it]"
     ]
    },
    {
     "name": "stdout",
     "output_type": "stream",
     "text": [
      "!py\n"
     ]
    },
    {
     "name": "stderr",
     "output_type": "stream",
     "text": [
      "Génération d'exemples:   9%|▉         | 92/1000 [02:06<17:47,  1.18s/it]"
     ]
    },
    {
     "name": "stdout",
     "output_type": "stream",
     "text": [
      "!py\n"
     ]
    },
    {
     "name": "stderr",
     "output_type": "stream",
     "text": [
      "Génération d'exemples:   9%|▉         | 93/1000 [02:07<16:43,  1.11s/it]"
     ]
    },
    {
     "name": "stdout",
     "output_type": "stream",
     "text": [
      "!inf\n"
     ]
    },
    {
     "name": "stderr",
     "output_type": "stream",
     "text": [
      "Génération d'exemples:   9%|▉         | 94/1000 [02:08<15:55,  1.05s/it]"
     ]
    },
    {
     "name": "stdout",
     "output_type": "stream",
     "text": [
      "!inf\n"
     ]
    },
    {
     "name": "stderr",
     "output_type": "stream",
     "text": [
      "Génération d'exemples:  10%|▉         | 95/1000 [02:09<15:57,  1.06s/it]"
     ]
    },
    {
     "name": "stdout",
     "output_type": "stream",
     "text": [
      "!yi\n"
     ]
    },
    {
     "name": "stderr",
     "output_type": "stream",
     "text": [
      "Génération d'exemples:  10%|▉         | 96/1000 [02:10<15:35,  1.03s/it]"
     ]
    },
    {
     "name": "stdout",
     "output_type": "stream",
     "text": [
      "!inf\n"
     ]
    },
    {
     "name": "stderr",
     "output_type": "stream",
     "text": [
      "Génération d'exemples:  10%|▉         | 97/1000 [02:11<16:34,  1.10s/it]"
     ]
    },
    {
     "name": "stdout",
     "output_type": "stream",
     "text": [
      "!inf\n"
     ]
    },
    {
     "name": "stderr",
     "output_type": "stream",
     "text": [
      "Génération d'exemples:  10%|▉         | 98/1000 [02:12<17:01,  1.13s/it]"
     ]
    },
    {
     "name": "stdout",
     "output_type": "stream",
     "text": [
      "!cal\n"
     ]
    },
    {
     "name": "stderr",
     "output_type": "stream",
     "text": [
      "Génération d'exemples:  10%|▉         | 99/1000 [02:14<17:13,  1.15s/it]"
     ]
    },
    {
     "name": "stdout",
     "output_type": "stream",
     "text": [
      "!py\n"
     ]
    },
    {
     "name": "stderr",
     "output_type": "stream",
     "text": [
      "Génération d'exemples:  10%|█         | 100/1000 [02:15<17:09,  1.14s/it]"
     ]
    },
    {
     "name": "stdout",
     "output_type": "stream",
     "text": [
      "!py\n"
     ]
    },
    {
     "name": "stderr",
     "output_type": "stream",
     "text": [
      "Génération d'exemples:  10%|█         | 101/1000 [02:16<16:02,  1.07s/it]"
     ]
    },
    {
     "name": "stdout",
     "output_type": "stream",
     "text": [
      "!py\n"
     ]
    },
    {
     "name": "stderr",
     "output_type": "stream",
     "text": [
      "Génération d'exemples:  10%|█         | 102/1000 [02:17<16:52,  1.13s/it]"
     ]
    },
    {
     "name": "stdout",
     "output_type": "stream",
     "text": [
      "!py\n"
     ]
    },
    {
     "name": "stderr",
     "output_type": "stream",
     "text": [
      "Génération d'exemples:  10%|█         | 103/1000 [02:18<16:51,  1.13s/it]"
     ]
    },
    {
     "name": "stdout",
     "output_type": "stream",
     "text": [
      "!yi\n"
     ]
    },
    {
     "name": "stderr",
     "output_type": "stream",
     "text": [
      "Génération d'exemples:  10%|█         | 104/1000 [02:19<16:18,  1.09s/it]"
     ]
    },
    {
     "name": "stdout",
     "output_type": "stream",
     "text": [
      "!inf\n"
     ]
    },
    {
     "name": "stderr",
     "output_type": "stream",
     "text": [
      "Génération d'exemples:  10%|█         | 105/1000 [02:20<16:37,  1.11s/it]"
     ]
    },
    {
     "name": "stdout",
     "output_type": "stream",
     "text": [
      "!cal\n"
     ]
    },
    {
     "name": "stderr",
     "output_type": "stream",
     "text": [
      "Génération d'exemples:  11%|█         | 106/1000 [02:22<20:54,  1.40s/it]"
     ]
    },
    {
     "name": "stdout",
     "output_type": "stream",
     "text": [
      "!py\n"
     ]
    },
    {
     "name": "stderr",
     "output_type": "stream",
     "text": [
      "Génération d'exemples:  11%|█         | 107/1000 [02:24<19:48,  1.33s/it]"
     ]
    },
    {
     "name": "stdout",
     "output_type": "stream",
     "text": [
      "!py\n"
     ]
    },
    {
     "name": "stderr",
     "output_type": "stream",
     "text": [
      "Génération d'exemples:  11%|█         | 108/1000 [02:25<18:33,  1.25s/it]"
     ]
    },
    {
     "name": "stdout",
     "output_type": "stream",
     "text": [
      "!inf\n"
     ]
    },
    {
     "name": "stderr",
     "output_type": "stream",
     "text": [
      "Génération d'exemples:  11%|█         | 109/1000 [02:26<17:32,  1.18s/it]"
     ]
    },
    {
     "name": "stdout",
     "output_type": "stream",
     "text": [
      "!inf\n"
     ]
    },
    {
     "name": "stderr",
     "output_type": "stream",
     "text": [
      "Génération d'exemples:  11%|█         | 110/1000 [02:27<17:16,  1.16s/it]"
     ]
    },
    {
     "name": "stdout",
     "output_type": "stream",
     "text": [
      "!inf\n"
     ]
    },
    {
     "name": "stderr",
     "output_type": "stream",
     "text": [
      "Génération d'exemples:  11%|█         | 111/1000 [02:28<17:24,  1.17s/it]"
     ]
    },
    {
     "name": "stdout",
     "output_type": "stream",
     "text": [
      "!cal\n"
     ]
    },
    {
     "name": "stderr",
     "output_type": "stream",
     "text": [
      "Génération d'exemples:  11%|█         | 112/1000 [02:29<17:59,  1.22s/it]"
     ]
    },
    {
     "name": "stdout",
     "output_type": "stream",
     "text": [
      "!inf\n"
     ]
    },
    {
     "name": "stderr",
     "output_type": "stream",
     "text": [
      "Génération d'exemples:  11%|█▏        | 113/1000 [02:30<17:10,  1.16s/it]"
     ]
    },
    {
     "name": "stdout",
     "output_type": "stream",
     "text": [
      "!inf\n"
     ]
    },
    {
     "name": "stderr",
     "output_type": "stream",
     "text": [
      "Génération d'exemples:  11%|█▏        | 114/1000 [02:32<17:40,  1.20s/it]"
     ]
    },
    {
     "name": "stdout",
     "output_type": "stream",
     "text": [
      "!cal\n"
     ]
    },
    {
     "name": "stderr",
     "output_type": "stream",
     "text": [
      "Génération d'exemples:  12%|█▏        | 115/1000 [02:33<19:47,  1.34s/it]"
     ]
    },
    {
     "name": "stdout",
     "output_type": "stream",
     "text": [
      "!yi\n"
     ]
    },
    {
     "name": "stderr",
     "output_type": "stream",
     "text": [
      "Génération d'exemples:  12%|█▏        | 116/1000 [02:34<18:34,  1.26s/it]"
     ]
    },
    {
     "name": "stdout",
     "output_type": "stream",
     "text": [
      "!inf\n"
     ]
    },
    {
     "name": "stderr",
     "output_type": "stream",
     "text": [
      "Génération d'exemples:  12%|█▏        | 117/1000 [02:36<18:50,  1.28s/it]"
     ]
    },
    {
     "name": "stdout",
     "output_type": "stream",
     "text": [
      "!cal\n"
     ]
    },
    {
     "name": "stderr",
     "output_type": "stream",
     "text": [
      "Génération d'exemples:  12%|█▏        | 118/1000 [02:37<17:59,  1.22s/it]"
     ]
    },
    {
     "name": "stdout",
     "output_type": "stream",
     "text": [
      "!cal\n"
     ]
    },
    {
     "name": "stderr",
     "output_type": "stream",
     "text": [
      "Génération d'exemples:  12%|█▏        | 119/1000 [02:38<17:07,  1.17s/it]"
     ]
    },
    {
     "name": "stdout",
     "output_type": "stream",
     "text": [
      "!cal\n"
     ]
    },
    {
     "name": "stderr",
     "output_type": "stream",
     "text": [
      "Génération d'exemples:  12%|█▏        | 120/1000 [02:39<16:42,  1.14s/it]"
     ]
    },
    {
     "name": "stdout",
     "output_type": "stream",
     "text": [
      "!inf\n"
     ]
    },
    {
     "name": "stderr",
     "output_type": "stream",
     "text": [
      "Génération d'exemples:  12%|█▏        | 121/1000 [02:40<16:11,  1.11s/it]"
     ]
    },
    {
     "name": "stdout",
     "output_type": "stream",
     "text": [
      "!yi\n"
     ]
    },
    {
     "name": "stderr",
     "output_type": "stream",
     "text": [
      "Génération d'exemples:  12%|█▏        | 122/1000 [02:41<16:18,  1.11s/it]"
     ]
    },
    {
     "name": "stdout",
     "output_type": "stream",
     "text": [
      "!yi\n"
     ]
    },
    {
     "name": "stderr",
     "output_type": "stream",
     "text": [
      "Génération d'exemples:  12%|█▏        | 123/1000 [02:42<17:38,  1.21s/it]"
     ]
    },
    {
     "name": "stdout",
     "output_type": "stream",
     "text": [
      "!inf\n"
     ]
    },
    {
     "name": "stderr",
     "output_type": "stream",
     "text": [
      "Génération d'exemples:  12%|█▏        | 124/1000 [02:44<18:21,  1.26s/it]"
     ]
    },
    {
     "name": "stdout",
     "output_type": "stream",
     "text": [
      "!yi\n"
     ]
    },
    {
     "name": "stderr",
     "output_type": "stream",
     "text": [
      "Génération d'exemples:  12%|█▎        | 125/1000 [02:45<19:54,  1.37s/it]"
     ]
    },
    {
     "name": "stdout",
     "output_type": "stream",
     "text": [
      "!cal\n"
     ]
    },
    {
     "name": "stderr",
     "output_type": "stream",
     "text": [
      "Génération d'exemples:  13%|█▎        | 126/1000 [02:47<19:12,  1.32s/it]"
     ]
    },
    {
     "name": "stdout",
     "output_type": "stream",
     "text": [
      "!cal\n"
     ]
    },
    {
     "name": "stderr",
     "output_type": "stream",
     "text": [
      "Génération d'exemples:  13%|█▎        | 127/1000 [02:48<18:42,  1.29s/it]"
     ]
    },
    {
     "name": "stdout",
     "output_type": "stream",
     "text": [
      "!cal\n"
     ]
    },
    {
     "name": "stderr",
     "output_type": "stream",
     "text": [
      "Génération d'exemples:  13%|█▎        | 128/1000 [02:49<20:08,  1.39s/it]"
     ]
    },
    {
     "name": "stdout",
     "output_type": "stream",
     "text": [
      "!yi\n"
     ]
    },
    {
     "name": "stderr",
     "output_type": "stream",
     "text": [
      "Génération d'exemples:  13%|█▎        | 129/1000 [02:51<21:08,  1.46s/it]"
     ]
    },
    {
     "name": "stdout",
     "output_type": "stream",
     "text": [
      "!inf\n"
     ]
    },
    {
     "name": "stderr",
     "output_type": "stream",
     "text": [
      "Génération d'exemples:  13%|█▎        | 130/1000 [02:57<38:47,  2.68s/it]"
     ]
    },
    {
     "name": "stdout",
     "output_type": "stream",
     "text": [
      "!py\n"
     ]
    },
    {
     "name": "stderr",
     "output_type": "stream",
     "text": [
      "Génération d'exemples:  13%|█▎        | 131/1000 [02:58<33:09,  2.29s/it]"
     ]
    },
    {
     "name": "stdout",
     "output_type": "stream",
     "text": [
      "!inf\n"
     ]
    },
    {
     "name": "stderr",
     "output_type": "stream",
     "text": [
      "Génération d'exemples:  13%|█▎        | 132/1000 [02:59<27:23,  1.89s/it]"
     ]
    },
    {
     "name": "stdout",
     "output_type": "stream",
     "text": [
      "!py\n"
     ]
    },
    {
     "name": "stderr",
     "output_type": "stream",
     "text": [
      "Génération d'exemples:  13%|█▎        | 133/1000 [03:00<24:27,  1.69s/it]"
     ]
    },
    {
     "name": "stdout",
     "output_type": "stream",
     "text": [
      "!yi\n"
     ]
    },
    {
     "name": "stderr",
     "output_type": "stream",
     "text": [
      "Génération d'exemples:  13%|█▎        | 134/1000 [03:01<21:47,  1.51s/it]"
     ]
    },
    {
     "name": "stdout",
     "output_type": "stream",
     "text": [
      "!py\n"
     ]
    },
    {
     "name": "stderr",
     "output_type": "stream",
     "text": [
      "Génération d'exemples:  14%|█▎        | 135/1000 [03:03<20:50,  1.45s/it]"
     ]
    },
    {
     "name": "stdout",
     "output_type": "stream",
     "text": [
      "!cal\n"
     ]
    },
    {
     "name": "stderr",
     "output_type": "stream",
     "text": [
      "Génération d'exemples:  14%|█▎        | 136/1000 [03:04<19:16,  1.34s/it]"
     ]
    },
    {
     "name": "stdout",
     "output_type": "stream",
     "text": [
      "!yi\n"
     ]
    },
    {
     "name": "stderr",
     "output_type": "stream",
     "text": [
      "Génération d'exemples:  14%|█▎        | 137/1000 [03:05<17:44,  1.23s/it]"
     ]
    },
    {
     "name": "stdout",
     "output_type": "stream",
     "text": [
      "!inf\n"
     ]
    },
    {
     "name": "stderr",
     "output_type": "stream",
     "text": [
      "Génération d'exemples:  14%|█▍        | 138/1000 [03:06<18:58,  1.32s/it]"
     ]
    },
    {
     "name": "stdout",
     "output_type": "stream",
     "text": [
      "!yi\n"
     ]
    },
    {
     "name": "stderr",
     "output_type": "stream",
     "text": [
      "Génération d'exemples:  14%|█▍        | 139/1000 [03:07<18:24,  1.28s/it]"
     ]
    },
    {
     "name": "stdout",
     "output_type": "stream",
     "text": [
      "!inf\n"
     ]
    },
    {
     "name": "stderr",
     "output_type": "stream",
     "text": [
      "Génération d'exemples:  14%|█▍        | 140/1000 [03:09<18:25,  1.29s/it]"
     ]
    },
    {
     "name": "stdout",
     "output_type": "stream",
     "text": [
      "!inf\n"
     ]
    },
    {
     "name": "stderr",
     "output_type": "stream",
     "text": [
      "Génération d'exemples:  14%|█▍        | 141/1000 [03:10<18:21,  1.28s/it]"
     ]
    },
    {
     "name": "stdout",
     "output_type": "stream",
     "text": [
      "!py\n"
     ]
    },
    {
     "name": "stderr",
     "output_type": "stream",
     "text": [
      "Génération d'exemples:  14%|█▍        | 142/1000 [03:11<17:35,  1.23s/it]"
     ]
    },
    {
     "name": "stdout",
     "output_type": "stream",
     "text": [
      "!py\n"
     ]
    },
    {
     "name": "stderr",
     "output_type": "stream",
     "text": [
      "Génération d'exemples:  14%|█▍        | 143/1000 [03:12<17:09,  1.20s/it]"
     ]
    },
    {
     "name": "stdout",
     "output_type": "stream",
     "text": [
      "!py\n"
     ]
    },
    {
     "name": "stderr",
     "output_type": "stream",
     "text": [
      "Génération d'exemples:  14%|█▍        | 144/1000 [03:13<17:00,  1.19s/it]"
     ]
    },
    {
     "name": "stdout",
     "output_type": "stream",
     "text": [
      "!cal\n"
     ]
    },
    {
     "name": "stderr",
     "output_type": "stream",
     "text": [
      "Génération d'exemples:  14%|█▍        | 145/1000 [03:14<16:17,  1.14s/it]"
     ]
    },
    {
     "name": "stdout",
     "output_type": "stream",
     "text": [
      "!yi\n"
     ]
    },
    {
     "name": "stderr",
     "output_type": "stream",
     "text": [
      "Génération d'exemples:  15%|█▍        | 146/1000 [03:15<15:57,  1.12s/it]"
     ]
    },
    {
     "name": "stdout",
     "output_type": "stream",
     "text": [
      "!cal\n"
     ]
    },
    {
     "name": "stderr",
     "output_type": "stream",
     "text": [
      "Génération d'exemples:  15%|█▍        | 147/1000 [03:17<16:29,  1.16s/it]"
     ]
    },
    {
     "name": "stdout",
     "output_type": "stream",
     "text": [
      "!inf\n"
     ]
    },
    {
     "name": "stderr",
     "output_type": "stream",
     "text": [
      "Génération d'exemples:  15%|█▍        | 148/1000 [03:18<17:58,  1.27s/it]"
     ]
    },
    {
     "name": "stdout",
     "output_type": "stream",
     "text": [
      "!yi\n"
     ]
    },
    {
     "name": "stderr",
     "output_type": "stream",
     "text": [
      "Génération d'exemples:  15%|█▍        | 149/1000 [03:19<17:34,  1.24s/it]"
     ]
    },
    {
     "name": "stdout",
     "output_type": "stream",
     "text": [
      "!inf\n"
     ]
    },
    {
     "name": "stderr",
     "output_type": "stream",
     "text": [
      "Génération d'exemples:  15%|█▌        | 150/1000 [03:22<23:06,  1.63s/it]"
     ]
    },
    {
     "name": "stdout",
     "output_type": "stream",
     "text": [
      "!py\n"
     ]
    },
    {
     "name": "stderr",
     "output_type": "stream",
     "text": [
      "Génération d'exemples:  15%|█▌        | 151/1000 [03:24<23:05,  1.63s/it]"
     ]
    },
    {
     "name": "stdout",
     "output_type": "stream",
     "text": [
      "!inf\n"
     ]
    },
    {
     "name": "stderr",
     "output_type": "stream",
     "text": [
      "Génération d'exemples:  15%|█▌        | 152/1000 [03:25<23:33,  1.67s/it]"
     ]
    },
    {
     "name": "stdout",
     "output_type": "stream",
     "text": [
      "!cal\n"
     ]
    },
    {
     "name": "stderr",
     "output_type": "stream",
     "text": [
      "Génération d'exemples:  15%|█▌        | 153/1000 [03:27<24:18,  1.72s/it]"
     ]
    },
    {
     "name": "stdout",
     "output_type": "stream",
     "text": [
      "!inf\n"
     ]
    },
    {
     "name": "stderr",
     "output_type": "stream",
     "text": [
      "Génération d'exemples:  15%|█▌        | 154/1000 [03:28<21:22,  1.52s/it]"
     ]
    },
    {
     "name": "stdout",
     "output_type": "stream",
     "text": [
      "!py\n"
     ]
    },
    {
     "name": "stderr",
     "output_type": "stream",
     "text": [
      "Génération d'exemples:  16%|█▌        | 155/1000 [03:29<20:26,  1.45s/it]"
     ]
    },
    {
     "name": "stdout",
     "output_type": "stream",
     "text": [
      "!yi\n"
     ]
    },
    {
     "name": "stderr",
     "output_type": "stream",
     "text": [
      "Génération d'exemples:  16%|█▌        | 156/1000 [03:31<18:45,  1.33s/it]"
     ]
    },
    {
     "name": "stdout",
     "output_type": "stream",
     "text": [
      "!yi\n"
     ]
    },
    {
     "name": "stderr",
     "output_type": "stream",
     "text": [
      "Génération d'exemples:  16%|█▌        | 157/1000 [03:32<17:45,  1.26s/it]"
     ]
    },
    {
     "name": "stdout",
     "output_type": "stream",
     "text": [
      "!py\n"
     ]
    },
    {
     "name": "stderr",
     "output_type": "stream",
     "text": [
      "Génération d'exemples:  16%|█▌        | 158/1000 [03:33<18:56,  1.35s/it]"
     ]
    },
    {
     "name": "stdout",
     "output_type": "stream",
     "text": [
      "!yi\n"
     ]
    },
    {
     "name": "stderr",
     "output_type": "stream",
     "text": [
      "Génération d'exemples:  16%|█▌        | 159/1000 [03:34<17:46,  1.27s/it]"
     ]
    },
    {
     "name": "stdout",
     "output_type": "stream",
     "text": [
      "!inf\n"
     ]
    },
    {
     "name": "stderr",
     "output_type": "stream",
     "text": [
      "Génération d'exemples:  16%|█▌        | 160/1000 [03:35<16:47,  1.20s/it]"
     ]
    },
    {
     "name": "stdout",
     "output_type": "stream",
     "text": [
      "!cal\n"
     ]
    },
    {
     "name": "stderr",
     "output_type": "stream",
     "text": [
      "Génération d'exemples:  16%|█▌        | 161/1000 [03:36<15:20,  1.10s/it]"
     ]
    },
    {
     "name": "stdout",
     "output_type": "stream",
     "text": [
      "!yi\n"
     ]
    },
    {
     "name": "stderr",
     "output_type": "stream",
     "text": [
      "Génération d'exemples:  16%|█▌        | 162/1000 [03:37<15:25,  1.10s/it]"
     ]
    },
    {
     "name": "stdout",
     "output_type": "stream",
     "text": [
      "!yi\n"
     ]
    },
    {
     "name": "stderr",
     "output_type": "stream",
     "text": [
      "Génération d'exemples:  16%|█▋        | 163/1000 [03:38<15:51,  1.14s/it]"
     ]
    },
    {
     "name": "stdout",
     "output_type": "stream",
     "text": [
      "!py\n"
     ]
    },
    {
     "name": "stderr",
     "output_type": "stream",
     "text": [
      "Génération d'exemples:  16%|█▋        | 164/1000 [03:40<16:59,  1.22s/it]"
     ]
    },
    {
     "name": "stdout",
     "output_type": "stream",
     "text": [
      "!yi\n"
     ]
    },
    {
     "name": "stderr",
     "output_type": "stream",
     "text": [
      "Génération d'exemples:  16%|█▋        | 165/1000 [03:41<15:59,  1.15s/it]"
     ]
    },
    {
     "name": "stdout",
     "output_type": "stream",
     "text": [
      "!cal\n"
     ]
    },
    {
     "name": "stderr",
     "output_type": "stream",
     "text": [
      "Génération d'exemples:  17%|█▋        | 166/1000 [03:42<17:29,  1.26s/it]"
     ]
    },
    {
     "name": "stdout",
     "output_type": "stream",
     "text": [
      "!cal\n"
     ]
    },
    {
     "name": "stderr",
     "output_type": "stream",
     "text": [
      "Génération d'exemples:  17%|█▋        | 167/1000 [03:43<16:21,  1.18s/it]"
     ]
    },
    {
     "name": "stdout",
     "output_type": "stream",
     "text": [
      "!yi\n"
     ]
    },
    {
     "name": "stderr",
     "output_type": "stream",
     "text": [
      "Génération d'exemples:  17%|█▋        | 168/1000 [03:45<16:29,  1.19s/it]"
     ]
    },
    {
     "name": "stdout",
     "output_type": "stream",
     "text": [
      "!yi\n"
     ]
    },
    {
     "name": "stderr",
     "output_type": "stream",
     "text": [
      "Génération d'exemples:  17%|█▋        | 169/1000 [03:46<16:54,  1.22s/it]"
     ]
    },
    {
     "name": "stdout",
     "output_type": "stream",
     "text": [
      "!inf\n"
     ]
    },
    {
     "name": "stderr",
     "output_type": "stream",
     "text": [
      "Génération d'exemples:  17%|█▋        | 170/1000 [03:47<18:26,  1.33s/it]"
     ]
    },
    {
     "name": "stdout",
     "output_type": "stream",
     "text": [
      "!py\n"
     ]
    },
    {
     "name": "stderr",
     "output_type": "stream",
     "text": [
      "Génération d'exemples:  17%|█▋        | 171/1000 [03:49<17:08,  1.24s/it]"
     ]
    },
    {
     "name": "stdout",
     "output_type": "stream",
     "text": [
      "!py\n"
     ]
    },
    {
     "name": "stderr",
     "output_type": "stream",
     "text": [
      "Génération d'exemples:  17%|█▋        | 172/1000 [03:50<16:55,  1.23s/it]"
     ]
    },
    {
     "name": "stdout",
     "output_type": "stream",
     "text": [
      "!inf\n"
     ]
    },
    {
     "name": "stderr",
     "output_type": "stream",
     "text": [
      "Génération d'exemples:  17%|█▋        | 173/1000 [03:51<17:19,  1.26s/it]"
     ]
    },
    {
     "name": "stdout",
     "output_type": "stream",
     "text": [
      "!inf\n"
     ]
    },
    {
     "name": "stderr",
     "output_type": "stream",
     "text": [
      "Génération d'exemples:  17%|█▋        | 174/1000 [03:52<18:05,  1.31s/it]"
     ]
    },
    {
     "name": "stdout",
     "output_type": "stream",
     "text": [
      "!yi\n"
     ]
    },
    {
     "name": "stderr",
     "output_type": "stream",
     "text": [
      "Génération d'exemples:  18%|█▊        | 175/1000 [03:54<18:17,  1.33s/it]"
     ]
    },
    {
     "name": "stdout",
     "output_type": "stream",
     "text": [
      "!inf\n"
     ]
    },
    {
     "name": "stderr",
     "output_type": "stream",
     "text": [
      "Génération d'exemples:  18%|█▊        | 176/1000 [03:55<18:02,  1.31s/it]"
     ]
    },
    {
     "name": "stdout",
     "output_type": "stream",
     "text": [
      "!yi\n"
     ]
    },
    {
     "name": "stderr",
     "output_type": "stream",
     "text": [
      "Génération d'exemples:  18%|█▊        | 177/1000 [03:57<18:34,  1.35s/it]"
     ]
    },
    {
     "name": "stdout",
     "output_type": "stream",
     "text": [
      "!yi\n"
     ]
    },
    {
     "name": "stderr",
     "output_type": "stream",
     "text": [
      "Génération d'exemples:  18%|█▊        | 178/1000 [03:58<17:40,  1.29s/it]"
     ]
    },
    {
     "name": "stdout",
     "output_type": "stream",
     "text": [
      "!cal\n"
     ]
    },
    {
     "name": "stderr",
     "output_type": "stream",
     "text": [
      "Génération d'exemples:  18%|█▊        | 179/1000 [03:59<17:46,  1.30s/it]"
     ]
    },
    {
     "name": "stdout",
     "output_type": "stream",
     "text": [
      "!cal\n"
     ]
    },
    {
     "name": "stderr",
     "output_type": "stream",
     "text": [
      "Génération d'exemples:  18%|█▊        | 180/1000 [04:00<16:54,  1.24s/it]"
     ]
    },
    {
     "name": "stdout",
     "output_type": "stream",
     "text": [
      "!yi\n"
     ]
    },
    {
     "name": "stderr",
     "output_type": "stream",
     "text": [
      "Génération d'exemples:  18%|█▊        | 181/1000 [04:01<16:51,  1.23s/it]"
     ]
    },
    {
     "name": "stdout",
     "output_type": "stream",
     "text": [
      "!inf\n"
     ]
    },
    {
     "name": "stderr",
     "output_type": "stream",
     "text": [
      "Génération d'exemples:  18%|█▊        | 182/1000 [04:03<16:59,  1.25s/it]"
     ]
    },
    {
     "name": "stdout",
     "output_type": "stream",
     "text": [
      "!py\n"
     ]
    },
    {
     "name": "stderr",
     "output_type": "stream",
     "text": [
      "Génération d'exemples:  18%|█▊        | 183/1000 [04:04<16:15,  1.19s/it]"
     ]
    },
    {
     "name": "stdout",
     "output_type": "stream",
     "text": [
      "!yi\n"
     ]
    },
    {
     "name": "stderr",
     "output_type": "stream",
     "text": [
      "Génération d'exemples:  18%|█▊        | 184/1000 [04:05<17:21,  1.28s/it]"
     ]
    },
    {
     "name": "stdout",
     "output_type": "stream",
     "text": [
      "!yi\n"
     ]
    },
    {
     "name": "stderr",
     "output_type": "stream",
     "text": [
      "Génération d'exemples:  18%|█▊        | 185/1000 [04:07<18:02,  1.33s/it]"
     ]
    },
    {
     "name": "stdout",
     "output_type": "stream",
     "text": [
      "!cal\n"
     ]
    },
    {
     "name": "stderr",
     "output_type": "stream",
     "text": [
      "Génération d'exemples:  19%|█▊        | 186/1000 [04:08<18:29,  1.36s/it]"
     ]
    },
    {
     "name": "stdout",
     "output_type": "stream",
     "text": [
      "!yi\n"
     ]
    },
    {
     "name": "stderr",
     "output_type": "stream",
     "text": [
      "Génération d'exemples:  19%|█▊        | 187/1000 [04:09<18:36,  1.37s/it]"
     ]
    },
    {
     "name": "stdout",
     "output_type": "stream",
     "text": [
      "!yi\n"
     ]
    },
    {
     "name": "stderr",
     "output_type": "stream",
     "text": [
      "Génération d'exemples:  19%|█▉        | 188/1000 [04:11<17:49,  1.32s/it]"
     ]
    },
    {
     "name": "stdout",
     "output_type": "stream",
     "text": [
      "!py\n"
     ]
    },
    {
     "name": "stderr",
     "output_type": "stream",
     "text": [
      "Génération d'exemples:  19%|█▉        | 189/1000 [04:12<17:35,  1.30s/it]"
     ]
    },
    {
     "name": "stdout",
     "output_type": "stream",
     "text": [
      "!py\n"
     ]
    },
    {
     "name": "stderr",
     "output_type": "stream",
     "text": [
      "Génération d'exemples:  19%|█▉        | 190/1000 [04:13<17:53,  1.33s/it]"
     ]
    },
    {
     "name": "stdout",
     "output_type": "stream",
     "text": [
      "!cal\n"
     ]
    },
    {
     "name": "stderr",
     "output_type": "stream",
     "text": [
      "Génération d'exemples:  19%|█▉        | 191/1000 [04:15<17:24,  1.29s/it]"
     ]
    },
    {
     "name": "stdout",
     "output_type": "stream",
     "text": [
      "!cal\n"
     ]
    },
    {
     "name": "stderr",
     "output_type": "stream",
     "text": [
      "Génération d'exemples:  19%|█▉        | 192/1000 [04:16<18:33,  1.38s/it]"
     ]
    },
    {
     "name": "stdout",
     "output_type": "stream",
     "text": [
      "!yi\n"
     ]
    },
    {
     "name": "stderr",
     "output_type": "stream",
     "text": [
      "Génération d'exemples:  19%|█▉        | 193/1000 [04:17<17:48,  1.32s/it]"
     ]
    },
    {
     "name": "stdout",
     "output_type": "stream",
     "text": [
      "!cal\n"
     ]
    },
    {
     "name": "stderr",
     "output_type": "stream",
     "text": [
      "Génération d'exemples:  19%|█▉        | 194/1000 [04:19<18:42,  1.39s/it]"
     ]
    },
    {
     "name": "stdout",
     "output_type": "stream",
     "text": [
      "!cal\n"
     ]
    },
    {
     "name": "stderr",
     "output_type": "stream",
     "text": [
      "Génération d'exemples:  20%|█▉        | 195/1000 [04:20<17:50,  1.33s/it]"
     ]
    },
    {
     "name": "stdout",
     "output_type": "stream",
     "text": [
      "!cal\n"
     ]
    },
    {
     "name": "stderr",
     "output_type": "stream",
     "text": [
      "Génération d'exemples:  20%|█▉        | 196/1000 [04:21<17:34,  1.31s/it]"
     ]
    },
    {
     "name": "stdout",
     "output_type": "stream",
     "text": [
      "!yi\n"
     ]
    },
    {
     "name": "stderr",
     "output_type": "stream",
     "text": [
      "Génération d'exemples:  20%|█▉        | 197/1000 [04:22<16:45,  1.25s/it]"
     ]
    },
    {
     "name": "stdout",
     "output_type": "stream",
     "text": [
      "!inf\n"
     ]
    },
    {
     "name": "stderr",
     "output_type": "stream",
     "text": [
      "Génération d'exemples:  20%|█▉        | 198/1000 [04:24<18:32,  1.39s/it]"
     ]
    },
    {
     "name": "stdout",
     "output_type": "stream",
     "text": [
      "!py\n"
     ]
    },
    {
     "name": "stderr",
     "output_type": "stream",
     "text": [
      "Génération d'exemples:  20%|█▉        | 199/1000 [04:25<17:13,  1.29s/it]"
     ]
    },
    {
     "name": "stdout",
     "output_type": "stream",
     "text": [
      "!yi\n"
     ]
    },
    {
     "name": "stderr",
     "output_type": "stream",
     "text": [
      "Génération d'exemples:  20%|██        | 200/1000 [04:26<16:36,  1.25s/it]"
     ]
    },
    {
     "name": "stdout",
     "output_type": "stream",
     "text": [
      "!inf\n"
     ]
    },
    {
     "name": "stderr",
     "output_type": "stream",
     "text": [
      "Génération d'exemples:  20%|██        | 201/1000 [04:28<16:26,  1.23s/it]"
     ]
    },
    {
     "name": "stdout",
     "output_type": "stream",
     "text": [
      "!inf\n"
     ]
    },
    {
     "name": "stderr",
     "output_type": "stream",
     "text": [
      "Génération d'exemples:  20%|██        | 202/1000 [04:29<16:57,  1.28s/it]"
     ]
    },
    {
     "name": "stdout",
     "output_type": "stream",
     "text": [
      "!yi\n"
     ]
    },
    {
     "name": "stderr",
     "output_type": "stream",
     "text": [
      "Génération d'exemples:  20%|██        | 203/1000 [04:30<15:32,  1.17s/it]"
     ]
    },
    {
     "name": "stdout",
     "output_type": "stream",
     "text": [
      "!cal\n"
     ]
    },
    {
     "name": "stderr",
     "output_type": "stream",
     "text": [
      "Génération d'exemples:  20%|██        | 204/1000 [04:31<15:36,  1.18s/it]"
     ]
    },
    {
     "name": "stdout",
     "output_type": "stream",
     "text": [
      "!inf\n"
     ]
    },
    {
     "name": "stderr",
     "output_type": "stream",
     "text": [
      "Génération d'exemples:  20%|██        | 205/1000 [04:32<15:27,  1.17s/it]"
     ]
    },
    {
     "name": "stdout",
     "output_type": "stream",
     "text": [
      "!yi\n"
     ]
    },
    {
     "name": "stderr",
     "output_type": "stream",
     "text": [
      "Génération d'exemples:  21%|██        | 206/1000 [04:33<15:17,  1.16s/it]"
     ]
    },
    {
     "name": "stdout",
     "output_type": "stream",
     "text": [
      "!py\n"
     ]
    },
    {
     "name": "stderr",
     "output_type": "stream",
     "text": [
      "Génération d'exemples:  21%|██        | 207/1000 [04:34<15:03,  1.14s/it]"
     ]
    },
    {
     "name": "stdout",
     "output_type": "stream",
     "text": [
      "!cal\n"
     ]
    },
    {
     "name": "stderr",
     "output_type": "stream",
     "text": [
      "Génération d'exemples:  21%|██        | 208/1000 [04:36<15:02,  1.14s/it]"
     ]
    },
    {
     "name": "stdout",
     "output_type": "stream",
     "text": [
      "!cal\n"
     ]
    },
    {
     "name": "stderr",
     "output_type": "stream",
     "text": [
      "Génération d'exemples:  21%|██        | 209/1000 [04:37<14:29,  1.10s/it]"
     ]
    },
    {
     "name": "stdout",
     "output_type": "stream",
     "text": [
      "!cal\n"
     ]
    },
    {
     "name": "stderr",
     "output_type": "stream",
     "text": [
      "Génération d'exemples:  21%|██        | 210/1000 [04:38<14:53,  1.13s/it]"
     ]
    },
    {
     "name": "stdout",
     "output_type": "stream",
     "text": [
      "!inf\n"
     ]
    },
    {
     "name": "stderr",
     "output_type": "stream",
     "text": [
      "Génération d'exemples:  21%|██        | 211/1000 [04:39<14:21,  1.09s/it]"
     ]
    },
    {
     "name": "stdout",
     "output_type": "stream",
     "text": [
      "!yi\n"
     ]
    },
    {
     "name": "stderr",
     "output_type": "stream",
     "text": [
      "Génération d'exemples:  21%|██        | 212/1000 [04:40<14:42,  1.12s/it]"
     ]
    },
    {
     "name": "stdout",
     "output_type": "stream",
     "text": [
      "!yi\n"
     ]
    },
    {
     "name": "stderr",
     "output_type": "stream",
     "text": [
      "Génération d'exemples:  21%|██▏       | 213/1000 [04:41<15:21,  1.17s/it]"
     ]
    },
    {
     "name": "stdout",
     "output_type": "stream",
     "text": [
      "!yi\n"
     ]
    },
    {
     "name": "stderr",
     "output_type": "stream",
     "text": [
      "Génération d'exemples:  21%|██▏       | 214/1000 [04:42<14:57,  1.14s/it]"
     ]
    },
    {
     "name": "stdout",
     "output_type": "stream",
     "text": [
      "!py\n"
     ]
    },
    {
     "name": "stderr",
     "output_type": "stream",
     "text": [
      "Génération d'exemples:  22%|██▏       | 215/1000 [04:44<15:34,  1.19s/it]"
     ]
    },
    {
     "name": "stdout",
     "output_type": "stream",
     "text": [
      "!cal\n"
     ]
    },
    {
     "name": "stderr",
     "output_type": "stream",
     "text": [
      "Génération d'exemples:  22%|██▏       | 216/1000 [04:45<15:26,  1.18s/it]"
     ]
    },
    {
     "name": "stdout",
     "output_type": "stream",
     "text": [
      "!inf\n"
     ]
    },
    {
     "name": "stderr",
     "output_type": "stream",
     "text": [
      "Génération d'exemples:  22%|██▏       | 217/1000 [04:46<15:18,  1.17s/it]"
     ]
    },
    {
     "name": "stdout",
     "output_type": "stream",
     "text": [
      "!cal\n"
     ]
    },
    {
     "name": "stderr",
     "output_type": "stream",
     "text": [
      "Génération d'exemples:  22%|██▏       | 218/1000 [04:47<15:03,  1.15s/it]"
     ]
    },
    {
     "name": "stdout",
     "output_type": "stream",
     "text": [
      "!yi\n"
     ]
    },
    {
     "name": "stderr",
     "output_type": "stream",
     "text": [
      "Génération d'exemples:  22%|██▏       | 219/1000 [04:48<14:06,  1.08s/it]"
     ]
    },
    {
     "name": "stdout",
     "output_type": "stream",
     "text": [
      "!inf\n"
     ]
    },
    {
     "name": "stderr",
     "output_type": "stream",
     "text": [
      "Génération d'exemples:  22%|██▏       | 220/1000 [04:49<14:44,  1.13s/it]"
     ]
    },
    {
     "name": "stdout",
     "output_type": "stream",
     "text": [
      "!cal\n"
     ]
    },
    {
     "name": "stderr",
     "output_type": "stream",
     "text": [
      "Génération d'exemples:  22%|██▏       | 221/1000 [04:51<16:48,  1.29s/it]"
     ]
    },
    {
     "name": "stdout",
     "output_type": "stream",
     "text": [
      "!cal\n"
     ]
    },
    {
     "name": "stderr",
     "output_type": "stream",
     "text": [
      "Génération d'exemples:  22%|██▏       | 222/1000 [04:52<16:46,  1.29s/it]"
     ]
    },
    {
     "name": "stdout",
     "output_type": "stream",
     "text": [
      "!inf\n"
     ]
    },
    {
     "name": "stderr",
     "output_type": "stream",
     "text": [
      "Génération d'exemples:  22%|██▏       | 223/1000 [04:55<21:23,  1.65s/it]"
     ]
    },
    {
     "name": "stdout",
     "output_type": "stream",
     "text": [
      "!cal\n"
     ]
    },
    {
     "name": "stderr",
     "output_type": "stream",
     "text": [
      "Génération d'exemples:  22%|██▏       | 224/1000 [04:56<19:26,  1.50s/it]"
     ]
    },
    {
     "name": "stdout",
     "output_type": "stream",
     "text": [
      "!yi\n"
     ]
    },
    {
     "name": "stderr",
     "output_type": "stream",
     "text": [
      "Génération d'exemples:  22%|██▎       | 225/1000 [04:57<18:31,  1.43s/it]"
     ]
    },
    {
     "name": "stdout",
     "output_type": "stream",
     "text": [
      "!py\n"
     ]
    },
    {
     "name": "stderr",
     "output_type": "stream",
     "text": [
      "Génération d'exemples:  23%|██▎       | 226/1000 [04:58<17:52,  1.39s/it]"
     ]
    },
    {
     "name": "stdout",
     "output_type": "stream",
     "text": [
      "!py\n"
     ]
    },
    {
     "name": "stderr",
     "output_type": "stream",
     "text": [
      "Génération d'exemples:  23%|██▎       | 227/1000 [04:59<16:14,  1.26s/it]"
     ]
    },
    {
     "name": "stdout",
     "output_type": "stream",
     "text": [
      "!inf\n"
     ]
    },
    {
     "name": "stderr",
     "output_type": "stream",
     "text": [
      "Génération d'exemples:  23%|██▎       | 228/1000 [05:00<15:12,  1.18s/it]"
     ]
    },
    {
     "name": "stdout",
     "output_type": "stream",
     "text": [
      "!yi\n"
     ]
    },
    {
     "name": "stderr",
     "output_type": "stream",
     "text": [
      "Génération d'exemples:  23%|██▎       | 229/1000 [05:02<16:02,  1.25s/it]"
     ]
    },
    {
     "name": "stdout",
     "output_type": "stream",
     "text": [
      "!cal\n"
     ]
    },
    {
     "name": "stderr",
     "output_type": "stream",
     "text": [
      "Génération d'exemples:  23%|██▎       | 230/1000 [05:03<14:52,  1.16s/it]"
     ]
    },
    {
     "name": "stdout",
     "output_type": "stream",
     "text": [
      "!yi\n"
     ]
    },
    {
     "name": "stderr",
     "output_type": "stream",
     "text": [
      "Génération d'exemples:  23%|██▎       | 231/1000 [05:04<14:38,  1.14s/it]"
     ]
    },
    {
     "name": "stdout",
     "output_type": "stream",
     "text": [
      "!yi\n"
     ]
    },
    {
     "name": "stderr",
     "output_type": "stream",
     "text": [
      "Génération d'exemples:  23%|██▎       | 232/1000 [05:05<13:38,  1.07s/it]"
     ]
    },
    {
     "name": "stdout",
     "output_type": "stream",
     "text": [
      "!inf\n"
     ]
    },
    {
     "name": "stderr",
     "output_type": "stream",
     "text": [
      "Génération d'exemples:  23%|██▎       | 233/1000 [05:06<13:28,  1.05s/it]"
     ]
    },
    {
     "name": "stdout",
     "output_type": "stream",
     "text": [
      "!py\n"
     ]
    },
    {
     "name": "stderr",
     "output_type": "stream",
     "text": [
      "Génération d'exemples:  23%|██▎       | 234/1000 [05:07<14:25,  1.13s/it]"
     ]
    },
    {
     "name": "stdout",
     "output_type": "stream",
     "text": [
      "!cal\n"
     ]
    },
    {
     "name": "stderr",
     "output_type": "stream",
     "text": [
      "Génération d'exemples:  24%|██▎       | 235/1000 [05:08<13:18,  1.04s/it]"
     ]
    },
    {
     "name": "stdout",
     "output_type": "stream",
     "text": [
      "!py\n"
     ]
    },
    {
     "name": "stderr",
     "output_type": "stream",
     "text": [
      "Génération d'exemples:  24%|██▎       | 236/1000 [05:09<14:14,  1.12s/it]"
     ]
    },
    {
     "name": "stdout",
     "output_type": "stream",
     "text": [
      "!inf\n"
     ]
    },
    {
     "name": "stderr",
     "output_type": "stream",
     "text": [
      "Génération d'exemples:  24%|██▎       | 237/1000 [05:10<13:52,  1.09s/it]"
     ]
    },
    {
     "name": "stdout",
     "output_type": "stream",
     "text": [
      "!py\n"
     ]
    },
    {
     "name": "stderr",
     "output_type": "stream",
     "text": [
      "Génération d'exemples:  24%|██▍       | 238/1000 [05:11<13:34,  1.07s/it]"
     ]
    },
    {
     "name": "stdout",
     "output_type": "stream",
     "text": [
      "!yi\n"
     ]
    },
    {
     "name": "stderr",
     "output_type": "stream",
     "text": [
      "Génération d'exemples:  24%|██▍       | 239/1000 [05:12<12:59,  1.02s/it]"
     ]
    },
    {
     "name": "stdout",
     "output_type": "stream",
     "text": [
      "!inf\n"
     ]
    },
    {
     "name": "stderr",
     "output_type": "stream",
     "text": [
      "Génération d'exemples:  24%|██▍       | 240/1000 [05:13<13:20,  1.05s/it]"
     ]
    },
    {
     "name": "stdout",
     "output_type": "stream",
     "text": [
      "!py\n"
     ]
    },
    {
     "name": "stderr",
     "output_type": "stream",
     "text": [
      "Génération d'exemples:  24%|██▍       | 241/1000 [05:14<13:03,  1.03s/it]"
     ]
    },
    {
     "name": "stdout",
     "output_type": "stream",
     "text": [
      "!inf\n"
     ]
    },
    {
     "name": "stderr",
     "output_type": "stream",
     "text": [
      "Génération d'exemples:  24%|██▍       | 242/1000 [05:15<12:43,  1.01s/it]"
     ]
    },
    {
     "name": "stdout",
     "output_type": "stream",
     "text": [
      "!inf\n"
     ]
    },
    {
     "name": "stderr",
     "output_type": "stream",
     "text": [
      "Génération d'exemples:  24%|██▍       | 243/1000 [05:16<13:28,  1.07s/it]"
     ]
    },
    {
     "name": "stdout",
     "output_type": "stream",
     "text": [
      "!cal\n"
     ]
    },
    {
     "name": "stderr",
     "output_type": "stream",
     "text": [
      "Génération d'exemples:  24%|██▍       | 244/1000 [05:17<13:23,  1.06s/it]"
     ]
    },
    {
     "name": "stdout",
     "output_type": "stream",
     "text": [
      "!yi\n"
     ]
    },
    {
     "name": "stderr",
     "output_type": "stream",
     "text": [
      "Génération d'exemples:  24%|██▍       | 245/1000 [05:18<13:27,  1.07s/it]"
     ]
    },
    {
     "name": "stdout",
     "output_type": "stream",
     "text": [
      "!cal\n"
     ]
    },
    {
     "name": "stderr",
     "output_type": "stream",
     "text": [
      "Génération d'exemples:  25%|██▍       | 246/1000 [05:20<15:24,  1.23s/it]"
     ]
    },
    {
     "name": "stdout",
     "output_type": "stream",
     "text": [
      "!yi\n"
     ]
    },
    {
     "name": "stderr",
     "output_type": "stream",
     "text": [
      "Génération d'exemples:  25%|██▍       | 247/1000 [05:21<14:55,  1.19s/it]"
     ]
    },
    {
     "name": "stdout",
     "output_type": "stream",
     "text": [
      "!yi\n"
     ]
    },
    {
     "name": "stderr",
     "output_type": "stream",
     "text": [
      "Génération d'exemples:  25%|██▍       | 248/1000 [05:22<13:52,  1.11s/it]"
     ]
    },
    {
     "name": "stdout",
     "output_type": "stream",
     "text": [
      "!py\n"
     ]
    },
    {
     "name": "stderr",
     "output_type": "stream",
     "text": [
      "Génération d'exemples:  25%|██▍       | 249/1000 [05:23<13:41,  1.09s/it]"
     ]
    },
    {
     "name": "stdout",
     "output_type": "stream",
     "text": [
      "!inf\n"
     ]
    },
    {
     "name": "stderr",
     "output_type": "stream",
     "text": [
      "Génération d'exemples:  25%|██▌       | 250/1000 [05:25<16:23,  1.31s/it]"
     ]
    },
    {
     "name": "stdout",
     "output_type": "stream",
     "text": [
      "!py\n"
     ]
    },
    {
     "name": "stderr",
     "output_type": "stream",
     "text": [
      "Génération d'exemples:  25%|██▌       | 251/1000 [05:26<16:05,  1.29s/it]"
     ]
    },
    {
     "name": "stdout",
     "output_type": "stream",
     "text": [
      "!cal\n"
     ]
    },
    {
     "name": "stderr",
     "output_type": "stream",
     "text": [
      "Génération d'exemples:  25%|██▌       | 252/1000 [05:27<14:36,  1.17s/it]"
     ]
    },
    {
     "name": "stdout",
     "output_type": "stream",
     "text": [
      "!py\n"
     ]
    },
    {
     "name": "stderr",
     "output_type": "stream",
     "text": [
      "Génération d'exemples:  25%|██▌       | 253/1000 [05:28<14:21,  1.15s/it]"
     ]
    },
    {
     "name": "stdout",
     "output_type": "stream",
     "text": [
      "!yi\n"
     ]
    },
    {
     "name": "stderr",
     "output_type": "stream",
     "text": [
      "Génération d'exemples:  25%|██▌       | 254/1000 [05:29<14:33,  1.17s/it]"
     ]
    },
    {
     "name": "stdout",
     "output_type": "stream",
     "text": [
      "!py\n"
     ]
    },
    {
     "name": "stderr",
     "output_type": "stream",
     "text": [
      "Génération d'exemples:  26%|██▌       | 255/1000 [05:31<15:42,  1.27s/it]"
     ]
    },
    {
     "name": "stdout",
     "output_type": "stream",
     "text": [
      "!cal\n"
     ]
    },
    {
     "name": "stderr",
     "output_type": "stream",
     "text": [
      "Génération d'exemples:  26%|██▌       | 256/1000 [05:32<15:56,  1.29s/it]"
     ]
    },
    {
     "name": "stdout",
     "output_type": "stream",
     "text": [
      "!cal\n"
     ]
    },
    {
     "name": "stderr",
     "output_type": "stream",
     "text": [
      "Génération d'exemples:  26%|██▌       | 257/1000 [05:34<15:52,  1.28s/it]"
     ]
    },
    {
     "name": "stdout",
     "output_type": "stream",
     "text": [
      "!inf\n"
     ]
    },
    {
     "name": "stderr",
     "output_type": "stream",
     "text": [
      "Génération d'exemples:  26%|██▌       | 258/1000 [05:35<15:15,  1.23s/it]"
     ]
    },
    {
     "name": "stdout",
     "output_type": "stream",
     "text": [
      "!yi\n"
     ]
    },
    {
     "name": "stderr",
     "output_type": "stream",
     "text": [
      "Génération d'exemples:  26%|██▌       | 259/1000 [05:36<13:58,  1.13s/it]"
     ]
    },
    {
     "name": "stdout",
     "output_type": "stream",
     "text": [
      "!inf\n"
     ]
    },
    {
     "name": "stderr",
     "output_type": "stream",
     "text": [
      "Génération d'exemples:  26%|██▌       | 260/1000 [05:36<13:20,  1.08s/it]"
     ]
    },
    {
     "name": "stdout",
     "output_type": "stream",
     "text": [
      "!py\n"
     ]
    },
    {
     "name": "stderr",
     "output_type": "stream",
     "text": [
      "Génération d'exemples:  26%|██▌       | 261/1000 [05:38<13:58,  1.13s/it]"
     ]
    },
    {
     "name": "stdout",
     "output_type": "stream",
     "text": [
      "!yi\n"
     ]
    },
    {
     "name": "stderr",
     "output_type": "stream",
     "text": [
      "Génération d'exemples:  26%|██▌       | 262/1000 [05:40<16:25,  1.34s/it]"
     ]
    },
    {
     "name": "stdout",
     "output_type": "stream",
     "text": [
      "!cal\n"
     ]
    },
    {
     "name": "stderr",
     "output_type": "stream",
     "text": [
      "Génération d'exemples:  26%|██▋       | 263/1000 [05:41<16:54,  1.38s/it]"
     ]
    },
    {
     "name": "stdout",
     "output_type": "stream",
     "text": [
      "!yi\n"
     ]
    },
    {
     "name": "stderr",
     "output_type": "stream",
     "text": [
      "Génération d'exemples:  26%|██▋       | 264/1000 [05:42<14:46,  1.20s/it]"
     ]
    },
    {
     "name": "stdout",
     "output_type": "stream",
     "text": [
      "!inf\n"
     ]
    },
    {
     "name": "stderr",
     "output_type": "stream",
     "text": [
      "Génération d'exemples:  26%|██▋       | 265/1000 [05:43<16:04,  1.31s/it]"
     ]
    },
    {
     "name": "stdout",
     "output_type": "stream",
     "text": [
      "!inf\n"
     ]
    },
    {
     "name": "stderr",
     "output_type": "stream",
     "text": [
      "Génération d'exemples:  27%|██▋       | 266/1000 [05:45<16:27,  1.35s/it]"
     ]
    },
    {
     "name": "stdout",
     "output_type": "stream",
     "text": [
      "!yi\n"
     ]
    },
    {
     "name": "stderr",
     "output_type": "stream",
     "text": [
      "Génération d'exemples:  27%|██▋       | 267/1000 [05:46<16:46,  1.37s/it]"
     ]
    },
    {
     "name": "stdout",
     "output_type": "stream",
     "text": [
      "!yi\n"
     ]
    },
    {
     "name": "stderr",
     "output_type": "stream",
     "text": [
      "Génération d'exemples:  27%|██▋       | 268/1000 [05:48<16:20,  1.34s/it]"
     ]
    },
    {
     "name": "stdout",
     "output_type": "stream",
     "text": [
      "!cal\n"
     ]
    },
    {
     "name": "stderr",
     "output_type": "stream",
     "text": [
      "Génération d'exemples:  27%|██▋       | 269/1000 [05:48<14:25,  1.18s/it]"
     ]
    },
    {
     "name": "stdout",
     "output_type": "stream",
     "text": [
      "!inf\n"
     ]
    },
    {
     "name": "stderr",
     "output_type": "stream",
     "text": [
      "Génération d'exemples:  27%|██▋       | 270/1000 [05:49<13:50,  1.14s/it]"
     ]
    },
    {
     "name": "stdout",
     "output_type": "stream",
     "text": [
      "!py\n"
     ]
    },
    {
     "name": "stderr",
     "output_type": "stream",
     "text": [
      "Génération d'exemples:  27%|██▋       | 271/1000 [05:51<13:59,  1.15s/it]"
     ]
    },
    {
     "name": "stdout",
     "output_type": "stream",
     "text": [
      "!inf\n"
     ]
    },
    {
     "name": "stderr",
     "output_type": "stream",
     "text": [
      "Génération d'exemples:  27%|██▋       | 272/1000 [05:52<14:32,  1.20s/it]"
     ]
    },
    {
     "name": "stdout",
     "output_type": "stream",
     "text": [
      "!yi\n"
     ]
    },
    {
     "name": "stderr",
     "output_type": "stream",
     "text": [
      "Génération d'exemples:  27%|██▋       | 273/1000 [05:54<18:04,  1.49s/it]"
     ]
    },
    {
     "name": "stdout",
     "output_type": "stream",
     "text": [
      "!inf\n"
     ]
    },
    {
     "name": "stderr",
     "output_type": "stream",
     "text": [
      "Génération d'exemples:  27%|██▋       | 274/1000 [05:56<19:34,  1.62s/it]"
     ]
    },
    {
     "name": "stdout",
     "output_type": "stream",
     "text": [
      "!py\n"
     ]
    },
    {
     "name": "stderr",
     "output_type": "stream",
     "text": [
      "Génération d'exemples:  28%|██▊       | 275/1000 [05:57<18:01,  1.49s/it]"
     ]
    },
    {
     "name": "stdout",
     "output_type": "stream",
     "text": [
      "!inf\n"
     ]
    },
    {
     "name": "stderr",
     "output_type": "stream",
     "text": [
      "Génération d'exemples:  28%|██▊       | 276/1000 [05:58<17:15,  1.43s/it]"
     ]
    },
    {
     "name": "stdout",
     "output_type": "stream",
     "text": [
      "!yi\n"
     ]
    },
    {
     "name": "stderr",
     "output_type": "stream",
     "text": [
      "Génération d'exemples:  28%|██▊       | 277/1000 [06:00<16:15,  1.35s/it]"
     ]
    },
    {
     "name": "stdout",
     "output_type": "stream",
     "text": [
      "!cal\n"
     ]
    },
    {
     "name": "stderr",
     "output_type": "stream",
     "text": [
      "Génération d'exemples:  28%|██▊       | 278/1000 [06:01<15:36,  1.30s/it]"
     ]
    },
    {
     "name": "stdout",
     "output_type": "stream",
     "text": [
      "!cal\n"
     ]
    },
    {
     "name": "stderr",
     "output_type": "stream",
     "text": [
      "Génération d'exemples:  28%|██▊       | 279/1000 [06:02<16:03,  1.34s/it]"
     ]
    },
    {
     "name": "stdout",
     "output_type": "stream",
     "text": [
      "!cal\n"
     ]
    },
    {
     "name": "stderr",
     "output_type": "stream",
     "text": [
      "Génération d'exemples:  28%|██▊       | 280/1000 [06:04<16:07,  1.34s/it]"
     ]
    },
    {
     "name": "stdout",
     "output_type": "stream",
     "text": [
      "!inf\n"
     ]
    },
    {
     "name": "stderr",
     "output_type": "stream",
     "text": [
      "Génération d'exemples:  28%|██▊       | 281/1000 [06:05<16:43,  1.40s/it]"
     ]
    },
    {
     "name": "stdout",
     "output_type": "stream",
     "text": [
      "!inf\n"
     ]
    },
    {
     "name": "stderr",
     "output_type": "stream",
     "text": [
      "Génération d'exemples:  28%|██▊       | 282/1000 [06:07<18:12,  1.52s/it]"
     ]
    },
    {
     "name": "stdout",
     "output_type": "stream",
     "text": [
      "!yi\n"
     ]
    },
    {
     "name": "stderr",
     "output_type": "stream",
     "text": [
      "Génération d'exemples:  28%|██▊       | 283/1000 [06:08<16:23,  1.37s/it]"
     ]
    },
    {
     "name": "stdout",
     "output_type": "stream",
     "text": [
      "!cal\n"
     ]
    },
    {
     "name": "stderr",
     "output_type": "stream",
     "text": [
      "Génération d'exemples:  28%|██▊       | 284/1000 [06:09<15:33,  1.30s/it]"
     ]
    },
    {
     "name": "stdout",
     "output_type": "stream",
     "text": [
      "!py\n"
     ]
    },
    {
     "name": "stderr",
     "output_type": "stream",
     "text": [
      "Génération d'exemples:  28%|██▊       | 285/1000 [06:10<15:22,  1.29s/it]"
     ]
    },
    {
     "name": "stdout",
     "output_type": "stream",
     "text": [
      "!yi\n"
     ]
    },
    {
     "name": "stderr",
     "output_type": "stream",
     "text": [
      "Génération d'exemples:  29%|██▊       | 286/1000 [06:12<15:06,  1.27s/it]"
     ]
    },
    {
     "name": "stdout",
     "output_type": "stream",
     "text": [
      "!yi\n"
     ]
    },
    {
     "name": "stderr",
     "output_type": "stream",
     "text": [
      "Génération d'exemples:  29%|██▊       | 287/1000 [06:13<16:13,  1.37s/it]"
     ]
    },
    {
     "name": "stdout",
     "output_type": "stream",
     "text": [
      "!yi\n"
     ]
    },
    {
     "name": "stderr",
     "output_type": "stream",
     "text": [
      "Génération d'exemples:  29%|██▉       | 288/1000 [06:14<15:06,  1.27s/it]"
     ]
    },
    {
     "name": "stdout",
     "output_type": "stream",
     "text": [
      "!yi\n"
     ]
    },
    {
     "name": "stderr",
     "output_type": "stream",
     "text": [
      "Génération d'exemples:  29%|██▉       | 289/1000 [06:15<14:20,  1.21s/it]"
     ]
    },
    {
     "name": "stdout",
     "output_type": "stream",
     "text": [
      "!py\n"
     ]
    },
    {
     "name": "stderr",
     "output_type": "stream",
     "text": [
      "Génération d'exemples:  29%|██▉       | 290/1000 [06:16<13:54,  1.17s/it]"
     ]
    },
    {
     "name": "stdout",
     "output_type": "stream",
     "text": [
      "!yi\n"
     ]
    },
    {
     "name": "stderr",
     "output_type": "stream",
     "text": [
      "Génération d'exemples:  29%|██▉       | 291/1000 [06:18<14:29,  1.23s/it]"
     ]
    },
    {
     "name": "stdout",
     "output_type": "stream",
     "text": [
      "!cal\n"
     ]
    },
    {
     "name": "stderr",
     "output_type": "stream",
     "text": [
      "Génération d'exemples:  29%|██▉       | 292/1000 [06:19<14:37,  1.24s/it]"
     ]
    },
    {
     "name": "stdout",
     "output_type": "stream",
     "text": [
      "!yi\n"
     ]
    },
    {
     "name": "stderr",
     "output_type": "stream",
     "text": [
      "Génération d'exemples:  29%|██▉       | 293/1000 [06:20<14:10,  1.20s/it]"
     ]
    },
    {
     "name": "stdout",
     "output_type": "stream",
     "text": [
      "!py\n"
     ]
    },
    {
     "name": "stderr",
     "output_type": "stream",
     "text": [
      "Génération d'exemples:  29%|██▉       | 294/1000 [06:21<12:51,  1.09s/it]"
     ]
    },
    {
     "name": "stdout",
     "output_type": "stream",
     "text": [
      "!inf\n"
     ]
    },
    {
     "name": "stderr",
     "output_type": "stream",
     "text": [
      "Génération d'exemples:  30%|██▉       | 295/1000 [06:22<12:44,  1.08s/it]"
     ]
    },
    {
     "name": "stdout",
     "output_type": "stream",
     "text": [
      "!inf\n"
     ]
    },
    {
     "name": "stderr",
     "output_type": "stream",
     "text": [
      "Génération d'exemples:  30%|██▉       | 296/1000 [06:23<13:19,  1.14s/it]"
     ]
    },
    {
     "name": "stdout",
     "output_type": "stream",
     "text": [
      "!yi\n"
     ]
    },
    {
     "name": "stderr",
     "output_type": "stream",
     "text": [
      "Génération d'exemples:  30%|██▉       | 297/1000 [06:24<12:56,  1.10s/it]"
     ]
    },
    {
     "name": "stdout",
     "output_type": "stream",
     "text": [
      "!inf\n"
     ]
    },
    {
     "name": "stderr",
     "output_type": "stream",
     "text": [
      "Génération d'exemples:  30%|██▉       | 298/1000 [06:26<15:20,  1.31s/it]"
     ]
    },
    {
     "name": "stdout",
     "output_type": "stream",
     "text": [
      "!inf\n"
     ]
    },
    {
     "name": "stderr",
     "output_type": "stream",
     "text": [
      "Génération d'exemples:  30%|██▉       | 299/1000 [06:29<20:18,  1.74s/it]"
     ]
    },
    {
     "name": "stdout",
     "output_type": "stream",
     "text": [
      "!py\n"
     ]
    },
    {
     "name": "stderr",
     "output_type": "stream",
     "text": [
      "Génération d'exemples:  30%|███       | 300/1000 [06:30<17:14,  1.48s/it]"
     ]
    },
    {
     "name": "stdout",
     "output_type": "stream",
     "text": [
      "!inf\n"
     ]
    },
    {
     "name": "stderr",
     "output_type": "stream",
     "text": [
      "Génération d'exemples:  30%|███       | 301/1000 [06:31<15:14,  1.31s/it]"
     ]
    },
    {
     "name": "stdout",
     "output_type": "stream",
     "text": [
      "!py\n"
     ]
    },
    {
     "name": "stderr",
     "output_type": "stream",
     "text": [
      "Génération d'exemples:  30%|███       | 302/1000 [06:32<16:10,  1.39s/it]"
     ]
    },
    {
     "name": "stdout",
     "output_type": "stream",
     "text": [
      "!cal\n"
     ]
    },
    {
     "name": "stderr",
     "output_type": "stream",
     "text": [
      "Génération d'exemples:  30%|███       | 303/1000 [06:34<16:51,  1.45s/it]"
     ]
    },
    {
     "name": "stdout",
     "output_type": "stream",
     "text": [
      "!py\n"
     ]
    },
    {
     "name": "stderr",
     "output_type": "stream",
     "text": [
      "Génération d'exemples:  30%|███       | 304/1000 [06:36<18:04,  1.56s/it]"
     ]
    },
    {
     "name": "stdout",
     "output_type": "stream",
     "text": [
      "!cal\n"
     ]
    },
    {
     "name": "stderr",
     "output_type": "stream",
     "text": [
      "Génération d'exemples:  30%|███       | 305/1000 [06:37<17:05,  1.48s/it]"
     ]
    },
    {
     "name": "stdout",
     "output_type": "stream",
     "text": [
      "!inf\n"
     ]
    },
    {
     "name": "stderr",
     "output_type": "stream",
     "text": [
      "Génération d'exemples:  31%|███       | 306/1000 [06:38<15:34,  1.35s/it]"
     ]
    },
    {
     "name": "stdout",
     "output_type": "stream",
     "text": [
      "!py\n"
     ]
    },
    {
     "name": "stderr",
     "output_type": "stream",
     "text": [
      "Génération d'exemples:  31%|███       | 307/1000 [06:39<16:05,  1.39s/it]"
     ]
    },
    {
     "name": "stdout",
     "output_type": "stream",
     "text": [
      "!py\n"
     ]
    },
    {
     "name": "stderr",
     "output_type": "stream",
     "text": [
      "Génération d'exemples:  31%|███       | 308/1000 [06:41<16:53,  1.46s/it]"
     ]
    },
    {
     "name": "stdout",
     "output_type": "stream",
     "text": [
      "!cal\n"
     ]
    },
    {
     "name": "stderr",
     "output_type": "stream",
     "text": [
      "Génération d'exemples:  31%|███       | 309/1000 [06:42<15:20,  1.33s/it]"
     ]
    },
    {
     "name": "stdout",
     "output_type": "stream",
     "text": [
      "!py\n"
     ]
    },
    {
     "name": "stderr",
     "output_type": "stream",
     "text": [
      "Génération d'exemples:  31%|███       | 310/1000 [06:43<14:22,  1.25s/it]"
     ]
    },
    {
     "name": "stdout",
     "output_type": "stream",
     "text": [
      "!inf\n"
     ]
    },
    {
     "name": "stderr",
     "output_type": "stream",
     "text": [
      "Génération d'exemples:  31%|███       | 311/1000 [06:45<15:29,  1.35s/it]"
     ]
    },
    {
     "name": "stdout",
     "output_type": "stream",
     "text": [
      "!py\n"
     ]
    },
    {
     "name": "stderr",
     "output_type": "stream",
     "text": [
      "Génération d'exemples:  31%|███       | 312/1000 [06:46<15:29,  1.35s/it]"
     ]
    },
    {
     "name": "stdout",
     "output_type": "stream",
     "text": [
      "!py\n"
     ]
    },
    {
     "name": "stderr",
     "output_type": "stream",
     "text": [
      "Génération d'exemples:  31%|███▏      | 313/1000 [06:47<14:42,  1.29s/it]"
     ]
    },
    {
     "name": "stdout",
     "output_type": "stream",
     "text": [
      "!cal\n"
     ]
    },
    {
     "name": "stderr",
     "output_type": "stream",
     "text": [
      "Génération d'exemples:  31%|███▏      | 314/1000 [06:48<14:43,  1.29s/it]"
     ]
    },
    {
     "name": "stdout",
     "output_type": "stream",
     "text": [
      "!inf\n"
     ]
    },
    {
     "name": "stderr",
     "output_type": "stream",
     "text": [
      "Génération d'exemples:  32%|███▏      | 315/1000 [06:50<14:11,  1.24s/it]"
     ]
    },
    {
     "name": "stdout",
     "output_type": "stream",
     "text": [
      "!yi\n"
     ]
    },
    {
     "name": "stderr",
     "output_type": "stream",
     "text": [
      "Génération d'exemples:  32%|███▏      | 316/1000 [06:51<14:41,  1.29s/it]"
     ]
    },
    {
     "name": "stdout",
     "output_type": "stream",
     "text": [
      "!inf\n"
     ]
    },
    {
     "name": "stderr",
     "output_type": "stream",
     "text": [
      "Génération d'exemples:  32%|███▏      | 317/1000 [06:52<14:04,  1.24s/it]"
     ]
    },
    {
     "name": "stdout",
     "output_type": "stream",
     "text": [
      "!inf\n"
     ]
    },
    {
     "name": "stderr",
     "output_type": "stream",
     "text": [
      "Génération d'exemples:  32%|███▏      | 318/1000 [06:53<13:31,  1.19s/it]"
     ]
    },
    {
     "name": "stdout",
     "output_type": "stream",
     "text": [
      "!inf\n"
     ]
    },
    {
     "name": "stderr",
     "output_type": "stream",
     "text": [
      "Génération d'exemples:  32%|███▏      | 319/1000 [06:55<14:24,  1.27s/it]"
     ]
    },
    {
     "name": "stdout",
     "output_type": "stream",
     "text": [
      "!inf\n"
     ]
    },
    {
     "name": "stderr",
     "output_type": "stream",
     "text": [
      "Génération d'exemples:  32%|███▏      | 320/1000 [06:56<16:16,  1.44s/it]"
     ]
    },
    {
     "name": "stdout",
     "output_type": "stream",
     "text": [
      "!py\n"
     ]
    },
    {
     "name": "stderr",
     "output_type": "stream",
     "text": [
      "Génération d'exemples:  32%|███▏      | 321/1000 [06:57<14:41,  1.30s/it]"
     ]
    },
    {
     "name": "stdout",
     "output_type": "stream",
     "text": [
      "!py\n"
     ]
    },
    {
     "name": "stderr",
     "output_type": "stream",
     "text": [
      "Génération d'exemples:  32%|███▏      | 322/1000 [06:58<13:33,  1.20s/it]"
     ]
    },
    {
     "name": "stdout",
     "output_type": "stream",
     "text": [
      "!py\n"
     ]
    },
    {
     "name": "stderr",
     "output_type": "stream",
     "text": [
      "Génération d'exemples:  32%|███▏      | 323/1000 [07:00<13:36,  1.21s/it]"
     ]
    },
    {
     "name": "stdout",
     "output_type": "stream",
     "text": [
      "!yi\n"
     ]
    },
    {
     "name": "stderr",
     "output_type": "stream",
     "text": [
      "Génération d'exemples:  32%|███▏      | 324/1000 [07:01<15:24,  1.37s/it]"
     ]
    },
    {
     "name": "stdout",
     "output_type": "stream",
     "text": [
      "!cal\n"
     ]
    },
    {
     "name": "stderr",
     "output_type": "stream",
     "text": [
      "Génération d'exemples:  32%|███▎      | 325/1000 [07:02<14:14,  1.27s/it]"
     ]
    },
    {
     "name": "stdout",
     "output_type": "stream",
     "text": [
      "!py\n"
     ]
    },
    {
     "name": "stderr",
     "output_type": "stream",
     "text": [
      "Génération d'exemples:  33%|███▎      | 326/1000 [07:04<15:36,  1.39s/it]"
     ]
    },
    {
     "name": "stdout",
     "output_type": "stream",
     "text": [
      "!cal\n"
     ]
    },
    {
     "name": "stderr",
     "output_type": "stream",
     "text": [
      "Génération d'exemples:  33%|███▎      | 327/1000 [07:05<14:28,  1.29s/it]"
     ]
    },
    {
     "name": "stdout",
     "output_type": "stream",
     "text": [
      "!cal\n"
     ]
    },
    {
     "name": "stderr",
     "output_type": "stream",
     "text": [
      "Génération d'exemples:  33%|███▎      | 328/1000 [07:07<14:41,  1.31s/it]"
     ]
    },
    {
     "name": "stdout",
     "output_type": "stream",
     "text": [
      "!py\n"
     ]
    },
    {
     "name": "stderr",
     "output_type": "stream",
     "text": [
      "Génération d'exemples:  33%|███▎      | 329/1000 [07:08<14:38,  1.31s/it]"
     ]
    },
    {
     "name": "stdout",
     "output_type": "stream",
     "text": [
      "!cal\n"
     ]
    },
    {
     "name": "stderr",
     "output_type": "stream",
     "text": [
      "Génération d'exemples:  33%|███▎      | 330/1000 [07:09<14:05,  1.26s/it]"
     ]
    },
    {
     "name": "stdout",
     "output_type": "stream",
     "text": [
      "!cal\n"
     ]
    },
    {
     "name": "stderr",
     "output_type": "stream",
     "text": [
      "Génération d'exemples:  33%|███▎      | 331/1000 [07:10<13:30,  1.21s/it]"
     ]
    },
    {
     "name": "stdout",
     "output_type": "stream",
     "text": [
      "!inf\n"
     ]
    },
    {
     "name": "stderr",
     "output_type": "stream",
     "text": [
      "Génération d'exemples:  33%|███▎      | 332/1000 [07:11<13:33,  1.22s/it]"
     ]
    },
    {
     "name": "stdout",
     "output_type": "stream",
     "text": [
      "!yi\n"
     ]
    },
    {
     "name": "stderr",
     "output_type": "stream",
     "text": [
      "Génération d'exemples:  33%|███▎      | 333/1000 [07:13<14:32,  1.31s/it]"
     ]
    },
    {
     "name": "stdout",
     "output_type": "stream",
     "text": [
      "!py\n"
     ]
    },
    {
     "name": "stderr",
     "output_type": "stream",
     "text": [
      "Génération d'exemples:  33%|███▎      | 334/1000 [07:14<13:50,  1.25s/it]"
     ]
    },
    {
     "name": "stdout",
     "output_type": "stream",
     "text": [
      "!yi\n"
     ]
    },
    {
     "name": "stderr",
     "output_type": "stream",
     "text": [
      "Génération d'exemples:  34%|███▎      | 335/1000 [07:15<13:34,  1.22s/it]"
     ]
    },
    {
     "name": "stdout",
     "output_type": "stream",
     "text": [
      "!py\n"
     ]
    },
    {
     "name": "stderr",
     "output_type": "stream",
     "text": [
      "Génération d'exemples:  34%|███▎      | 336/1000 [07:16<13:55,  1.26s/it]"
     ]
    },
    {
     "name": "stdout",
     "output_type": "stream",
     "text": [
      "!cal\n"
     ]
    },
    {
     "name": "stderr",
     "output_type": "stream",
     "text": [
      "Génération d'exemples:  34%|███▎      | 337/1000 [07:18<13:53,  1.26s/it]"
     ]
    },
    {
     "name": "stdout",
     "output_type": "stream",
     "text": [
      "!cal\n"
     ]
    },
    {
     "name": "stderr",
     "output_type": "stream",
     "text": [
      "Génération d'exemples:  34%|███▍      | 338/1000 [07:19<13:17,  1.21s/it]"
     ]
    },
    {
     "name": "stdout",
     "output_type": "stream",
     "text": [
      "!py\n"
     ]
    },
    {
     "name": "stderr",
     "output_type": "stream",
     "text": [
      "Génération d'exemples:  34%|███▍      | 339/1000 [07:20<13:33,  1.23s/it]"
     ]
    },
    {
     "name": "stdout",
     "output_type": "stream",
     "text": [
      "!cal\n"
     ]
    },
    {
     "name": "stderr",
     "output_type": "stream",
     "text": [
      "Génération d'exemples:  34%|███▍      | 340/1000 [07:22<15:42,  1.43s/it]"
     ]
    },
    {
     "name": "stdout",
     "output_type": "stream",
     "text": [
      "!cal\n"
     ]
    },
    {
     "name": "stderr",
     "output_type": "stream",
     "text": [
      "Génération d'exemples:  34%|███▍      | 341/1000 [07:23<15:17,  1.39s/it]"
     ]
    },
    {
     "name": "stdout",
     "output_type": "stream",
     "text": [
      "!yi\n"
     ]
    },
    {
     "name": "stderr",
     "output_type": "stream",
     "text": [
      "Génération d'exemples:  34%|███▍      | 342/1000 [07:25<16:38,  1.52s/it]"
     ]
    },
    {
     "name": "stdout",
     "output_type": "stream",
     "text": [
      "!yi\n"
     ]
    },
    {
     "name": "stderr",
     "output_type": "stream",
     "text": [
      "Génération d'exemples:  34%|███▍      | 343/1000 [07:26<15:18,  1.40s/it]"
     ]
    },
    {
     "name": "stdout",
     "output_type": "stream",
     "text": [
      "!py\n"
     ]
    },
    {
     "name": "stderr",
     "output_type": "stream",
     "text": [
      "Génération d'exemples:  34%|███▍      | 344/1000 [07:28<16:14,  1.48s/it]"
     ]
    },
    {
     "name": "stdout",
     "output_type": "stream",
     "text": [
      "!py\n"
     ]
    },
    {
     "name": "stderr",
     "output_type": "stream",
     "text": [
      "Génération d'exemples:  34%|███▍      | 345/1000 [07:29<14:46,  1.35s/it]"
     ]
    },
    {
     "name": "stdout",
     "output_type": "stream",
     "text": [
      "!py\n"
     ]
    },
    {
     "name": "stderr",
     "output_type": "stream",
     "text": [
      "Génération d'exemples:  35%|███▍      | 346/1000 [07:30<14:00,  1.28s/it]"
     ]
    },
    {
     "name": "stdout",
     "output_type": "stream",
     "text": [
      "!yi\n"
     ]
    },
    {
     "name": "stderr",
     "output_type": "stream",
     "text": [
      "Génération d'exemples:  35%|███▍      | 347/1000 [07:31<13:04,  1.20s/it]"
     ]
    },
    {
     "name": "stdout",
     "output_type": "stream",
     "text": [
      "!yi\n"
     ]
    },
    {
     "name": "stderr",
     "output_type": "stream",
     "text": [
      "Génération d'exemples:  35%|███▍      | 348/1000 [07:32<12:33,  1.16s/it]"
     ]
    },
    {
     "name": "stdout",
     "output_type": "stream",
     "text": [
      "!inf\n"
     ]
    },
    {
     "name": "stderr",
     "output_type": "stream",
     "text": [
      "Génération d'exemples:  35%|███▍      | 349/1000 [07:33<12:10,  1.12s/it]"
     ]
    },
    {
     "name": "stdout",
     "output_type": "stream",
     "text": [
      "!inf\n"
     ]
    },
    {
     "name": "stderr",
     "output_type": "stream",
     "text": [
      "Génération d'exemples:  35%|███▌      | 350/1000 [07:34<12:09,  1.12s/it]"
     ]
    },
    {
     "name": "stdout",
     "output_type": "stream",
     "text": [
      "!inf\n"
     ]
    },
    {
     "name": "stderr",
     "output_type": "stream",
     "text": [
      "Génération d'exemples:  35%|███▌      | 351/1000 [07:35<12:10,  1.13s/it]"
     ]
    },
    {
     "name": "stdout",
     "output_type": "stream",
     "text": [
      "!inf\n"
     ]
    },
    {
     "name": "stderr",
     "output_type": "stream",
     "text": [
      "Génération d'exemples:  35%|███▌      | 352/1000 [07:36<12:05,  1.12s/it]"
     ]
    },
    {
     "name": "stdout",
     "output_type": "stream",
     "text": [
      "!cal\n"
     ]
    },
    {
     "name": "stderr",
     "output_type": "stream",
     "text": [
      "Génération d'exemples:  35%|███▌      | 353/1000 [07:37<11:37,  1.08s/it]"
     ]
    },
    {
     "name": "stdout",
     "output_type": "stream",
     "text": [
      "!yi\n"
     ]
    },
    {
     "name": "stderr",
     "output_type": "stream",
     "text": [
      "Génération d'exemples:  35%|███▌      | 354/1000 [07:39<11:27,  1.06s/it]"
     ]
    },
    {
     "name": "stdout",
     "output_type": "stream",
     "text": [
      "!yi\n"
     ]
    },
    {
     "name": "stderr",
     "output_type": "stream",
     "text": [
      "Génération d'exemples:  36%|███▌      | 355/1000 [07:40<12:19,  1.15s/it]"
     ]
    },
    {
     "name": "stdout",
     "output_type": "stream",
     "text": [
      "!py\n"
     ]
    },
    {
     "name": "stderr",
     "output_type": "stream",
     "text": [
      "Génération d'exemples:  36%|███▌      | 356/1000 [07:41<12:09,  1.13s/it]"
     ]
    },
    {
     "name": "stdout",
     "output_type": "stream",
     "text": [
      "!yi\n"
     ]
    },
    {
     "name": "stderr",
     "output_type": "stream",
     "text": [
      "Génération d'exemples:  36%|███▌      | 357/1000 [07:42<11:36,  1.08s/it]"
     ]
    },
    {
     "name": "stdout",
     "output_type": "stream",
     "text": [
      "!py\n"
     ]
    },
    {
     "name": "stderr",
     "output_type": "stream",
     "text": [
      "Génération d'exemples:  36%|███▌      | 358/1000 [07:43<11:19,  1.06s/it]"
     ]
    },
    {
     "name": "stdout",
     "output_type": "stream",
     "text": [
      "!py\n"
     ]
    },
    {
     "name": "stderr",
     "output_type": "stream",
     "text": [
      "Génération d'exemples:  36%|███▌      | 359/1000 [07:44<11:45,  1.10s/it]"
     ]
    },
    {
     "name": "stdout",
     "output_type": "stream",
     "text": [
      "!cal\n"
     ]
    },
    {
     "name": "stderr",
     "output_type": "stream",
     "text": [
      "Génération d'exemples:  36%|███▌      | 360/1000 [07:45<11:38,  1.09s/it]"
     ]
    },
    {
     "name": "stdout",
     "output_type": "stream",
     "text": [
      "!cal\n"
     ]
    },
    {
     "name": "stderr",
     "output_type": "stream",
     "text": [
      "Génération d'exemples:  36%|███▌      | 361/1000 [07:46<11:48,  1.11s/it]"
     ]
    },
    {
     "name": "stdout",
     "output_type": "stream",
     "text": [
      "!cal\n"
     ]
    },
    {
     "name": "stderr",
     "output_type": "stream",
     "text": [
      "Génération d'exemples:  36%|███▌      | 362/1000 [07:47<11:46,  1.11s/it]"
     ]
    },
    {
     "name": "stdout",
     "output_type": "stream",
     "text": [
      "!inf\n"
     ]
    },
    {
     "name": "stderr",
     "output_type": "stream",
     "text": [
      "Génération d'exemples:  36%|███▋      | 363/1000 [07:48<11:18,  1.07s/it]"
     ]
    },
    {
     "name": "stdout",
     "output_type": "stream",
     "text": [
      "!yi\n"
     ]
    },
    {
     "name": "stderr",
     "output_type": "stream",
     "text": [
      "Génération d'exemples:  36%|███▋      | 364/1000 [07:50<12:10,  1.15s/it]"
     ]
    },
    {
     "name": "stdout",
     "output_type": "stream",
     "text": [
      "!py\n"
     ]
    },
    {
     "name": "stderr",
     "output_type": "stream",
     "text": [
      "Génération d'exemples:  36%|███▋      | 365/1000 [07:51<12:03,  1.14s/it]"
     ]
    },
    {
     "name": "stdout",
     "output_type": "stream",
     "text": [
      "!inf\n"
     ]
    },
    {
     "name": "stderr",
     "output_type": "stream",
     "text": [
      "Génération d'exemples:  37%|███▋      | 366/1000 [07:52<11:48,  1.12s/it]"
     ]
    },
    {
     "name": "stdout",
     "output_type": "stream",
     "text": [
      "!py\n"
     ]
    },
    {
     "name": "stderr",
     "output_type": "stream",
     "text": [
      "Génération d'exemples:  37%|███▋      | 367/1000 [07:53<11:30,  1.09s/it]"
     ]
    },
    {
     "name": "stdout",
     "output_type": "stream",
     "text": [
      "!py\n"
     ]
    },
    {
     "name": "stderr",
     "output_type": "stream",
     "text": [
      "Génération d'exemples:  37%|███▋      | 368/1000 [07:55<13:06,  1.24s/it]"
     ]
    },
    {
     "name": "stdout",
     "output_type": "stream",
     "text": [
      "!yi\n"
     ]
    },
    {
     "name": "stderr",
     "output_type": "stream",
     "text": [
      "Génération d'exemples:  37%|███▋      | 369/1000 [07:56<12:45,  1.21s/it]"
     ]
    },
    {
     "name": "stdout",
     "output_type": "stream",
     "text": [
      "!yi\n"
     ]
    },
    {
     "name": "stderr",
     "output_type": "stream",
     "text": [
      "Génération d'exemples:  37%|███▋      | 370/1000 [07:57<11:42,  1.11s/it]"
     ]
    },
    {
     "name": "stdout",
     "output_type": "stream",
     "text": [
      "!inf\n"
     ]
    },
    {
     "name": "stderr",
     "output_type": "stream",
     "text": [
      "Génération d'exemples:  37%|███▋      | 371/1000 [07:58<11:36,  1.11s/it]"
     ]
    },
    {
     "name": "stdout",
     "output_type": "stream",
     "text": [
      "!cal\n"
     ]
    },
    {
     "name": "stderr",
     "output_type": "stream",
     "text": [
      "Génération d'exemples:  37%|███▋      | 372/1000 [07:59<12:51,  1.23s/it]"
     ]
    },
    {
     "name": "stdout",
     "output_type": "stream",
     "text": [
      "!cal\n"
     ]
    },
    {
     "name": "stderr",
     "output_type": "stream",
     "text": [
      "Génération d'exemples:  37%|███▋      | 373/1000 [08:01<13:08,  1.26s/it]"
     ]
    },
    {
     "name": "stdout",
     "output_type": "stream",
     "text": [
      "!inf\n"
     ]
    },
    {
     "name": "stderr",
     "output_type": "stream",
     "text": [
      "Génération d'exemples:  37%|███▋      | 374/1000 [08:01<11:46,  1.13s/it]"
     ]
    },
    {
     "name": "stdout",
     "output_type": "stream",
     "text": [
      "!py\n"
     ]
    },
    {
     "name": "stderr",
     "output_type": "stream",
     "text": [
      "Génération d'exemples:  38%|███▊      | 375/1000 [08:02<11:07,  1.07s/it]"
     ]
    },
    {
     "name": "stdout",
     "output_type": "stream",
     "text": [
      "!py\n"
     ]
    },
    {
     "name": "stderr",
     "output_type": "stream",
     "text": [
      "Génération d'exemples:  38%|███▊      | 376/1000 [08:04<11:48,  1.14s/it]"
     ]
    },
    {
     "name": "stdout",
     "output_type": "stream",
     "text": [
      "!cal\n"
     ]
    },
    {
     "name": "stderr",
     "output_type": "stream",
     "text": [
      "Génération d'exemples:  38%|███▊      | 377/1000 [08:05<11:11,  1.08s/it]"
     ]
    },
    {
     "name": "stdout",
     "output_type": "stream",
     "text": [
      "!py\n"
     ]
    },
    {
     "name": "stderr",
     "output_type": "stream",
     "text": [
      "Génération d'exemples:  38%|███▊      | 378/1000 [08:05<10:28,  1.01s/it]"
     ]
    },
    {
     "name": "stdout",
     "output_type": "stream",
     "text": [
      "!yi\n"
     ]
    },
    {
     "name": "stderr",
     "output_type": "stream",
     "text": [
      "Génération d'exemples:  38%|███▊      | 379/1000 [08:06<10:31,  1.02s/it]"
     ]
    },
    {
     "name": "stdout",
     "output_type": "stream",
     "text": [
      "!py\n"
     ]
    },
    {
     "name": "stderr",
     "output_type": "stream",
     "text": [
      "Génération d'exemples:  38%|███▊      | 380/1000 [08:07<10:06,  1.02it/s]"
     ]
    },
    {
     "name": "stdout",
     "output_type": "stream",
     "text": [
      "!inf\n"
     ]
    },
    {
     "name": "stderr",
     "output_type": "stream",
     "text": [
      "Génération d'exemples:  38%|███▊      | 381/1000 [08:09<11:14,  1.09s/it]"
     ]
    },
    {
     "name": "stdout",
     "output_type": "stream",
     "text": [
      "!yi\n"
     ]
    },
    {
     "name": "stderr",
     "output_type": "stream",
     "text": [
      "Génération d'exemples:  38%|███▊      | 382/1000 [08:10<11:29,  1.12s/it]"
     ]
    },
    {
     "name": "stdout",
     "output_type": "stream",
     "text": [
      "!py\n"
     ]
    },
    {
     "name": "stderr",
     "output_type": "stream",
     "text": [
      "Génération d'exemples:  38%|███▊      | 383/1000 [08:11<11:40,  1.14s/it]"
     ]
    },
    {
     "name": "stdout",
     "output_type": "stream",
     "text": [
      "!inf\n"
     ]
    },
    {
     "name": "stderr",
     "output_type": "stream",
     "text": [
      "Génération d'exemples:  38%|███▊      | 384/1000 [08:12<11:07,  1.08s/it]"
     ]
    },
    {
     "name": "stdout",
     "output_type": "stream",
     "text": [
      "!inf\n"
     ]
    },
    {
     "name": "stderr",
     "output_type": "stream",
     "text": [
      "Génération d'exemples:  38%|███▊      | 385/1000 [08:13<10:18,  1.01s/it]"
     ]
    },
    {
     "name": "stdout",
     "output_type": "stream",
     "text": [
      "!inf\n"
     ]
    },
    {
     "name": "stderr",
     "output_type": "stream",
     "text": [
      "Génération d'exemples:  39%|███▊      | 386/1000 [08:14<10:19,  1.01s/it]"
     ]
    },
    {
     "name": "stdout",
     "output_type": "stream",
     "text": [
      "!py\n"
     ]
    },
    {
     "name": "stderr",
     "output_type": "stream",
     "text": [
      "Génération d'exemples:  39%|███▊      | 387/1000 [08:15<10:29,  1.03s/it]"
     ]
    },
    {
     "name": "stdout",
     "output_type": "stream",
     "text": [
      "!inf\n"
     ]
    },
    {
     "name": "stderr",
     "output_type": "stream",
     "text": [
      "Génération d'exemples:  39%|███▉      | 388/1000 [08:16<10:32,  1.03s/it]"
     ]
    },
    {
     "name": "stdout",
     "output_type": "stream",
     "text": [
      "!inf\n"
     ]
    },
    {
     "name": "stderr",
     "output_type": "stream",
     "text": [
      "Génération d'exemples:  39%|███▉      | 389/1000 [08:17<10:54,  1.07s/it]"
     ]
    },
    {
     "name": "stdout",
     "output_type": "stream",
     "text": [
      "!py\n"
     ]
    },
    {
     "name": "stderr",
     "output_type": "stream",
     "text": [
      "Génération d'exemples:  39%|███▉      | 390/1000 [08:18<11:46,  1.16s/it]"
     ]
    },
    {
     "name": "stdout",
     "output_type": "stream",
     "text": [
      "!inf\n"
     ]
    },
    {
     "name": "stderr",
     "output_type": "stream",
     "text": [
      "Génération d'exemples:  39%|███▉      | 391/1000 [08:20<11:56,  1.18s/it]"
     ]
    },
    {
     "name": "stdout",
     "output_type": "stream",
     "text": [
      "!yi\n"
     ]
    },
    {
     "name": "stderr",
     "output_type": "stream",
     "text": [
      "Génération d'exemples:  39%|███▉      | 392/1000 [08:22<14:30,  1.43s/it]"
     ]
    },
    {
     "name": "stdout",
     "output_type": "stream",
     "text": [
      "!cal\n"
     ]
    },
    {
     "name": "stderr",
     "output_type": "stream",
     "text": [
      "Génération d'exemples:  39%|███▉      | 393/1000 [08:23<13:37,  1.35s/it]"
     ]
    },
    {
     "name": "stdout",
     "output_type": "stream",
     "text": [
      "!py\n"
     ]
    },
    {
     "name": "stderr",
     "output_type": "stream",
     "text": [
      "Génération d'exemples:  39%|███▉      | 394/1000 [08:24<12:46,  1.27s/it]"
     ]
    },
    {
     "name": "stdout",
     "output_type": "stream",
     "text": [
      "!py\n"
     ]
    },
    {
     "name": "stderr",
     "output_type": "stream",
     "text": [
      "Génération d'exemples:  40%|███▉      | 395/1000 [08:25<13:22,  1.33s/it]"
     ]
    },
    {
     "name": "stdout",
     "output_type": "stream",
     "text": [
      "!cal\n"
     ]
    },
    {
     "name": "stderr",
     "output_type": "stream",
     "text": [
      "Génération d'exemples:  40%|███▉      | 396/1000 [08:26<12:04,  1.20s/it]"
     ]
    },
    {
     "name": "stdout",
     "output_type": "stream",
     "text": [
      "!yi\n"
     ]
    },
    {
     "name": "stderr",
     "output_type": "stream",
     "text": [
      "Génération d'exemples:  40%|███▉      | 397/1000 [08:27<11:30,  1.15s/it]"
     ]
    },
    {
     "name": "stdout",
     "output_type": "stream",
     "text": [
      "!py\n"
     ]
    },
    {
     "name": "stderr",
     "output_type": "stream",
     "text": [
      "Génération d'exemples:  40%|███▉      | 398/1000 [08:28<11:36,  1.16s/it]"
     ]
    },
    {
     "name": "stdout",
     "output_type": "stream",
     "text": [
      "!py\n"
     ]
    },
    {
     "name": "stderr",
     "output_type": "stream",
     "text": [
      "Génération d'exemples:  40%|███▉      | 399/1000 [08:30<11:22,  1.14s/it]"
     ]
    },
    {
     "name": "stdout",
     "output_type": "stream",
     "text": [
      "!yi\n"
     ]
    },
    {
     "name": "stderr",
     "output_type": "stream",
     "text": [
      "Génération d'exemples:  40%|████      | 400/1000 [08:31<13:05,  1.31s/it]"
     ]
    },
    {
     "name": "stdout",
     "output_type": "stream",
     "text": [
      "!cal\n"
     ]
    },
    {
     "name": "stderr",
     "output_type": "stream",
     "text": [
      "Génération d'exemples:  40%|████      | 401/1000 [08:32<12:35,  1.26s/it]"
     ]
    },
    {
     "name": "stdout",
     "output_type": "stream",
     "text": [
      "!cal\n"
     ]
    },
    {
     "name": "stderr",
     "output_type": "stream",
     "text": [
      "Génération d'exemples:  40%|████      | 402/1000 [08:33<11:20,  1.14s/it]"
     ]
    },
    {
     "name": "stdout",
     "output_type": "stream",
     "text": [
      "!yi\n"
     ]
    },
    {
     "name": "stderr",
     "output_type": "stream",
     "text": [
      "Génération d'exemples:  40%|████      | 403/1000 [08:34<11:05,  1.11s/it]"
     ]
    },
    {
     "name": "stdout",
     "output_type": "stream",
     "text": [
      "!cal\n"
     ]
    },
    {
     "name": "stderr",
     "output_type": "stream",
     "text": [
      "Génération d'exemples:  40%|████      | 404/1000 [08:36<11:13,  1.13s/it]"
     ]
    },
    {
     "name": "stdout",
     "output_type": "stream",
     "text": [
      "!py\n"
     ]
    },
    {
     "name": "stderr",
     "output_type": "stream",
     "text": [
      "Génération d'exemples:  40%|████      | 405/1000 [08:37<11:19,  1.14s/it]"
     ]
    },
    {
     "name": "stdout",
     "output_type": "stream",
     "text": [
      "!inf\n"
     ]
    },
    {
     "name": "stderr",
     "output_type": "stream",
     "text": [
      "Génération d'exemples:  41%|████      | 406/1000 [08:38<10:49,  1.09s/it]"
     ]
    },
    {
     "name": "stdout",
     "output_type": "stream",
     "text": [
      "!cal\n"
     ]
    },
    {
     "name": "stderr",
     "output_type": "stream",
     "text": [
      "Génération d'exemples:  41%|████      | 407/1000 [08:38<09:52,  1.00it/s]"
     ]
    },
    {
     "name": "stdout",
     "output_type": "stream",
     "text": [
      "!inf\n"
     ]
    },
    {
     "name": "stderr",
     "output_type": "stream",
     "text": [
      "Génération d'exemples:  41%|████      | 408/1000 [08:40<10:06,  1.03s/it]"
     ]
    },
    {
     "name": "stdout",
     "output_type": "stream",
     "text": [
      "!yi\n"
     ]
    },
    {
     "name": "stderr",
     "output_type": "stream",
     "text": [
      "Génération d'exemples:  41%|████      | 409/1000 [08:40<09:49,  1.00it/s]"
     ]
    },
    {
     "name": "stdout",
     "output_type": "stream",
     "text": [
      "!yi\n"
     ]
    },
    {
     "name": "stderr",
     "output_type": "stream",
     "text": [
      "Génération d'exemples:  41%|████      | 410/1000 [08:41<09:48,  1.00it/s]"
     ]
    },
    {
     "name": "stdout",
     "output_type": "stream",
     "text": [
      "!py\n"
     ]
    },
    {
     "name": "stderr",
     "output_type": "stream",
     "text": [
      "Génération d'exemples:  41%|████      | 411/1000 [08:42<09:16,  1.06it/s]"
     ]
    },
    {
     "name": "stdout",
     "output_type": "stream",
     "text": [
      "!yi\n"
     ]
    },
    {
     "name": "stderr",
     "output_type": "stream",
     "text": [
      "Génération d'exemples:  41%|████      | 412/1000 [08:43<08:51,  1.11it/s]"
     ]
    },
    {
     "name": "stdout",
     "output_type": "stream",
     "text": [
      "!inf\n"
     ]
    },
    {
     "name": "stderr",
     "output_type": "stream",
     "text": [
      "Génération d'exemples:  41%|████▏     | 413/1000 [08:44<09:19,  1.05it/s]"
     ]
    },
    {
     "name": "stdout",
     "output_type": "stream",
     "text": [
      "!yi\n"
     ]
    },
    {
     "name": "stderr",
     "output_type": "stream",
     "text": [
      "Génération d'exemples:  41%|████▏     | 414/1000 [08:45<09:23,  1.04it/s]"
     ]
    },
    {
     "name": "stdout",
     "output_type": "stream",
     "text": [
      "!inf\n"
     ]
    },
    {
     "name": "stderr",
     "output_type": "stream",
     "text": [
      "Génération d'exemples:  42%|████▏     | 415/1000 [08:46<08:59,  1.09it/s]"
     ]
    },
    {
     "name": "stdout",
     "output_type": "stream",
     "text": [
      "!cal\n"
     ]
    },
    {
     "name": "stderr",
     "output_type": "stream",
     "text": [
      "Génération d'exemples:  42%|████▏     | 416/1000 [08:47<08:58,  1.08it/s]"
     ]
    },
    {
     "name": "stdout",
     "output_type": "stream",
     "text": [
      "!py\n"
     ]
    },
    {
     "name": "stderr",
     "output_type": "stream",
     "text": [
      "Génération d'exemples:  42%|████▏     | 417/1000 [08:48<08:57,  1.08it/s]"
     ]
    },
    {
     "name": "stdout",
     "output_type": "stream",
     "text": [
      "!cal\n"
     ]
    },
    {
     "name": "stderr",
     "output_type": "stream",
     "text": [
      "Génération d'exemples:  42%|████▏     | 418/1000 [08:49<09:42,  1.00s/it]"
     ]
    },
    {
     "name": "stdout",
     "output_type": "stream",
     "text": [
      "!yi\n"
     ]
    },
    {
     "name": "stderr",
     "output_type": "stream",
     "text": [
      "Génération d'exemples:  42%|████▏     | 419/1000 [08:50<10:10,  1.05s/it]"
     ]
    },
    {
     "name": "stdout",
     "output_type": "stream",
     "text": [
      "!py\n"
     ]
    },
    {
     "name": "stderr",
     "output_type": "stream",
     "text": [
      "Génération d'exemples:  42%|████▏     | 420/1000 [08:51<10:25,  1.08s/it]"
     ]
    },
    {
     "name": "stdout",
     "output_type": "stream",
     "text": [
      "!py\n"
     ]
    },
    {
     "name": "stderr",
     "output_type": "stream",
     "text": [
      "Génération d'exemples:  42%|████▏     | 421/1000 [08:52<09:56,  1.03s/it]"
     ]
    },
    {
     "name": "stdout",
     "output_type": "stream",
     "text": [
      "!inf\n"
     ]
    },
    {
     "name": "stderr",
     "output_type": "stream",
     "text": [
      "Génération d'exemples:  42%|████▏     | 422/1000 [08:53<09:50,  1.02s/it]"
     ]
    },
    {
     "name": "stdout",
     "output_type": "stream",
     "text": [
      "!py\n"
     ]
    },
    {
     "name": "stderr",
     "output_type": "stream",
     "text": [
      "Génération d'exemples:  42%|████▏     | 423/1000 [08:54<10:11,  1.06s/it]"
     ]
    },
    {
     "name": "stdout",
     "output_type": "stream",
     "text": [
      "!cal\n"
     ]
    },
    {
     "name": "stderr",
     "output_type": "stream",
     "text": [
      "Génération d'exemples:  42%|████▏     | 424/1000 [08:55<10:01,  1.04s/it]"
     ]
    },
    {
     "name": "stdout",
     "output_type": "stream",
     "text": [
      "!yi\n"
     ]
    },
    {
     "name": "stderr",
     "output_type": "stream",
     "text": [
      "Génération d'exemples:  42%|████▎     | 425/1000 [08:56<09:31,  1.01it/s]"
     ]
    },
    {
     "name": "stdout",
     "output_type": "stream",
     "text": [
      "!py\n"
     ]
    },
    {
     "name": "stderr",
     "output_type": "stream",
     "text": [
      "Génération d'exemples:  43%|████▎     | 426/1000 [08:57<09:10,  1.04it/s]"
     ]
    },
    {
     "name": "stdout",
     "output_type": "stream",
     "text": [
      "!py\n"
     ]
    },
    {
     "name": "stderr",
     "output_type": "stream",
     "text": [
      "Génération d'exemples:  43%|████▎     | 427/1000 [08:58<08:37,  1.11it/s]"
     ]
    },
    {
     "name": "stdout",
     "output_type": "stream",
     "text": [
      "!py\n"
     ]
    },
    {
     "name": "stderr",
     "output_type": "stream",
     "text": [
      "Génération d'exemples:  43%|████▎     | 428/1000 [08:59<09:01,  1.06it/s]"
     ]
    },
    {
     "name": "stdout",
     "output_type": "stream",
     "text": [
      "!yi\n"
     ]
    },
    {
     "name": "stderr",
     "output_type": "stream",
     "text": [
      "Génération d'exemples:  43%|████▎     | 429/1000 [09:00<08:53,  1.07it/s]"
     ]
    },
    {
     "name": "stdout",
     "output_type": "stream",
     "text": [
      "!py\n"
     ]
    },
    {
     "name": "stderr",
     "output_type": "stream",
     "text": [
      "Génération d'exemples:  43%|████▎     | 430/1000 [09:01<10:04,  1.06s/it]"
     ]
    },
    {
     "name": "stdout",
     "output_type": "stream",
     "text": [
      "!inf\n"
     ]
    },
    {
     "name": "stderr",
     "output_type": "stream",
     "text": [
      "Génération d'exemples:  43%|████▎     | 431/1000 [09:03<11:26,  1.21s/it]"
     ]
    },
    {
     "name": "stdout",
     "output_type": "stream",
     "text": [
      "!cal\n"
     ]
    },
    {
     "name": "stderr",
     "output_type": "stream",
     "text": [
      "Génération d'exemples:  43%|████▎     | 432/1000 [09:05<13:01,  1.38s/it]"
     ]
    },
    {
     "name": "stdout",
     "output_type": "stream",
     "text": [
      "!inf\n"
     ]
    },
    {
     "name": "stderr",
     "output_type": "stream",
     "text": [
      "Génération d'exemples:  43%|████▎     | 433/1000 [09:06<11:52,  1.26s/it]"
     ]
    },
    {
     "name": "stdout",
     "output_type": "stream",
     "text": [
      "!inf\n"
     ]
    },
    {
     "name": "stderr",
     "output_type": "stream",
     "text": [
      "Génération d'exemples:  43%|████▎     | 434/1000 [09:06<10:54,  1.16s/it]"
     ]
    },
    {
     "name": "stdout",
     "output_type": "stream",
     "text": [
      "!py\n"
     ]
    },
    {
     "name": "stderr",
     "output_type": "stream",
     "text": [
      "Génération d'exemples:  44%|████▎     | 435/1000 [09:07<10:31,  1.12s/it]"
     ]
    },
    {
     "name": "stdout",
     "output_type": "stream",
     "text": [
      "!inf\n"
     ]
    },
    {
     "name": "stderr",
     "output_type": "stream",
     "text": [
      "Génération d'exemples:  44%|████▎     | 436/1000 [09:09<10:55,  1.16s/it]"
     ]
    },
    {
     "name": "stdout",
     "output_type": "stream",
     "text": [
      "!py\n"
     ]
    },
    {
     "name": "stderr",
     "output_type": "stream",
     "text": [
      "Génération d'exemples:  44%|████▎     | 437/1000 [09:10<10:58,  1.17s/it]"
     ]
    },
    {
     "name": "stdout",
     "output_type": "stream",
     "text": [
      "!yi\n"
     ]
    },
    {
     "name": "stderr",
     "output_type": "stream",
     "text": [
      "Génération d'exemples:  44%|████▍     | 438/1000 [09:11<10:33,  1.13s/it]"
     ]
    },
    {
     "name": "stdout",
     "output_type": "stream",
     "text": [
      "!cal\n"
     ]
    },
    {
     "name": "stderr",
     "output_type": "stream",
     "text": [
      "Génération d'exemples:  44%|████▍     | 439/1000 [09:12<09:59,  1.07s/it]"
     ]
    },
    {
     "name": "stdout",
     "output_type": "stream",
     "text": [
      "!yi\n"
     ]
    },
    {
     "name": "stderr",
     "output_type": "stream",
     "text": [
      "Génération d'exemples:  44%|████▍     | 440/1000 [09:13<10:02,  1.08s/it]"
     ]
    },
    {
     "name": "stdout",
     "output_type": "stream",
     "text": [
      "!cal\n"
     ]
    },
    {
     "name": "stderr",
     "output_type": "stream",
     "text": [
      "Génération d'exemples:  44%|████▍     | 441/1000 [09:14<10:07,  1.09s/it]"
     ]
    },
    {
     "name": "stdout",
     "output_type": "stream",
     "text": [
      "!yi\n"
     ]
    },
    {
     "name": "stderr",
     "output_type": "stream",
     "text": [
      "Génération d'exemples:  44%|████▍     | 442/1000 [09:15<10:11,  1.10s/it]"
     ]
    },
    {
     "name": "stdout",
     "output_type": "stream",
     "text": [
      "!yi\n"
     ]
    },
    {
     "name": "stderr",
     "output_type": "stream",
     "text": [
      "Génération d'exemples:  44%|████▍     | 443/1000 [09:16<10:20,  1.11s/it]"
     ]
    },
    {
     "name": "stdout",
     "output_type": "stream",
     "text": [
      "!cal\n"
     ]
    },
    {
     "name": "stderr",
     "output_type": "stream",
     "text": [
      "Génération d'exemples:  44%|████▍     | 444/1000 [09:18<10:35,  1.14s/it]"
     ]
    },
    {
     "name": "stdout",
     "output_type": "stream",
     "text": [
      "!inf\n"
     ]
    },
    {
     "name": "stderr",
     "output_type": "stream",
     "text": [
      "Génération d'exemples:  44%|████▍     | 445/1000 [09:19<10:58,  1.19s/it]"
     ]
    },
    {
     "name": "stdout",
     "output_type": "stream",
     "text": [
      "!yi\n"
     ]
    },
    {
     "name": "stderr",
     "output_type": "stream",
     "text": [
      "Génération d'exemples:  45%|████▍     | 446/1000 [09:20<10:34,  1.14s/it]"
     ]
    },
    {
     "name": "stdout",
     "output_type": "stream",
     "text": [
      "!py\n"
     ]
    },
    {
     "name": "stderr",
     "output_type": "stream",
     "text": [
      "Génération d'exemples:  45%|████▍     | 447/1000 [09:21<10:14,  1.11s/it]"
     ]
    },
    {
     "name": "stdout",
     "output_type": "stream",
     "text": [
      "!py\n"
     ]
    },
    {
     "name": "stderr",
     "output_type": "stream",
     "text": [
      "Génération d'exemples:  45%|████▍     | 448/1000 [09:22<10:39,  1.16s/it]"
     ]
    },
    {
     "name": "stdout",
     "output_type": "stream",
     "text": [
      "!yi\n"
     ]
    },
    {
     "name": "stderr",
     "output_type": "stream",
     "text": [
      "Génération d'exemples:  45%|████▍     | 449/1000 [09:23<10:57,  1.19s/it]"
     ]
    },
    {
     "name": "stdout",
     "output_type": "stream",
     "text": [
      "!cal\n"
     ]
    },
    {
     "name": "stderr",
     "output_type": "stream",
     "text": [
      "Génération d'exemples:  45%|████▌     | 450/1000 [09:25<10:42,  1.17s/it]"
     ]
    },
    {
     "name": "stdout",
     "output_type": "stream",
     "text": [
      "!cal\n"
     ]
    },
    {
     "name": "stderr",
     "output_type": "stream",
     "text": [
      "Génération d'exemples:  45%|████▌     | 451/1000 [09:26<10:14,  1.12s/it]"
     ]
    },
    {
     "name": "stdout",
     "output_type": "stream",
     "text": [
      "!py\n"
     ]
    },
    {
     "name": "stderr",
     "output_type": "stream",
     "text": [
      "Génération d'exemples:  45%|████▌     | 452/1000 [09:27<10:45,  1.18s/it]"
     ]
    },
    {
     "name": "stdout",
     "output_type": "stream",
     "text": [
      "!py\n"
     ]
    },
    {
     "name": "stderr",
     "output_type": "stream",
     "text": [
      "Génération d'exemples:  45%|████▌     | 453/1000 [09:28<10:27,  1.15s/it]"
     ]
    },
    {
     "name": "stdout",
     "output_type": "stream",
     "text": [
      "!cal\n"
     ]
    },
    {
     "name": "stderr",
     "output_type": "stream",
     "text": [
      "Génération d'exemples:  45%|████▌     | 454/1000 [09:29<09:43,  1.07s/it]"
     ]
    },
    {
     "name": "stdout",
     "output_type": "stream",
     "text": [
      "!inf\n"
     ]
    },
    {
     "name": "stderr",
     "output_type": "stream",
     "text": [
      "Génération d'exemples:  46%|████▌     | 455/1000 [09:30<09:39,  1.06s/it]"
     ]
    },
    {
     "name": "stdout",
     "output_type": "stream",
     "text": [
      "!inf\n"
     ]
    },
    {
     "name": "stderr",
     "output_type": "stream",
     "text": [
      "Génération d'exemples:  46%|████▌     | 456/1000 [09:31<09:25,  1.04s/it]"
     ]
    },
    {
     "name": "stdout",
     "output_type": "stream",
     "text": [
      "!py\n"
     ]
    },
    {
     "name": "stderr",
     "output_type": "stream",
     "text": [
      "Génération d'exemples:  46%|████▌     | 457/1000 [09:32<09:21,  1.03s/it]"
     ]
    },
    {
     "name": "stdout",
     "output_type": "stream",
     "text": [
      "!py\n"
     ]
    },
    {
     "name": "stderr",
     "output_type": "stream",
     "text": [
      "Génération d'exemples:  46%|████▌     | 458/1000 [09:33<09:57,  1.10s/it]"
     ]
    },
    {
     "name": "stdout",
     "output_type": "stream",
     "text": [
      "!cal\n"
     ]
    },
    {
     "name": "stderr",
     "output_type": "stream",
     "text": [
      "Génération d'exemples:  46%|████▌     | 459/1000 [09:36<14:26,  1.60s/it]"
     ]
    },
    {
     "name": "stdout",
     "output_type": "stream",
     "text": [
      "!yi\n"
     ]
    },
    {
     "name": "stderr",
     "output_type": "stream",
     "text": [
      "Génération d'exemples:  46%|████▌     | 460/1000 [09:37<12:50,  1.43s/it]"
     ]
    },
    {
     "name": "stdout",
     "output_type": "stream",
     "text": [
      "!cal\n"
     ]
    },
    {
     "name": "stderr",
     "output_type": "stream",
     "text": [
      "Génération d'exemples:  46%|████▌     | 461/1000 [09:38<11:42,  1.30s/it]"
     ]
    },
    {
     "name": "stdout",
     "output_type": "stream",
     "text": [
      "!inf\n"
     ]
    },
    {
     "name": "stderr",
     "output_type": "stream",
     "text": [
      "Génération d'exemples:  46%|████▌     | 462/1000 [09:39<11:18,  1.26s/it]"
     ]
    },
    {
     "name": "stdout",
     "output_type": "stream",
     "text": [
      "!inf\n"
     ]
    },
    {
     "name": "stderr",
     "output_type": "stream",
     "text": [
      "Génération d'exemples:  46%|████▋     | 463/1000 [09:40<10:40,  1.19s/it]"
     ]
    },
    {
     "name": "stdout",
     "output_type": "stream",
     "text": [
      "!yi\n"
     ]
    },
    {
     "name": "stderr",
     "output_type": "stream",
     "text": [
      "Génération d'exemples:  46%|████▋     | 464/1000 [09:41<10:10,  1.14s/it]"
     ]
    },
    {
     "name": "stdout",
     "output_type": "stream",
     "text": [
      "!inf\n"
     ]
    },
    {
     "name": "stderr",
     "output_type": "stream",
     "text": [
      "Génération d'exemples:  46%|████▋     | 465/1000 [09:42<09:56,  1.12s/it]"
     ]
    },
    {
     "name": "stdout",
     "output_type": "stream",
     "text": [
      "!py\n"
     ]
    },
    {
     "name": "stderr",
     "output_type": "stream",
     "text": [
      "Génération d'exemples:  47%|████▋     | 466/1000 [09:43<10:03,  1.13s/it]"
     ]
    },
    {
     "name": "stdout",
     "output_type": "stream",
     "text": [
      "!inf\n"
     ]
    },
    {
     "name": "stderr",
     "output_type": "stream",
     "text": [
      "Génération d'exemples:  47%|████▋     | 467/1000 [09:45<10:04,  1.13s/it]"
     ]
    },
    {
     "name": "stdout",
     "output_type": "stream",
     "text": [
      "!yi\n"
     ]
    },
    {
     "name": "stderr",
     "output_type": "stream",
     "text": [
      "Génération d'exemples:  47%|████▋     | 468/1000 [09:46<10:05,  1.14s/it]"
     ]
    },
    {
     "name": "stdout",
     "output_type": "stream",
     "text": [
      "!cal\n"
     ]
    },
    {
     "name": "stderr",
     "output_type": "stream",
     "text": [
      "Génération d'exemples:  47%|████▋     | 469/1000 [09:47<10:16,  1.16s/it]"
     ]
    },
    {
     "name": "stdout",
     "output_type": "stream",
     "text": [
      "!py\n"
     ]
    },
    {
     "name": "stderr",
     "output_type": "stream",
     "text": [
      "Génération d'exemples:  47%|████▋     | 470/1000 [09:48<09:50,  1.11s/it]"
     ]
    },
    {
     "name": "stdout",
     "output_type": "stream",
     "text": [
      "!py\n"
     ]
    },
    {
     "name": "stderr",
     "output_type": "stream",
     "text": [
      "Génération d'exemples:  47%|████▋     | 471/1000 [09:49<09:41,  1.10s/it]"
     ]
    },
    {
     "name": "stdout",
     "output_type": "stream",
     "text": [
      "!yi\n"
     ]
    },
    {
     "name": "stderr",
     "output_type": "stream",
     "text": [
      "Génération d'exemples:  47%|████▋     | 472/1000 [09:50<09:53,  1.12s/it]"
     ]
    },
    {
     "name": "stdout",
     "output_type": "stream",
     "text": [
      "!cal\n"
     ]
    },
    {
     "name": "stderr",
     "output_type": "stream",
     "text": [
      "Génération d'exemples:  47%|████▋     | 473/1000 [09:51<09:21,  1.06s/it]"
     ]
    },
    {
     "name": "stdout",
     "output_type": "stream",
     "text": [
      "!py\n"
     ]
    },
    {
     "name": "stderr",
     "output_type": "stream",
     "text": [
      "Génération d'exemples:  47%|████▋     | 474/1000 [09:52<09:24,  1.07s/it]"
     ]
    },
    {
     "name": "stdout",
     "output_type": "stream",
     "text": [
      "!inf\n"
     ]
    },
    {
     "name": "stderr",
     "output_type": "stream",
     "text": [
      "Génération d'exemples:  48%|████▊     | 475/1000 [09:53<09:01,  1.03s/it]"
     ]
    },
    {
     "name": "stdout",
     "output_type": "stream",
     "text": [
      "!cal\n"
     ]
    },
    {
     "name": "stderr",
     "output_type": "stream",
     "text": [
      "Génération d'exemples:  48%|████▊     | 476/1000 [09:54<08:57,  1.02s/it]"
     ]
    },
    {
     "name": "stdout",
     "output_type": "stream",
     "text": [
      "!yi\n"
     ]
    },
    {
     "name": "stderr",
     "output_type": "stream",
     "text": [
      "Génération d'exemples:  48%|████▊     | 477/1000 [09:55<09:40,  1.11s/it]"
     ]
    },
    {
     "name": "stdout",
     "output_type": "stream",
     "text": [
      "!py\n"
     ]
    },
    {
     "name": "stderr",
     "output_type": "stream",
     "text": [
      "Génération d'exemples:  48%|████▊     | 478/1000 [09:56<09:08,  1.05s/it]"
     ]
    },
    {
     "name": "stdout",
     "output_type": "stream",
     "text": [
      "!cal\n"
     ]
    },
    {
     "name": "stderr",
     "output_type": "stream",
     "text": [
      "Génération d'exemples:  48%|████▊     | 479/1000 [09:57<08:56,  1.03s/it]"
     ]
    },
    {
     "name": "stdout",
     "output_type": "stream",
     "text": [
      "!inf\n"
     ]
    },
    {
     "name": "stderr",
     "output_type": "stream",
     "text": [
      "Génération d'exemples:  48%|████▊     | 480/1000 [09:58<09:10,  1.06s/it]"
     ]
    },
    {
     "name": "stdout",
     "output_type": "stream",
     "text": [
      "!cal\n"
     ]
    },
    {
     "name": "stderr",
     "output_type": "stream",
     "text": [
      "Génération d'exemples:  48%|████▊     | 481/1000 [09:59<08:39,  1.00s/it]"
     ]
    },
    {
     "name": "stdout",
     "output_type": "stream",
     "text": [
      "!cal\n"
     ]
    },
    {
     "name": "stderr",
     "output_type": "stream",
     "text": [
      "Génération d'exemples:  48%|████▊     | 482/1000 [10:00<08:55,  1.03s/it]"
     ]
    },
    {
     "name": "stdout",
     "output_type": "stream",
     "text": [
      "!yi\n"
     ]
    },
    {
     "name": "stderr",
     "output_type": "stream",
     "text": [
      "Génération d'exemples:  48%|████▊     | 483/1000 [10:01<08:38,  1.00s/it]"
     ]
    },
    {
     "name": "stdout",
     "output_type": "stream",
     "text": [
      "!inf\n"
     ]
    },
    {
     "name": "stderr",
     "output_type": "stream",
     "text": [
      "Génération d'exemples:  48%|████▊     | 484/1000 [10:02<08:35,  1.00it/s]"
     ]
    },
    {
     "name": "stdout",
     "output_type": "stream",
     "text": [
      "!yi\n"
     ]
    },
    {
     "name": "stderr",
     "output_type": "stream",
     "text": [
      "Génération d'exemples:  48%|████▊     | 485/1000 [10:04<09:35,  1.12s/it]"
     ]
    },
    {
     "name": "stdout",
     "output_type": "stream",
     "text": [
      "!py\n"
     ]
    },
    {
     "name": "stderr",
     "output_type": "stream",
     "text": [
      "Génération d'exemples:  49%|████▊     | 486/1000 [10:05<09:35,  1.12s/it]"
     ]
    },
    {
     "name": "stdout",
     "output_type": "stream",
     "text": [
      "!py\n"
     ]
    },
    {
     "name": "stderr",
     "output_type": "stream",
     "text": [
      "Génération d'exemples:  49%|████▊     | 487/1000 [10:06<10:20,  1.21s/it]"
     ]
    },
    {
     "name": "stdout",
     "output_type": "stream",
     "text": [
      "!cal\n"
     ]
    },
    {
     "name": "stderr",
     "output_type": "stream",
     "text": [
      "Génération d'exemples:  49%|████▉     | 488/1000 [10:08<11:36,  1.36s/it]"
     ]
    },
    {
     "name": "stdout",
     "output_type": "stream",
     "text": [
      "!yi\n"
     ]
    },
    {
     "name": "stderr",
     "output_type": "stream",
     "text": [
      "Génération d'exemples:  49%|████▉     | 489/1000 [10:09<11:04,  1.30s/it]"
     ]
    },
    {
     "name": "stdout",
     "output_type": "stream",
     "text": [
      "!inf\n"
     ]
    },
    {
     "name": "stderr",
     "output_type": "stream",
     "text": [
      "Génération d'exemples:  49%|████▉     | 490/1000 [10:10<10:30,  1.24s/it]"
     ]
    },
    {
     "name": "stdout",
     "output_type": "stream",
     "text": [
      "!cal\n"
     ]
    },
    {
     "name": "stderr",
     "output_type": "stream",
     "text": [
      "Génération d'exemples:  49%|████▉     | 491/1000 [10:11<09:51,  1.16s/it]"
     ]
    },
    {
     "name": "stdout",
     "output_type": "stream",
     "text": [
      "!yi\n"
     ]
    },
    {
     "name": "stderr",
     "output_type": "stream",
     "text": [
      "Génération d'exemples:  49%|████▉     | 492/1000 [10:12<09:32,  1.13s/it]"
     ]
    },
    {
     "name": "stdout",
     "output_type": "stream",
     "text": [
      "!py\n"
     ]
    },
    {
     "name": "stderr",
     "output_type": "stream",
     "text": [
      "Génération d'exemples:  49%|████▉     | 493/1000 [10:13<09:26,  1.12s/it]"
     ]
    },
    {
     "name": "stdout",
     "output_type": "stream",
     "text": [
      "!yi\n"
     ]
    },
    {
     "name": "stderr",
     "output_type": "stream",
     "text": [
      "Génération d'exemples:  49%|████▉     | 494/1000 [10:14<08:59,  1.07s/it]"
     ]
    },
    {
     "name": "stdout",
     "output_type": "stream",
     "text": [
      "!inf\n"
     ]
    },
    {
     "name": "stderr",
     "output_type": "stream",
     "text": [
      "Génération d'exemples:  50%|████▉     | 495/1000 [10:16<11:38,  1.38s/it]"
     ]
    },
    {
     "name": "stdout",
     "output_type": "stream",
     "text": [
      "!cal\n"
     ]
    },
    {
     "name": "stderr",
     "output_type": "stream",
     "text": [
      "Génération d'exemples:  50%|████▉     | 496/1000 [10:18<11:00,  1.31s/it]"
     ]
    },
    {
     "name": "stdout",
     "output_type": "stream",
     "text": [
      "!cal\n"
     ]
    },
    {
     "name": "stderr",
     "output_type": "stream",
     "text": [
      "Génération d'exemples:  50%|████▉     | 497/1000 [10:19<11:15,  1.34s/it]"
     ]
    },
    {
     "name": "stdout",
     "output_type": "stream",
     "text": [
      "!yi\n"
     ]
    },
    {
     "name": "stderr",
     "output_type": "stream",
     "text": [
      "Génération d'exemples:  50%|████▉     | 498/1000 [10:21<11:44,  1.40s/it]"
     ]
    },
    {
     "name": "stdout",
     "output_type": "stream",
     "text": [
      "!cal\n"
     ]
    },
    {
     "name": "stderr",
     "output_type": "stream",
     "text": [
      "Génération d'exemples:  50%|████▉     | 499/1000 [10:22<10:59,  1.32s/it]"
     ]
    },
    {
     "name": "stdout",
     "output_type": "stream",
     "text": [
      "!yi\n"
     ]
    },
    {
     "name": "stderr",
     "output_type": "stream",
     "text": [
      "Génération d'exemples:  50%|█████     | 500/1000 [10:23<10:19,  1.24s/it]"
     ]
    },
    {
     "name": "stdout",
     "output_type": "stream",
     "text": [
      "!yi\n"
     ]
    },
    {
     "name": "stderr",
     "output_type": "stream",
     "text": [
      "Génération d'exemples:  50%|█████     | 501/1000 [10:24<09:56,  1.20s/it]"
     ]
    },
    {
     "name": "stdout",
     "output_type": "stream",
     "text": [
      "!inf\n"
     ]
    },
    {
     "name": "stderr",
     "output_type": "stream",
     "text": [
      "Génération d'exemples:  50%|█████     | 502/1000 [10:25<09:24,  1.13s/it]"
     ]
    },
    {
     "name": "stdout",
     "output_type": "stream",
     "text": [
      "!inf\n"
     ]
    },
    {
     "name": "stderr",
     "output_type": "stream",
     "text": [
      "Génération d'exemples:  50%|█████     | 503/1000 [10:26<09:05,  1.10s/it]"
     ]
    },
    {
     "name": "stdout",
     "output_type": "stream",
     "text": [
      "!inf\n"
     ]
    },
    {
     "name": "stderr",
     "output_type": "stream",
     "text": [
      "Génération d'exemples:  50%|█████     | 504/1000 [10:32<20:38,  2.50s/it]"
     ]
    },
    {
     "name": "stdout",
     "output_type": "stream",
     "text": [
      "!cal\n"
     ]
    },
    {
     "name": "stderr",
     "output_type": "stream",
     "text": [
      "Génération d'exemples:  50%|█████     | 505/1000 [10:33<17:19,  2.10s/it]"
     ]
    },
    {
     "name": "stdout",
     "output_type": "stream",
     "text": [
      "!py\n"
     ]
    },
    {
     "name": "stderr",
     "output_type": "stream",
     "text": [
      "Génération d'exemples:  51%|█████     | 506/1000 [10:34<15:15,  1.85s/it]"
     ]
    },
    {
     "name": "stdout",
     "output_type": "stream",
     "text": [
      "!yi\n"
     ]
    },
    {
     "name": "stderr",
     "output_type": "stream",
     "text": [
      "Génération d'exemples:  51%|█████     | 507/1000 [10:35<13:34,  1.65s/it]"
     ]
    },
    {
     "name": "stdout",
     "output_type": "stream",
     "text": [
      "!yi\n"
     ]
    },
    {
     "name": "stderr",
     "output_type": "stream",
     "text": [
      "Génération d'exemples:  51%|█████     | 508/1000 [10:37<12:57,  1.58s/it]"
     ]
    },
    {
     "name": "stdout",
     "output_type": "stream",
     "text": [
      "!cal\n"
     ]
    },
    {
     "name": "stderr",
     "output_type": "stream",
     "text": [
      "Génération d'exemples:  51%|█████     | 509/1000 [10:38<12:07,  1.48s/it]"
     ]
    },
    {
     "name": "stdout",
     "output_type": "stream",
     "text": [
      "!cal\n"
     ]
    },
    {
     "name": "stderr",
     "output_type": "stream",
     "text": [
      "Génération d'exemples:  51%|█████     | 510/1000 [10:40<13:30,  1.65s/it]"
     ]
    },
    {
     "name": "stdout",
     "output_type": "stream",
     "text": [
      "!yi\n"
     ]
    },
    {
     "name": "stderr",
     "output_type": "stream",
     "text": [
      "Génération d'exemples:  51%|█████     | 511/1000 [10:41<13:05,  1.61s/it]"
     ]
    },
    {
     "name": "stdout",
     "output_type": "stream",
     "text": [
      "!cal\n"
     ]
    },
    {
     "name": "stderr",
     "output_type": "stream",
     "text": [
      "Génération d'exemples:  51%|█████     | 512/1000 [10:43<11:56,  1.47s/it]"
     ]
    },
    {
     "name": "stdout",
     "output_type": "stream",
     "text": [
      "!inf\n"
     ]
    },
    {
     "name": "stderr",
     "output_type": "stream",
     "text": [
      "Génération d'exemples:  51%|█████▏    | 513/1000 [10:45<13:02,  1.61s/it]"
     ]
    },
    {
     "name": "stdout",
     "output_type": "stream",
     "text": [
      "!yi\n"
     ]
    },
    {
     "name": "stderr",
     "output_type": "stream",
     "text": [
      "Génération d'exemples:  51%|█████▏    | 514/1000 [10:46<11:51,  1.46s/it]"
     ]
    },
    {
     "name": "stdout",
     "output_type": "stream",
     "text": [
      "!cal\n"
     ]
    },
    {
     "name": "stderr",
     "output_type": "stream",
     "text": [
      "Génération d'exemples:  52%|█████▏    | 515/1000 [10:47<11:13,  1.39s/it]"
     ]
    },
    {
     "name": "stdout",
     "output_type": "stream",
     "text": [
      "!inf\n"
     ]
    },
    {
     "name": "stderr",
     "output_type": "stream",
     "text": [
      "Génération d'exemples:  52%|█████▏    | 516/1000 [10:49<12:01,  1.49s/it]"
     ]
    },
    {
     "name": "stdout",
     "output_type": "stream",
     "text": [
      "!cal\n"
     ]
    },
    {
     "name": "stderr",
     "output_type": "stream",
     "text": [
      "Génération d'exemples:  52%|█████▏    | 517/1000 [10:50<10:45,  1.34s/it]"
     ]
    },
    {
     "name": "stdout",
     "output_type": "stream",
     "text": [
      "!inf\n"
     ]
    },
    {
     "name": "stderr",
     "output_type": "stream",
     "text": [
      "Génération d'exemples:  52%|█████▏    | 518/1000 [10:51<10:02,  1.25s/it]"
     ]
    },
    {
     "name": "stdout",
     "output_type": "stream",
     "text": [
      "!py\n"
     ]
    },
    {
     "name": "stderr",
     "output_type": "stream",
     "text": [
      "Génération d'exemples:  52%|█████▏    | 519/1000 [10:52<09:48,  1.22s/it]"
     ]
    },
    {
     "name": "stdout",
     "output_type": "stream",
     "text": [
      "!cal\n"
     ]
    },
    {
     "name": "stderr",
     "output_type": "stream",
     "text": [
      "Génération d'exemples:  52%|█████▏    | 520/1000 [10:53<09:41,  1.21s/it]"
     ]
    },
    {
     "name": "stdout",
     "output_type": "stream",
     "text": [
      "!yi\n"
     ]
    },
    {
     "name": "stderr",
     "output_type": "stream",
     "text": [
      "Génération d'exemples:  52%|█████▏    | 521/1000 [10:54<08:40,  1.09s/it]"
     ]
    },
    {
     "name": "stdout",
     "output_type": "stream",
     "text": [
      "!py\n"
     ]
    },
    {
     "name": "stderr",
     "output_type": "stream",
     "text": [
      "Génération d'exemples:  52%|█████▏    | 522/1000 [10:55<08:29,  1.07s/it]"
     ]
    },
    {
     "name": "stdout",
     "output_type": "stream",
     "text": [
      "!py\n"
     ]
    },
    {
     "name": "stderr",
     "output_type": "stream",
     "text": [
      "Génération d'exemples:  52%|█████▏    | 523/1000 [10:56<08:52,  1.12s/it]"
     ]
    },
    {
     "name": "stdout",
     "output_type": "stream",
     "text": [
      "!yi\n"
     ]
    },
    {
     "name": "stderr",
     "output_type": "stream",
     "text": [
      "Génération d'exemples:  52%|█████▏    | 524/1000 [10:57<09:06,  1.15s/it]"
     ]
    },
    {
     "name": "stdout",
     "output_type": "stream",
     "text": [
      "!yi\n"
     ]
    },
    {
     "name": "stderr",
     "output_type": "stream",
     "text": [
      "Génération d'exemples:  52%|█████▎    | 525/1000 [10:58<09:18,  1.18s/it]"
     ]
    },
    {
     "name": "stdout",
     "output_type": "stream",
     "text": [
      "!py\n"
     ]
    },
    {
     "name": "stderr",
     "output_type": "stream",
     "text": [
      "Génération d'exemples:  53%|█████▎    | 526/1000 [11:00<09:22,  1.19s/it]"
     ]
    },
    {
     "name": "stdout",
     "output_type": "stream",
     "text": [
      "!yi\n"
     ]
    },
    {
     "name": "stderr",
     "output_type": "stream",
     "text": [
      "Génération d'exemples:  53%|█████▎    | 527/1000 [11:01<08:43,  1.11s/it]"
     ]
    },
    {
     "name": "stdout",
     "output_type": "stream",
     "text": [
      "!py\n"
     ]
    },
    {
     "name": "stderr",
     "output_type": "stream",
     "text": [
      "Génération d'exemples:  53%|█████▎    | 528/1000 [11:02<08:50,  1.12s/it]"
     ]
    },
    {
     "name": "stdout",
     "output_type": "stream",
     "text": [
      "!yi\n"
     ]
    },
    {
     "name": "stderr",
     "output_type": "stream",
     "text": [
      "Génération d'exemples:  53%|█████▎    | 529/1000 [11:03<09:54,  1.26s/it]"
     ]
    },
    {
     "name": "stdout",
     "output_type": "stream",
     "text": [
      "!py\n"
     ]
    },
    {
     "name": "stderr",
     "output_type": "stream",
     "text": [
      "Génération d'exemples:  53%|█████▎    | 530/1000 [11:04<09:08,  1.17s/it]"
     ]
    },
    {
     "name": "stdout",
     "output_type": "stream",
     "text": [
      "!yi\n"
     ]
    },
    {
     "name": "stderr",
     "output_type": "stream",
     "text": [
      "Génération d'exemples:  53%|█████▎    | 531/1000 [11:05<09:05,  1.16s/it]"
     ]
    },
    {
     "name": "stdout",
     "output_type": "stream",
     "text": [
      "!py\n"
     ]
    },
    {
     "name": "stderr",
     "output_type": "stream",
     "text": [
      "Génération d'exemples:  53%|█████▎    | 532/1000 [11:07<09:36,  1.23s/it]"
     ]
    },
    {
     "name": "stdout",
     "output_type": "stream",
     "text": [
      "!cal\n"
     ]
    },
    {
     "name": "stderr",
     "output_type": "stream",
     "text": [
      "Génération d'exemples:  53%|█████▎    | 533/1000 [11:08<09:12,  1.18s/it]"
     ]
    },
    {
     "name": "stdout",
     "output_type": "stream",
     "text": [
      "!py\n"
     ]
    },
    {
     "name": "stderr",
     "output_type": "stream",
     "text": [
      "Génération d'exemples:  53%|█████▎    | 534/1000 [11:09<08:17,  1.07s/it]"
     ]
    },
    {
     "name": "stdout",
     "output_type": "stream",
     "text": [
      "!py\n"
     ]
    },
    {
     "name": "stderr",
     "output_type": "stream",
     "text": [
      "Génération d'exemples:  54%|█████▎    | 535/1000 [11:11<10:35,  1.37s/it]"
     ]
    },
    {
     "name": "stdout",
     "output_type": "stream",
     "text": [
      "!yi\n"
     ]
    },
    {
     "name": "stderr",
     "output_type": "stream",
     "text": [
      "Génération d'exemples:  54%|█████▎    | 536/1000 [11:12<10:16,  1.33s/it]"
     ]
    },
    {
     "name": "stdout",
     "output_type": "stream",
     "text": [
      "!py\n"
     ]
    },
    {
     "name": "stderr",
     "output_type": "stream",
     "text": [
      "Génération d'exemples:  54%|█████▎    | 537/1000 [11:13<10:31,  1.36s/it]"
     ]
    },
    {
     "name": "stdout",
     "output_type": "stream",
     "text": [
      "!yi\n"
     ]
    },
    {
     "name": "stderr",
     "output_type": "stream",
     "text": [
      "Génération d'exemples:  54%|█████▍    | 538/1000 [11:14<09:34,  1.24s/it]"
     ]
    },
    {
     "name": "stdout",
     "output_type": "stream",
     "text": [
      "!py\n"
     ]
    },
    {
     "name": "stderr",
     "output_type": "stream",
     "text": [
      "Génération d'exemples:  54%|█████▍    | 539/1000 [11:16<10:44,  1.40s/it]"
     ]
    },
    {
     "name": "stdout",
     "output_type": "stream",
     "text": [
      "!cal\n"
     ]
    },
    {
     "name": "stderr",
     "output_type": "stream",
     "text": [
      "Génération d'exemples:  54%|█████▍    | 540/1000 [11:17<10:27,  1.36s/it]"
     ]
    },
    {
     "name": "stdout",
     "output_type": "stream",
     "text": [
      "!py\n"
     ]
    },
    {
     "name": "stderr",
     "output_type": "stream",
     "text": [
      "Génération d'exemples:  54%|█████▍    | 541/1000 [11:19<10:43,  1.40s/it]"
     ]
    },
    {
     "name": "stdout",
     "output_type": "stream",
     "text": [
      "!yi\n"
     ]
    },
    {
     "name": "stderr",
     "output_type": "stream",
     "text": [
      "Génération d'exemples:  54%|█████▍    | 542/1000 [11:20<10:12,  1.34s/it]"
     ]
    },
    {
     "name": "stdout",
     "output_type": "stream",
     "text": [
      "!cal\n"
     ]
    },
    {
     "name": "stderr",
     "output_type": "stream",
     "text": [
      "Génération d'exemples:  54%|█████▍    | 543/1000 [11:21<09:28,  1.24s/it]"
     ]
    },
    {
     "name": "stdout",
     "output_type": "stream",
     "text": [
      "!py\n"
     ]
    },
    {
     "name": "stderr",
     "output_type": "stream",
     "text": [
      "Génération d'exemples:  54%|█████▍    | 544/1000 [11:22<09:17,  1.22s/it]"
     ]
    },
    {
     "name": "stdout",
     "output_type": "stream",
     "text": [
      "!inf\n"
     ]
    },
    {
     "name": "stderr",
     "output_type": "stream",
     "text": [
      "Génération d'exemples:  55%|█████▍    | 545/1000 [11:24<09:27,  1.25s/it]"
     ]
    },
    {
     "name": "stdout",
     "output_type": "stream",
     "text": [
      "!yi\n"
     ]
    },
    {
     "name": "stderr",
     "output_type": "stream",
     "text": [
      "Génération d'exemples:  55%|█████▍    | 546/1000 [11:25<08:55,  1.18s/it]"
     ]
    },
    {
     "name": "stdout",
     "output_type": "stream",
     "text": [
      "!cal\n"
     ]
    },
    {
     "name": "stderr",
     "output_type": "stream",
     "text": [
      "Génération d'exemples:  55%|█████▍    | 547/1000 [11:26<08:36,  1.14s/it]"
     ]
    },
    {
     "name": "stdout",
     "output_type": "stream",
     "text": [
      "!py\n"
     ]
    },
    {
     "name": "stderr",
     "output_type": "stream",
     "text": [
      "Génération d'exemples:  55%|█████▍    | 548/1000 [11:27<08:14,  1.09s/it]"
     ]
    },
    {
     "name": "stdout",
     "output_type": "stream",
     "text": [
      "!cal\n"
     ]
    },
    {
     "name": "stderr",
     "output_type": "stream",
     "text": [
      "Génération d'exemples:  55%|█████▍    | 549/1000 [11:28<08:15,  1.10s/it]"
     ]
    },
    {
     "name": "stdout",
     "output_type": "stream",
     "text": [
      "!py\n"
     ]
    },
    {
     "name": "stderr",
     "output_type": "stream",
     "text": [
      "Génération d'exemples:  55%|█████▌    | 550/1000 [11:29<08:36,  1.15s/it]"
     ]
    },
    {
     "name": "stdout",
     "output_type": "stream",
     "text": [
      "!yi\n"
     ]
    },
    {
     "name": "stderr",
     "output_type": "stream",
     "text": [
      "Génération d'exemples:  55%|█████▌    | 551/1000 [11:30<08:20,  1.12s/it]"
     ]
    },
    {
     "name": "stdout",
     "output_type": "stream",
     "text": [
      "!yi\n"
     ]
    },
    {
     "name": "stderr",
     "output_type": "stream",
     "text": [
      "Génération d'exemples:  55%|█████▌    | 552/1000 [11:31<08:45,  1.17s/it]"
     ]
    },
    {
     "name": "stdout",
     "output_type": "stream",
     "text": [
      "!cal\n"
     ]
    },
    {
     "name": "stderr",
     "output_type": "stream",
     "text": [
      "Génération d'exemples:  55%|█████▌    | 553/1000 [11:33<09:09,  1.23s/it]"
     ]
    },
    {
     "name": "stdout",
     "output_type": "stream",
     "text": [
      "!py\n"
     ]
    },
    {
     "name": "stderr",
     "output_type": "stream",
     "text": [
      "Génération d'exemples:  55%|█████▌    | 554/1000 [11:34<09:35,  1.29s/it]"
     ]
    },
    {
     "name": "stdout",
     "output_type": "stream",
     "text": [
      "!inf\n"
     ]
    },
    {
     "name": "stderr",
     "output_type": "stream",
     "text": [
      "Génération d'exemples:  56%|█████▌    | 555/1000 [11:35<09:17,  1.25s/it]"
     ]
    },
    {
     "name": "stdout",
     "output_type": "stream",
     "text": [
      "!yi\n"
     ]
    },
    {
     "name": "stderr",
     "output_type": "stream",
     "text": [
      "Génération d'exemples:  56%|█████▌    | 556/1000 [11:36<08:42,  1.18s/it]"
     ]
    },
    {
     "name": "stdout",
     "output_type": "stream",
     "text": [
      "!py\n"
     ]
    },
    {
     "name": "stderr",
     "output_type": "stream",
     "text": [
      "Génération d'exemples:  56%|█████▌    | 557/1000 [11:37<08:15,  1.12s/it]"
     ]
    },
    {
     "name": "stdout",
     "output_type": "stream",
     "text": [
      "!py\n"
     ]
    },
    {
     "name": "stderr",
     "output_type": "stream",
     "text": [
      "Génération d'exemples:  56%|█████▌    | 558/1000 [11:38<08:11,  1.11s/it]"
     ]
    },
    {
     "name": "stdout",
     "output_type": "stream",
     "text": [
      "!yi\n"
     ]
    },
    {
     "name": "stderr",
     "output_type": "stream",
     "text": [
      "Génération d'exemples:  56%|█████▌    | 559/1000 [11:39<08:01,  1.09s/it]"
     ]
    },
    {
     "name": "stdout",
     "output_type": "stream",
     "text": [
      "!yi\n"
     ]
    },
    {
     "name": "stderr",
     "output_type": "stream",
     "text": [
      "Génération d'exemples:  56%|█████▌    | 560/1000 [11:41<07:52,  1.07s/it]"
     ]
    },
    {
     "name": "stdout",
     "output_type": "stream",
     "text": [
      "!py\n"
     ]
    },
    {
     "name": "stderr",
     "output_type": "stream",
     "text": [
      "Génération d'exemples:  56%|█████▌    | 561/1000 [11:42<08:50,  1.21s/it]"
     ]
    },
    {
     "name": "stdout",
     "output_type": "stream",
     "text": [
      "!cal\n"
     ]
    },
    {
     "name": "stderr",
     "output_type": "stream",
     "text": [
      "Génération d'exemples:  56%|█████▌    | 562/1000 [11:44<11:08,  1.53s/it]"
     ]
    },
    {
     "name": "stdout",
     "output_type": "stream",
     "text": [
      "!inf\n"
     ]
    },
    {
     "name": "stderr",
     "output_type": "stream",
     "text": [
      "Génération d'exemples:  56%|█████▋    | 563/1000 [11:45<09:42,  1.33s/it]"
     ]
    },
    {
     "name": "stdout",
     "output_type": "stream",
     "text": [
      "!inf\n"
     ]
    },
    {
     "name": "stderr",
     "output_type": "stream",
     "text": [
      "Génération d'exemples:  56%|█████▋    | 564/1000 [11:47<09:37,  1.32s/it]"
     ]
    },
    {
     "name": "stdout",
     "output_type": "stream",
     "text": [
      "!py\n"
     ]
    },
    {
     "name": "stderr",
     "output_type": "stream",
     "text": [
      "Génération d'exemples:  56%|█████▋    | 565/1000 [11:47<08:42,  1.20s/it]"
     ]
    },
    {
     "name": "stdout",
     "output_type": "stream",
     "text": [
      "!py\n"
     ]
    },
    {
     "name": "stderr",
     "output_type": "stream",
     "text": [
      "Génération d'exemples:  57%|█████▋    | 566/1000 [11:48<08:22,  1.16s/it]"
     ]
    },
    {
     "name": "stdout",
     "output_type": "stream",
     "text": [
      "!inf\n"
     ]
    },
    {
     "name": "stderr",
     "output_type": "stream",
     "text": [
      "Génération d'exemples:  57%|█████▋    | 567/1000 [11:49<07:38,  1.06s/it]"
     ]
    },
    {
     "name": "stdout",
     "output_type": "stream",
     "text": [
      "!py\n"
     ]
    },
    {
     "name": "stderr",
     "output_type": "stream",
     "text": [
      "Génération d'exemples:  57%|█████▋    | 568/1000 [11:51<07:56,  1.10s/it]"
     ]
    },
    {
     "name": "stdout",
     "output_type": "stream",
     "text": [
      "!yi\n"
     ]
    },
    {
     "name": "stderr",
     "output_type": "stream",
     "text": [
      "Génération d'exemples:  57%|█████▋    | 569/1000 [11:51<07:28,  1.04s/it]"
     ]
    },
    {
     "name": "stdout",
     "output_type": "stream",
     "text": [
      "!py\n"
     ]
    },
    {
     "name": "stderr",
     "output_type": "stream",
     "text": [
      "Génération d'exemples:  57%|█████▋    | 570/1000 [11:52<06:58,  1.03it/s]"
     ]
    },
    {
     "name": "stdout",
     "output_type": "stream",
     "text": [
      "!py\n"
     ]
    },
    {
     "name": "stderr",
     "output_type": "stream",
     "text": [
      "Génération d'exemples:  57%|█████▋    | 571/1000 [11:53<07:04,  1.01it/s]"
     ]
    },
    {
     "name": "stdout",
     "output_type": "stream",
     "text": [
      "!yi\n"
     ]
    },
    {
     "name": "stderr",
     "output_type": "stream",
     "text": [
      "Génération d'exemples:  57%|█████▋    | 572/1000 [11:55<07:38,  1.07s/it]"
     ]
    },
    {
     "name": "stdout",
     "output_type": "stream",
     "text": [
      "!py\n"
     ]
    },
    {
     "name": "stderr",
     "output_type": "stream",
     "text": [
      "Génération d'exemples:  57%|█████▋    | 573/1000 [11:56<07:28,  1.05s/it]"
     ]
    },
    {
     "name": "stdout",
     "output_type": "stream",
     "text": [
      "!cal\n"
     ]
    },
    {
     "name": "stderr",
     "output_type": "stream",
     "text": [
      "Génération d'exemples:  57%|█████▋    | 574/1000 [11:57<07:53,  1.11s/it]"
     ]
    },
    {
     "name": "stdout",
     "output_type": "stream",
     "text": [
      "!py\n"
     ]
    },
    {
     "name": "stderr",
     "output_type": "stream",
     "text": [
      "Génération d'exemples:  57%|█████▊    | 575/1000 [11:58<08:05,  1.14s/it]"
     ]
    },
    {
     "name": "stdout",
     "output_type": "stream",
     "text": [
      "!inf\n"
     ]
    },
    {
     "name": "stderr",
     "output_type": "stream",
     "text": [
      "Génération d'exemples:  58%|█████▊    | 576/1000 [11:59<08:09,  1.15s/it]"
     ]
    },
    {
     "name": "stdout",
     "output_type": "stream",
     "text": [
      "!inf\n"
     ]
    },
    {
     "name": "stderr",
     "output_type": "stream",
     "text": [
      "Génération d'exemples:  58%|█████▊    | 577/1000 [12:00<07:58,  1.13s/it]"
     ]
    },
    {
     "name": "stdout",
     "output_type": "stream",
     "text": [
      "!cal\n"
     ]
    },
    {
     "name": "stderr",
     "output_type": "stream",
     "text": [
      "Génération d'exemples:  58%|█████▊    | 578/1000 [12:01<07:39,  1.09s/it]"
     ]
    },
    {
     "name": "stdout",
     "output_type": "stream",
     "text": [
      "!yi\n"
     ]
    },
    {
     "name": "stderr",
     "output_type": "stream",
     "text": [
      "Génération d'exemples:  58%|█████▊    | 579/1000 [12:02<07:33,  1.08s/it]"
     ]
    },
    {
     "name": "stdout",
     "output_type": "stream",
     "text": [
      "!yi\n"
     ]
    },
    {
     "name": "stderr",
     "output_type": "stream",
     "text": [
      "Génération d'exemples:  58%|█████▊    | 580/1000 [12:03<07:32,  1.08s/it]"
     ]
    },
    {
     "name": "stdout",
     "output_type": "stream",
     "text": [
      "!py\n"
     ]
    },
    {
     "name": "stderr",
     "output_type": "stream",
     "text": [
      "Génération d'exemples:  58%|█████▊    | 581/1000 [12:05<08:37,  1.24s/it]"
     ]
    },
    {
     "name": "stdout",
     "output_type": "stream",
     "text": [
      "!inf\n"
     ]
    },
    {
     "name": "stderr",
     "output_type": "stream",
     "text": [
      "Génération d'exemples:  58%|█████▊    | 582/1000 [12:06<08:37,  1.24s/it]"
     ]
    },
    {
     "name": "stdout",
     "output_type": "stream",
     "text": [
      "!inf\n"
     ]
    },
    {
     "name": "stderr",
     "output_type": "stream",
     "text": [
      "Génération d'exemples:  58%|█████▊    | 583/1000 [12:07<08:42,  1.25s/it]"
     ]
    },
    {
     "name": "stdout",
     "output_type": "stream",
     "text": [
      "!cal\n"
     ]
    },
    {
     "name": "stderr",
     "output_type": "stream",
     "text": [
      "Génération d'exemples:  58%|█████▊    | 584/1000 [12:09<08:23,  1.21s/it]"
     ]
    },
    {
     "name": "stdout",
     "output_type": "stream",
     "text": [
      "!py\n"
     ]
    },
    {
     "name": "stderr",
     "output_type": "stream",
     "text": [
      "Génération d'exemples:  58%|█████▊    | 585/1000 [12:10<07:50,  1.13s/it]"
     ]
    },
    {
     "name": "stdout",
     "output_type": "stream",
     "text": [
      "!py\n"
     ]
    },
    {
     "name": "stderr",
     "output_type": "stream",
     "text": [
      "Génération d'exemples:  59%|█████▊    | 586/1000 [12:11<07:48,  1.13s/it]"
     ]
    },
    {
     "name": "stdout",
     "output_type": "stream",
     "text": [
      "!yi\n"
     ]
    },
    {
     "name": "stderr",
     "output_type": "stream",
     "text": [
      "Génération d'exemples:  59%|█████▊    | 587/1000 [12:12<07:41,  1.12s/it]"
     ]
    },
    {
     "name": "stdout",
     "output_type": "stream",
     "text": [
      "!inf\n"
     ]
    },
    {
     "name": "stderr",
     "output_type": "stream",
     "text": [
      "Génération d'exemples:  59%|█████▉    | 588/1000 [12:13<08:36,  1.25s/it]"
     ]
    },
    {
     "name": "stdout",
     "output_type": "stream",
     "text": [
      "!inf\n"
     ]
    },
    {
     "name": "stderr",
     "output_type": "stream",
     "text": [
      "Génération d'exemples:  59%|█████▉    | 589/1000 [12:15<08:49,  1.29s/it]"
     ]
    },
    {
     "name": "stdout",
     "output_type": "stream",
     "text": [
      "!yi\n"
     ]
    },
    {
     "name": "stderr",
     "output_type": "stream",
     "text": [
      "Génération d'exemples:  59%|█████▉    | 590/1000 [12:16<07:57,  1.17s/it]"
     ]
    },
    {
     "name": "stdout",
     "output_type": "stream",
     "text": [
      "!cal\n"
     ]
    },
    {
     "name": "stderr",
     "output_type": "stream",
     "text": [
      "Génération d'exemples:  59%|█████▉    | 591/1000 [12:17<07:38,  1.12s/it]"
     ]
    },
    {
     "name": "stdout",
     "output_type": "stream",
     "text": [
      "!inf\n"
     ]
    },
    {
     "name": "stderr",
     "output_type": "stream",
     "text": [
      "Génération d'exemples:  59%|█████▉    | 592/1000 [12:18<07:46,  1.14s/it]"
     ]
    },
    {
     "name": "stdout",
     "output_type": "stream",
     "text": [
      "!yi\n"
     ]
    },
    {
     "name": "stderr",
     "output_type": "stream",
     "text": [
      "Génération d'exemples:  59%|█████▉    | 593/1000 [12:19<08:18,  1.22s/it]"
     ]
    },
    {
     "name": "stdout",
     "output_type": "stream",
     "text": [
      "!py\n"
     ]
    },
    {
     "name": "stderr",
     "output_type": "stream",
     "text": [
      "Génération d'exemples:  59%|█████▉    | 594/1000 [12:20<08:04,  1.19s/it]"
     ]
    },
    {
     "name": "stdout",
     "output_type": "stream",
     "text": [
      "!py\n"
     ]
    },
    {
     "name": "stderr",
     "output_type": "stream",
     "text": [
      "Génération d'exemples:  60%|█████▉    | 595/1000 [12:21<07:14,  1.07s/it]"
     ]
    },
    {
     "name": "stdout",
     "output_type": "stream",
     "text": [
      "!inf\n"
     ]
    },
    {
     "name": "stderr",
     "output_type": "stream",
     "text": [
      "Génération d'exemples:  60%|█████▉    | 596/1000 [12:22<07:03,  1.05s/it]"
     ]
    },
    {
     "name": "stdout",
     "output_type": "stream",
     "text": [
      "!yi\n"
     ]
    },
    {
     "name": "stderr",
     "output_type": "stream",
     "text": [
      "Génération d'exemples:  60%|█████▉    | 597/1000 [12:23<06:52,  1.02s/it]"
     ]
    },
    {
     "name": "stdout",
     "output_type": "stream",
     "text": [
      "!py\n"
     ]
    },
    {
     "name": "stderr",
     "output_type": "stream",
     "text": [
      "Génération d'exemples:  60%|█████▉    | 598/1000 [12:24<06:31,  1.03it/s]"
     ]
    },
    {
     "name": "stdout",
     "output_type": "stream",
     "text": [
      "!inf\n"
     ]
    },
    {
     "name": "stderr",
     "output_type": "stream",
     "text": [
      "Génération d'exemples:  60%|█████▉    | 599/1000 [12:26<07:47,  1.17s/it]"
     ]
    },
    {
     "name": "stdout",
     "output_type": "stream",
     "text": [
      "!cal\n"
     ]
    },
    {
     "name": "stderr",
     "output_type": "stream",
     "text": [
      "Génération d'exemples:  60%|██████    | 600/1000 [12:27<07:44,  1.16s/it]"
     ]
    },
    {
     "name": "stdout",
     "output_type": "stream",
     "text": [
      "!py\n"
     ]
    },
    {
     "name": "stderr",
     "output_type": "stream",
     "text": [
      "Génération d'exemples:  60%|██████    | 601/1000 [12:28<07:34,  1.14s/it]"
     ]
    },
    {
     "name": "stdout",
     "output_type": "stream",
     "text": [
      "!py\n"
     ]
    },
    {
     "name": "stderr",
     "output_type": "stream",
     "text": [
      "Génération d'exemples:  60%|██████    | 602/1000 [12:29<07:12,  1.09s/it]"
     ]
    },
    {
     "name": "stdout",
     "output_type": "stream",
     "text": [
      "!inf\n"
     ]
    },
    {
     "name": "stderr",
     "output_type": "stream",
     "text": [
      "Génération d'exemples:  60%|██████    | 603/1000 [12:30<07:13,  1.09s/it]"
     ]
    },
    {
     "name": "stdout",
     "output_type": "stream",
     "text": [
      "!py\n"
     ]
    },
    {
     "name": "stderr",
     "output_type": "stream",
     "text": [
      "Génération d'exemples:  60%|██████    | 604/1000 [12:34<12:30,  1.90s/it]"
     ]
    },
    {
     "name": "stdout",
     "output_type": "stream",
     "text": [
      "!py\n"
     ]
    },
    {
     "name": "stderr",
     "output_type": "stream",
     "text": [
      "Génération d'exemples:  60%|██████    | 605/1000 [12:36<13:22,  2.03s/it]"
     ]
    },
    {
     "name": "stdout",
     "output_type": "stream",
     "text": [
      "!inf\n"
     ]
    },
    {
     "name": "stderr",
     "output_type": "stream",
     "text": [
      "Génération d'exemples:  61%|██████    | 606/1000 [12:37<11:35,  1.76s/it]"
     ]
    },
    {
     "name": "stdout",
     "output_type": "stream",
     "text": [
      "!py\n"
     ]
    },
    {
     "name": "stderr",
     "output_type": "stream",
     "text": [
      "Génération d'exemples:  61%|██████    | 607/1000 [12:38<10:20,  1.58s/it]"
     ]
    },
    {
     "name": "stdout",
     "output_type": "stream",
     "text": [
      "!cal\n"
     ]
    },
    {
     "name": "stderr",
     "output_type": "stream",
     "text": [
      "Génération d'exemples:  61%|██████    | 608/1000 [12:39<09:24,  1.44s/it]"
     ]
    },
    {
     "name": "stdout",
     "output_type": "stream",
     "text": [
      "!py\n"
     ]
    },
    {
     "name": "stderr",
     "output_type": "stream",
     "text": [
      "Génération d'exemples:  61%|██████    | 609/1000 [12:41<09:13,  1.41s/it]"
     ]
    },
    {
     "name": "stdout",
     "output_type": "stream",
     "text": [
      "!cal\n"
     ]
    },
    {
     "name": "stderr",
     "output_type": "stream",
     "text": [
      "Génération d'exemples:  61%|██████    | 610/1000 [12:42<08:20,  1.28s/it]"
     ]
    },
    {
     "name": "stdout",
     "output_type": "stream",
     "text": [
      "!cal\n"
     ]
    },
    {
     "name": "stderr",
     "output_type": "stream",
     "text": [
      "Génération d'exemples:  61%|██████    | 611/1000 [12:43<07:59,  1.23s/it]"
     ]
    },
    {
     "name": "stdout",
     "output_type": "stream",
     "text": [
      "!inf\n"
     ]
    },
    {
     "name": "stderr",
     "output_type": "stream",
     "text": [
      "Génération d'exemples:  61%|██████    | 612/1000 [12:44<08:37,  1.33s/it]"
     ]
    },
    {
     "name": "stdout",
     "output_type": "stream",
     "text": [
      "!inf\n"
     ]
    },
    {
     "name": "stderr",
     "output_type": "stream",
     "text": [
      "Génération d'exemples:  61%|██████▏   | 613/1000 [12:46<08:07,  1.26s/it]"
     ]
    },
    {
     "name": "stdout",
     "output_type": "stream",
     "text": [
      "!py\n"
     ]
    },
    {
     "name": "stderr",
     "output_type": "stream",
     "text": [
      "Génération d'exemples:  61%|██████▏   | 614/1000 [12:47<08:15,  1.28s/it]"
     ]
    },
    {
     "name": "stdout",
     "output_type": "stream",
     "text": [
      "!inf\n"
     ]
    },
    {
     "name": "stderr",
     "output_type": "stream",
     "text": [
      "Génération d'exemples:  62%|██████▏   | 615/1000 [12:48<07:41,  1.20s/it]"
     ]
    },
    {
     "name": "stdout",
     "output_type": "stream",
     "text": [
      "!inf\n"
     ]
    },
    {
     "name": "stderr",
     "output_type": "stream",
     "text": [
      "Génération d'exemples:  62%|██████▏   | 616/1000 [12:49<06:53,  1.08s/it]"
     ]
    },
    {
     "name": "stdout",
     "output_type": "stream",
     "text": [
      "!py\n"
     ]
    },
    {
     "name": "stderr",
     "output_type": "stream",
     "text": [
      "Génération d'exemples:  62%|██████▏   | 617/1000 [12:50<06:38,  1.04s/it]"
     ]
    },
    {
     "name": "stdout",
     "output_type": "stream",
     "text": [
      "!yi\n"
     ]
    },
    {
     "name": "stderr",
     "output_type": "stream",
     "text": [
      "Génération d'exemples:  62%|██████▏   | 618/1000 [12:51<06:22,  1.00s/it]"
     ]
    },
    {
     "name": "stdout",
     "output_type": "stream",
     "text": [
      "!inf\n"
     ]
    },
    {
     "name": "stderr",
     "output_type": "stream",
     "text": [
      "Génération d'exemples:  62%|██████▏   | 619/1000 [12:51<06:04,  1.04it/s]"
     ]
    },
    {
     "name": "stdout",
     "output_type": "stream",
     "text": [
      "!cal\n"
     ]
    },
    {
     "name": "stderr",
     "output_type": "stream",
     "text": [
      "Génération d'exemples:  62%|██████▏   | 620/1000 [12:52<05:54,  1.07it/s]"
     ]
    },
    {
     "name": "stdout",
     "output_type": "stream",
     "text": [
      "!cal\n"
     ]
    },
    {
     "name": "stderr",
     "output_type": "stream",
     "text": [
      "Génération d'exemples:  62%|██████▏   | 621/1000 [12:53<06:10,  1.02it/s]"
     ]
    },
    {
     "name": "stdout",
     "output_type": "stream",
     "text": [
      "!cal\n"
     ]
    },
    {
     "name": "stderr",
     "output_type": "stream",
     "text": [
      "Génération d'exemples:  62%|██████▏   | 622/1000 [12:54<06:18,  1.00s/it]"
     ]
    },
    {
     "name": "stdout",
     "output_type": "stream",
     "text": [
      "!inf\n"
     ]
    },
    {
     "name": "stderr",
     "output_type": "stream",
     "text": [
      "Génération d'exemples:  62%|██████▏   | 623/1000 [12:56<07:33,  1.20s/it]"
     ]
    },
    {
     "name": "stdout",
     "output_type": "stream",
     "text": [
      "!inf\n"
     ]
    },
    {
     "name": "stderr",
     "output_type": "stream",
     "text": [
      "Génération d'exemples:  62%|██████▏   | 624/1000 [12:57<07:10,  1.15s/it]"
     ]
    },
    {
     "name": "stdout",
     "output_type": "stream",
     "text": [
      "!inf\n"
     ]
    },
    {
     "name": "stderr",
     "output_type": "stream",
     "text": [
      "Génération d'exemples:  62%|██████▎   | 625/1000 [12:59<07:51,  1.26s/it]"
     ]
    },
    {
     "name": "stdout",
     "output_type": "stream",
     "text": [
      "!cal\n"
     ]
    },
    {
     "name": "stderr",
     "output_type": "stream",
     "text": [
      "Génération d'exemples:  63%|██████▎   | 626/1000 [13:00<08:12,  1.32s/it]"
     ]
    },
    {
     "name": "stdout",
     "output_type": "stream",
     "text": [
      "!yi\n"
     ]
    },
    {
     "name": "stderr",
     "output_type": "stream",
     "text": [
      "Génération d'exemples:  63%|██████▎   | 627/1000 [13:02<08:41,  1.40s/it]"
     ]
    },
    {
     "name": "stdout",
     "output_type": "stream",
     "text": [
      "!yi\n"
     ]
    },
    {
     "name": "stderr",
     "output_type": "stream",
     "text": [
      "Génération d'exemples:  63%|██████▎   | 628/1000 [13:03<07:55,  1.28s/it]"
     ]
    },
    {
     "name": "stdout",
     "output_type": "stream",
     "text": [
      "!py\n"
     ]
    },
    {
     "name": "stderr",
     "output_type": "stream",
     "text": [
      "Génération d'exemples:  63%|██████▎   | 629/1000 [13:04<07:34,  1.23s/it]"
     ]
    },
    {
     "name": "stdout",
     "output_type": "stream",
     "text": [
      "!inf\n"
     ]
    },
    {
     "name": "stderr",
     "output_type": "stream",
     "text": [
      "Génération d'exemples:  63%|██████▎   | 630/1000 [13:05<07:48,  1.27s/it]"
     ]
    },
    {
     "name": "stdout",
     "output_type": "stream",
     "text": [
      "!py\n"
     ]
    },
    {
     "name": "stderr",
     "output_type": "stream",
     "text": [
      "Génération d'exemples:  63%|██████▎   | 631/1000 [13:07<08:27,  1.38s/it]"
     ]
    },
    {
     "name": "stdout",
     "output_type": "stream",
     "text": [
      "!inf\n"
     ]
    },
    {
     "name": "stderr",
     "output_type": "stream",
     "text": [
      "Génération d'exemples:  63%|██████▎   | 632/1000 [13:08<07:52,  1.28s/it]"
     ]
    },
    {
     "name": "stdout",
     "output_type": "stream",
     "text": [
      "!cal\n"
     ]
    },
    {
     "name": "stderr",
     "output_type": "stream",
     "text": [
      "Génération d'exemples:  63%|██████▎   | 633/1000 [13:09<07:16,  1.19s/it]"
     ]
    },
    {
     "name": "stdout",
     "output_type": "stream",
     "text": [
      "!inf\n"
     ]
    },
    {
     "name": "stderr",
     "output_type": "stream",
     "text": [
      "Génération d'exemples:  63%|██████▎   | 634/1000 [13:10<07:13,  1.18s/it]"
     ]
    },
    {
     "name": "stdout",
     "output_type": "stream",
     "text": [
      "!yi\n"
     ]
    },
    {
     "name": "stderr",
     "output_type": "stream",
     "text": [
      "Génération d'exemples:  64%|██████▎   | 635/1000 [13:11<07:10,  1.18s/it]"
     ]
    },
    {
     "name": "stdout",
     "output_type": "stream",
     "text": [
      "!cal\n"
     ]
    },
    {
     "name": "stderr",
     "output_type": "stream",
     "text": [
      "Génération d'exemples:  64%|██████▎   | 636/1000 [13:12<06:45,  1.11s/it]"
     ]
    },
    {
     "name": "stdout",
     "output_type": "stream",
     "text": [
      "!inf\n"
     ]
    },
    {
     "name": "stderr",
     "output_type": "stream",
     "text": [
      "Génération d'exemples:  64%|██████▎   | 637/1000 [13:13<06:21,  1.05s/it]"
     ]
    },
    {
     "name": "stdout",
     "output_type": "stream",
     "text": [
      "!inf\n"
     ]
    },
    {
     "name": "stderr",
     "output_type": "stream",
     "text": [
      "Génération d'exemples:  64%|██████▍   | 638/1000 [13:14<06:22,  1.06s/it]"
     ]
    },
    {
     "name": "stdout",
     "output_type": "stream",
     "text": [
      "!inf\n"
     ]
    },
    {
     "name": "stderr",
     "output_type": "stream",
     "text": [
      "Génération d'exemples:  64%|██████▍   | 639/1000 [13:15<06:19,  1.05s/it]"
     ]
    },
    {
     "name": "stdout",
     "output_type": "stream",
     "text": [
      "!inf\n"
     ]
    },
    {
     "name": "stderr",
     "output_type": "stream",
     "text": [
      "Génération d'exemples:  64%|██████▍   | 640/1000 [13:16<06:23,  1.06s/it]"
     ]
    },
    {
     "name": "stdout",
     "output_type": "stream",
     "text": [
      "!py\n"
     ]
    },
    {
     "name": "stderr",
     "output_type": "stream",
     "text": [
      "Génération d'exemples:  64%|██████▍   | 641/1000 [13:18<06:58,  1.17s/it]"
     ]
    },
    {
     "name": "stdout",
     "output_type": "stream",
     "text": [
      "!inf\n"
     ]
    },
    {
     "name": "stderr",
     "output_type": "stream",
     "text": [
      "Génération d'exemples:  64%|██████▍   | 642/1000 [13:19<07:51,  1.32s/it]"
     ]
    },
    {
     "name": "stdout",
     "output_type": "stream",
     "text": [
      "!py\n"
     ]
    },
    {
     "name": "stderr",
     "output_type": "stream",
     "text": [
      "Génération d'exemples:  64%|██████▍   | 643/1000 [13:20<07:24,  1.24s/it]"
     ]
    },
    {
     "name": "stdout",
     "output_type": "stream",
     "text": [
      "!yi\n"
     ]
    },
    {
     "name": "stderr",
     "output_type": "stream",
     "text": [
      "Génération d'exemples:  64%|██████▍   | 644/1000 [13:21<07:00,  1.18s/it]"
     ]
    },
    {
     "name": "stdout",
     "output_type": "stream",
     "text": [
      "!py\n"
     ]
    },
    {
     "name": "stderr",
     "output_type": "stream",
     "text": [
      "Génération d'exemples:  64%|██████▍   | 645/1000 [13:23<07:33,  1.28s/it]"
     ]
    },
    {
     "name": "stdout",
     "output_type": "stream",
     "text": [
      "!yi\n"
     ]
    },
    {
     "name": "stderr",
     "output_type": "stream",
     "text": [
      "Génération d'exemples:  65%|██████▍   | 646/1000 [13:25<08:33,  1.45s/it]"
     ]
    },
    {
     "name": "stdout",
     "output_type": "stream",
     "text": [
      "!py\n"
     ]
    },
    {
     "name": "stderr",
     "output_type": "stream",
     "text": [
      "Génération d'exemples:  65%|██████▍   | 647/1000 [13:26<07:32,  1.28s/it]"
     ]
    },
    {
     "name": "stdout",
     "output_type": "stream",
     "text": [
      "!inf\n"
     ]
    },
    {
     "name": "stderr",
     "output_type": "stream",
     "text": [
      "Génération d'exemples:  65%|██████▍   | 648/1000 [13:27<07:35,  1.29s/it]"
     ]
    },
    {
     "name": "stdout",
     "output_type": "stream",
     "text": [
      "!inf\n"
     ]
    },
    {
     "name": "stderr",
     "output_type": "stream",
     "text": [
      "Génération d'exemples:  65%|██████▍   | 649/1000 [13:28<07:29,  1.28s/it]"
     ]
    },
    {
     "name": "stdout",
     "output_type": "stream",
     "text": [
      "!cal\n"
     ]
    },
    {
     "name": "stderr",
     "output_type": "stream",
     "text": [
      "Génération d'exemples:  65%|██████▌   | 650/1000 [13:29<07:19,  1.26s/it]"
     ]
    },
    {
     "name": "stdout",
     "output_type": "stream",
     "text": [
      "!py\n"
     ]
    },
    {
     "name": "stderr",
     "output_type": "stream",
     "text": [
      "Génération d'exemples:  65%|██████▌   | 651/1000 [13:30<06:54,  1.19s/it]"
     ]
    },
    {
     "name": "stdout",
     "output_type": "stream",
     "text": [
      "!inf\n"
     ]
    },
    {
     "name": "stderr",
     "output_type": "stream",
     "text": [
      "Génération d'exemples:  65%|██████▌   | 652/1000 [13:32<06:58,  1.20s/it]"
     ]
    },
    {
     "name": "stdout",
     "output_type": "stream",
     "text": [
      "!yi\n"
     ]
    },
    {
     "name": "stderr",
     "output_type": "stream",
     "text": [
      "Génération d'exemples:  65%|██████▌   | 653/1000 [13:33<07:03,  1.22s/it]"
     ]
    },
    {
     "name": "stdout",
     "output_type": "stream",
     "text": [
      "!yi\n"
     ]
    },
    {
     "name": "stderr",
     "output_type": "stream",
     "text": [
      "Génération d'exemples:  65%|██████▌   | 654/1000 [13:34<06:41,  1.16s/it]"
     ]
    },
    {
     "name": "stdout",
     "output_type": "stream",
     "text": [
      "!yi\n"
     ]
    },
    {
     "name": "stderr",
     "output_type": "stream",
     "text": [
      "Génération d'exemples:  66%|██████▌   | 655/1000 [13:35<06:32,  1.14s/it]"
     ]
    },
    {
     "name": "stdout",
     "output_type": "stream",
     "text": [
      "!yi\n"
     ]
    },
    {
     "name": "stderr",
     "output_type": "stream",
     "text": [
      "Génération d'exemples:  66%|██████▌   | 656/1000 [13:36<06:26,  1.12s/it]"
     ]
    },
    {
     "name": "stdout",
     "output_type": "stream",
     "text": [
      "!py\n"
     ]
    },
    {
     "name": "stderr",
     "output_type": "stream",
     "text": [
      "Génération d'exemples:  66%|██████▌   | 657/1000 [13:37<06:14,  1.09s/it]"
     ]
    },
    {
     "name": "stdout",
     "output_type": "stream",
     "text": [
      "!yi\n"
     ]
    },
    {
     "name": "stderr",
     "output_type": "stream",
     "text": [
      "Génération d'exemples:  66%|██████▌   | 658/1000 [13:38<06:05,  1.07s/it]"
     ]
    },
    {
     "name": "stdout",
     "output_type": "stream",
     "text": [
      "!inf\n"
     ]
    },
    {
     "name": "stderr",
     "output_type": "stream",
     "text": [
      "Génération d'exemples:  66%|██████▌   | 659/1000 [13:39<06:28,  1.14s/it]"
     ]
    },
    {
     "name": "stdout",
     "output_type": "stream",
     "text": [
      "!inf\n"
     ]
    },
    {
     "name": "stderr",
     "output_type": "stream",
     "text": [
      "Génération d'exemples:  66%|██████▌   | 660/1000 [13:40<06:07,  1.08s/it]"
     ]
    },
    {
     "name": "stdout",
     "output_type": "stream",
     "text": [
      "!cal\n"
     ]
    },
    {
     "name": "stderr",
     "output_type": "stream",
     "text": [
      "Génération d'exemples:  66%|██████▌   | 661/1000 [13:42<06:35,  1.17s/it]"
     ]
    },
    {
     "name": "stdout",
     "output_type": "stream",
     "text": [
      "!cal\n"
     ]
    },
    {
     "name": "stderr",
     "output_type": "stream",
     "text": [
      "Génération d'exemples:  66%|██████▌   | 662/1000 [13:43<06:16,  1.12s/it]"
     ]
    },
    {
     "name": "stdout",
     "output_type": "stream",
     "text": [
      "!py\n"
     ]
    },
    {
     "name": "stderr",
     "output_type": "stream",
     "text": [
      "Génération d'exemples:  66%|██████▋   | 663/1000 [13:44<06:05,  1.08s/it]"
     ]
    },
    {
     "name": "stdout",
     "output_type": "stream",
     "text": [
      "!yi\n"
     ]
    },
    {
     "name": "stderr",
     "output_type": "stream",
     "text": [
      "Génération d'exemples:  66%|██████▋   | 664/1000 [13:45<05:51,  1.05s/it]"
     ]
    },
    {
     "name": "stdout",
     "output_type": "stream",
     "text": [
      "!inf\n"
     ]
    },
    {
     "name": "stderr",
     "output_type": "stream",
     "text": [
      "Génération d'exemples:  66%|██████▋   | 665/1000 [13:46<05:51,  1.05s/it]"
     ]
    },
    {
     "name": "stdout",
     "output_type": "stream",
     "text": [
      "!yi\n"
     ]
    },
    {
     "name": "stderr",
     "output_type": "stream",
     "text": [
      "Génération d'exemples:  67%|██████▋   | 666/1000 [13:47<06:00,  1.08s/it]"
     ]
    },
    {
     "name": "stdout",
     "output_type": "stream",
     "text": [
      "!cal\n"
     ]
    },
    {
     "name": "stderr",
     "output_type": "stream",
     "text": [
      "Génération d'exemples:  67%|██████▋   | 667/1000 [13:48<05:49,  1.05s/it]"
     ]
    },
    {
     "name": "stdout",
     "output_type": "stream",
     "text": [
      "!py\n"
     ]
    },
    {
     "name": "stderr",
     "output_type": "stream",
     "text": [
      "Génération d'exemples:  67%|██████▋   | 668/1000 [13:49<06:09,  1.11s/it]"
     ]
    },
    {
     "name": "stdout",
     "output_type": "stream",
     "text": [
      "!inf\n"
     ]
    },
    {
     "name": "stderr",
     "output_type": "stream",
     "text": [
      "Génération d'exemples:  67%|██████▋   | 669/1000 [13:54<12:52,  2.33s/it]"
     ]
    },
    {
     "name": "stdout",
     "output_type": "stream",
     "text": [
      "!py\n"
     ]
    },
    {
     "name": "stderr",
     "output_type": "stream",
     "text": [
      "Génération d'exemples:  67%|██████▋   | 670/1000 [13:57<13:50,  2.52s/it]"
     ]
    },
    {
     "name": "stdout",
     "output_type": "stream",
     "text": [
      "!cal\n"
     ]
    },
    {
     "name": "stderr",
     "output_type": "stream",
     "text": [
      "Génération d'exemples:  67%|██████▋   | 671/1000 [13:59<12:14,  2.23s/it]"
     ]
    },
    {
     "name": "stdout",
     "output_type": "stream",
     "text": [
      "!py\n"
     ]
    },
    {
     "name": "stderr",
     "output_type": "stream",
     "text": [
      "Génération d'exemples:  67%|██████▋   | 672/1000 [14:00<10:05,  1.85s/it]"
     ]
    },
    {
     "name": "stdout",
     "output_type": "stream",
     "text": [
      "!yi\n"
     ]
    },
    {
     "name": "stderr",
     "output_type": "stream",
     "text": [
      "Génération d'exemples:  67%|██████▋   | 673/1000 [14:01<09:13,  1.69s/it]"
     ]
    },
    {
     "name": "stdout",
     "output_type": "stream",
     "text": [
      "!cal\n"
     ]
    },
    {
     "name": "stderr",
     "output_type": "stream",
     "text": [
      "Génération d'exemples:  67%|██████▋   | 674/1000 [14:02<08:14,  1.52s/it]"
     ]
    },
    {
     "name": "stdout",
     "output_type": "stream",
     "text": [
      "!yi\n"
     ]
    },
    {
     "name": "stderr",
     "output_type": "stream",
     "text": [
      "Génération d'exemples:  68%|██████▊   | 675/1000 [14:03<07:34,  1.40s/it]"
     ]
    },
    {
     "name": "stdout",
     "output_type": "stream",
     "text": [
      "!cal\n"
     ]
    },
    {
     "name": "stderr",
     "output_type": "stream",
     "text": [
      "Génération d'exemples:  68%|██████▊   | 676/1000 [14:04<07:07,  1.32s/it]"
     ]
    },
    {
     "name": "stdout",
     "output_type": "stream",
     "text": [
      "!yi\n"
     ]
    },
    {
     "name": "stderr",
     "output_type": "stream",
     "text": [
      "Génération d'exemples:  68%|██████▊   | 677/1000 [14:05<06:32,  1.21s/it]"
     ]
    },
    {
     "name": "stdout",
     "output_type": "stream",
     "text": [
      "!inf\n"
     ]
    },
    {
     "name": "stderr",
     "output_type": "stream",
     "text": [
      "Génération d'exemples:  68%|██████▊   | 678/1000 [14:07<06:43,  1.25s/it]"
     ]
    },
    {
     "name": "stdout",
     "output_type": "stream",
     "text": [
      "!cal\n"
     ]
    },
    {
     "name": "stderr",
     "output_type": "stream",
     "text": [
      "Génération d'exemples:  68%|██████▊   | 679/1000 [14:08<06:22,  1.19s/it]"
     ]
    },
    {
     "name": "stdout",
     "output_type": "stream",
     "text": [
      "!yi\n"
     ]
    },
    {
     "name": "stderr",
     "output_type": "stream",
     "text": [
      "Génération d'exemples:  68%|██████▊   | 680/1000 [14:09<06:32,  1.23s/it]"
     ]
    },
    {
     "name": "stdout",
     "output_type": "stream",
     "text": [
      "!py\n"
     ]
    },
    {
     "name": "stderr",
     "output_type": "stream",
     "text": [
      "Génération d'exemples:  68%|██████▊   | 681/1000 [14:10<06:23,  1.20s/it]"
     ]
    },
    {
     "name": "stdout",
     "output_type": "stream",
     "text": [
      "!yi\n"
     ]
    },
    {
     "name": "stderr",
     "output_type": "stream",
     "text": [
      "Génération d'exemples:  68%|██████▊   | 682/1000 [14:12<06:48,  1.29s/it]"
     ]
    },
    {
     "name": "stdout",
     "output_type": "stream",
     "text": [
      "!inf\n"
     ]
    },
    {
     "name": "stderr",
     "output_type": "stream",
     "text": [
      "Génération d'exemples:  68%|██████▊   | 683/1000 [14:13<06:39,  1.26s/it]"
     ]
    },
    {
     "name": "stdout",
     "output_type": "stream",
     "text": [
      "!yi\n"
     ]
    },
    {
     "name": "stderr",
     "output_type": "stream",
     "text": [
      "Génération d'exemples:  68%|██████▊   | 684/1000 [14:14<06:25,  1.22s/it]"
     ]
    },
    {
     "name": "stdout",
     "output_type": "stream",
     "text": [
      "!inf\n"
     ]
    },
    {
     "name": "stderr",
     "output_type": "stream",
     "text": [
      "Génération d'exemples:  68%|██████▊   | 685/1000 [14:15<05:57,  1.13s/it]"
     ]
    },
    {
     "name": "stdout",
     "output_type": "stream",
     "text": [
      "!yi\n"
     ]
    },
    {
     "name": "stderr",
     "output_type": "stream",
     "text": [
      "Génération d'exemples:  69%|██████▊   | 686/1000 [14:16<06:12,  1.19s/it]"
     ]
    },
    {
     "name": "stdout",
     "output_type": "stream",
     "text": [
      "!py\n"
     ]
    },
    {
     "name": "stderr",
     "output_type": "stream",
     "text": [
      "Génération d'exemples:  69%|██████▊   | 687/1000 [14:17<05:42,  1.09s/it]"
     ]
    },
    {
     "name": "stdout",
     "output_type": "stream",
     "text": [
      "!inf\n"
     ]
    },
    {
     "name": "stderr",
     "output_type": "stream",
     "text": [
      "Génération d'exemples:  69%|██████▉   | 688/1000 [14:18<05:58,  1.15s/it]"
     ]
    },
    {
     "name": "stdout",
     "output_type": "stream",
     "text": [
      "!yi\n"
     ]
    },
    {
     "name": "stderr",
     "output_type": "stream",
     "text": [
      "Génération d'exemples:  69%|██████▉   | 689/1000 [14:20<05:49,  1.12s/it]"
     ]
    },
    {
     "name": "stdout",
     "output_type": "stream",
     "text": [
      "!yi\n"
     ]
    },
    {
     "name": "stderr",
     "output_type": "stream",
     "text": [
      "Génération d'exemples:  69%|██████▉   | 690/1000 [14:21<06:27,  1.25s/it]"
     ]
    },
    {
     "name": "stdout",
     "output_type": "stream",
     "text": [
      "!inf\n"
     ]
    },
    {
     "name": "stderr",
     "output_type": "stream",
     "text": [
      "Génération d'exemples:  69%|██████▉   | 691/1000 [14:22<06:03,  1.18s/it]"
     ]
    },
    {
     "name": "stdout",
     "output_type": "stream",
     "text": [
      "!inf\n"
     ]
    },
    {
     "name": "stderr",
     "output_type": "stream",
     "text": [
      "Génération d'exemples:  69%|██████▉   | 692/1000 [14:23<05:58,  1.17s/it]"
     ]
    },
    {
     "name": "stdout",
     "output_type": "stream",
     "text": [
      "!yi\n"
     ]
    },
    {
     "name": "stderr",
     "output_type": "stream",
     "text": [
      "Génération d'exemples:  69%|██████▉   | 693/1000 [14:24<06:03,  1.18s/it]"
     ]
    },
    {
     "name": "stdout",
     "output_type": "stream",
     "text": [
      "!cal\n"
     ]
    },
    {
     "name": "stderr",
     "output_type": "stream",
     "text": [
      "Génération d'exemples:  69%|██████▉   | 694/1000 [14:25<05:38,  1.11s/it]"
     ]
    },
    {
     "name": "stdout",
     "output_type": "stream",
     "text": [
      "!inf\n"
     ]
    },
    {
     "name": "stderr",
     "output_type": "stream",
     "text": [
      "Génération d'exemples:  70%|██████▉   | 695/1000 [14:27<05:42,  1.12s/it]"
     ]
    },
    {
     "name": "stdout",
     "output_type": "stream",
     "text": [
      "!yi\n"
     ]
    },
    {
     "name": "stderr",
     "output_type": "stream",
     "text": [
      "Génération d'exemples:  70%|██████▉   | 696/1000 [14:28<05:44,  1.13s/it]"
     ]
    },
    {
     "name": "stdout",
     "output_type": "stream",
     "text": [
      "!cal\n"
     ]
    },
    {
     "name": "stderr",
     "output_type": "stream",
     "text": [
      "Génération d'exemples:  70%|██████▉   | 697/1000 [14:29<05:52,  1.16s/it]"
     ]
    },
    {
     "name": "stdout",
     "output_type": "stream",
     "text": [
      "!py\n"
     ]
    },
    {
     "name": "stderr",
     "output_type": "stream",
     "text": [
      "Génération d'exemples:  70%|██████▉   | 698/1000 [14:30<06:10,  1.23s/it]"
     ]
    },
    {
     "name": "stdout",
     "output_type": "stream",
     "text": [
      "!yi\n"
     ]
    },
    {
     "name": "stderr",
     "output_type": "stream",
     "text": [
      "Génération d'exemples:  70%|██████▉   | 699/1000 [14:32<06:18,  1.26s/it]"
     ]
    },
    {
     "name": "stdout",
     "output_type": "stream",
     "text": [
      "!yi\n"
     ]
    },
    {
     "name": "stderr",
     "output_type": "stream",
     "text": [
      "Génération d'exemples:  70%|███████   | 700/1000 [14:33<06:05,  1.22s/it]"
     ]
    },
    {
     "name": "stdout",
     "output_type": "stream",
     "text": [
      "!inf\n"
     ]
    },
    {
     "name": "stderr",
     "output_type": "stream",
     "text": [
      "Génération d'exemples:  70%|███████   | 701/1000 [14:34<05:55,  1.19s/it]"
     ]
    },
    {
     "name": "stdout",
     "output_type": "stream",
     "text": [
      "!cal\n"
     ]
    },
    {
     "name": "stderr",
     "output_type": "stream",
     "text": [
      "Génération d'exemples:  70%|███████   | 702/1000 [14:35<06:19,  1.27s/it]"
     ]
    },
    {
     "name": "stdout",
     "output_type": "stream",
     "text": [
      "!py\n"
     ]
    },
    {
     "name": "stderr",
     "output_type": "stream",
     "text": [
      "Génération d'exemples:  70%|███████   | 703/1000 [14:36<05:56,  1.20s/it]"
     ]
    },
    {
     "name": "stdout",
     "output_type": "stream",
     "text": [
      "!cal\n"
     ]
    },
    {
     "name": "stderr",
     "output_type": "stream",
     "text": [
      "Génération d'exemples:  70%|███████   | 704/1000 [14:37<05:39,  1.15s/it]"
     ]
    },
    {
     "name": "stdout",
     "output_type": "stream",
     "text": [
      "!inf\n"
     ]
    },
    {
     "name": "stderr",
     "output_type": "stream",
     "text": [
      "Génération d'exemples:  70%|███████   | 705/1000 [14:39<05:38,  1.15s/it]"
     ]
    },
    {
     "name": "stdout",
     "output_type": "stream",
     "text": [
      "!cal\n"
     ]
    },
    {
     "name": "stderr",
     "output_type": "stream",
     "text": [
      "Génération d'exemples:  71%|███████   | 706/1000 [14:40<05:34,  1.14s/it]"
     ]
    },
    {
     "name": "stdout",
     "output_type": "stream",
     "text": [
      "!inf\n"
     ]
    },
    {
     "name": "stderr",
     "output_type": "stream",
     "text": [
      "Génération d'exemples:  71%|███████   | 707/1000 [14:41<06:25,  1.32s/it]"
     ]
    },
    {
     "name": "stdout",
     "output_type": "stream",
     "text": [
      "!cal\n"
     ]
    },
    {
     "name": "stderr",
     "output_type": "stream",
     "text": [
      "Génération d'exemples:  71%|███████   | 708/1000 [14:43<06:16,  1.29s/it]"
     ]
    },
    {
     "name": "stdout",
     "output_type": "stream",
     "text": [
      "!yi\n"
     ]
    },
    {
     "name": "stderr",
     "output_type": "stream",
     "text": [
      "Génération d'exemples:  71%|███████   | 709/1000 [14:44<06:16,  1.29s/it]"
     ]
    },
    {
     "name": "stdout",
     "output_type": "stream",
     "text": [
      "!cal\n"
     ]
    },
    {
     "name": "stderr",
     "output_type": "stream",
     "text": [
      "Génération d'exemples:  71%|███████   | 710/1000 [14:45<05:58,  1.24s/it]"
     ]
    },
    {
     "name": "stdout",
     "output_type": "stream",
     "text": [
      "!py\n"
     ]
    },
    {
     "name": "stderr",
     "output_type": "stream",
     "text": [
      "Génération d'exemples:  71%|███████   | 711/1000 [14:46<05:55,  1.23s/it]"
     ]
    },
    {
     "name": "stdout",
     "output_type": "stream",
     "text": [
      "!yi\n"
     ]
    },
    {
     "name": "stderr",
     "output_type": "stream",
     "text": [
      "Génération d'exemples:  71%|███████   | 712/1000 [14:47<05:34,  1.16s/it]"
     ]
    },
    {
     "name": "stdout",
     "output_type": "stream",
     "text": [
      "!py\n"
     ]
    },
    {
     "name": "stderr",
     "output_type": "stream",
     "text": [
      "Génération d'exemples:  71%|███████▏  | 713/1000 [14:49<06:14,  1.31s/it]"
     ]
    },
    {
     "name": "stdout",
     "output_type": "stream",
     "text": [
      "!py\n"
     ]
    },
    {
     "name": "stderr",
     "output_type": "stream",
     "text": [
      "Génération d'exemples:  71%|███████▏  | 714/1000 [14:50<05:33,  1.17s/it]"
     ]
    },
    {
     "name": "stdout",
     "output_type": "stream",
     "text": [
      "!inf\n"
     ]
    },
    {
     "name": "stderr",
     "output_type": "stream",
     "text": [
      "Génération d'exemples:  72%|███████▏  | 715/1000 [14:51<05:22,  1.13s/it]"
     ]
    },
    {
     "name": "stdout",
     "output_type": "stream",
     "text": [
      "!py\n"
     ]
    },
    {
     "name": "stderr",
     "output_type": "stream",
     "text": [
      "Génération d'exemples:  72%|███████▏  | 716/1000 [14:52<05:38,  1.19s/it]"
     ]
    },
    {
     "name": "stdout",
     "output_type": "stream",
     "text": [
      "!py\n"
     ]
    },
    {
     "name": "stderr",
     "output_type": "stream",
     "text": [
      "Génération d'exemples:  72%|███████▏  | 717/1000 [14:53<05:23,  1.14s/it]"
     ]
    },
    {
     "name": "stdout",
     "output_type": "stream",
     "text": [
      "!yi\n"
     ]
    },
    {
     "name": "stderr",
     "output_type": "stream",
     "text": [
      "Génération d'exemples:  72%|███████▏  | 718/1000 [14:54<05:08,  1.09s/it]"
     ]
    },
    {
     "name": "stdout",
     "output_type": "stream",
     "text": [
      "!inf\n"
     ]
    },
    {
     "name": "stderr",
     "output_type": "stream",
     "text": [
      "Génération d'exemples:  72%|███████▏  | 719/1000 [14:55<05:19,  1.14s/it]"
     ]
    },
    {
     "name": "stdout",
     "output_type": "stream",
     "text": [
      "!py\n"
     ]
    },
    {
     "name": "stderr",
     "output_type": "stream",
     "text": [
      "Génération d'exemples:  72%|███████▏  | 720/1000 [14:57<05:42,  1.22s/it]"
     ]
    },
    {
     "name": "stdout",
     "output_type": "stream",
     "text": [
      "!cal\n"
     ]
    },
    {
     "name": "stderr",
     "output_type": "stream",
     "text": [
      "Génération d'exemples:  72%|███████▏  | 721/1000 [14:58<05:34,  1.20s/it]"
     ]
    },
    {
     "name": "stdout",
     "output_type": "stream",
     "text": [
      "!cal\n"
     ]
    },
    {
     "name": "stderr",
     "output_type": "stream",
     "text": [
      "Génération d'exemples:  72%|███████▏  | 722/1000 [14:59<05:21,  1.16s/it]"
     ]
    },
    {
     "name": "stdout",
     "output_type": "stream",
     "text": [
      "!yi\n"
     ]
    },
    {
     "name": "stderr",
     "output_type": "stream",
     "text": [
      "Génération d'exemples:  72%|███████▏  | 723/1000 [15:00<05:20,  1.16s/it]"
     ]
    },
    {
     "name": "stdout",
     "output_type": "stream",
     "text": [
      "!cal\n"
     ]
    },
    {
     "name": "stderr",
     "output_type": "stream",
     "text": [
      "Génération d'exemples:  72%|███████▏  | 724/1000 [15:02<05:35,  1.22s/it]"
     ]
    },
    {
     "name": "stdout",
     "output_type": "stream",
     "text": [
      "!py\n"
     ]
    },
    {
     "name": "stderr",
     "output_type": "stream",
     "text": [
      "Génération d'exemples:  72%|███████▎  | 725/1000 [15:02<05:05,  1.11s/it]"
     ]
    },
    {
     "name": "stdout",
     "output_type": "stream",
     "text": [
      "!py\n"
     ]
    },
    {
     "name": "stderr",
     "output_type": "stream",
     "text": [
      "Génération d'exemples:  73%|███████▎  | 726/1000 [15:03<04:51,  1.06s/it]"
     ]
    },
    {
     "name": "stdout",
     "output_type": "stream",
     "text": [
      "!inf\n"
     ]
    },
    {
     "name": "stderr",
     "output_type": "stream",
     "text": [
      "Génération d'exemples:  73%|███████▎  | 727/1000 [15:04<04:53,  1.08s/it]"
     ]
    },
    {
     "name": "stdout",
     "output_type": "stream",
     "text": [
      "!yi\n"
     ]
    },
    {
     "name": "stderr",
     "output_type": "stream",
     "text": [
      "Génération d'exemples:  73%|███████▎  | 728/1000 [15:06<04:53,  1.08s/it]"
     ]
    },
    {
     "name": "stdout",
     "output_type": "stream",
     "text": [
      "!py\n"
     ]
    },
    {
     "name": "stderr",
     "output_type": "stream",
     "text": [
      "Génération d'exemples:  73%|███████▎  | 729/1000 [15:06<04:40,  1.03s/it]"
     ]
    },
    {
     "name": "stdout",
     "output_type": "stream",
     "text": [
      "!cal\n"
     ]
    },
    {
     "name": "stderr",
     "output_type": "stream",
     "text": [
      "Génération d'exemples:  73%|███████▎  | 730/1000 [15:07<04:34,  1.02s/it]"
     ]
    },
    {
     "name": "stdout",
     "output_type": "stream",
     "text": [
      "!py\n"
     ]
    },
    {
     "name": "stderr",
     "output_type": "stream",
     "text": [
      "Génération d'exemples:  73%|███████▎  | 731/1000 [15:09<05:18,  1.18s/it]"
     ]
    },
    {
     "name": "stdout",
     "output_type": "stream",
     "text": [
      "!yi\n"
     ]
    },
    {
     "name": "stderr",
     "output_type": "stream",
     "text": [
      "Génération d'exemples:  73%|███████▎  | 732/1000 [15:10<05:01,  1.12s/it]"
     ]
    },
    {
     "name": "stdout",
     "output_type": "stream",
     "text": [
      "!yi\n"
     ]
    },
    {
     "name": "stderr",
     "output_type": "stream",
     "text": [
      "Génération d'exemples:  73%|███████▎  | 733/1000 [15:11<05:07,  1.15s/it]"
     ]
    },
    {
     "name": "stdout",
     "output_type": "stream",
     "text": [
      "!py\n"
     ]
    },
    {
     "name": "stderr",
     "output_type": "stream",
     "text": [
      "Génération d'exemples:  73%|███████▎  | 734/1000 [15:13<05:30,  1.24s/it]"
     ]
    },
    {
     "name": "stdout",
     "output_type": "stream",
     "text": [
      "!yi\n"
     ]
    },
    {
     "name": "stderr",
     "output_type": "stream",
     "text": [
      "Génération d'exemples:  74%|███████▎  | 735/1000 [15:14<05:12,  1.18s/it]"
     ]
    },
    {
     "name": "stdout",
     "output_type": "stream",
     "text": [
      "!cal\n"
     ]
    },
    {
     "name": "stderr",
     "output_type": "stream",
     "text": [
      "Génération d'exemples:  74%|███████▎  | 736/1000 [15:15<04:41,  1.07s/it]"
     ]
    },
    {
     "name": "stdout",
     "output_type": "stream",
     "text": [
      "!py\n"
     ]
    },
    {
     "name": "stderr",
     "output_type": "stream",
     "text": [
      "Génération d'exemples:  74%|███████▎  | 737/1000 [15:16<04:43,  1.08s/it]"
     ]
    },
    {
     "name": "stdout",
     "output_type": "stream",
     "text": [
      "!yi\n"
     ]
    },
    {
     "name": "stderr",
     "output_type": "stream",
     "text": [
      "Génération d'exemples:  74%|███████▍  | 738/1000 [15:17<05:10,  1.19s/it]"
     ]
    },
    {
     "name": "stdout",
     "output_type": "stream",
     "text": [
      "!py\n"
     ]
    },
    {
     "name": "stderr",
     "output_type": "stream",
     "text": [
      "Génération d'exemples:  74%|███████▍  | 739/1000 [15:18<05:00,  1.15s/it]"
     ]
    },
    {
     "name": "stdout",
     "output_type": "stream",
     "text": [
      "!py\n"
     ]
    },
    {
     "name": "stderr",
     "output_type": "stream",
     "text": [
      "Génération d'exemples:  74%|███████▍  | 740/1000 [15:19<04:47,  1.11s/it]"
     ]
    },
    {
     "name": "stdout",
     "output_type": "stream",
     "text": [
      "!inf\n"
     ]
    },
    {
     "name": "stderr",
     "output_type": "stream",
     "text": [
      "Génération d'exemples:  74%|███████▍  | 741/1000 [15:20<05:02,  1.17s/it]"
     ]
    },
    {
     "name": "stdout",
     "output_type": "stream",
     "text": [
      "!yi\n"
     ]
    },
    {
     "name": "stderr",
     "output_type": "stream",
     "text": [
      "Génération d'exemples:  74%|███████▍  | 742/1000 [15:21<04:49,  1.12s/it]"
     ]
    },
    {
     "name": "stdout",
     "output_type": "stream",
     "text": [
      "!cal\n"
     ]
    },
    {
     "name": "stderr",
     "output_type": "stream",
     "text": [
      "Génération d'exemples:  74%|███████▍  | 743/1000 [15:23<04:51,  1.14s/it]"
     ]
    },
    {
     "name": "stdout",
     "output_type": "stream",
     "text": [
      "!yi\n"
     ]
    },
    {
     "name": "stderr",
     "output_type": "stream",
     "text": [
      "Génération d'exemples:  74%|███████▍  | 744/1000 [15:24<04:41,  1.10s/it]"
     ]
    },
    {
     "name": "stdout",
     "output_type": "stream",
     "text": [
      "!py\n"
     ]
    },
    {
     "name": "stderr",
     "output_type": "stream",
     "text": [
      "Génération d'exemples:  74%|███████▍  | 745/1000 [15:25<04:54,  1.16s/it]"
     ]
    },
    {
     "name": "stdout",
     "output_type": "stream",
     "text": [
      "!py\n"
     ]
    },
    {
     "name": "stderr",
     "output_type": "stream",
     "text": [
      "Génération d'exemples:  75%|███████▍  | 746/1000 [15:26<04:50,  1.15s/it]"
     ]
    },
    {
     "name": "stdout",
     "output_type": "stream",
     "text": [
      "!inf\n"
     ]
    },
    {
     "name": "stderr",
     "output_type": "stream",
     "text": [
      "Génération d'exemples:  75%|███████▍  | 747/1000 [15:28<05:14,  1.24s/it]"
     ]
    },
    {
     "name": "stdout",
     "output_type": "stream",
     "text": [
      "!inf\n"
     ]
    },
    {
     "name": "stderr",
     "output_type": "stream",
     "text": [
      "Génération d'exemples:  75%|███████▍  | 748/1000 [15:29<05:21,  1.28s/it]"
     ]
    },
    {
     "name": "stdout",
     "output_type": "stream",
     "text": [
      "!py\n"
     ]
    },
    {
     "name": "stderr",
     "output_type": "stream",
     "text": [
      "Génération d'exemples:  75%|███████▍  | 749/1000 [15:30<04:57,  1.18s/it]"
     ]
    },
    {
     "name": "stdout",
     "output_type": "stream",
     "text": [
      "!yi\n"
     ]
    },
    {
     "name": "stderr",
     "output_type": "stream",
     "text": [
      "Génération d'exemples:  75%|███████▌  | 750/1000 [15:31<05:02,  1.21s/it]"
     ]
    },
    {
     "name": "stdout",
     "output_type": "stream",
     "text": [
      "!cal\n"
     ]
    },
    {
     "name": "stderr",
     "output_type": "stream",
     "text": [
      "Génération d'exemples:  75%|███████▌  | 751/1000 [15:32<04:51,  1.17s/it]"
     ]
    },
    {
     "name": "stdout",
     "output_type": "stream",
     "text": [
      "!py\n"
     ]
    },
    {
     "name": "stderr",
     "output_type": "stream",
     "text": [
      "Génération d'exemples:  75%|███████▌  | 752/1000 [15:33<04:29,  1.09s/it]"
     ]
    },
    {
     "name": "stdout",
     "output_type": "stream",
     "text": [
      "!py\n"
     ]
    },
    {
     "name": "stderr",
     "output_type": "stream",
     "text": [
      "Génération d'exemples:  75%|███████▌  | 753/1000 [15:34<04:33,  1.11s/it]"
     ]
    },
    {
     "name": "stdout",
     "output_type": "stream",
     "text": [
      "!yi\n"
     ]
    },
    {
     "name": "stderr",
     "output_type": "stream",
     "text": [
      "Génération d'exemples:  75%|███████▌  | 754/1000 [15:35<04:41,  1.14s/it]"
     ]
    },
    {
     "name": "stdout",
     "output_type": "stream",
     "text": [
      "!yi\n"
     ]
    },
    {
     "name": "stderr",
     "output_type": "stream",
     "text": [
      "Génération d'exemples:  76%|███████▌  | 755/1000 [15:37<04:44,  1.16s/it]"
     ]
    },
    {
     "name": "stdout",
     "output_type": "stream",
     "text": [
      "!yi\n"
     ]
    },
    {
     "name": "stderr",
     "output_type": "stream",
     "text": [
      "Génération d'exemples:  76%|███████▌  | 756/1000 [15:38<04:25,  1.09s/it]"
     ]
    },
    {
     "name": "stdout",
     "output_type": "stream",
     "text": [
      "!cal\n"
     ]
    },
    {
     "name": "stderr",
     "output_type": "stream",
     "text": [
      "Génération d'exemples:  76%|███████▌  | 757/1000 [15:39<04:19,  1.07s/it]"
     ]
    },
    {
     "name": "stdout",
     "output_type": "stream",
     "text": [
      "!yi\n"
     ]
    },
    {
     "name": "stderr",
     "output_type": "stream",
     "text": [
      "Génération d'exemples:  76%|███████▌  | 758/1000 [15:40<04:24,  1.09s/it]"
     ]
    },
    {
     "name": "stdout",
     "output_type": "stream",
     "text": [
      "!yi\n"
     ]
    },
    {
     "name": "stderr",
     "output_type": "stream",
     "text": [
      "Génération d'exemples:  76%|███████▌  | 759/1000 [15:41<04:14,  1.06s/it]"
     ]
    },
    {
     "name": "stdout",
     "output_type": "stream",
     "text": [
      "!inf\n"
     ]
    },
    {
     "name": "stderr",
     "output_type": "stream",
     "text": [
      "Génération d'exemples:  76%|███████▌  | 760/1000 [15:42<04:41,  1.17s/it]"
     ]
    },
    {
     "name": "stdout",
     "output_type": "stream",
     "text": [
      "!py\n"
     ]
    },
    {
     "name": "stderr",
     "output_type": "stream",
     "text": [
      "Génération d'exemples:  76%|███████▌  | 761/1000 [15:43<04:24,  1.11s/it]"
     ]
    },
    {
     "name": "stdout",
     "output_type": "stream",
     "text": [
      "!inf\n"
     ]
    },
    {
     "name": "stderr",
     "output_type": "stream",
     "text": [
      "Génération d'exemples:  76%|███████▌  | 762/1000 [15:44<04:08,  1.05s/it]"
     ]
    },
    {
     "name": "stdout",
     "output_type": "stream",
     "text": [
      "!cal\n"
     ]
    },
    {
     "name": "stderr",
     "output_type": "stream",
     "text": [
      "Génération d'exemples:  76%|███████▋  | 763/1000 [15:46<04:55,  1.25s/it]"
     ]
    },
    {
     "name": "stdout",
     "output_type": "stream",
     "text": [
      "!inf\n"
     ]
    },
    {
     "name": "stderr",
     "output_type": "stream",
     "text": [
      "Génération d'exemples:  76%|███████▋  | 764/1000 [15:47<04:52,  1.24s/it]"
     ]
    },
    {
     "name": "stdout",
     "output_type": "stream",
     "text": [
      "!cal\n"
     ]
    },
    {
     "name": "stderr",
     "output_type": "stream",
     "text": [
      "Génération d'exemples:  76%|███████▋  | 765/1000 [15:48<04:35,  1.17s/it]"
     ]
    },
    {
     "name": "stdout",
     "output_type": "stream",
     "text": [
      "!cal\n"
     ]
    },
    {
     "name": "stderr",
     "output_type": "stream",
     "text": [
      "Génération d'exemples:  77%|███████▋  | 766/1000 [15:49<04:10,  1.07s/it]"
     ]
    },
    {
     "name": "stdout",
     "output_type": "stream",
     "text": [
      "!inf\n"
     ]
    },
    {
     "name": "stderr",
     "output_type": "stream",
     "text": [
      "Génération d'exemples:  77%|███████▋  | 767/1000 [15:50<03:55,  1.01s/it]"
     ]
    },
    {
     "name": "stdout",
     "output_type": "stream",
     "text": [
      "!cal\n"
     ]
    },
    {
     "name": "stderr",
     "output_type": "stream",
     "text": [
      "Génération d'exemples:  77%|███████▋  | 768/1000 [15:50<03:38,  1.06it/s]"
     ]
    },
    {
     "name": "stdout",
     "output_type": "stream",
     "text": [
      "!inf\n"
     ]
    },
    {
     "name": "stderr",
     "output_type": "stream",
     "text": [
      "Génération d'exemples:  77%|███████▋  | 769/1000 [15:51<03:42,  1.04it/s]"
     ]
    },
    {
     "name": "stdout",
     "output_type": "stream",
     "text": [
      "!yi\n"
     ]
    },
    {
     "name": "stderr",
     "output_type": "stream",
     "text": [
      "Génération d'exemples:  77%|███████▋  | 770/1000 [15:52<03:45,  1.02it/s]"
     ]
    },
    {
     "name": "stdout",
     "output_type": "stream",
     "text": [
      "!py\n"
     ]
    },
    {
     "name": "stderr",
     "output_type": "stream",
     "text": [
      "Génération d'exemples:  77%|███████▋  | 771/1000 [15:54<03:58,  1.04s/it]"
     ]
    },
    {
     "name": "stdout",
     "output_type": "stream",
     "text": [
      "!cal\n"
     ]
    },
    {
     "name": "stderr",
     "output_type": "stream",
     "text": [
      "Génération d'exemples:  77%|███████▋  | 772/1000 [15:55<03:51,  1.02s/it]"
     ]
    },
    {
     "name": "stdout",
     "output_type": "stream",
     "text": [
      "!inf\n"
     ]
    },
    {
     "name": "stderr",
     "output_type": "stream",
     "text": [
      "Génération d'exemples:  77%|███████▋  | 773/1000 [15:56<03:42,  1.02it/s]"
     ]
    },
    {
     "name": "stdout",
     "output_type": "stream",
     "text": [
      "!cal\n"
     ]
    },
    {
     "name": "stderr",
     "output_type": "stream",
     "text": [
      "Génération d'exemples:  77%|███████▋  | 774/1000 [15:57<03:45,  1.00it/s]"
     ]
    },
    {
     "name": "stdout",
     "output_type": "stream",
     "text": [
      "!inf\n"
     ]
    },
    {
     "name": "stderr",
     "output_type": "stream",
     "text": [
      "Génération d'exemples:  78%|███████▊  | 775/1000 [15:58<03:53,  1.04s/it]"
     ]
    },
    {
     "name": "stdout",
     "output_type": "stream",
     "text": [
      "!cal\n"
     ]
    },
    {
     "name": "stderr",
     "output_type": "stream",
     "text": [
      "Génération d'exemples:  78%|███████▊  | 776/1000 [15:59<03:51,  1.03s/it]"
     ]
    },
    {
     "name": "stdout",
     "output_type": "stream",
     "text": [
      "!cal\n"
     ]
    },
    {
     "name": "stderr",
     "output_type": "stream",
     "text": [
      "Génération d'exemples:  78%|███████▊  | 777/1000 [16:00<03:58,  1.07s/it]"
     ]
    },
    {
     "name": "stdout",
     "output_type": "stream",
     "text": [
      "!yi\n"
     ]
    },
    {
     "name": "stderr",
     "output_type": "stream",
     "text": [
      "Génération d'exemples:  78%|███████▊  | 778/1000 [16:01<03:41,  1.00it/s]"
     ]
    },
    {
     "name": "stdout",
     "output_type": "stream",
     "text": [
      "!py\n"
     ]
    },
    {
     "name": "stderr",
     "output_type": "stream",
     "text": [
      "Génération d'exemples:  78%|███████▊  | 779/1000 [16:02<03:45,  1.02s/it]"
     ]
    },
    {
     "name": "stdout",
     "output_type": "stream",
     "text": [
      "!cal\n"
     ]
    },
    {
     "name": "stderr",
     "output_type": "stream",
     "text": [
      "Génération d'exemples:  78%|███████▊  | 780/1000 [16:03<03:42,  1.01s/it]"
     ]
    },
    {
     "name": "stdout",
     "output_type": "stream",
     "text": [
      "!inf\n"
     ]
    },
    {
     "name": "stderr",
     "output_type": "stream",
     "text": [
      "Génération d'exemples:  78%|███████▊  | 781/1000 [16:04<03:34,  1.02it/s]"
     ]
    },
    {
     "name": "stdout",
     "output_type": "stream",
     "text": [
      "!cal\n"
     ]
    },
    {
     "name": "stderr",
     "output_type": "stream",
     "text": [
      "Génération d'exemples:  78%|███████▊  | 782/1000 [16:05<03:35,  1.01it/s]"
     ]
    },
    {
     "name": "stdout",
     "output_type": "stream",
     "text": [
      "!cal\n"
     ]
    },
    {
     "name": "stderr",
     "output_type": "stream",
     "text": [
      "Génération d'exemples:  78%|███████▊  | 783/1000 [16:05<03:18,  1.10it/s]"
     ]
    },
    {
     "name": "stdout",
     "output_type": "stream",
     "text": [
      "!inf\n"
     ]
    },
    {
     "name": "stderr",
     "output_type": "stream",
     "text": [
      "Génération d'exemples:  78%|███████▊  | 784/1000 [16:06<03:20,  1.08it/s]"
     ]
    },
    {
     "name": "stdout",
     "output_type": "stream",
     "text": [
      "!inf\n"
     ]
    },
    {
     "name": "stderr",
     "output_type": "stream",
     "text": [
      "Génération d'exemples:  78%|███████▊  | 785/1000 [16:07<03:19,  1.08it/s]"
     ]
    },
    {
     "name": "stdout",
     "output_type": "stream",
     "text": [
      "!cal\n"
     ]
    },
    {
     "name": "stderr",
     "output_type": "stream",
     "text": [
      "Génération d'exemples:  79%|███████▊  | 786/1000 [16:09<04:03,  1.14s/it]"
     ]
    },
    {
     "name": "stdout",
     "output_type": "stream",
     "text": [
      "!cal\n"
     ]
    },
    {
     "name": "stderr",
     "output_type": "stream",
     "text": [
      "Génération d'exemples:  79%|███████▊  | 787/1000 [16:10<03:53,  1.10s/it]"
     ]
    },
    {
     "name": "stdout",
     "output_type": "stream",
     "text": [
      "!inf\n"
     ]
    },
    {
     "name": "stderr",
     "output_type": "stream",
     "text": [
      "Génération d'exemples:  79%|███████▉  | 788/1000 [16:11<03:48,  1.08s/it]"
     ]
    },
    {
     "name": "stdout",
     "output_type": "stream",
     "text": [
      "!yi\n"
     ]
    },
    {
     "name": "stderr",
     "output_type": "stream",
     "text": [
      "Génération d'exemples:  79%|███████▉  | 789/1000 [16:12<03:43,  1.06s/it]"
     ]
    },
    {
     "name": "stdout",
     "output_type": "stream",
     "text": [
      "!py\n"
     ]
    },
    {
     "name": "stderr",
     "output_type": "stream",
     "text": [
      "Génération d'exemples:  79%|███████▉  | 790/1000 [16:13<03:47,  1.08s/it]"
     ]
    },
    {
     "name": "stdout",
     "output_type": "stream",
     "text": [
      "!yi\n"
     ]
    },
    {
     "name": "stderr",
     "output_type": "stream",
     "text": [
      "Génération d'exemples:  79%|███████▉  | 791/1000 [16:15<04:24,  1.27s/it]"
     ]
    },
    {
     "name": "stdout",
     "output_type": "stream",
     "text": [
      "!py\n"
     ]
    },
    {
     "name": "stderr",
     "output_type": "stream",
     "text": [
      "Génération d'exemples:  79%|███████▉  | 792/1000 [16:17<04:50,  1.40s/it]"
     ]
    },
    {
     "name": "stdout",
     "output_type": "stream",
     "text": [
      "!cal\n"
     ]
    },
    {
     "name": "stderr",
     "output_type": "stream",
     "text": [
      "Génération d'exemples:  79%|███████▉  | 793/1000 [16:18<05:10,  1.50s/it]"
     ]
    },
    {
     "name": "stdout",
     "output_type": "stream",
     "text": [
      "!cal\n"
     ]
    },
    {
     "name": "stderr",
     "output_type": "stream",
     "text": [
      "Génération d'exemples:  79%|███████▉  | 794/1000 [16:19<04:43,  1.37s/it]"
     ]
    },
    {
     "name": "stdout",
     "output_type": "stream",
     "text": [
      "!py\n"
     ]
    },
    {
     "name": "stderr",
     "output_type": "stream",
     "text": [
      "Génération d'exemples:  80%|███████▉  | 795/1000 [16:21<04:31,  1.33s/it]"
     ]
    },
    {
     "name": "stdout",
     "output_type": "stream",
     "text": [
      "!inf\n"
     ]
    },
    {
     "name": "stderr",
     "output_type": "stream",
     "text": [
      "Génération d'exemples:  80%|███████▉  | 796/1000 [16:22<04:12,  1.24s/it]"
     ]
    },
    {
     "name": "stdout",
     "output_type": "stream",
     "text": [
      "!py\n"
     ]
    },
    {
     "name": "stderr",
     "output_type": "stream",
     "text": [
      "Génération d'exemples:  80%|███████▉  | 797/1000 [16:23<03:52,  1.14s/it]"
     ]
    },
    {
     "name": "stdout",
     "output_type": "stream",
     "text": [
      "!yi\n"
     ]
    },
    {
     "name": "stderr",
     "output_type": "stream",
     "text": [
      "Génération d'exemples:  80%|███████▉  | 798/1000 [16:24<03:56,  1.17s/it]"
     ]
    },
    {
     "name": "stdout",
     "output_type": "stream",
     "text": [
      "!yi\n"
     ]
    },
    {
     "name": "stderr",
     "output_type": "stream",
     "text": [
      "Génération d'exemples:  80%|███████▉  | 799/1000 [16:25<03:54,  1.17s/it]"
     ]
    },
    {
     "name": "stdout",
     "output_type": "stream",
     "text": [
      "!yi\n"
     ]
    },
    {
     "name": "stderr",
     "output_type": "stream",
     "text": [
      "Génération d'exemples:  80%|████████  | 800/1000 [16:26<04:12,  1.26s/it]"
     ]
    },
    {
     "name": "stdout",
     "output_type": "stream",
     "text": [
      "!yi\n"
     ]
    },
    {
     "name": "stderr",
     "output_type": "stream",
     "text": [
      "Génération d'exemples:  80%|████████  | 801/1000 [16:28<04:09,  1.25s/it]"
     ]
    },
    {
     "name": "stdout",
     "output_type": "stream",
     "text": [
      "!yi\n"
     ]
    },
    {
     "name": "stderr",
     "output_type": "stream",
     "text": [
      "Génération d'exemples:  80%|████████  | 802/1000 [16:30<04:59,  1.51s/it]"
     ]
    },
    {
     "name": "stdout",
     "output_type": "stream",
     "text": [
      "!py\n"
     ]
    },
    {
     "name": "stderr",
     "output_type": "stream",
     "text": [
      "Génération d'exemples:  80%|████████  | 803/1000 [16:31<04:49,  1.47s/it]"
     ]
    },
    {
     "name": "stdout",
     "output_type": "stream",
     "text": [
      "!cal\n"
     ]
    },
    {
     "name": "stderr",
     "output_type": "stream",
     "text": [
      "Génération d'exemples:  80%|████████  | 804/1000 [16:32<04:15,  1.30s/it]"
     ]
    },
    {
     "name": "stdout",
     "output_type": "stream",
     "text": [
      "!cal\n"
     ]
    },
    {
     "name": "stderr",
     "output_type": "stream",
     "text": [
      "Génération d'exemples:  80%|████████  | 805/1000 [16:33<04:05,  1.26s/it]"
     ]
    },
    {
     "name": "stdout",
     "output_type": "stream",
     "text": [
      "!cal\n"
     ]
    },
    {
     "name": "stderr",
     "output_type": "stream",
     "text": [
      "Génération d'exemples:  81%|████████  | 806/1000 [16:35<04:08,  1.28s/it]"
     ]
    },
    {
     "name": "stdout",
     "output_type": "stream",
     "text": [
      "!cal\n"
     ]
    },
    {
     "name": "stderr",
     "output_type": "stream",
     "text": [
      "Génération d'exemples:  81%|████████  | 807/1000 [16:35<03:46,  1.18s/it]"
     ]
    },
    {
     "name": "stdout",
     "output_type": "stream",
     "text": [
      "!inf\n"
     ]
    },
    {
     "name": "stderr",
     "output_type": "stream",
     "text": [
      "Génération d'exemples:  81%|████████  | 808/1000 [16:37<03:49,  1.19s/it]"
     ]
    },
    {
     "name": "stdout",
     "output_type": "stream",
     "text": [
      "!yi\n"
     ]
    },
    {
     "name": "stderr",
     "output_type": "stream",
     "text": [
      "Génération d'exemples:  81%|████████  | 809/1000 [16:38<03:32,  1.11s/it]"
     ]
    },
    {
     "name": "stdout",
     "output_type": "stream",
     "text": [
      "!py\n"
     ]
    },
    {
     "name": "stderr",
     "output_type": "stream",
     "text": [
      "Génération d'exemples:  81%|████████  | 810/1000 [16:39<03:36,  1.14s/it]"
     ]
    },
    {
     "name": "stdout",
     "output_type": "stream",
     "text": [
      "!cal\n"
     ]
    },
    {
     "name": "stderr",
     "output_type": "stream",
     "text": [
      "Génération d'exemples:  81%|████████  | 811/1000 [16:40<03:41,  1.17s/it]"
     ]
    },
    {
     "name": "stdout",
     "output_type": "stream",
     "text": [
      "!yi\n"
     ]
    },
    {
     "name": "stderr",
     "output_type": "stream",
     "text": [
      "Génération d'exemples:  81%|████████  | 812/1000 [16:41<03:38,  1.16s/it]"
     ]
    },
    {
     "name": "stdout",
     "output_type": "stream",
     "text": [
      "!inf\n"
     ]
    },
    {
     "name": "stderr",
     "output_type": "stream",
     "text": [
      "Génération d'exemples:  81%|████████▏ | 813/1000 [16:42<03:44,  1.20s/it]"
     ]
    },
    {
     "name": "stdout",
     "output_type": "stream",
     "text": [
      "!cal\n"
     ]
    },
    {
     "name": "stderr",
     "output_type": "stream",
     "text": [
      "Génération d'exemples:  81%|████████▏ | 814/1000 [16:44<03:39,  1.18s/it]"
     ]
    },
    {
     "name": "stdout",
     "output_type": "stream",
     "text": [
      "!inf\n"
     ]
    },
    {
     "name": "stderr",
     "output_type": "stream",
     "text": [
      "Génération d'exemples:  82%|████████▏ | 815/1000 [16:45<03:38,  1.18s/it]"
     ]
    },
    {
     "name": "stdout",
     "output_type": "stream",
     "text": [
      "!inf\n"
     ]
    },
    {
     "name": "stderr",
     "output_type": "stream",
     "text": [
      "Génération d'exemples:  82%|████████▏ | 816/1000 [16:46<03:32,  1.16s/it]"
     ]
    },
    {
     "name": "stdout",
     "output_type": "stream",
     "text": [
      "!cal\n"
     ]
    },
    {
     "name": "stderr",
     "output_type": "stream",
     "text": [
      "Génération d'exemples:  82%|████████▏ | 817/1000 [16:47<03:29,  1.14s/it]"
     ]
    },
    {
     "name": "stdout",
     "output_type": "stream",
     "text": [
      "!inf\n"
     ]
    },
    {
     "name": "stderr",
     "output_type": "stream",
     "text": [
      "Génération d'exemples:  82%|████████▏ | 818/1000 [16:48<03:38,  1.20s/it]"
     ]
    },
    {
     "name": "stdout",
     "output_type": "stream",
     "text": [
      "!yi\n"
     ]
    },
    {
     "name": "stderr",
     "output_type": "stream",
     "text": [
      "Génération d'exemples:  82%|████████▏ | 819/1000 [16:50<03:35,  1.19s/it]"
     ]
    },
    {
     "name": "stdout",
     "output_type": "stream",
     "text": [
      "!py\n"
     ]
    },
    {
     "name": "stderr",
     "output_type": "stream",
     "text": [
      "Génération d'exemples:  82%|████████▏ | 820/1000 [16:50<03:21,  1.12s/it]"
     ]
    },
    {
     "name": "stdout",
     "output_type": "stream",
     "text": [
      "!py\n"
     ]
    },
    {
     "name": "stderr",
     "output_type": "stream",
     "text": [
      "Génération d'exemples:  82%|████████▏ | 821/1000 [16:52<03:18,  1.11s/it]"
     ]
    },
    {
     "name": "stdout",
     "output_type": "stream",
     "text": [
      "!cal\n"
     ]
    },
    {
     "name": "stderr",
     "output_type": "stream",
     "text": [
      "Génération d'exemples:  82%|████████▏ | 822/1000 [16:53<03:16,  1.10s/it]"
     ]
    },
    {
     "name": "stdout",
     "output_type": "stream",
     "text": [
      "!yi\n"
     ]
    },
    {
     "name": "stderr",
     "output_type": "stream",
     "text": [
      "Génération d'exemples:  82%|████████▏ | 823/1000 [16:54<03:37,  1.23s/it]"
     ]
    },
    {
     "name": "stdout",
     "output_type": "stream",
     "text": [
      "!cal\n"
     ]
    },
    {
     "name": "stderr",
     "output_type": "stream",
     "text": [
      "Génération d'exemples:  82%|████████▏ | 824/1000 [16:55<03:38,  1.24s/it]"
     ]
    },
    {
     "name": "stdout",
     "output_type": "stream",
     "text": [
      "!cal\n"
     ]
    },
    {
     "name": "stderr",
     "output_type": "stream",
     "text": [
      "Génération d'exemples:  82%|████████▎ | 825/1000 [16:56<03:25,  1.18s/it]"
     ]
    },
    {
     "name": "stdout",
     "output_type": "stream",
     "text": [
      "!cal\n"
     ]
    },
    {
     "name": "stderr",
     "output_type": "stream",
     "text": [
      "Génération d'exemples:  83%|████████▎ | 826/1000 [16:58<03:32,  1.22s/it]"
     ]
    },
    {
     "name": "stdout",
     "output_type": "stream",
     "text": [
      "!py\n"
     ]
    },
    {
     "name": "stderr",
     "output_type": "stream",
     "text": [
      "Génération d'exemples:  83%|████████▎ | 827/1000 [16:59<03:30,  1.22s/it]"
     ]
    },
    {
     "name": "stdout",
     "output_type": "stream",
     "text": [
      "!inf\n"
     ]
    },
    {
     "name": "stderr",
     "output_type": "stream",
     "text": [
      "Génération d'exemples:  83%|████████▎ | 828/1000 [17:00<03:30,  1.23s/it]"
     ]
    },
    {
     "name": "stdout",
     "output_type": "stream",
     "text": [
      "!inf\n"
     ]
    },
    {
     "name": "stderr",
     "output_type": "stream",
     "text": [
      "Génération d'exemples:  83%|████████▎ | 829/1000 [17:01<03:10,  1.12s/it]"
     ]
    },
    {
     "name": "stdout",
     "output_type": "stream",
     "text": [
      "!py\n"
     ]
    },
    {
     "name": "stderr",
     "output_type": "stream",
     "text": [
      "Génération d'exemples:  83%|████████▎ | 830/1000 [17:02<02:57,  1.04s/it]"
     ]
    },
    {
     "name": "stdout",
     "output_type": "stream",
     "text": [
      "!py\n"
     ]
    },
    {
     "name": "stderr",
     "output_type": "stream",
     "text": [
      "Génération d'exemples:  83%|████████▎ | 831/1000 [17:03<02:52,  1.02s/it]"
     ]
    },
    {
     "name": "stdout",
     "output_type": "stream",
     "text": [
      "!py\n"
     ]
    },
    {
     "name": "stderr",
     "output_type": "stream",
     "text": [
      "Génération d'exemples:  83%|████████▎ | 832/1000 [17:04<02:50,  1.02s/it]"
     ]
    },
    {
     "name": "stdout",
     "output_type": "stream",
     "text": [
      "!inf\n"
     ]
    },
    {
     "name": "stderr",
     "output_type": "stream",
     "text": [
      "Génération d'exemples:  83%|████████▎ | 833/1000 [17:05<02:54,  1.04s/it]"
     ]
    },
    {
     "name": "stdout",
     "output_type": "stream",
     "text": [
      "!inf\n"
     ]
    },
    {
     "name": "stderr",
     "output_type": "stream",
     "text": [
      "Génération d'exemples:  83%|████████▎ | 834/1000 [17:06<02:53,  1.04s/it]"
     ]
    },
    {
     "name": "stdout",
     "output_type": "stream",
     "text": [
      "!inf\n"
     ]
    },
    {
     "name": "stderr",
     "output_type": "stream",
     "text": [
      "Génération d'exemples:  84%|████████▎ | 835/1000 [17:07<02:48,  1.02s/it]"
     ]
    },
    {
     "name": "stdout",
     "output_type": "stream",
     "text": [
      "!cal\n"
     ]
    },
    {
     "name": "stderr",
     "output_type": "stream",
     "text": [
      "Génération d'exemples:  84%|████████▎ | 836/1000 [17:08<02:51,  1.05s/it]"
     ]
    },
    {
     "name": "stdout",
     "output_type": "stream",
     "text": [
      "!yi\n"
     ]
    },
    {
     "name": "stderr",
     "output_type": "stream",
     "text": [
      "Génération d'exemples:  84%|████████▎ | 837/1000 [17:09<02:49,  1.04s/it]"
     ]
    },
    {
     "name": "stdout",
     "output_type": "stream",
     "text": [
      "!yi\n"
     ]
    },
    {
     "name": "stderr",
     "output_type": "stream",
     "text": [
      "Génération d'exemples:  84%|████████▍ | 838/1000 [17:10<02:45,  1.02s/it]"
     ]
    },
    {
     "name": "stdout",
     "output_type": "stream",
     "text": [
      "!inf\n"
     ]
    },
    {
     "name": "stderr",
     "output_type": "stream",
     "text": [
      "Génération d'exemples:  84%|████████▍ | 839/1000 [17:11<02:41,  1.01s/it]"
     ]
    },
    {
     "name": "stdout",
     "output_type": "stream",
     "text": [
      "!py\n"
     ]
    },
    {
     "name": "stderr",
     "output_type": "stream",
     "text": [
      "Génération d'exemples:  84%|████████▍ | 840/1000 [17:12<02:50,  1.07s/it]"
     ]
    },
    {
     "name": "stdout",
     "output_type": "stream",
     "text": [
      "!py\n"
     ]
    },
    {
     "name": "stderr",
     "output_type": "stream",
     "text": [
      "Génération d'exemples:  84%|████████▍ | 841/1000 [17:14<03:05,  1.17s/it]"
     ]
    },
    {
     "name": "stdout",
     "output_type": "stream",
     "text": [
      "!inf\n"
     ]
    },
    {
     "name": "stderr",
     "output_type": "stream",
     "text": [
      "Génération d'exemples:  84%|████████▍ | 842/1000 [17:15<03:08,  1.19s/it]"
     ]
    },
    {
     "name": "stdout",
     "output_type": "stream",
     "text": [
      "!py\n"
     ]
    },
    {
     "name": "stderr",
     "output_type": "stream",
     "text": [
      "Génération d'exemples:  84%|████████▍ | 843/1000 [17:16<02:54,  1.11s/it]"
     ]
    },
    {
     "name": "stdout",
     "output_type": "stream",
     "text": [
      "!cal\n"
     ]
    },
    {
     "name": "stderr",
     "output_type": "stream",
     "text": [
      "Génération d'exemples:  84%|████████▍ | 844/1000 [17:17<02:52,  1.11s/it]"
     ]
    },
    {
     "name": "stdout",
     "output_type": "stream",
     "text": [
      "!inf\n"
     ]
    },
    {
     "name": "stderr",
     "output_type": "stream",
     "text": [
      "Génération d'exemples:  84%|████████▍ | 845/1000 [17:18<02:52,  1.11s/it]"
     ]
    },
    {
     "name": "stdout",
     "output_type": "stream",
     "text": [
      "!cal\n"
     ]
    },
    {
     "name": "stderr",
     "output_type": "stream",
     "text": [
      "Génération d'exemples:  85%|████████▍ | 846/1000 [17:19<02:49,  1.10s/it]"
     ]
    },
    {
     "name": "stdout",
     "output_type": "stream",
     "text": [
      "!inf\n"
     ]
    },
    {
     "name": "stderr",
     "output_type": "stream",
     "text": [
      "Génération d'exemples:  85%|████████▍ | 847/1000 [17:21<03:03,  1.20s/it]"
     ]
    },
    {
     "name": "stdout",
     "output_type": "stream",
     "text": [
      "!py\n"
     ]
    },
    {
     "name": "stderr",
     "output_type": "stream",
     "text": [
      "Génération d'exemples:  85%|████████▍ | 848/1000 [17:22<03:01,  1.19s/it]"
     ]
    },
    {
     "name": "stdout",
     "output_type": "stream",
     "text": [
      "!yi\n"
     ]
    },
    {
     "name": "stderr",
     "output_type": "stream",
     "text": [
      "Génération d'exemples:  85%|████████▍ | 849/1000 [17:23<02:58,  1.18s/it]"
     ]
    },
    {
     "name": "stdout",
     "output_type": "stream",
     "text": [
      "!cal\n"
     ]
    },
    {
     "name": "stderr",
     "output_type": "stream",
     "text": [
      "Génération d'exemples:  85%|████████▌ | 850/1000 [17:24<02:48,  1.12s/it]"
     ]
    },
    {
     "name": "stdout",
     "output_type": "stream",
     "text": [
      "!yi\n"
     ]
    },
    {
     "name": "stderr",
     "output_type": "stream",
     "text": [
      "Génération d'exemples:  85%|████████▌ | 851/1000 [17:25<02:43,  1.10s/it]"
     ]
    },
    {
     "name": "stdout",
     "output_type": "stream",
     "text": [
      "!inf\n"
     ]
    },
    {
     "name": "stderr",
     "output_type": "stream",
     "text": [
      "Génération d'exemples:  85%|████████▌ | 852/1000 [17:28<03:55,  1.59s/it]"
     ]
    },
    {
     "name": "stdout",
     "output_type": "stream",
     "text": [
      "!inf\n"
     ]
    },
    {
     "name": "stderr",
     "output_type": "stream",
     "text": [
      "Génération d'exemples:  85%|████████▌ | 853/1000 [17:29<03:29,  1.43s/it]"
     ]
    },
    {
     "name": "stdout",
     "output_type": "stream",
     "text": [
      "!inf\n"
     ]
    },
    {
     "name": "stderr",
     "output_type": "stream",
     "text": [
      "Génération d'exemples:  85%|████████▌ | 854/1000 [17:30<03:13,  1.33s/it]"
     ]
    },
    {
     "name": "stdout",
     "output_type": "stream",
     "text": [
      "!inf\n"
     ]
    },
    {
     "name": "stderr",
     "output_type": "stream",
     "text": [
      "Génération d'exemples:  86%|████████▌ | 855/1000 [17:31<03:00,  1.24s/it]"
     ]
    },
    {
     "name": "stdout",
     "output_type": "stream",
     "text": [
      "!inf\n"
     ]
    },
    {
     "name": "stderr",
     "output_type": "stream",
     "text": [
      "Génération d'exemples:  86%|████████▌ | 856/1000 [17:32<02:48,  1.17s/it]"
     ]
    },
    {
     "name": "stdout",
     "output_type": "stream",
     "text": [
      "!inf\n"
     ]
    },
    {
     "name": "stderr",
     "output_type": "stream",
     "text": [
      "Génération d'exemples:  86%|████████▌ | 857/1000 [17:33<02:45,  1.16s/it]"
     ]
    },
    {
     "name": "stdout",
     "output_type": "stream",
     "text": [
      "!inf\n"
     ]
    },
    {
     "name": "stderr",
     "output_type": "stream",
     "text": [
      "Génération d'exemples:  86%|████████▌ | 858/1000 [17:34<02:44,  1.16s/it]"
     ]
    },
    {
     "name": "stdout",
     "output_type": "stream",
     "text": [
      "!py\n"
     ]
    },
    {
     "name": "stderr",
     "output_type": "stream",
     "text": [
      "Génération d'exemples:  86%|████████▌ | 859/1000 [17:35<02:37,  1.12s/it]"
     ]
    },
    {
     "name": "stdout",
     "output_type": "stream",
     "text": [
      "!inf\n"
     ]
    },
    {
     "name": "stderr",
     "output_type": "stream",
     "text": [
      "Génération d'exemples:  86%|████████▌ | 860/1000 [17:36<02:25,  1.04s/it]"
     ]
    },
    {
     "name": "stdout",
     "output_type": "stream",
     "text": [
      "!py\n"
     ]
    },
    {
     "name": "stderr",
     "output_type": "stream",
     "text": [
      "Génération d'exemples:  86%|████████▌ | 861/1000 [17:37<02:29,  1.07s/it]"
     ]
    },
    {
     "name": "stdout",
     "output_type": "stream",
     "text": [
      "!yi\n"
     ]
    },
    {
     "name": "stderr",
     "output_type": "stream",
     "text": [
      "Génération d'exemples:  86%|████████▌ | 862/1000 [17:39<02:35,  1.13s/it]"
     ]
    },
    {
     "name": "stdout",
     "output_type": "stream",
     "text": [
      "!py\n"
     ]
    },
    {
     "name": "stderr",
     "output_type": "stream",
     "text": [
      "Génération d'exemples:  86%|████████▋ | 863/1000 [17:40<02:29,  1.09s/it]"
     ]
    },
    {
     "name": "stdout",
     "output_type": "stream",
     "text": [
      "!py\n"
     ]
    },
    {
     "name": "stderr",
     "output_type": "stream",
     "text": [
      "Génération d'exemples:  86%|████████▋ | 864/1000 [17:41<02:28,  1.09s/it]"
     ]
    },
    {
     "name": "stdout",
     "output_type": "stream",
     "text": [
      "!cal\n"
     ]
    },
    {
     "name": "stderr",
     "output_type": "stream",
     "text": [
      "Génération d'exemples:  86%|████████▋ | 865/1000 [17:42<02:34,  1.15s/it]"
     ]
    },
    {
     "name": "stdout",
     "output_type": "stream",
     "text": [
      "!cal\n"
     ]
    },
    {
     "name": "stderr",
     "output_type": "stream",
     "text": [
      "Génération d'exemples:  87%|████████▋ | 866/1000 [17:43<02:35,  1.16s/it]"
     ]
    },
    {
     "name": "stdout",
     "output_type": "stream",
     "text": [
      "!inf\n"
     ]
    },
    {
     "name": "stderr",
     "output_type": "stream",
     "text": [
      "Génération d'exemples:  87%|████████▋ | 867/1000 [17:44<02:36,  1.18s/it]"
     ]
    },
    {
     "name": "stdout",
     "output_type": "stream",
     "text": [
      "!py\n"
     ]
    },
    {
     "name": "stderr",
     "output_type": "stream",
     "text": [
      "Génération d'exemples:  87%|████████▋ | 868/1000 [17:46<02:36,  1.18s/it]"
     ]
    },
    {
     "name": "stdout",
     "output_type": "stream",
     "text": [
      "!inf\n"
     ]
    },
    {
     "name": "stderr",
     "output_type": "stream",
     "text": [
      "Génération d'exemples:  87%|████████▋ | 869/1000 [17:47<02:27,  1.13s/it]"
     ]
    },
    {
     "name": "stdout",
     "output_type": "stream",
     "text": [
      "!inf\n"
     ]
    },
    {
     "name": "stderr",
     "output_type": "stream",
     "text": [
      "Génération d'exemples:  87%|████████▋ | 870/1000 [17:48<02:23,  1.11s/it]"
     ]
    },
    {
     "name": "stdout",
     "output_type": "stream",
     "text": [
      "!py\n"
     ]
    },
    {
     "name": "stderr",
     "output_type": "stream",
     "text": [
      "Génération d'exemples:  87%|████████▋ | 871/1000 [17:49<02:32,  1.18s/it]"
     ]
    },
    {
     "name": "stdout",
     "output_type": "stream",
     "text": [
      "!yi\n"
     ]
    },
    {
     "name": "stderr",
     "output_type": "stream",
     "text": [
      "Génération d'exemples:  87%|████████▋ | 872/1000 [17:50<02:35,  1.22s/it]"
     ]
    },
    {
     "name": "stdout",
     "output_type": "stream",
     "text": [
      "!py\n"
     ]
    },
    {
     "name": "stderr",
     "output_type": "stream",
     "text": [
      "Génération d'exemples:  87%|████████▋ | 873/1000 [17:51<02:33,  1.21s/it]"
     ]
    },
    {
     "name": "stdout",
     "output_type": "stream",
     "text": [
      "!yi\n"
     ]
    },
    {
     "name": "stderr",
     "output_type": "stream",
     "text": [
      "Génération d'exemples:  87%|████████▋ | 874/1000 [17:53<02:30,  1.19s/it]"
     ]
    },
    {
     "name": "stdout",
     "output_type": "stream",
     "text": [
      "!cal\n"
     ]
    },
    {
     "name": "stderr",
     "output_type": "stream",
     "text": [
      "Génération d'exemples:  88%|████████▊ | 875/1000 [17:54<02:24,  1.16s/it]"
     ]
    },
    {
     "name": "stdout",
     "output_type": "stream",
     "text": [
      "!inf\n"
     ]
    },
    {
     "name": "stderr",
     "output_type": "stream",
     "text": [
      "Génération d'exemples:  88%|████████▊ | 876/1000 [17:55<02:18,  1.11s/it]"
     ]
    },
    {
     "name": "stdout",
     "output_type": "stream",
     "text": [
      "!py\n"
     ]
    },
    {
     "name": "stderr",
     "output_type": "stream",
     "text": [
      "Génération d'exemples:  88%|████████▊ | 877/1000 [17:56<02:13,  1.09s/it]"
     ]
    },
    {
     "name": "stdout",
     "output_type": "stream",
     "text": [
      "!yi\n"
     ]
    },
    {
     "name": "stderr",
     "output_type": "stream",
     "text": [
      "Génération d'exemples:  88%|████████▊ | 878/1000 [17:57<02:17,  1.13s/it]"
     ]
    },
    {
     "name": "stdout",
     "output_type": "stream",
     "text": [
      "!cal\n"
     ]
    },
    {
     "name": "stderr",
     "output_type": "stream",
     "text": [
      "Génération d'exemples:  88%|████████▊ | 879/1000 [17:58<02:16,  1.13s/it]"
     ]
    },
    {
     "name": "stdout",
     "output_type": "stream",
     "text": [
      "!py\n"
     ]
    },
    {
     "name": "stderr",
     "output_type": "stream",
     "text": [
      "Génération d'exemples:  88%|████████▊ | 880/1000 [17:59<02:17,  1.15s/it]"
     ]
    },
    {
     "name": "stdout",
     "output_type": "stream",
     "text": [
      "!cal\n"
     ]
    },
    {
     "name": "stderr",
     "output_type": "stream",
     "text": [
      "Génération d'exemples:  88%|████████▊ | 881/1000 [18:00<02:10,  1.10s/it]"
     ]
    },
    {
     "name": "stdout",
     "output_type": "stream",
     "text": [
      "!cal\n"
     ]
    },
    {
     "name": "stderr",
     "output_type": "stream",
     "text": [
      "Génération d'exemples:  88%|████████▊ | 882/1000 [18:02<02:17,  1.17s/it]"
     ]
    },
    {
     "name": "stdout",
     "output_type": "stream",
     "text": [
      "!cal\n"
     ]
    },
    {
     "name": "stderr",
     "output_type": "stream",
     "text": [
      "Génération d'exemples:  88%|████████▊ | 883/1000 [18:03<02:19,  1.20s/it]"
     ]
    },
    {
     "name": "stdout",
     "output_type": "stream",
     "text": [
      "!cal\n"
     ]
    },
    {
     "name": "stderr",
     "output_type": "stream",
     "text": [
      "Génération d'exemples:  88%|████████▊ | 884/1000 [18:04<02:22,  1.22s/it]"
     ]
    },
    {
     "name": "stdout",
     "output_type": "stream",
     "text": [
      "!cal\n"
     ]
    },
    {
     "name": "stderr",
     "output_type": "stream",
     "text": [
      "Génération d'exemples:  88%|████████▊ | 885/1000 [18:05<02:19,  1.22s/it]"
     ]
    },
    {
     "name": "stdout",
     "output_type": "stream",
     "text": [
      "!cal\n"
     ]
    },
    {
     "name": "stderr",
     "output_type": "stream",
     "text": [
      "Génération d'exemples:  89%|████████▊ | 886/1000 [18:06<02:06,  1.11s/it]"
     ]
    },
    {
     "name": "stdout",
     "output_type": "stream",
     "text": [
      "!inf\n"
     ]
    },
    {
     "name": "stderr",
     "output_type": "stream",
     "text": [
      "Génération d'exemples:  89%|████████▊ | 887/1000 [18:07<02:08,  1.14s/it]"
     ]
    },
    {
     "name": "stdout",
     "output_type": "stream",
     "text": [
      "!cal\n"
     ]
    },
    {
     "name": "stderr",
     "output_type": "stream",
     "text": [
      "Génération d'exemples:  89%|████████▉ | 888/1000 [18:08<02:00,  1.08s/it]"
     ]
    },
    {
     "name": "stdout",
     "output_type": "stream",
     "text": [
      "!yi\n"
     ]
    },
    {
     "name": "stderr",
     "output_type": "stream",
     "text": [
      "Génération d'exemples:  89%|████████▉ | 889/1000 [18:09<01:56,  1.05s/it]"
     ]
    },
    {
     "name": "stdout",
     "output_type": "stream",
     "text": [
      "!cal\n"
     ]
    },
    {
     "name": "stderr",
     "output_type": "stream",
     "text": [
      "Génération d'exemples:  89%|████████▉ | 890/1000 [18:10<01:52,  1.02s/it]"
     ]
    },
    {
     "name": "stdout",
     "output_type": "stream",
     "text": [
      "!yi\n"
     ]
    },
    {
     "name": "stderr",
     "output_type": "stream",
     "text": [
      "Génération d'exemples:  89%|████████▉ | 891/1000 [18:11<01:47,  1.01it/s]"
     ]
    },
    {
     "name": "stdout",
     "output_type": "stream",
     "text": [
      "!py\n"
     ]
    },
    {
     "name": "stderr",
     "output_type": "stream",
     "text": [
      "Génération d'exemples:  89%|████████▉ | 892/1000 [18:12<01:52,  1.04s/it]"
     ]
    },
    {
     "name": "stdout",
     "output_type": "stream",
     "text": [
      "!inf\n"
     ]
    },
    {
     "name": "stderr",
     "output_type": "stream",
     "text": [
      "Génération d'exemples:  89%|████████▉ | 893/1000 [18:14<01:56,  1.09s/it]"
     ]
    },
    {
     "name": "stdout",
     "output_type": "stream",
     "text": [
      "!cal\n"
     ]
    },
    {
     "name": "stderr",
     "output_type": "stream",
     "text": [
      "Génération d'exemples:  89%|████████▉ | 894/1000 [18:15<01:56,  1.10s/it]"
     ]
    },
    {
     "name": "stdout",
     "output_type": "stream",
     "text": [
      "!py\n"
     ]
    },
    {
     "name": "stderr",
     "output_type": "stream",
     "text": [
      "Génération d'exemples:  90%|████████▉ | 895/1000 [18:16<01:52,  1.07s/it]"
     ]
    },
    {
     "name": "stdout",
     "output_type": "stream",
     "text": [
      "!yi\n"
     ]
    },
    {
     "name": "stderr",
     "output_type": "stream",
     "text": [
      "Génération d'exemples:  90%|████████▉ | 896/1000 [18:17<01:59,  1.15s/it]"
     ]
    },
    {
     "name": "stdout",
     "output_type": "stream",
     "text": [
      "!yi\n"
     ]
    },
    {
     "name": "stderr",
     "output_type": "stream",
     "text": [
      "Génération d'exemples:  90%|████████▉ | 897/1000 [18:18<01:48,  1.06s/it]"
     ]
    },
    {
     "name": "stdout",
     "output_type": "stream",
     "text": [
      "!inf\n"
     ]
    },
    {
     "name": "stderr",
     "output_type": "stream",
     "text": [
      "Génération d'exemples:  90%|████████▉ | 898/1000 [18:19<01:52,  1.11s/it]"
     ]
    },
    {
     "name": "stdout",
     "output_type": "stream",
     "text": [
      "!py\n"
     ]
    },
    {
     "name": "stderr",
     "output_type": "stream",
     "text": [
      "Génération d'exemples:  90%|████████▉ | 899/1000 [18:20<01:47,  1.06s/it]"
     ]
    },
    {
     "name": "stdout",
     "output_type": "stream",
     "text": [
      "!py\n"
     ]
    },
    {
     "name": "stderr",
     "output_type": "stream",
     "text": [
      "Génération d'exemples:  90%|█████████ | 900/1000 [18:21<01:54,  1.15s/it]"
     ]
    },
    {
     "name": "stdout",
     "output_type": "stream",
     "text": [
      "!cal\n"
     ]
    },
    {
     "name": "stderr",
     "output_type": "stream",
     "text": [
      "Génération d'exemples:  90%|█████████ | 901/1000 [18:22<01:45,  1.07s/it]"
     ]
    },
    {
     "name": "stdout",
     "output_type": "stream",
     "text": [
      "!py\n"
     ]
    },
    {
     "name": "stderr",
     "output_type": "stream",
     "text": [
      "Génération d'exemples:  90%|█████████ | 902/1000 [18:23<01:45,  1.08s/it]"
     ]
    },
    {
     "name": "stdout",
     "output_type": "stream",
     "text": [
      "!cal\n"
     ]
    },
    {
     "name": "stderr",
     "output_type": "stream",
     "text": [
      "Génération d'exemples:  90%|█████████ | 903/1000 [18:24<01:38,  1.01s/it]"
     ]
    },
    {
     "name": "stdout",
     "output_type": "stream",
     "text": [
      "!py\n"
     ]
    },
    {
     "name": "stderr",
     "output_type": "stream",
     "text": [
      "Génération d'exemples:  90%|█████████ | 904/1000 [18:25<01:39,  1.04s/it]"
     ]
    },
    {
     "name": "stdout",
     "output_type": "stream",
     "text": [
      "!cal\n"
     ]
    },
    {
     "name": "stderr",
     "output_type": "stream",
     "text": [
      "Génération d'exemples:  90%|█████████ | 905/1000 [18:27<01:49,  1.15s/it]"
     ]
    },
    {
     "name": "stdout",
     "output_type": "stream",
     "text": [
      "!cal\n"
     ]
    },
    {
     "name": "stderr",
     "output_type": "stream",
     "text": [
      "Génération d'exemples:  91%|█████████ | 906/1000 [18:28<01:45,  1.13s/it]"
     ]
    },
    {
     "name": "stdout",
     "output_type": "stream",
     "text": [
      "!cal\n"
     ]
    },
    {
     "name": "stderr",
     "output_type": "stream",
     "text": [
      "Génération d'exemples:  91%|█████████ | 907/1000 [18:29<01:41,  1.09s/it]"
     ]
    },
    {
     "name": "stdout",
     "output_type": "stream",
     "text": [
      "!py\n"
     ]
    },
    {
     "name": "stderr",
     "output_type": "stream",
     "text": [
      "Génération d'exemples:  91%|█████████ | 908/1000 [18:30<01:35,  1.04s/it]"
     ]
    },
    {
     "name": "stdout",
     "output_type": "stream",
     "text": [
      "!yi\n"
     ]
    },
    {
     "name": "stderr",
     "output_type": "stream",
     "text": [
      "Génération d'exemples:  91%|█████████ | 909/1000 [18:31<01:33,  1.03s/it]"
     ]
    },
    {
     "name": "stdout",
     "output_type": "stream",
     "text": [
      "!inf\n"
     ]
    },
    {
     "name": "stderr",
     "output_type": "stream",
     "text": [
      "Génération d'exemples:  91%|█████████ | 910/1000 [18:32<01:37,  1.08s/it]"
     ]
    },
    {
     "name": "stdout",
     "output_type": "stream",
     "text": [
      "!yi\n"
     ]
    },
    {
     "name": "stderr",
     "output_type": "stream",
     "text": [
      "Génération d'exemples:  91%|█████████ | 911/1000 [18:33<01:44,  1.17s/it]"
     ]
    },
    {
     "name": "stdout",
     "output_type": "stream",
     "text": [
      "!cal\n"
     ]
    },
    {
     "name": "stderr",
     "output_type": "stream",
     "text": [
      "Génération d'exemples:  91%|█████████ | 912/1000 [18:35<01:55,  1.31s/it]"
     ]
    },
    {
     "name": "stdout",
     "output_type": "stream",
     "text": [
      "!yi\n"
     ]
    },
    {
     "name": "stderr",
     "output_type": "stream",
     "text": [
      "Génération d'exemples:  91%|█████████▏| 913/1000 [18:36<01:46,  1.23s/it]"
     ]
    },
    {
     "name": "stdout",
     "output_type": "stream",
     "text": [
      "!py\n"
     ]
    },
    {
     "name": "stderr",
     "output_type": "stream",
     "text": [
      "Génération d'exemples:  91%|█████████▏| 914/1000 [18:37<01:40,  1.17s/it]"
     ]
    },
    {
     "name": "stdout",
     "output_type": "stream",
     "text": [
      "!yi\n"
     ]
    },
    {
     "name": "stderr",
     "output_type": "stream",
     "text": [
      "Génération d'exemples:  92%|█████████▏| 915/1000 [18:38<01:40,  1.19s/it]"
     ]
    },
    {
     "name": "stdout",
     "output_type": "stream",
     "text": [
      "!yi\n"
     ]
    },
    {
     "name": "stderr",
     "output_type": "stream",
     "text": [
      "Génération d'exemples:  92%|█████████▏| 916/1000 [18:39<01:33,  1.12s/it]"
     ]
    },
    {
     "name": "stdout",
     "output_type": "stream",
     "text": [
      "!py\n"
     ]
    },
    {
     "name": "stderr",
     "output_type": "stream",
     "text": [
      "Génération d'exemples:  92%|█████████▏| 917/1000 [18:42<02:03,  1.49s/it]"
     ]
    },
    {
     "name": "stdout",
     "output_type": "stream",
     "text": [
      "!yi\n"
     ]
    },
    {
     "name": "stderr",
     "output_type": "stream",
     "text": [
      "Génération d'exemples:  92%|█████████▏| 918/1000 [18:43<02:06,  1.55s/it]"
     ]
    },
    {
     "name": "stdout",
     "output_type": "stream",
     "text": [
      "!yi\n"
     ]
    },
    {
     "name": "stderr",
     "output_type": "stream",
     "text": [
      "Génération d'exemples:  92%|█████████▏| 919/1000 [18:44<01:56,  1.43s/it]"
     ]
    },
    {
     "name": "stdout",
     "output_type": "stream",
     "text": [
      "!cal\n"
     ]
    },
    {
     "name": "stderr",
     "output_type": "stream",
     "text": [
      "Génération d'exemples:  92%|█████████▏| 920/1000 [18:46<01:49,  1.37s/it]"
     ]
    },
    {
     "name": "stdout",
     "output_type": "stream",
     "text": [
      "!cal\n"
     ]
    },
    {
     "name": "stderr",
     "output_type": "stream",
     "text": [
      "Génération d'exemples:  92%|█████████▏| 921/1000 [18:47<01:40,  1.27s/it]"
     ]
    },
    {
     "name": "stdout",
     "output_type": "stream",
     "text": [
      "!yi\n"
     ]
    },
    {
     "name": "stderr",
     "output_type": "stream",
     "text": [
      "Génération d'exemples:  92%|█████████▏| 922/1000 [18:48<01:35,  1.22s/it]"
     ]
    },
    {
     "name": "stdout",
     "output_type": "stream",
     "text": [
      "!inf\n"
     ]
    },
    {
     "name": "stderr",
     "output_type": "stream",
     "text": [
      "Génération d'exemples:  92%|█████████▏| 923/1000 [18:49<01:34,  1.22s/it]"
     ]
    },
    {
     "name": "stdout",
     "output_type": "stream",
     "text": [
      "!cal\n"
     ]
    },
    {
     "name": "stderr",
     "output_type": "stream",
     "text": [
      "Génération d'exemples:  92%|█████████▏| 924/1000 [18:50<01:29,  1.17s/it]"
     ]
    },
    {
     "name": "stdout",
     "output_type": "stream",
     "text": [
      "!inf\n"
     ]
    },
    {
     "name": "stderr",
     "output_type": "stream",
     "text": [
      "Génération d'exemples:  92%|█████████▎| 925/1000 [18:51<01:26,  1.15s/it]"
     ]
    },
    {
     "name": "stdout",
     "output_type": "stream",
     "text": [
      "!yi\n"
     ]
    },
    {
     "name": "stderr",
     "output_type": "stream",
     "text": [
      "Génération d'exemples:  93%|█████████▎| 926/1000 [18:52<01:27,  1.18s/it]"
     ]
    },
    {
     "name": "stdout",
     "output_type": "stream",
     "text": [
      "!yi\n"
     ]
    },
    {
     "name": "stderr",
     "output_type": "stream",
     "text": [
      "Génération d'exemples:  93%|█████████▎| 927/1000 [18:53<01:20,  1.10s/it]"
     ]
    },
    {
     "name": "stdout",
     "output_type": "stream",
     "text": [
      "!yi\n"
     ]
    },
    {
     "name": "stderr",
     "output_type": "stream",
     "text": [
      "Génération d'exemples:  93%|█████████▎| 928/1000 [18:54<01:13,  1.02s/it]"
     ]
    },
    {
     "name": "stdout",
     "output_type": "stream",
     "text": [
      "!inf\n"
     ]
    },
    {
     "name": "stderr",
     "output_type": "stream",
     "text": [
      "Génération d'exemples:  93%|█████████▎| 929/1000 [18:55<01:13,  1.04s/it]"
     ]
    },
    {
     "name": "stdout",
     "output_type": "stream",
     "text": [
      "!py\n"
     ]
    },
    {
     "name": "stderr",
     "output_type": "stream",
     "text": [
      "Génération d'exemples:  93%|█████████▎| 930/1000 [18:56<01:15,  1.09s/it]"
     ]
    },
    {
     "name": "stdout",
     "output_type": "stream",
     "text": [
      "!cal\n"
     ]
    },
    {
     "name": "stderr",
     "output_type": "stream",
     "text": [
      "Génération d'exemples:  93%|█████████▎| 931/1000 [18:58<01:15,  1.10s/it]"
     ]
    },
    {
     "name": "stdout",
     "output_type": "stream",
     "text": [
      "!cal\n"
     ]
    },
    {
     "name": "stderr",
     "output_type": "stream",
     "text": [
      "Génération d'exemples:  93%|█████████▎| 932/1000 [18:59<01:12,  1.07s/it]"
     ]
    },
    {
     "name": "stdout",
     "output_type": "stream",
     "text": [
      "!inf\n"
     ]
    },
    {
     "name": "stderr",
     "output_type": "stream",
     "text": [
      "Génération d'exemples:  93%|█████████▎| 933/1000 [19:00<01:10,  1.06s/it]"
     ]
    },
    {
     "name": "stdout",
     "output_type": "stream",
     "text": [
      "!yi\n"
     ]
    },
    {
     "name": "stderr",
     "output_type": "stream",
     "text": [
      "Génération d'exemples:  93%|█████████▎| 934/1000 [19:01<01:08,  1.04s/it]"
     ]
    },
    {
     "name": "stdout",
     "output_type": "stream",
     "text": [
      "!py\n"
     ]
    },
    {
     "name": "stderr",
     "output_type": "stream",
     "text": [
      "Génération d'exemples:  94%|█████████▎| 935/1000 [19:02<01:10,  1.09s/it]"
     ]
    },
    {
     "name": "stdout",
     "output_type": "stream",
     "text": [
      "!py\n"
     ]
    },
    {
     "name": "stderr",
     "output_type": "stream",
     "text": [
      "Génération d'exemples:  94%|█████████▎| 936/1000 [19:03<01:06,  1.03s/it]"
     ]
    },
    {
     "name": "stdout",
     "output_type": "stream",
     "text": [
      "!cal\n"
     ]
    },
    {
     "name": "stderr",
     "output_type": "stream",
     "text": [
      "Génération d'exemples:  94%|█████████▎| 937/1000 [19:04<01:03,  1.00s/it]"
     ]
    },
    {
     "name": "stdout",
     "output_type": "stream",
     "text": [
      "!py\n"
     ]
    },
    {
     "name": "stderr",
     "output_type": "stream",
     "text": [
      "Génération d'exemples:  94%|█████████▍| 938/1000 [19:05<01:02,  1.01s/it]"
     ]
    },
    {
     "name": "stdout",
     "output_type": "stream",
     "text": [
      "!inf\n"
     ]
    },
    {
     "name": "stderr",
     "output_type": "stream",
     "text": [
      "Génération d'exemples:  94%|█████████▍| 939/1000 [19:06<01:05,  1.07s/it]"
     ]
    },
    {
     "name": "stdout",
     "output_type": "stream",
     "text": [
      "!cal\n"
     ]
    },
    {
     "name": "stderr",
     "output_type": "stream",
     "text": [
      "Génération d'exemples:  94%|█████████▍| 940/1000 [19:07<01:05,  1.10s/it]"
     ]
    },
    {
     "name": "stdout",
     "output_type": "stream",
     "text": [
      "!cal\n"
     ]
    },
    {
     "name": "stderr",
     "output_type": "stream",
     "text": [
      "Génération d'exemples:  94%|█████████▍| 941/1000 [19:08<01:11,  1.21s/it]"
     ]
    },
    {
     "name": "stdout",
     "output_type": "stream",
     "text": [
      "!inf\n"
     ]
    },
    {
     "name": "stderr",
     "output_type": "stream",
     "text": [
      "Génération d'exemples:  94%|█████████▍| 942/1000 [19:10<01:10,  1.21s/it]"
     ]
    },
    {
     "name": "stdout",
     "output_type": "stream",
     "text": [
      "!cal\n"
     ]
    },
    {
     "name": "stderr",
     "output_type": "stream",
     "text": [
      "Génération d'exemples:  94%|█████████▍| 943/1000 [19:11<01:07,  1.19s/it]"
     ]
    },
    {
     "name": "stdout",
     "output_type": "stream",
     "text": [
      "!yi\n"
     ]
    },
    {
     "name": "stderr",
     "output_type": "stream",
     "text": [
      "Génération d'exemples:  94%|█████████▍| 944/1000 [19:12<01:06,  1.18s/it]"
     ]
    },
    {
     "name": "stdout",
     "output_type": "stream",
     "text": [
      "!py\n"
     ]
    },
    {
     "name": "stderr",
     "output_type": "stream",
     "text": [
      "Génération d'exemples:  94%|█████████▍| 945/1000 [19:13<00:58,  1.07s/it]"
     ]
    },
    {
     "name": "stdout",
     "output_type": "stream",
     "text": [
      "!inf\n"
     ]
    },
    {
     "name": "stderr",
     "output_type": "stream",
     "text": [
      "Génération d'exemples:  95%|█████████▍| 946/1000 [19:14<00:59,  1.10s/it]"
     ]
    },
    {
     "name": "stdout",
     "output_type": "stream",
     "text": [
      "!inf\n"
     ]
    },
    {
     "name": "stderr",
     "output_type": "stream",
     "text": [
      "Génération d'exemples:  95%|█████████▍| 947/1000 [19:15<01:01,  1.16s/it]"
     ]
    },
    {
     "name": "stdout",
     "output_type": "stream",
     "text": [
      "!inf\n"
     ]
    },
    {
     "name": "stderr",
     "output_type": "stream",
     "text": [
      "Génération d'exemples:  95%|█████████▍| 948/1000 [19:16<00:55,  1.08s/it]"
     ]
    },
    {
     "name": "stdout",
     "output_type": "stream",
     "text": [
      "!py\n"
     ]
    },
    {
     "name": "stderr",
     "output_type": "stream",
     "text": [
      "Génération d'exemples:  95%|█████████▍| 949/1000 [19:18<01:00,  1.19s/it]"
     ]
    },
    {
     "name": "stdout",
     "output_type": "stream",
     "text": [
      "!py\n"
     ]
    },
    {
     "name": "stderr",
     "output_type": "stream",
     "text": [
      "Génération d'exemples:  95%|█████████▌| 950/1000 [19:19<00:57,  1.16s/it]"
     ]
    },
    {
     "name": "stdout",
     "output_type": "stream",
     "text": [
      "!yi\n"
     ]
    },
    {
     "name": "stderr",
     "output_type": "stream",
     "text": [
      "Génération d'exemples:  95%|█████████▌| 951/1000 [19:20<00:56,  1.16s/it]"
     ]
    },
    {
     "name": "stdout",
     "output_type": "stream",
     "text": [
      "!cal\n"
     ]
    },
    {
     "name": "stderr",
     "output_type": "stream",
     "text": [
      "Génération d'exemples:  95%|█████████▌| 952/1000 [19:21<00:55,  1.15s/it]"
     ]
    },
    {
     "name": "stdout",
     "output_type": "stream",
     "text": [
      "!py\n"
     ]
    },
    {
     "name": "stderr",
     "output_type": "stream",
     "text": [
      "Génération d'exemples:  95%|█████████▌| 953/1000 [19:22<00:51,  1.09s/it]"
     ]
    },
    {
     "name": "stdout",
     "output_type": "stream",
     "text": [
      "!cal\n"
     ]
    },
    {
     "name": "stderr",
     "output_type": "stream",
     "text": [
      "Génération d'exemples:  95%|█████████▌| 954/1000 [19:23<00:48,  1.06s/it]"
     ]
    },
    {
     "name": "stdout",
     "output_type": "stream",
     "text": [
      "!inf\n"
     ]
    },
    {
     "name": "stderr",
     "output_type": "stream",
     "text": [
      "Génération d'exemples:  96%|█████████▌| 955/1000 [19:24<00:45,  1.01s/it]"
     ]
    },
    {
     "name": "stdout",
     "output_type": "stream",
     "text": [
      "!yi\n"
     ]
    },
    {
     "name": "stderr",
     "output_type": "stream",
     "text": [
      "Génération d'exemples:  96%|█████████▌| 956/1000 [19:25<00:44,  1.00s/it]"
     ]
    },
    {
     "name": "stdout",
     "output_type": "stream",
     "text": [
      "!py\n"
     ]
    },
    {
     "name": "stderr",
     "output_type": "stream",
     "text": [
      "Génération d'exemples:  96%|█████████▌| 957/1000 [19:26<00:43,  1.00s/it]"
     ]
    },
    {
     "name": "stdout",
     "output_type": "stream",
     "text": [
      "!yi\n"
     ]
    },
    {
     "name": "stderr",
     "output_type": "stream",
     "text": [
      "Génération d'exemples:  96%|█████████▌| 958/1000 [19:27<00:41,  1.01it/s]"
     ]
    },
    {
     "name": "stdout",
     "output_type": "stream",
     "text": [
      "!inf\n"
     ]
    },
    {
     "name": "stderr",
     "output_type": "stream",
     "text": [
      "Génération d'exemples:  96%|█████████▌| 959/1000 [19:28<00:42,  1.02s/it]"
     ]
    },
    {
     "name": "stdout",
     "output_type": "stream",
     "text": [
      "!cal\n"
     ]
    },
    {
     "name": "stderr",
     "output_type": "stream",
     "text": [
      "Génération d'exemples:  96%|█████████▌| 960/1000 [19:29<00:41,  1.03s/it]"
     ]
    },
    {
     "name": "stdout",
     "output_type": "stream",
     "text": [
      "!yi\n"
     ]
    },
    {
     "name": "stderr",
     "output_type": "stream",
     "text": [
      "Génération d'exemples:  96%|█████████▌| 961/1000 [19:30<00:42,  1.09s/it]"
     ]
    },
    {
     "name": "stdout",
     "output_type": "stream",
     "text": [
      "!inf\n"
     ]
    },
    {
     "name": "stderr",
     "output_type": "stream",
     "text": [
      "Génération d'exemples:  96%|█████████▌| 962/1000 [19:31<00:41,  1.10s/it]"
     ]
    },
    {
     "name": "stdout",
     "output_type": "stream",
     "text": [
      "!cal\n"
     ]
    },
    {
     "name": "stderr",
     "output_type": "stream",
     "text": [
      "Génération d'exemples:  96%|█████████▋| 963/1000 [19:32<00:38,  1.03s/it]"
     ]
    },
    {
     "name": "stdout",
     "output_type": "stream",
     "text": [
      "!yi\n"
     ]
    },
    {
     "name": "stderr",
     "output_type": "stream",
     "text": [
      "Génération d'exemples:  96%|█████████▋| 964/1000 [19:33<00:38,  1.08s/it]"
     ]
    },
    {
     "name": "stdout",
     "output_type": "stream",
     "text": [
      "!yi\n"
     ]
    },
    {
     "name": "stderr",
     "output_type": "stream",
     "text": [
      "Génération d'exemples:  96%|█████████▋| 965/1000 [19:34<00:36,  1.03s/it]"
     ]
    },
    {
     "name": "stdout",
     "output_type": "stream",
     "text": [
      "!yi\n"
     ]
    },
    {
     "name": "stderr",
     "output_type": "stream",
     "text": [
      "Génération d'exemples:  97%|█████████▋| 966/1000 [19:35<00:34,  1.01s/it]"
     ]
    },
    {
     "name": "stdout",
     "output_type": "stream",
     "text": [
      "!cal\n"
     ]
    },
    {
     "name": "stderr",
     "output_type": "stream",
     "text": [
      "Génération d'exemples:  97%|█████████▋| 967/1000 [19:37<00:38,  1.18s/it]"
     ]
    },
    {
     "name": "stdout",
     "output_type": "stream",
     "text": [
      "!yi\n"
     ]
    },
    {
     "name": "stderr",
     "output_type": "stream",
     "text": [
      "Génération d'exemples:  97%|█████████▋| 968/1000 [19:38<00:36,  1.14s/it]"
     ]
    },
    {
     "name": "stdout",
     "output_type": "stream",
     "text": [
      "!inf\n"
     ]
    },
    {
     "name": "stderr",
     "output_type": "stream",
     "text": [
      "Génération d'exemples:  97%|█████████▋| 969/1000 [19:39<00:36,  1.18s/it]"
     ]
    },
    {
     "name": "stdout",
     "output_type": "stream",
     "text": [
      "!py\n"
     ]
    },
    {
     "name": "stderr",
     "output_type": "stream",
     "text": [
      "Génération d'exemples:  97%|█████████▋| 970/1000 [19:40<00:36,  1.20s/it]"
     ]
    },
    {
     "name": "stdout",
     "output_type": "stream",
     "text": [
      "!yi\n"
     ]
    },
    {
     "name": "stderr",
     "output_type": "stream",
     "text": [
      "Génération d'exemples:  97%|█████████▋| 971/1000 [19:41<00:34,  1.17s/it]"
     ]
    },
    {
     "name": "stdout",
     "output_type": "stream",
     "text": [
      "!cal\n"
     ]
    },
    {
     "name": "stderr",
     "output_type": "stream",
     "text": [
      "Génération d'exemples:  97%|█████████▋| 972/1000 [19:42<00:31,  1.14s/it]"
     ]
    },
    {
     "name": "stdout",
     "output_type": "stream",
     "text": [
      "!py\n"
     ]
    },
    {
     "name": "stderr",
     "output_type": "stream",
     "text": [
      "Génération d'exemples:  97%|█████████▋| 973/1000 [19:43<00:29,  1.09s/it]"
     ]
    },
    {
     "name": "stdout",
     "output_type": "stream",
     "text": [
      "!py\n"
     ]
    },
    {
     "name": "stderr",
     "output_type": "stream",
     "text": [
      "Génération d'exemples:  97%|█████████▋| 974/1000 [19:45<00:28,  1.11s/it]"
     ]
    },
    {
     "name": "stdout",
     "output_type": "stream",
     "text": [
      "!yi\n"
     ]
    },
    {
     "name": "stderr",
     "output_type": "stream",
     "text": [
      "Génération d'exemples:  98%|█████████▊| 975/1000 [19:46<00:31,  1.26s/it]"
     ]
    },
    {
     "name": "stdout",
     "output_type": "stream",
     "text": [
      "!inf\n"
     ]
    },
    {
     "name": "stderr",
     "output_type": "stream",
     "text": [
      "Génération d'exemples:  98%|█████████▊| 976/1000 [19:48<00:30,  1.27s/it]"
     ]
    },
    {
     "name": "stdout",
     "output_type": "stream",
     "text": [
      "!yi\n"
     ]
    },
    {
     "name": "stderr",
     "output_type": "stream",
     "text": [
      "Génération d'exemples:  98%|█████████▊| 977/1000 [19:49<00:29,  1.30s/it]"
     ]
    },
    {
     "name": "stdout",
     "output_type": "stream",
     "text": [
      "!inf\n"
     ]
    },
    {
     "name": "stderr",
     "output_type": "stream",
     "text": [
      "Génération d'exemples:  98%|█████████▊| 978/1000 [19:50<00:27,  1.26s/it]"
     ]
    },
    {
     "name": "stdout",
     "output_type": "stream",
     "text": [
      "!cal\n"
     ]
    },
    {
     "name": "stderr",
     "output_type": "stream",
     "text": [
      "Génération d'exemples:  98%|█████████▊| 979/1000 [19:51<00:24,  1.18s/it]"
     ]
    },
    {
     "name": "stdout",
     "output_type": "stream",
     "text": [
      "!yi\n"
     ]
    },
    {
     "name": "stderr",
     "output_type": "stream",
     "text": [
      "Génération d'exemples:  98%|█████████▊| 980/1000 [19:52<00:24,  1.23s/it]"
     ]
    },
    {
     "name": "stdout",
     "output_type": "stream",
     "text": [
      "!cal\n"
     ]
    },
    {
     "name": "stderr",
     "output_type": "stream",
     "text": [
      "Génération d'exemples:  98%|█████████▊| 981/1000 [19:54<00:23,  1.25s/it]"
     ]
    },
    {
     "name": "stdout",
     "output_type": "stream",
     "text": [
      "!cal\n"
     ]
    },
    {
     "name": "stderr",
     "output_type": "stream",
     "text": [
      "Génération d'exemples:  98%|█████████▊| 982/1000 [19:55<00:22,  1.27s/it]"
     ]
    },
    {
     "name": "stdout",
     "output_type": "stream",
     "text": [
      "!cal\n"
     ]
    },
    {
     "name": "stderr",
     "output_type": "stream",
     "text": [
      "Génération d'exemples:  98%|█████████▊| 983/1000 [19:57<00:27,  1.61s/it]"
     ]
    },
    {
     "name": "stdout",
     "output_type": "stream",
     "text": [
      "!py\n"
     ]
    },
    {
     "name": "stderr",
     "output_type": "stream",
     "text": [
      "Génération d'exemples:  98%|█████████▊| 984/1000 [19:59<00:23,  1.48s/it]"
     ]
    },
    {
     "name": "stdout",
     "output_type": "stream",
     "text": [
      "!cal\n"
     ]
    },
    {
     "name": "stderr",
     "output_type": "stream",
     "text": [
      "Génération d'exemples:  98%|█████████▊| 985/1000 [20:00<00:20,  1.38s/it]"
     ]
    },
    {
     "name": "stdout",
     "output_type": "stream",
     "text": [
      "!py\n"
     ]
    },
    {
     "name": "stderr",
     "output_type": "stream",
     "text": [
      "Génération d'exemples:  99%|█████████▊| 986/1000 [20:01<00:18,  1.29s/it]"
     ]
    },
    {
     "name": "stdout",
     "output_type": "stream",
     "text": [
      "!cal\n"
     ]
    },
    {
     "name": "stderr",
     "output_type": "stream",
     "text": [
      "Génération d'exemples:  99%|█████████▊| 987/1000 [20:02<00:16,  1.26s/it]"
     ]
    },
    {
     "name": "stdout",
     "output_type": "stream",
     "text": [
      "!cal\n"
     ]
    },
    {
     "name": "stderr",
     "output_type": "stream",
     "text": [
      "Génération d'exemples:  99%|█████████▉| 988/1000 [20:03<00:15,  1.26s/it]"
     ]
    },
    {
     "name": "stdout",
     "output_type": "stream",
     "text": [
      "!cal\n"
     ]
    },
    {
     "name": "stderr",
     "output_type": "stream",
     "text": [
      "Génération d'exemples:  99%|█████████▉| 989/1000 [20:04<00:13,  1.18s/it]"
     ]
    },
    {
     "name": "stdout",
     "output_type": "stream",
     "text": [
      "!py\n"
     ]
    },
    {
     "name": "stderr",
     "output_type": "stream",
     "text": [
      "Génération d'exemples:  99%|█████████▉| 990/1000 [20:05<00:11,  1.12s/it]"
     ]
    },
    {
     "name": "stdout",
     "output_type": "stream",
     "text": [
      "!py\n"
     ]
    },
    {
     "name": "stderr",
     "output_type": "stream",
     "text": [
      "Génération d'exemples:  99%|█████████▉| 991/1000 [20:07<00:13,  1.45s/it]"
     ]
    },
    {
     "name": "stdout",
     "output_type": "stream",
     "text": [
      "!cal\n"
     ]
    },
    {
     "name": "stderr",
     "output_type": "stream",
     "text": [
      "Génération d'exemples:  99%|█████████▉| 992/1000 [20:10<00:13,  1.67s/it]"
     ]
    },
    {
     "name": "stdout",
     "output_type": "stream",
     "text": [
      "!cal\n"
     ]
    },
    {
     "name": "stderr",
     "output_type": "stream",
     "text": [
      "Génération d'exemples:  99%|█████████▉| 993/1000 [20:11<00:10,  1.44s/it]"
     ]
    },
    {
     "name": "stdout",
     "output_type": "stream",
     "text": [
      "!py\n"
     ]
    },
    {
     "name": "stderr",
     "output_type": "stream",
     "text": [
      "Génération d'exemples:  99%|█████████▉| 994/1000 [20:11<00:07,  1.23s/it]"
     ]
    },
    {
     "name": "stdout",
     "output_type": "stream",
     "text": [
      "!inf\n"
     ]
    },
    {
     "name": "stderr",
     "output_type": "stream",
     "text": [
      "Génération d'exemples: 100%|█████████▉| 995/1000 [20:12<00:06,  1.21s/it]"
     ]
    },
    {
     "name": "stdout",
     "output_type": "stream",
     "text": [
      "!py\n"
     ]
    },
    {
     "name": "stderr",
     "output_type": "stream",
     "text": [
      "Génération d'exemples: 100%|█████████▉| 996/1000 [20:13<00:04,  1.12s/it]"
     ]
    },
    {
     "name": "stdout",
     "output_type": "stream",
     "text": [
      "!yi\n"
     ]
    },
    {
     "name": "stderr",
     "output_type": "stream",
     "text": [
      "Génération d'exemples: 100%|█████████▉| 997/1000 [20:14<00:03,  1.10s/it]"
     ]
    },
    {
     "name": "stdout",
     "output_type": "stream",
     "text": [
      "!cal\n"
     ]
    },
    {
     "name": "stderr",
     "output_type": "stream",
     "text": [
      "Génération d'exemples: 100%|█████████▉| 998/1000 [20:15<00:02,  1.07s/it]"
     ]
    },
    {
     "name": "stdout",
     "output_type": "stream",
     "text": [
      "!py\n"
     ]
    },
    {
     "name": "stderr",
     "output_type": "stream",
     "text": [
      "Génération d'exemples: 100%|█████████▉| 999/1000 [20:16<00:01,  1.02s/it]"
     ]
    },
    {
     "name": "stdout",
     "output_type": "stream",
     "text": [
      "!cal\n"
     ]
    },
    {
     "name": "stderr",
     "output_type": "stream",
     "text": [
      "Génération d'exemples: 100%|██████████| 1000/1000 [20:18<00:00,  1.22s/it]"
     ]
    },
    {
     "name": "stdout",
     "output_type": "stream",
     "text": [
      "!py\n",
      "✅ Corpus généré et sauvegardé dans 'intent-complete-1000-gpt4o.jsonl' avec 1000 exemples.\n"
     ]
    },
    {
     "name": "stderr",
     "output_type": "stream",
     "text": [
      "\n"
     ]
    }
   ],
   "source": [
    "\n",
    "# 🧠 Nombre total d'exemples à générer\n",
    "total = 1000\n",
    "generated = []\n",
    "\n",
    "# 🛡️ Générateur robuste avec retries et pause en cas de RateLimit\n",
    "def safe_generate(intention, retries=5):\n",
    "    for attempt in range(retries):\n",
    "        try:\n",
    "            result = compiled_generator(intention=intention)\n",
    "            return {\n",
    "                \"id\": str(uuid.uuid4()),\n",
    "                \"intention\": intention,\n",
    "                \"contenu\": result[\"contenu\"].strip()\n",
    "            }\n",
    "        except Exception as e:\n",
    "            if \"RateLimitError\" in str(e):\n",
    "                wait = random.uniform(2.5, 6.0)\n",
    "                print(f\"⏳ Limite atteinte. Pause {wait:.1f}s...\")\n",
    "                time.sleep(wait)\n",
    "            else:\n",
    "                raise e\n",
    "    raise RuntimeError(f\"❌ Échec après {retries} tentatives pour {intention}\")\n",
    "\n",
    "# 🔁 Génération avec barre de progression\n",
    "for _ in tqdm(range(total), desc=\"Génération d'exemples\"):\n",
    "    intent = random.choice(intentions)\n",
    "    exemple = safe_generate(intent)\n",
    "    generated.append(exemple)\n",
    "\n",
    "# 💾 Sauvegarde du fichier\n",
    "output_path = \"intent-complete-1000-gpt4o.jsonl\"\n",
    "with open(output_path, \"w\", encoding=\"utf-8\") as f:\n",
    "    for item in generated:\n",
    "        json.dump(item, f, ensure_ascii=False)\n",
    "        f.write(\"\\n\")\n",
    "\n",
    "print(f\"✅ Corpus généré et sauvegardé dans '{output_path}' avec {len(generated)} exemples.\")\n"
   ]
  },
  {
   "cell_type": "code",
   "execution_count": null,
   "id": "3c96a0e1-6bfb-461a-8a04-fa73b2070011",
   "metadata": {},
   "outputs": [],
   "source": [
    "import ast\n",
    "import json\n",
    "\n",
    "path_notes = \"zettelkasten-5000-gpt-4o-mini.txt\"\n",
    "path_intentions = \"intent-complete-1000-gpt4o-mini.jsonl\"\n",
    "path_output = \"intentions-6000-unifiees.jsonl\"\n",
    "\n",
    "i = 0\n",
    "nerr = 0\n",
    "notes = []\n",
    "\n",
    "with open(path_notes, \"r\", encoding=\"utf-8\") as f:\n",
    "    for line in f:\n",
    "        try:\n",
    "            i += 1\n",
    "            obj = ast.literal_eval(line)\n",
    "            if isinstance(obj, tuple) and len(obj) == 1:\n",
    "                obj = obj[0]  # ✅ extraire le dict du tuple\n",
    "            if i % 1789 == 0:\n",
    "                print(f\"{obj}\")\n",
    "            if isinstance(obj, dict) and \"contenu\" in obj:\n",
    "                notes.append(obj)\n",
    "        except Exception as e:\n",
    "            nerr += 1\n",
    "\n",
    "print(f\"Il y a {nerr} erreurs et {len(notes)} notes\")\n",
    "\n",
    "# Charger les intentions\n",
    "with open(path_intentions, \"r\", encoding=\"utf-8\") as f:\n",
    "    intentions = [ast.literal_eval(line) for line in f if \"contenu\" in line and \"intention\" in line]\n",
    "\n",
    "# Fusion\n",
    "converted_notes = [{\"contenu\": note[\"contenu\"], \"intention\": \"!red\"} for note in notes]\n",
    "full_corpus = converted_notes + intentions\n",
    "\n",
    "# Sauvegarde\n",
    "with open(path_output, \"w\", encoding=\"utf-8\") as f:\n",
    "    for ex in full_corpus:\n",
    "        json.dump(ex, f, ensure_ascii=False)\n",
    "        f.write(\"\\n\")\n",
    "\n",
    "print(f\"✅ Fichier '{path_output}' écrit avec {len(full_corpus)} lignes.\")\n"
   ]
  },
  {
   "cell_type": "code",
   "execution_count": null,
   "id": "1011acda-bff7-4f7f-b70a-87e78b67188e",
   "metadata": {},
   "outputs": [],
   "source": []
  }
 ],
 "metadata": {
  "kernelspec": {
   "display_name": "Python 3 (ipykernel)",
   "language": "python",
   "name": "python3"
  },
  "language_info": {
   "codemirror_mode": {
    "name": "ipython",
    "version": 3
   },
   "file_extension": ".py",
   "mimetype": "text/x-python",
   "name": "python",
   "nbconvert_exporter": "python",
   "pygments_lexer": "ipython3",
   "version": "3.12.3"
  }
 },
 "nbformat": 4,
 "nbformat_minor": 5
}
